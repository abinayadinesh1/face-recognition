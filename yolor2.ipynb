{
 "cells": [
  {
   "cell_type": "code",
   "execution_count": 15,
   "id": "b865180b-9366-410d-8ff1-e38aaa898216",
   "metadata": {},
   "outputs": [],
   "source": [
    "import ultralytics\n",
    "import cv2\n",
    "import math \n",
    "from ultralytics import YOLO"
   ]
  },
  {
   "cell_type": "code",
   "execution_count": 16,
   "id": "16c7e4ef",
   "metadata": {},
   "outputs": [
    {
     "ename": "KeyboardInterrupt",
     "evalue": "",
     "output_type": "error",
     "traceback": [
      "\u001b[0;31m---------------------------------------------------------------------------\u001b[0m",
      "\u001b[0;31mKeyboardInterrupt\u001b[0m                         Traceback (most recent call last)",
      "\u001b[1;32m/Users/abinayadinesh/Documents/projects/face-recog/yolor2.ipynb Cell 2\u001b[0m line \u001b[0;36m2\n\u001b[1;32m      <a href='vscode-notebook-cell:/Users/abinayadinesh/Documents/projects/face-recog/yolor2.ipynb#W6sZmlsZQ%3D%3D?line=0'>1</a>\u001b[0m \u001b[39m# start webcam\u001b[39;00m\n\u001b[0;32m----> <a href='vscode-notebook-cell:/Users/abinayadinesh/Documents/projects/face-recog/yolor2.ipynb#W6sZmlsZQ%3D%3D?line=1'>2</a>\u001b[0m cap \u001b[39m=\u001b[39m cv2\u001b[39m.\u001b[39;49mVideoCapture(\u001b[39m0\u001b[39;49m)\n\u001b[1;32m      <a href='vscode-notebook-cell:/Users/abinayadinesh/Documents/projects/face-recog/yolor2.ipynb#W6sZmlsZQ%3D%3D?line=2'>3</a>\u001b[0m cap\u001b[39m.\u001b[39mset(\u001b[39m3\u001b[39m, \u001b[39m640\u001b[39m)\n\u001b[1;32m      <a href='vscode-notebook-cell:/Users/abinayadinesh/Documents/projects/face-recog/yolor2.ipynb#W6sZmlsZQ%3D%3D?line=3'>4</a>\u001b[0m cap\u001b[39m.\u001b[39mset(\u001b[39m4\u001b[39m, \u001b[39m480\u001b[39m)\n",
      "\u001b[0;31mKeyboardInterrupt\u001b[0m: "
     ]
    },
    {
     "ename": "",
     "evalue": "",
     "output_type": "error",
     "traceback": [
      "\u001b[1;31mThe Kernel crashed while executing code in the the current cell or a previous cell. Please review the code in the cell(s) to identify a possible cause of the failure. Click <a href='https://aka.ms/vscodeJupyterKernelCrash'>here</a> for more info. View Jupyter <a href='command:jupyter.viewOutput'>log</a> for further details."
     ]
    }
   ],
   "source": [
    "# start webcam\n",
    "cap = cv2.VideoCapture(0)\n",
    "cap.set(3, 640)\n",
    "cap.set(4, 480)"
   ]
  },
  {
   "cell_type": "code",
   "execution_count": null,
   "id": "b51a776f",
   "metadata": {},
   "outputs": [],
   "source": [
    "model = YOLO(\"yolo-Weights/yolov8n.pt\")"
   ]
  },
  {
   "cell_type": "code",
   "execution_count": null,
   "id": "ff5c8148",
   "metadata": {},
   "outputs": [],
   "source": [
    "# object classes\n",
    "classNames = [\"person\", \"bicycle\", \"car\", \"motorbike\", \"aeroplane\", \"bus\", \"train\", \"truck\", \"boat\",\n",
    "              \"traffic light\", \"fire hydrant\", \"stop sign\", \"parking meter\", \"bench\", \"bird\", \"cat\",\n",
    "              \"dog\", \"horse\", \"sheep\", \"cow\", \"elephant\", \"bear\", \"zebra\", \"giraffe\", \"backpack\", \"umbrella\",\n",
    "              \"handbag\", \"tie\", \"suitcase\", \"frisbee\", \"skis\", \"snowboard\", \"sports ball\", \"kite\", \"baseball bat\",\n",
    "              \"baseball glove\", \"skateboard\", \"surfboard\", \"tennis racket\", \"bottle\", \"wine glass\", \"cup\",\n",
    "              \"fork\", \"knife\", \"spoon\", \"bowl\", \"banana\", \"apple\", \"sandwich\", \"orange\", \"broccoli\",\n",
    "              \"carrot\", \"hot dog\", \"pizza\", \"donut\", \"cake\", \"chair\", \"sofa\", \"pottedplant\", \"bed\",\n",
    "              \"diningtable\", \"toilet\", \"tvmonitor\", \"laptop\", \"mouse\", \"remote\", \"keyboard\", \"cell phone\",\n",
    "              \"microwave\", \"oven\", \"toaster\", \"sink\", \"refrigerator\", \"book\", \"clock\", \"vase\", \"scissors\",\n",
    "              \"teddy bear\", \"hair drier\", \"toothbrush\"\n",
    "              ]"
   ]
  },
  {
   "cell_type": "code",
   "execution_count": null,
   "id": "7fb60b6a",
   "metadata": {},
   "outputs": [
    {
     "name": "stderr",
     "output_type": "stream",
     "text": [
      "\n",
      "0: 480x640 2 persons, 147.2ms\n",
      "Speed: 10.9ms preprocess, 147.2ms inference, 7.1ms postprocess per image at shape (1, 3, 480, 640)\n"
     ]
    },
    {
     "name": "stdout",
     "output_type": "stream",
     "text": [
      "Confidence ---> 0.89\n",
      "Class name --> person\n",
      "Confidence ---> 0.87\n",
      "Class name --> person\n"
     ]
    },
    {
     "name": "stderr",
     "output_type": "stream",
     "text": [
      "\n",
      "0: 480x640 2 persons, 107.8ms\n",
      "Speed: 2.3ms preprocess, 107.8ms inference, 0.7ms postprocess per image at shape (1, 3, 480, 640)\n",
      "\n",
      "0: 480x640 2 persons, 95.6ms\n",
      "Speed: 1.9ms preprocess, 95.6ms inference, 0.9ms postprocess per image at shape (1, 3, 480, 640)\n"
     ]
    },
    {
     "name": "stdout",
     "output_type": "stream",
     "text": [
      "Confidence ---> 0.89\n",
      "Class name --> person\n",
      "Confidence ---> 0.87\n",
      "Class name --> person\n",
      "Confidence ---> 0.89\n",
      "Class name --> person\n",
      "Confidence ---> 0.86\n",
      "Class name --> person\n"
     ]
    },
    {
     "name": "stderr",
     "output_type": "stream",
     "text": [
      "\n",
      "0: 480x640 2 persons, 381.4ms\n",
      "Speed: 7.5ms preprocess, 381.4ms inference, 2.5ms postprocess per image at shape (1, 3, 480, 640)\n",
      "\n"
     ]
    },
    {
     "name": "stdout",
     "output_type": "stream",
     "text": [
      "Confidence ---> 0.89\n",
      "Class name --> person\n",
      "Confidence ---> 0.86\n",
      "Class name --> person\n"
     ]
    },
    {
     "name": "stderr",
     "output_type": "stream",
     "text": [
      "0: 480x640 2 persons, 146.8ms\n",
      "Speed: 2.0ms preprocess, 146.8ms inference, 2.3ms postprocess per image at shape (1, 3, 480, 640)\n",
      "\n"
     ]
    },
    {
     "name": "stdout",
     "output_type": "stream",
     "text": [
      "Confidence ---> 0.88\n",
      "Class name --> person\n",
      "Confidence ---> 0.86\n",
      "Class name --> person\n"
     ]
    },
    {
     "name": "stderr",
     "output_type": "stream",
     "text": [
      "0: 480x640 2 persons, 134.0ms\n",
      "Speed: 1.9ms preprocess, 134.0ms inference, 0.7ms postprocess per image at shape (1, 3, 480, 640)\n",
      "\n",
      "0: 480x640 2 persons, 86.5ms\n",
      "Speed: 3.0ms preprocess, 86.5ms inference, 0.9ms postprocess per image at shape (1, 3, 480, 640)\n",
      "\n"
     ]
    },
    {
     "name": "stdout",
     "output_type": "stream",
     "text": [
      "Confidence ---> 0.9\n",
      "Class name --> person\n",
      "Confidence ---> 0.83\n",
      "Class name --> person\n",
      "Confidence ---> 0.89\n",
      "Class name --> person\n",
      "Confidence ---> 0.87\n",
      "Class name --> person\n"
     ]
    },
    {
     "name": "stderr",
     "output_type": "stream",
     "text": [
      "0: 480x640 2 persons, 97.2ms\n",
      "Speed: 2.0ms preprocess, 97.2ms inference, 0.8ms postprocess per image at shape (1, 3, 480, 640)\n",
      "\n",
      "0: 480x640 2 persons, 83.7ms\n",
      "Speed: 1.5ms preprocess, 83.7ms inference, 0.7ms postprocess per image at shape (1, 3, 480, 640)\n"
     ]
    },
    {
     "name": "stdout",
     "output_type": "stream",
     "text": [
      "Confidence ---> 0.89\n",
      "Class name --> person\n",
      "Confidence ---> 0.86\n",
      "Class name --> person\n",
      "Confidence ---> 0.9\n",
      "Class name --> person\n",
      "Confidence ---> 0.84\n",
      "Class name --> person\n"
     ]
    },
    {
     "name": "stderr",
     "output_type": "stream",
     "text": [
      "\n",
      "0: 480x640 2 persons, 117.7ms\n",
      "Speed: 2.4ms preprocess, 117.7ms inference, 0.9ms postprocess per image at shape (1, 3, 480, 640)\n",
      "\n",
      "0: 480x640 2 persons, 86.4ms\n",
      "Speed: 1.6ms preprocess, 86.4ms inference, 0.6ms postprocess per image at shape (1, 3, 480, 640)\n",
      "\n"
     ]
    },
    {
     "name": "stdout",
     "output_type": "stream",
     "text": [
      "Confidence ---> 0.9\n",
      "Class name --> person\n",
      "Confidence ---> 0.83\n",
      "Class name --> person\n",
      "Confidence ---> 0.89\n",
      "Class name --> person\n",
      "Confidence ---> 0.85\n",
      "Class name --> person\n"
     ]
    },
    {
     "name": "stderr",
     "output_type": "stream",
     "text": [
      "0: 480x640 2 persons, 90.5ms\n",
      "Speed: 1.5ms preprocess, 90.5ms inference, 1.1ms postprocess per image at shape (1, 3, 480, 640)\n",
      "\n",
      "0: 480x640 2 persons, 92.9ms\n",
      "Speed: 1.8ms preprocess, 92.9ms inference, 0.9ms postprocess per image at shape (1, 3, 480, 640)\n",
      "\n"
     ]
    },
    {
     "name": "stdout",
     "output_type": "stream",
     "text": [
      "Confidence ---> 0.9\n",
      "Class name --> person\n",
      "Confidence ---> 0.84\n",
      "Class name --> person\n",
      "Confidence ---> 0.88\n",
      "Class name --> person\n",
      "Confidence ---> 0.85\n",
      "Class name --> person\n"
     ]
    },
    {
     "name": "stderr",
     "output_type": "stream",
     "text": [
      "0: 480x640 2 persons, 139.0ms\n",
      "Speed: 1.5ms preprocess, 139.0ms inference, 0.7ms postprocess per image at shape (1, 3, 480, 640)\n",
      "\n",
      "0: 480x640 2 persons, 83.5ms\n",
      "Speed: 1.8ms preprocess, 83.5ms inference, 0.7ms postprocess per image at shape (1, 3, 480, 640)\n",
      "\n"
     ]
    },
    {
     "name": "stdout",
     "output_type": "stream",
     "text": [
      "Confidence ---> 0.88\n",
      "Class name --> person\n",
      "Confidence ---> 0.85\n",
      "Class name --> person\n",
      "Confidence ---> 0.88\n",
      "Class name --> person\n",
      "Confidence ---> 0.83\n",
      "Class name --> person\n"
     ]
    },
    {
     "name": "stderr",
     "output_type": "stream",
     "text": [
      "0: 480x640 2 persons, 88.4ms\n",
      "Speed: 1.4ms preprocess, 88.4ms inference, 0.6ms postprocess per image at shape (1, 3, 480, 640)\n",
      "\n",
      "0: 480x640 2 persons, 84.3ms\n",
      "Speed: 1.5ms preprocess, 84.3ms inference, 0.6ms postprocess per image at shape (1, 3, 480, 640)\n",
      "\n"
     ]
    },
    {
     "name": "stdout",
     "output_type": "stream",
     "text": [
      "Confidence ---> 0.88\n",
      "Class name --> person\n",
      "Confidence ---> 0.82\n",
      "Class name --> person\n",
      "Confidence ---> 0.89\n",
      "Class name --> person\n",
      "Confidence ---> 0.84\n",
      "Class name --> person\n"
     ]
    },
    {
     "name": "stderr",
     "output_type": "stream",
     "text": [
      "0: 480x640 2 persons, 88.8ms\n",
      "Speed: 1.6ms preprocess, 88.8ms inference, 0.6ms postprocess per image at shape (1, 3, 480, 640)\n",
      "\n",
      "0: 480x640 2 persons, 93.4ms\n",
      "Speed: 1.7ms preprocess, 93.4ms inference, 0.8ms postprocess per image at shape (1, 3, 480, 640)\n",
      "\n"
     ]
    },
    {
     "name": "stdout",
     "output_type": "stream",
     "text": [
      "Confidence ---> 0.89\n",
      "Class name --> person\n",
      "Confidence ---> 0.82\n",
      "Class name --> person\n",
      "Confidence ---> 0.89\n",
      "Class name --> person\n",
      "Confidence ---> 0.78\n",
      "Class name --> person\n"
     ]
    },
    {
     "name": "stderr",
     "output_type": "stream",
     "text": [
      "0: 480x640 2 persons, 177.8ms\n",
      "Speed: 2.1ms preprocess, 177.8ms inference, 0.6ms postprocess per image at shape (1, 3, 480, 640)\n",
      "\n",
      "0: 480x640 2 persons, 87.6ms\n",
      "Speed: 1.5ms preprocess, 87.6ms inference, 0.6ms postprocess per image at shape (1, 3, 480, 640)\n",
      "\n"
     ]
    },
    {
     "name": "stdout",
     "output_type": "stream",
     "text": [
      "Confidence ---> 0.91\n",
      "Class name --> person\n",
      "Confidence ---> 0.84\n",
      "Class name --> person\n",
      "Confidence ---> 0.9\n",
      "Class name --> person\n",
      "Confidence ---> 0.85\n",
      "Class name --> person\n"
     ]
    },
    {
     "name": "stderr",
     "output_type": "stream",
     "text": [
      "0: 480x640 2 persons, 89.7ms\n",
      "Speed: 1.6ms preprocess, 89.7ms inference, 0.6ms postprocess per image at shape (1, 3, 480, 640)\n",
      "\n",
      "0: 480x640 2 persons, 85.6ms\n",
      "Speed: 1.5ms preprocess, 85.6ms inference, 0.6ms postprocess per image at shape (1, 3, 480, 640)\n",
      "\n"
     ]
    },
    {
     "name": "stdout",
     "output_type": "stream",
     "text": [
      "Confidence ---> 0.9\n",
      "Class name --> person\n",
      "Confidence ---> 0.74\n",
      "Class name --> person\n",
      "Confidence ---> 0.91\n",
      "Class name --> person\n",
      "Confidence ---> 0.83\n",
      "Class name --> person\n"
     ]
    },
    {
     "name": "stderr",
     "output_type": "stream",
     "text": [
      "0: 480x640 3 persons, 90.6ms\n",
      "Speed: 1.5ms preprocess, 90.6ms inference, 0.7ms postprocess per image at shape (1, 3, 480, 640)\n",
      "\n",
      "0: 480x640 2 persons, 85.4ms\n",
      "Speed: 1.6ms preprocess, 85.4ms inference, 0.7ms postprocess per image at shape (1, 3, 480, 640)\n",
      "\n"
     ]
    },
    {
     "name": "stdout",
     "output_type": "stream",
     "text": [
      "Confidence ---> 0.87\n",
      "Class name --> person\n",
      "Confidence ---> 0.52\n",
      "Class name --> person\n",
      "Confidence ---> 0.38\n",
      "Class name --> person\n",
      "Confidence ---> 0.83\n",
      "Class name --> person\n",
      "Confidence ---> 0.4\n",
      "Class name --> person\n"
     ]
    },
    {
     "name": "stderr",
     "output_type": "stream",
     "text": [
      "0: 480x640 5 persons, 90.6ms\n",
      "Speed: 1.5ms preprocess, 90.6ms inference, 0.6ms postprocess per image at shape (1, 3, 480, 640)\n",
      "\n",
      "0: 480x640 3 persons, 83.6ms\n",
      "Speed: 1.5ms preprocess, 83.6ms inference, 0.6ms postprocess per image at shape (1, 3, 480, 640)\n",
      "\n"
     ]
    },
    {
     "name": "stdout",
     "output_type": "stream",
     "text": [
      "Confidence ---> 0.87\n",
      "Class name --> person\n",
      "Confidence ---> 0.35\n",
      "Class name --> person\n",
      "Confidence ---> 0.33\n",
      "Class name --> person\n",
      "Confidence ---> 0.29\n",
      "Class name --> person\n",
      "Confidence ---> 0.28\n",
      "Class name --> person\n",
      "Confidence ---> 0.81\n",
      "Class name --> person\n",
      "Confidence ---> 0.56\n",
      "Class name --> person\n",
      "Confidence ---> 0.48\n",
      "Class name --> person\n"
     ]
    },
    {
     "name": "stderr",
     "output_type": "stream",
     "text": [
      "0: 480x640 3 persons, 88.7ms\n",
      "Speed: 1.6ms preprocess, 88.7ms inference, 0.7ms postprocess per image at shape (1, 3, 480, 640)\n",
      "\n",
      "0: 480x640 1 person, 82.5ms\n",
      "Speed: 1.5ms preprocess, 82.5ms inference, 0.7ms postprocess per image at shape (1, 3, 480, 640)\n",
      "\n"
     ]
    },
    {
     "name": "stdout",
     "output_type": "stream",
     "text": [
      "Confidence ---> 0.78\n",
      "Class name --> person\n",
      "Confidence ---> 0.53\n",
      "Class name --> person\n",
      "Confidence ---> 0.46\n",
      "Class name --> person\n",
      "Confidence ---> 0.75\n",
      "Class name --> person\n"
     ]
    },
    {
     "name": "stderr",
     "output_type": "stream",
     "text": [
      "0: 480x640 1 person, 2 chairs, 113.1ms\n",
      "Speed: 1.6ms preprocess, 113.1ms inference, 0.9ms postprocess per image at shape (1, 3, 480, 640)\n",
      "\n",
      "0: 480x640 1 person, 2 chairs, 83.9ms\n",
      "Speed: 1.7ms preprocess, 83.9ms inference, 0.6ms postprocess per image at shape (1, 3, 480, 640)\n",
      "\n"
     ]
    },
    {
     "name": "stdout",
     "output_type": "stream",
     "text": [
      "Confidence ---> 0.83\n",
      "Class name --> person\n",
      "Confidence ---> 0.37\n",
      "Class name --> chair\n",
      "Confidence ---> 0.27\n",
      "Class name --> chair\n",
      "Confidence ---> 0.88\n",
      "Class name --> person\n",
      "Confidence ---> 0.59\n",
      "Class name --> chair\n",
      "Confidence ---> 0.26\n",
      "Class name --> chair\n"
     ]
    },
    {
     "name": "stderr",
     "output_type": "stream",
     "text": [
      "0: 480x640 1 person, 2 chairs, 94.5ms\n",
      "Speed: 1.5ms preprocess, 94.5ms inference, 0.9ms postprocess per image at shape (1, 3, 480, 640)\n",
      "\n",
      "0: 480x640 1 person, 3 chairs, 82.9ms\n",
      "Speed: 1.7ms preprocess, 82.9ms inference, 0.6ms postprocess per image at shape (1, 3, 480, 640)\n",
      "\n"
     ]
    },
    {
     "name": "stdout",
     "output_type": "stream",
     "text": [
      "Confidence ---> 0.86\n",
      "Class name --> person\n",
      "Confidence ---> 0.6\n",
      "Class name --> chair\n",
      "Confidence ---> 0.26\n",
      "Class name --> chair\n",
      "Confidence ---> 0.87\n",
      "Class name --> person\n",
      "Confidence ---> 0.53\n",
      "Class name --> chair\n",
      "Confidence ---> 0.36\n",
      "Class name --> chair\n",
      "Confidence ---> 0.27\n",
      "Class name --> chair\n"
     ]
    },
    {
     "name": "stderr",
     "output_type": "stream",
     "text": [
      "0: 480x640 1 person, 3 chairs, 97.2ms\n",
      "Speed: 1.6ms preprocess, 97.2ms inference, 0.6ms postprocess per image at shape (1, 3, 480, 640)\n",
      "\n",
      "0: 480x640 1 person, 3 chairs, 82.9ms\n",
      "Speed: 1.6ms preprocess, 82.9ms inference, 0.6ms postprocess per image at shape (1, 3, 480, 640)\n",
      "\n"
     ]
    },
    {
     "name": "stdout",
     "output_type": "stream",
     "text": [
      "Confidence ---> 0.88\n",
      "Class name --> person\n",
      "Confidence ---> 0.53\n",
      "Class name --> chair\n",
      "Confidence ---> 0.34\n",
      "Class name --> chair\n",
      "Confidence ---> 0.3\n",
      "Class name --> chair\n",
      "Confidence ---> 0.88\n",
      "Class name --> person\n",
      "Confidence ---> 0.52\n",
      "Class name --> chair\n",
      "Confidence ---> 0.36\n",
      "Class name --> chair\n",
      "Confidence ---> 0.34\n",
      "Class name --> chair\n"
     ]
    },
    {
     "name": "stderr",
     "output_type": "stream",
     "text": [
      "0: 480x640 1 person, 3 chairs, 96.4ms\n",
      "Speed: 1.6ms preprocess, 96.4ms inference, 0.7ms postprocess per image at shape (1, 3, 480, 640)\n",
      "\n",
      "0: 480x640 1 person, 3 chairs, 83.3ms\n",
      "Speed: 1.6ms preprocess, 83.3ms inference, 0.7ms postprocess per image at shape (1, 3, 480, 640)\n",
      "\n"
     ]
    },
    {
     "name": "stdout",
     "output_type": "stream",
     "text": [
      "Confidence ---> 0.88\n",
      "Class name --> person\n",
      "Confidence ---> 0.52\n",
      "Class name --> chair\n",
      "Confidence ---> 0.51\n",
      "Class name --> chair\n",
      "Confidence ---> 0.34\n",
      "Class name --> chair\n",
      "Confidence ---> 0.89\n",
      "Class name --> person\n",
      "Confidence ---> 0.56\n",
      "Class name --> chair\n",
      "Confidence ---> 0.39\n",
      "Class name --> chair\n",
      "Confidence ---> 0.35\n",
      "Class name --> chair\n"
     ]
    },
    {
     "name": "stderr",
     "output_type": "stream",
     "text": [
      "0: 480x640 1 person, 3 chairs, 90.2ms\n",
      "Speed: 1.5ms preprocess, 90.2ms inference, 0.6ms postprocess per image at shape (1, 3, 480, 640)\n",
      "\n",
      "0: 480x640 1 person, 1 sink, 87.0ms\n",
      "Speed: 1.6ms preprocess, 87.0ms inference, 1.0ms postprocess per image at shape (1, 3, 480, 640)\n",
      "\n"
     ]
    },
    {
     "name": "stdout",
     "output_type": "stream",
     "text": [
      "Confidence ---> 0.88\n",
      "Class name --> person\n",
      "Confidence ---> 0.48\n",
      "Class name --> chair\n",
      "Confidence ---> 0.41\n",
      "Class name --> chair\n",
      "Confidence ---> 0.29\n",
      "Class name --> chair\n",
      "Confidence ---> 0.84\n",
      "Class name --> person\n",
      "Confidence ---> 0.34\n",
      "Class name --> sink\n"
     ]
    },
    {
     "name": "stderr",
     "output_type": "stream",
     "text": [
      "0: 480x640 1 person, 93.5ms\n",
      "Speed: 1.6ms preprocess, 93.5ms inference, 1.0ms postprocess per image at shape (1, 3, 480, 640)\n",
      "\n",
      "0: 480x640 1 person, 89.4ms\n",
      "Speed: 1.8ms preprocess, 89.4ms inference, 0.7ms postprocess per image at shape (1, 3, 480, 640)\n",
      "\n"
     ]
    },
    {
     "name": "stdout",
     "output_type": "stream",
     "text": [
      "Confidence ---> 0.72\n",
      "Class name --> person\n",
      "Confidence ---> 0.87\n",
      "Class name --> person\n"
     ]
    },
    {
     "name": "stderr",
     "output_type": "stream",
     "text": [
      "0: 480x640 1 person, 99.9ms\n",
      "Speed: 1.7ms preprocess, 99.9ms inference, 0.7ms postprocess per image at shape (1, 3, 480, 640)\n",
      "\n",
      "0: 480x640 1 person, 93.5ms\n",
      "Speed: 1.9ms preprocess, 93.5ms inference, 0.8ms postprocess per image at shape (1, 3, 480, 640)\n",
      "\n"
     ]
    },
    {
     "name": "stdout",
     "output_type": "stream",
     "text": [
      "Confidence ---> 0.91\n",
      "Class name --> person\n",
      "Confidence ---> 0.9\n",
      "Class name --> person\n"
     ]
    },
    {
     "name": "stderr",
     "output_type": "stream",
     "text": [
      "0: 480x640 1 person, 1 cup, 101.4ms\n",
      "Speed: 1.9ms preprocess, 101.4ms inference, 0.7ms postprocess per image at shape (1, 3, 480, 640)\n",
      "\n",
      "0: 480x640 (no detections), 99.7ms\n",
      "Speed: 30.0ms preprocess, 99.7ms inference, 0.5ms postprocess per image at shape (1, 3, 480, 640)\n",
      "\n"
     ]
    },
    {
     "name": "stdout",
     "output_type": "stream",
     "text": [
      "Confidence ---> 0.79\n",
      "Class name --> person\n",
      "Confidence ---> 0.31\n",
      "Class name --> cup\n"
     ]
    },
    {
     "name": "stderr",
     "output_type": "stream",
     "text": [
      "0: 480x640 (no detections), 117.2ms\n",
      "Speed: 1.8ms preprocess, 117.2ms inference, 0.5ms postprocess per image at shape (1, 3, 480, 640)\n",
      "\n",
      "0: 480x640 2 persons, 1 cup, 91.5ms\n",
      "Speed: 1.9ms preprocess, 91.5ms inference, 1.0ms postprocess per image at shape (1, 3, 480, 640)\n",
      "\n",
      "0: 480x640 1 person, 1 bottle, 1 cup, 1 cell phone, 1 oven, 88.0ms\n",
      "Speed: 1.7ms preprocess, 88.0ms inference, 0.7ms postprocess per image at shape (1, 3, 480, 640)\n",
      "\n"
     ]
    },
    {
     "name": "stdout",
     "output_type": "stream",
     "text": [
      "Confidence ---> 0.5\n",
      "Class name --> cup\n",
      "Confidence ---> 0.48\n",
      "Class name --> person\n",
      "Confidence ---> 0.45\n",
      "Class name --> person\n",
      "Confidence ---> 0.74\n",
      "Class name --> person\n",
      "Confidence ---> 0.61\n",
      "Class name --> bottle\n",
      "Confidence ---> 0.47\n",
      "Class name --> cup\n",
      "Confidence ---> 0.29\n",
      "Class name --> oven\n",
      "Confidence ---> 0.27\n",
      "Class name --> cell phone\n"
     ]
    },
    {
     "name": "stderr",
     "output_type": "stream",
     "text": [
      "0: 480x640 2 persons, 1 bottle, 1 cup, 1 oven, 100.7ms\n",
      "Speed: 1.9ms preprocess, 100.7ms inference, 0.7ms postprocess per image at shape (1, 3, 480, 640)\n",
      "\n",
      "0: 480x640 2 persons, 1 bottle, 1 cup, 1 laptop, 92.9ms\n",
      "Speed: 1.6ms preprocess, 92.9ms inference, 0.7ms postprocess per image at shape (1, 3, 480, 640)\n",
      "\n"
     ]
    },
    {
     "name": "stdout",
     "output_type": "stream",
     "text": [
      "Confidence ---> 0.8\n",
      "Class name --> cup\n",
      "Confidence ---> 0.65\n",
      "Class name --> person\n",
      "Confidence ---> 0.62\n",
      "Class name --> person\n",
      "Confidence ---> 0.52\n",
      "Class name --> bottle\n",
      "Confidence ---> 0.27\n",
      "Class name --> oven\n",
      "Confidence ---> 0.7\n",
      "Class name --> bottle\n",
      "Confidence ---> 0.62\n",
      "Class name --> laptop\n",
      "Confidence ---> 0.6\n",
      "Class name --> cup\n",
      "Confidence ---> 0.59\n",
      "Class name --> person\n",
      "Confidence ---> 0.57\n",
      "Class name --> person\n"
     ]
    },
    {
     "name": "stderr",
     "output_type": "stream",
     "text": [
      "0: 480x640 2 persons, 1 bottle, 1 cup, 1 chair, 2 laptops, 103.0ms\n",
      "Speed: 2.0ms preprocess, 103.0ms inference, 0.7ms postprocess per image at shape (1, 3, 480, 640)\n",
      "\n",
      "0: 480x640 2 persons, 1 bottle, 1 cup, 1 chair, 2 laptops, 90.9ms\n",
      "Speed: 1.7ms preprocess, 90.9ms inference, 0.8ms postprocess per image at shape (1, 3, 480, 640)\n",
      "\n"
     ]
    },
    {
     "name": "stdout",
     "output_type": "stream",
     "text": [
      "Confidence ---> 0.94\n",
      "Class name --> laptop\n",
      "Confidence ---> 0.7\n",
      "Class name --> cup\n",
      "Confidence ---> 0.62\n",
      "Class name --> person\n",
      "Confidence ---> 0.56\n",
      "Class name --> bottle\n",
      "Confidence ---> 0.49\n",
      "Class name --> person\n",
      "Confidence ---> 0.38\n",
      "Class name --> laptop\n",
      "Confidence ---> 0.36\n",
      "Class name --> chair\n",
      "Confidence ---> 0.94\n",
      "Class name --> laptop\n",
      "Confidence ---> 0.76\n",
      "Class name --> cup\n",
      "Confidence ---> 0.57\n",
      "Class name --> person\n",
      "Confidence ---> 0.51\n",
      "Class name --> person\n",
      "Confidence ---> 0.49\n",
      "Class name --> bottle\n",
      "Confidence ---> 0.37\n",
      "Class name --> chair\n",
      "Confidence ---> 0.26\n",
      "Class name --> laptop\n"
     ]
    },
    {
     "name": "stderr",
     "output_type": "stream",
     "text": [
      "0: 480x640 2 persons, 1 bottle, 1 cup, 1 chair, 2 laptops, 1 cell phone, 104.5ms\n",
      "Speed: 1.7ms preprocess, 104.5ms inference, 0.8ms postprocess per image at shape (1, 3, 480, 640)\n",
      "\n",
      "0: 480x640 2 persons, 1 bottle, 1 cup, 1 chair, 1 laptop, 92.8ms\n",
      "Speed: 1.9ms preprocess, 92.8ms inference, 0.9ms postprocess per image at shape (1, 3, 480, 640)\n",
      "\n"
     ]
    },
    {
     "name": "stdout",
     "output_type": "stream",
     "text": [
      "Confidence ---> 0.91\n",
      "Class name --> laptop\n",
      "Confidence ---> 0.7\n",
      "Class name --> cup\n",
      "Confidence ---> 0.56\n",
      "Class name --> person\n",
      "Confidence ---> 0.51\n",
      "Class name --> person\n",
      "Confidence ---> 0.4\n",
      "Class name --> bottle\n",
      "Confidence ---> 0.34\n",
      "Class name --> chair\n",
      "Confidence ---> 0.3\n",
      "Class name --> laptop\n",
      "Confidence ---> 0.27\n",
      "Class name --> cell phone\n",
      "Confidence ---> 0.95\n",
      "Class name --> laptop\n",
      "Confidence ---> 0.57\n",
      "Class name --> person\n",
      "Confidence ---> 0.56\n",
      "Class name --> bottle\n",
      "Confidence ---> 0.54\n",
      "Class name --> cup\n",
      "Confidence ---> 0.48\n",
      "Class name --> chair\n",
      "Confidence ---> 0.32\n",
      "Class name --> person\n"
     ]
    },
    {
     "name": "stderr",
     "output_type": "stream",
     "text": [
      "0: 480x640 2 persons, 1 bottle, 1 cup, 1 laptop, 104.5ms\n",
      "Speed: 1.9ms preprocess, 104.5ms inference, 0.7ms postprocess per image at shape (1, 3, 480, 640)\n",
      "\n",
      "0: 480x640 2 persons, 1 bottle, 1 cup, 1 laptop, 98.0ms\n",
      "Speed: 2.1ms preprocess, 98.0ms inference, 0.7ms postprocess per image at shape (1, 3, 480, 640)\n",
      "\n"
     ]
    },
    {
     "name": "stdout",
     "output_type": "stream",
     "text": [
      "Confidence ---> 0.91\n",
      "Class name --> laptop\n",
      "Confidence ---> 0.64\n",
      "Class name --> bottle\n",
      "Confidence ---> 0.51\n",
      "Class name --> person\n",
      "Confidence ---> 0.46\n",
      "Class name --> cup\n",
      "Confidence ---> 0.45\n",
      "Class name --> person\n",
      "Confidence ---> 0.95\n",
      "Class name --> laptop\n",
      "Confidence ---> 0.73\n",
      "Class name --> person\n",
      "Confidence ---> 0.69\n",
      "Class name --> bottle\n",
      "Confidence ---> 0.52\n",
      "Class name --> cup\n",
      "Confidence ---> 0.38\n",
      "Class name --> person\n"
     ]
    },
    {
     "name": "stderr",
     "output_type": "stream",
     "text": [
      "0: 480x640 2 persons, 1 bottle, 1 cup, 1 laptop, 107.2ms\n",
      "Speed: 8.6ms preprocess, 107.2ms inference, 0.7ms postprocess per image at shape (1, 3, 480, 640)\n",
      "\n",
      "0: 480x640 2 persons, 1 bottle, 1 cup, 1 laptop, 94.1ms\n",
      "Speed: 1.9ms preprocess, 94.1ms inference, 0.8ms postprocess per image at shape (1, 3, 480, 640)\n",
      "\n"
     ]
    },
    {
     "name": "stdout",
     "output_type": "stream",
     "text": [
      "Confidence ---> 0.94\n",
      "Class name --> laptop\n",
      "Confidence ---> 0.7\n",
      "Class name --> bottle\n",
      "Confidence ---> 0.69\n",
      "Class name --> person\n",
      "Confidence ---> 0.63\n",
      "Class name --> cup\n",
      "Confidence ---> 0.39\n",
      "Class name --> person\n",
      "Confidence ---> 0.94\n",
      "Class name --> laptop\n",
      "Confidence ---> 0.69\n",
      "Class name --> bottle\n",
      "Confidence ---> 0.53\n",
      "Class name --> person\n",
      "Confidence ---> 0.48\n",
      "Class name --> cup\n",
      "Confidence ---> 0.36\n",
      "Class name --> person\n"
     ]
    },
    {
     "name": "stderr",
     "output_type": "stream",
     "text": [
      "0: 480x640 1 person, 1 bottle, 1 cup, 1 laptop, 101.3ms\n",
      "Speed: 1.7ms preprocess, 101.3ms inference, 0.7ms postprocess per image at shape (1, 3, 480, 640)\n",
      "\n",
      "0: 480x640 2 persons, 1 bottle, 1 cup, 1 laptop, 97.8ms\n",
      "Speed: 1.9ms preprocess, 97.8ms inference, 0.7ms postprocess per image at shape (1, 3, 480, 640)\n",
      "\n"
     ]
    },
    {
     "name": "stdout",
     "output_type": "stream",
     "text": [
      "Confidence ---> 0.94\n",
      "Class name --> laptop\n",
      "Confidence ---> 0.71\n",
      "Class name --> bottle\n",
      "Confidence ---> 0.67\n",
      "Class name --> person\n",
      "Confidence ---> 0.57\n",
      "Class name --> cup\n",
      "Confidence ---> 0.93\n",
      "Class name --> laptop\n",
      "Confidence ---> 0.72\n",
      "Class name --> bottle\n",
      "Confidence ---> 0.68\n",
      "Class name --> person\n",
      "Confidence ---> 0.51\n",
      "Class name --> cup\n",
      "Confidence ---> 0.26\n",
      "Class name --> person\n"
     ]
    },
    {
     "name": "stderr",
     "output_type": "stream",
     "text": [
      "0: 480x640 2 persons, 1 bottle, 1 cup, 1 laptop, 100.8ms\n",
      "Speed: 2.1ms preprocess, 100.8ms inference, 0.7ms postprocess per image at shape (1, 3, 480, 640)\n",
      "\n",
      "0: 480x640 2 persons, 1 bottle, 1 cup, 1 laptop, 99.9ms\n",
      "Speed: 2.1ms preprocess, 99.9ms inference, 0.7ms postprocess per image at shape (1, 3, 480, 640)\n",
      "\n"
     ]
    },
    {
     "name": "stdout",
     "output_type": "stream",
     "text": [
      "Confidence ---> 0.95\n",
      "Class name --> laptop\n",
      "Confidence ---> 0.71\n",
      "Class name --> bottle\n",
      "Confidence ---> 0.55\n",
      "Class name --> person\n",
      "Confidence ---> 0.55\n",
      "Class name --> cup\n",
      "Confidence ---> 0.26\n",
      "Class name --> person\n",
      "Confidence ---> 0.95\n",
      "Class name --> laptop\n",
      "Confidence ---> 0.69\n",
      "Class name --> bottle\n",
      "Confidence ---> 0.62\n",
      "Class name --> person\n",
      "Confidence ---> 0.5\n",
      "Class name --> cup\n",
      "Confidence ---> 0.36\n",
      "Class name --> person\n"
     ]
    },
    {
     "name": "stderr",
     "output_type": "stream",
     "text": [
      "0: 480x640 2 persons, 1 bottle, 1 cup, 1 laptop, 103.2ms\n",
      "Speed: 1.8ms preprocess, 103.2ms inference, 0.7ms postprocess per image at shape (1, 3, 480, 640)\n",
      "\n",
      "0: 480x640 2 persons, 1 bottle, 1 cup, 1 laptop, 148.4ms\n",
      "Speed: 2.1ms preprocess, 148.4ms inference, 0.7ms postprocess per image at shape (1, 3, 480, 640)\n"
     ]
    },
    {
     "name": "stdout",
     "output_type": "stream",
     "text": [
      "Confidence ---> 0.96\n",
      "Class name --> laptop\n",
      "Confidence ---> 0.72\n",
      "Class name --> bottle\n",
      "Confidence ---> 0.59\n",
      "Class name --> person\n",
      "Confidence ---> 0.55\n",
      "Class name --> cup\n",
      "Confidence ---> 0.39\n",
      "Class name --> person\n",
      "Confidence ---> 0.94\n",
      "Class name --> laptop\n",
      "Confidence ---> 0.71\n",
      "Class name --> bottle\n",
      "Confidence ---> 0.63\n",
      "Class name --> person\n",
      "Confidence ---> 0.61\n",
      "Class name --> cup\n",
      "Confidence ---> 0.31\n",
      "Class name --> person\n"
     ]
    },
    {
     "name": "stderr",
     "output_type": "stream",
     "text": [
      "\n",
      "0: 480x640 1 person, 1 bottle, 1 cup, 1 laptop, 103.9ms\n",
      "Speed: 2.0ms preprocess, 103.9ms inference, 0.7ms postprocess per image at shape (1, 3, 480, 640)\n",
      "\n",
      "0: 480x640 2 persons, 1 bottle, 1 cup, 1 laptop, 94.5ms\n",
      "Speed: 1.9ms preprocess, 94.5ms inference, 1.1ms postprocess per image at shape (1, 3, 480, 640)\n",
      "\n"
     ]
    },
    {
     "name": "stdout",
     "output_type": "stream",
     "text": [
      "Confidence ---> 0.94\n",
      "Class name --> laptop\n",
      "Confidence ---> 0.73\n",
      "Class name --> bottle\n",
      "Confidence ---> 0.56\n",
      "Class name --> cup\n",
      "Confidence ---> 0.56\n",
      "Class name --> person\n",
      "Confidence ---> 0.96\n",
      "Class name --> laptop\n",
      "Confidence ---> 0.7\n",
      "Class name --> bottle\n",
      "Confidence ---> 0.58\n",
      "Class name --> cup\n",
      "Confidence ---> 0.58\n",
      "Class name --> person\n",
      "Confidence ---> 0.27\n",
      "Class name --> person\n"
     ]
    },
    {
     "name": "stderr",
     "output_type": "stream",
     "text": [
      "0: 480x640 2 persons, 1 bottle, 1 cup, 1 laptop, 101.8ms\n",
      "Speed: 2.4ms preprocess, 101.8ms inference, 0.7ms postprocess per image at shape (1, 3, 480, 640)\n",
      "\n",
      "0: 480x640 3 persons, 1 bottle, 1 cup, 1 laptop, 91.1ms\n",
      "Speed: 2.0ms preprocess, 91.1ms inference, 0.7ms postprocess per image at shape (1, 3, 480, 640)\n",
      "\n"
     ]
    },
    {
     "name": "stdout",
     "output_type": "stream",
     "text": [
      "Confidence ---> 0.92\n",
      "Class name --> laptop\n",
      "Confidence ---> 0.69\n",
      "Class name --> person\n",
      "Confidence ---> 0.63\n",
      "Class name --> bottle\n",
      "Confidence ---> 0.36\n",
      "Class name --> cup\n",
      "Confidence ---> 0.28\n",
      "Class name --> person\n",
      "Confidence ---> 0.94\n",
      "Class name --> laptop\n",
      "Confidence ---> 0.59\n",
      "Class name --> person\n",
      "Confidence ---> 0.48\n",
      "Class name --> bottle\n",
      "Confidence ---> 0.44\n",
      "Class name --> cup\n",
      "Confidence ---> 0.42\n",
      "Class name --> person\n",
      "Confidence ---> 0.26\n",
      "Class name --> person\n"
     ]
    },
    {
     "name": "stderr",
     "output_type": "stream",
     "text": [
      "0: 480x640 2 persons, 1 bottle, 1 cup, 2 laptops, 102.3ms\n",
      "Speed: 1.8ms preprocess, 102.3ms inference, 0.7ms postprocess per image at shape (1, 3, 480, 640)\n",
      "\n",
      "0: 480x640 1 person, 2 cups, 99.5ms\n",
      "Speed: 2.0ms preprocess, 99.5ms inference, 0.8ms postprocess per image at shape (1, 3, 480, 640)\n",
      "\n"
     ]
    },
    {
     "name": "stdout",
     "output_type": "stream",
     "text": [
      "Confidence ---> 0.86\n",
      "Class name --> laptop\n",
      "Confidence ---> 0.67\n",
      "Class name --> bottle\n",
      "Confidence ---> 0.55\n",
      "Class name --> cup\n",
      "Confidence ---> 0.33\n",
      "Class name --> laptop\n",
      "Confidence ---> 0.32\n",
      "Class name --> person\n",
      "Confidence ---> 0.31\n",
      "Class name --> person\n",
      "Confidence ---> 0.71\n",
      "Class name --> cup\n",
      "Confidence ---> 0.3\n",
      "Class name --> person\n",
      "Confidence ---> 0.26\n",
      "Class name --> cup\n"
     ]
    },
    {
     "name": "stderr",
     "output_type": "stream",
     "text": [
      "0: 480x640 2 persons, 1 cup, 112.2ms\n",
      "Speed: 1.9ms preprocess, 112.2ms inference, 0.8ms postprocess per image at shape (1, 3, 480, 640)\n",
      "\n",
      "0: 480x640 2 persons, 1 bottle, 99.7ms\n",
      "Speed: 2.3ms preprocess, 99.7ms inference, 0.7ms postprocess per image at shape (1, 3, 480, 640)\n",
      "\n"
     ]
    },
    {
     "name": "stdout",
     "output_type": "stream",
     "text": [
      "Confidence ---> 0.64\n",
      "Class name --> cup\n",
      "Confidence ---> 0.39\n",
      "Class name --> person\n",
      "Confidence ---> 0.26\n",
      "Class name --> person\n",
      "Confidence ---> 0.47\n",
      "Class name --> person\n",
      "Confidence ---> 0.29\n",
      "Class name --> person\n",
      "Confidence ---> 0.29\n",
      "Class name --> bottle\n"
     ]
    },
    {
     "name": "stderr",
     "output_type": "stream",
     "text": [
      "0: 480x640 2 persons, 1 bottle, 1 cup, 1 chair, 105.6ms\n",
      "Speed: 1.9ms preprocess, 105.6ms inference, 0.7ms postprocess per image at shape (1, 3, 480, 640)\n",
      "\n",
      "0: 480x640 2 persons, 1 bottle, 1 chair, 1 vase, 106.5ms\n",
      "Speed: 2.2ms preprocess, 106.5ms inference, 0.7ms postprocess per image at shape (1, 3, 480, 640)\n",
      "\n"
     ]
    },
    {
     "name": "stdout",
     "output_type": "stream",
     "text": [
      "Confidence ---> 0.52\n",
      "Class name --> bottle\n",
      "Confidence ---> 0.42\n",
      "Class name --> cup\n",
      "Confidence ---> 0.36\n",
      "Class name --> chair\n",
      "Confidence ---> 0.35\n",
      "Class name --> person\n",
      "Confidence ---> 0.29\n",
      "Class name --> person\n",
      "Confidence ---> 0.72\n",
      "Class name --> person\n",
      "Confidence ---> 0.49\n",
      "Class name --> person\n",
      "Confidence ---> 0.46\n",
      "Class name --> bottle\n",
      "Confidence ---> 0.41\n",
      "Class name --> vase\n",
      "Confidence ---> 0.37\n",
      "Class name --> chair\n"
     ]
    },
    {
     "name": "stderr",
     "output_type": "stream",
     "text": [
      "0: 480x640 4 persons, 1 bottle, 1 chair, 1 vase, 105.7ms\n",
      "Speed: 2.0ms preprocess, 105.7ms inference, 0.7ms postprocess per image at shape (1, 3, 480, 640)\n",
      "\n",
      "0: 480x640 3 persons, 94.8ms\n",
      "Speed: 2.2ms preprocess, 94.8ms inference, 0.9ms postprocess per image at shape (1, 3, 480, 640)\n",
      "\n"
     ]
    },
    {
     "name": "stdout",
     "output_type": "stream",
     "text": [
      "Confidence ---> 0.72\n",
      "Class name --> person\n",
      "Confidence ---> 0.34\n",
      "Class name --> chair\n",
      "Confidence ---> 0.34\n",
      "Class name --> person\n",
      "Confidence ---> 0.33\n",
      "Class name --> bottle\n",
      "Confidence ---> 0.32\n",
      "Class name --> vase\n",
      "Confidence ---> 0.31\n",
      "Class name --> person\n",
      "Confidence ---> 0.29\n",
      "Class name --> person\n",
      "Confidence ---> 0.84\n",
      "Class name --> person\n",
      "Confidence ---> 0.52\n",
      "Class name --> person\n",
      "Confidence ---> 0.37\n",
      "Class name --> person\n"
     ]
    },
    {
     "name": "stderr",
     "output_type": "stream",
     "text": [
      "0: 480x640 3 persons, 1 chair, 106.2ms\n",
      "Speed: 1.9ms preprocess, 106.2ms inference, 0.7ms postprocess per image at shape (1, 3, 480, 640)\n",
      "\n",
      "0: 480x640 3 persons, 1 chair, 1 cell phone, 91.6ms\n",
      "Speed: 2.1ms preprocess, 91.6ms inference, 0.7ms postprocess per image at shape (1, 3, 480, 640)\n",
      "\n"
     ]
    },
    {
     "name": "stdout",
     "output_type": "stream",
     "text": [
      "Confidence ---> 0.88\n",
      "Class name --> person\n",
      "Confidence ---> 0.69\n",
      "Class name --> person\n",
      "Confidence ---> 0.51\n",
      "Class name --> person\n",
      "Confidence ---> 0.3\n",
      "Class name --> chair\n",
      "Confidence ---> 0.89\n",
      "Class name --> person\n",
      "Confidence ---> 0.67\n",
      "Class name --> person\n",
      "Confidence ---> 0.52\n",
      "Class name --> cell phone\n",
      "Confidence ---> 0.39\n",
      "Class name --> chair\n",
      "Confidence ---> 0.37\n",
      "Class name --> person\n"
     ]
    },
    {
     "name": "stderr",
     "output_type": "stream",
     "text": [
      "0: 480x640 3 persons, 1 chair, 1 cell phone, 103.5ms\n",
      "Speed: 2.1ms preprocess, 103.5ms inference, 0.7ms postprocess per image at shape (1, 3, 480, 640)\n",
      "\n",
      "0: 480x640 3 persons, 1 chair, 1 cell phone, 91.5ms\n",
      "Speed: 2.1ms preprocess, 91.5ms inference, 0.7ms postprocess per image at shape (1, 3, 480, 640)\n",
      "\n"
     ]
    },
    {
     "name": "stdout",
     "output_type": "stream",
     "text": [
      "Confidence ---> 0.87\n",
      "Class name --> person\n",
      "Confidence ---> 0.7\n",
      "Class name --> person\n",
      "Confidence ---> 0.56\n",
      "Class name --> chair\n",
      "Confidence ---> 0.48\n",
      "Class name --> person\n",
      "Confidence ---> 0.4\n",
      "Class name --> cell phone\n",
      "Confidence ---> 0.88\n",
      "Class name --> person\n",
      "Confidence ---> 0.59\n",
      "Class name --> person\n",
      "Confidence ---> 0.49\n",
      "Class name --> person\n",
      "Confidence ---> 0.37\n",
      "Class name --> chair\n",
      "Confidence ---> 0.3\n",
      "Class name --> cell phone\n"
     ]
    },
    {
     "name": "stderr",
     "output_type": "stream",
     "text": [
      "0: 480x640 3 persons, 1 chair, 1 cell phone, 101.8ms\n",
      "Speed: 2.0ms preprocess, 101.8ms inference, 0.8ms postprocess per image at shape (1, 3, 480, 640)\n",
      "\n",
      "0: 480x640 2 persons, 103.5ms\n",
      "Speed: 15.1ms preprocess, 103.5ms inference, 0.7ms postprocess per image at shape (1, 3, 480, 640)\n"
     ]
    },
    {
     "name": "stdout",
     "output_type": "stream",
     "text": [
      "Confidence ---> 0.9\n",
      "Class name --> person\n",
      "Confidence ---> 0.71\n",
      "Class name --> person\n",
      "Confidence ---> 0.43\n",
      "Class name --> person\n",
      "Confidence ---> 0.28\n",
      "Class name --> cell phone\n",
      "Confidence ---> 0.26\n",
      "Class name --> chair\n",
      "Confidence ---> 0.87\n",
      "Class name --> person\n",
      "Confidence ---> 0.58\n",
      "Class name --> person\n"
     ]
    },
    {
     "name": "stderr",
     "output_type": "stream",
     "text": [
      "\n",
      "0: 480x640 3 persons, 101.5ms\n",
      "Speed: 2.2ms preprocess, 101.5ms inference, 0.7ms postprocess per image at shape (1, 3, 480, 640)\n",
      "\n",
      "0: 480x640 2 persons, 2 chairs, 2 cell phones, 90.6ms\n",
      "Speed: 2.1ms preprocess, 90.6ms inference, 0.7ms postprocess per image at shape (1, 3, 480, 640)\n",
      "\n"
     ]
    },
    {
     "name": "stdout",
     "output_type": "stream",
     "text": [
      "Confidence ---> 0.9\n",
      "Class name --> person\n",
      "Confidence ---> 0.69\n",
      "Class name --> person\n",
      "Confidence ---> 0.28\n",
      "Class name --> person\n",
      "Confidence ---> 0.91\n",
      "Class name --> person\n",
      "Confidence ---> 0.65\n",
      "Class name --> person\n",
      "Confidence ---> 0.37\n",
      "Class name --> cell phone\n",
      "Confidence ---> 0.28\n",
      "Class name --> cell phone\n",
      "Confidence ---> 0.26\n",
      "Class name --> chair\n",
      "Confidence ---> 0.26\n",
      "Class name --> chair\n"
     ]
    },
    {
     "name": "stderr",
     "output_type": "stream",
     "text": [
      "0: 480x640 4 persons, 1 cup, 2 chairs, 1 cell phone, 102.7ms\n",
      "Speed: 2.2ms preprocess, 102.7ms inference, 0.7ms postprocess per image at shape (1, 3, 480, 640)\n",
      "\n",
      "0: 480x640 3 persons, 2 chairs, 1 cell phone, 91.2ms\n",
      "Speed: 2.0ms preprocess, 91.2ms inference, 0.7ms postprocess per image at shape (1, 3, 480, 640)\n",
      "\n"
     ]
    },
    {
     "name": "stdout",
     "output_type": "stream",
     "text": [
      "Confidence ---> 0.91\n",
      "Class name --> person\n",
      "Confidence ---> 0.53\n",
      "Class name --> person\n",
      "Confidence ---> 0.52\n",
      "Class name --> chair\n",
      "Confidence ---> 0.43\n",
      "Class name --> cell phone\n",
      "Confidence ---> 0.43\n",
      "Class name --> chair\n",
      "Confidence ---> 0.33\n",
      "Class name --> person\n",
      "Confidence ---> 0.26\n",
      "Class name --> cup\n",
      "Confidence ---> 0.26\n",
      "Class name --> person\n",
      "Confidence ---> 0.93\n",
      "Class name --> person\n",
      "Confidence ---> 0.66\n",
      "Class name --> person\n",
      "Confidence ---> 0.42\n",
      "Class name --> chair\n",
      "Confidence ---> 0.39\n",
      "Class name --> cell phone\n",
      "Confidence ---> 0.39\n",
      "Class name --> chair\n",
      "Confidence ---> 0.36\n",
      "Class name --> person\n"
     ]
    },
    {
     "name": "stderr",
     "output_type": "stream",
     "text": [
      "0: 480x640 2 persons, 2 chairs, 1 cell phone, 102.0ms\n",
      "Speed: 2.3ms preprocess, 102.0ms inference, 0.7ms postprocess per image at shape (1, 3, 480, 640)\n",
      "\n",
      "0: 480x640 3 persons, 1 cup, 2 chairs, 1 cell phone, 95.0ms\n",
      "Speed: 1.9ms preprocess, 95.0ms inference, 0.8ms postprocess per image at shape (1, 3, 480, 640)\n",
      "\n"
     ]
    },
    {
     "name": "stdout",
     "output_type": "stream",
     "text": [
      "Confidence ---> 0.94\n",
      "Class name --> person\n",
      "Confidence ---> 0.68\n",
      "Class name --> person\n",
      "Confidence ---> 0.53\n",
      "Class name --> cell phone\n",
      "Confidence ---> 0.48\n",
      "Class name --> chair\n",
      "Confidence ---> 0.44\n",
      "Class name --> chair\n",
      "Confidence ---> 0.93\n",
      "Class name --> person\n",
      "Confidence ---> 0.65\n",
      "Class name --> person\n",
      "Confidence ---> 0.53\n",
      "Class name --> cup\n",
      "Confidence ---> 0.47\n",
      "Class name --> cell phone\n",
      "Confidence ---> 0.42\n",
      "Class name --> person\n",
      "Confidence ---> 0.41\n",
      "Class name --> chair\n",
      "Confidence ---> 0.28\n",
      "Class name --> chair\n"
     ]
    },
    {
     "name": "stderr",
     "output_type": "stream",
     "text": [
      "0: 480x640 2 persons, 1 cup, 2 chairs, 2 cell phones, 104.6ms\n",
      "Speed: 3.2ms preprocess, 104.6ms inference, 0.7ms postprocess per image at shape (1, 3, 480, 640)\n",
      "\n",
      "0: 480x640 3 persons, 1 cup, 2 chairs, 1 cell phone, 95.1ms\n",
      "Speed: 2.2ms preprocess, 95.1ms inference, 0.9ms postprocess per image at shape (1, 3, 480, 640)\n",
      "\n"
     ]
    },
    {
     "name": "stdout",
     "output_type": "stream",
     "text": [
      "Confidence ---> 0.93\n",
      "Class name --> person\n",
      "Confidence ---> 0.79\n",
      "Class name --> person\n",
      "Confidence ---> 0.55\n",
      "Class name --> cell phone\n",
      "Confidence ---> 0.42\n",
      "Class name --> chair\n",
      "Confidence ---> 0.36\n",
      "Class name --> cell phone\n",
      "Confidence ---> 0.28\n",
      "Class name --> chair\n",
      "Confidence ---> 0.26\n",
      "Class name --> cup\n",
      "Confidence ---> 0.93\n",
      "Class name --> person\n",
      "Confidence ---> 0.75\n",
      "Class name --> person\n",
      "Confidence ---> 0.62\n",
      "Class name --> cup\n",
      "Confidence ---> 0.49\n",
      "Class name --> chair\n",
      "Confidence ---> 0.4\n",
      "Class name --> cell phone\n",
      "Confidence ---> 0.38\n",
      "Class name --> chair\n",
      "Confidence ---> 0.26\n",
      "Class name --> person\n"
     ]
    },
    {
     "name": "stderr",
     "output_type": "stream",
     "text": [
      "0: 480x640 3 persons, 1 cup, 2 chairs, 1 cell phone, 103.8ms\n",
      "Speed: 2.1ms preprocess, 103.8ms inference, 0.8ms postprocess per image at shape (1, 3, 480, 640)\n",
      "\n",
      "0: 480x640 2 persons, 1 cup, 2 chairs, 1 cell phone, 101.3ms\n",
      "Speed: 2.5ms preprocess, 101.3ms inference, 0.8ms postprocess per image at shape (1, 3, 480, 640)\n",
      "\n"
     ]
    },
    {
     "name": "stdout",
     "output_type": "stream",
     "text": [
      "Confidence ---> 0.94\n",
      "Class name --> person\n",
      "Confidence ---> 0.81\n",
      "Class name --> person\n",
      "Confidence ---> 0.49\n",
      "Class name --> cup\n",
      "Confidence ---> 0.45\n",
      "Class name --> chair\n",
      "Confidence ---> 0.37\n",
      "Class name --> chair\n",
      "Confidence ---> 0.3\n",
      "Class name --> person\n",
      "Confidence ---> 0.28\n",
      "Class name --> cell phone\n",
      "Confidence ---> 0.94\n",
      "Class name --> person\n",
      "Confidence ---> 0.79\n",
      "Class name --> person\n",
      "Confidence ---> 0.68\n",
      "Class name --> cup\n",
      "Confidence ---> 0.51\n",
      "Class name --> chair\n",
      "Confidence ---> 0.43\n",
      "Class name --> chair\n",
      "Confidence ---> 0.33\n",
      "Class name --> cell phone\n"
     ]
    },
    {
     "name": "stderr",
     "output_type": "stream",
     "text": [
      "0: 480x640 3 persons, 1 cup, 2 chairs, 1 cell phone, 106.7ms\n",
      "Speed: 2.6ms preprocess, 106.7ms inference, 0.7ms postprocess per image at shape (1, 3, 480, 640)\n",
      "\n",
      "0: 480x640 2 persons, 2 chairs, 92.3ms\n",
      "Speed: 3.0ms preprocess, 92.3ms inference, 0.8ms postprocess per image at shape (1, 3, 480, 640)\n",
      "\n"
     ]
    },
    {
     "name": "stdout",
     "output_type": "stream",
     "text": [
      "Confidence ---> 0.94\n",
      "Class name --> person\n",
      "Confidence ---> 0.75\n",
      "Class name --> person\n",
      "Confidence ---> 0.56\n",
      "Class name --> chair\n",
      "Confidence ---> 0.5\n",
      "Class name --> chair\n",
      "Confidence ---> 0.47\n",
      "Class name --> cup\n",
      "Confidence ---> 0.32\n",
      "Class name --> cell phone\n",
      "Confidence ---> 0.3\n",
      "Class name --> person\n",
      "Confidence ---> 0.94\n",
      "Class name --> person\n",
      "Confidence ---> 0.76\n",
      "Class name --> person\n",
      "Confidence ---> 0.47\n",
      "Class name --> chair\n",
      "Confidence ---> 0.4\n",
      "Class name --> chair\n"
     ]
    },
    {
     "name": "stderr",
     "output_type": "stream",
     "text": [
      "0: 480x640 2 persons, 1 cup, 2 chairs, 2 cell phones, 106.8ms\n",
      "Speed: 2.6ms preprocess, 106.8ms inference, 0.7ms postprocess per image at shape (1, 3, 480, 640)\n",
      "\n",
      "0: 480x640 2 persons, 1 surfboard, 1 cup, 2 chairs, 2 cell phones, 91.3ms\n",
      "Speed: 2.7ms preprocess, 91.3ms inference, 0.7ms postprocess per image at shape (1, 3, 480, 640)\n",
      "\n"
     ]
    },
    {
     "name": "stdout",
     "output_type": "stream",
     "text": [
      "Confidence ---> 0.92\n",
      "Class name --> person\n",
      "Confidence ---> 0.7\n",
      "Class name --> person\n",
      "Confidence ---> 0.48\n",
      "Class name --> cell phone\n",
      "Confidence ---> 0.47\n",
      "Class name --> chair\n",
      "Confidence ---> 0.41\n",
      "Class name --> cup\n",
      "Confidence ---> 0.41\n",
      "Class name --> chair\n",
      "Confidence ---> 0.37\n",
      "Class name --> cell phone\n",
      "Confidence ---> 0.92\n",
      "Class name --> person\n",
      "Confidence ---> 0.75\n",
      "Class name --> person\n",
      "Confidence ---> 0.46\n",
      "Class name --> cell phone\n",
      "Confidence ---> 0.37\n",
      "Class name --> chair\n",
      "Confidence ---> 0.36\n",
      "Class name --> cell phone\n",
      "Confidence ---> 0.32\n",
      "Class name --> chair\n",
      "Confidence ---> 0.28\n",
      "Class name --> cup\n",
      "Confidence ---> 0.27\n",
      "Class name --> surfboard\n"
     ]
    },
    {
     "name": "stderr",
     "output_type": "stream",
     "text": [
      "0: 480x640 2 persons, 1 surfboard, 1 chair, 1 cell phone, 106.2ms\n",
      "Speed: 1.9ms preprocess, 106.2ms inference, 0.7ms postprocess per image at shape (1, 3, 480, 640)\n",
      "\n",
      "0: 480x640 3 persons, 1 cup, 1 chair, 1 cell phone, 92.6ms\n",
      "Speed: 2.4ms preprocess, 92.6ms inference, 0.7ms postprocess per image at shape (1, 3, 480, 640)\n",
      "\n"
     ]
    },
    {
     "name": "stdout",
     "output_type": "stream",
     "text": [
      "Confidence ---> 0.93\n",
      "Class name --> person\n",
      "Confidence ---> 0.73\n",
      "Class name --> person\n",
      "Confidence ---> 0.42\n",
      "Class name --> cell phone\n",
      "Confidence ---> 0.3\n",
      "Class name --> chair\n",
      "Confidence ---> 0.29\n",
      "Class name --> surfboard\n",
      "Confidence ---> 0.92\n",
      "Class name --> person\n",
      "Confidence ---> 0.74\n",
      "Class name --> person\n",
      "Confidence ---> 0.47\n",
      "Class name --> cell phone\n",
      "Confidence ---> 0.42\n",
      "Class name --> cup\n",
      "Confidence ---> 0.3\n",
      "Class name --> chair\n",
      "Confidence ---> 0.29\n",
      "Class name --> person\n"
     ]
    },
    {
     "name": "stderr",
     "output_type": "stream",
     "text": [
      "0: 480x640 2 persons, 1 surfboard, 1 cup, 1 chair, 1 cell phone, 161.7ms\n",
      "Speed: 2.0ms preprocess, 161.7ms inference, 0.9ms postprocess per image at shape (1, 3, 480, 640)\n",
      "\n",
      "0: 480x640 2 persons, 1 surfboard, 1 cup, 1 cell phone, 92.3ms\n",
      "Speed: 2.2ms preprocess, 92.3ms inference, 0.7ms postprocess per image at shape (1, 3, 480, 640)\n",
      "\n"
     ]
    },
    {
     "name": "stdout",
     "output_type": "stream",
     "text": [
      "Confidence ---> 0.91\n",
      "Class name --> person\n",
      "Confidence ---> 0.62\n",
      "Class name --> person\n",
      "Confidence ---> 0.59\n",
      "Class name --> cup\n",
      "Confidence ---> 0.5\n",
      "Class name --> cell phone\n",
      "Confidence ---> 0.33\n",
      "Class name --> chair\n",
      "Confidence ---> 0.28\n",
      "Class name --> surfboard\n",
      "Confidence ---> 0.92\n",
      "Class name --> person\n",
      "Confidence ---> 0.76\n",
      "Class name --> person\n",
      "Confidence ---> 0.61\n",
      "Class name --> cell phone\n",
      "Confidence ---> 0.47\n",
      "Class name --> surfboard\n",
      "Confidence ---> 0.29\n",
      "Class name --> cup\n"
     ]
    },
    {
     "name": "stderr",
     "output_type": "stream",
     "text": [
      "0: 480x640 2 persons, 1 surfboard, 1 cup, 1 chair, 1 cell phone, 105.3ms\n",
      "Speed: 2.1ms preprocess, 105.3ms inference, 0.7ms postprocess per image at shape (1, 3, 480, 640)\n",
      "\n",
      "0: 480x640 2 persons, 1 cup, 1 cell phone, 106.9ms\n",
      "Speed: 2.3ms preprocess, 106.9ms inference, 0.8ms postprocess per image at shape (1, 3, 480, 640)\n",
      "\n"
     ]
    },
    {
     "name": "stdout",
     "output_type": "stream",
     "text": [
      "Confidence ---> 0.92\n",
      "Class name --> person\n",
      "Confidence ---> 0.73\n",
      "Class name --> person\n",
      "Confidence ---> 0.54\n",
      "Class name --> cup\n",
      "Confidence ---> 0.47\n",
      "Class name --> cell phone\n",
      "Confidence ---> 0.34\n",
      "Class name --> surfboard\n",
      "Confidence ---> 0.33\n",
      "Class name --> chair\n",
      "Confidence ---> 0.92\n",
      "Class name --> person\n",
      "Confidence ---> 0.59\n",
      "Class name --> person\n",
      "Confidence ---> 0.45\n",
      "Class name --> cup\n",
      "Confidence ---> 0.35\n",
      "Class name --> cell phone\n"
     ]
    },
    {
     "name": "stderr",
     "output_type": "stream",
     "text": [
      "0: 480x640 2 persons, 1 surfboard, 1 chair, 1 cell phone, 116.5ms\n",
      "Speed: 2.2ms preprocess, 116.5ms inference, 0.8ms postprocess per image at shape (1, 3, 480, 640)\n",
      "\n",
      "0: 480x640 2 persons, 2 chairs, 2 cell phones, 93.4ms\n",
      "Speed: 2.0ms preprocess, 93.4ms inference, 0.7ms postprocess per image at shape (1, 3, 480, 640)\n",
      "\n"
     ]
    },
    {
     "name": "stdout",
     "output_type": "stream",
     "text": [
      "Confidence ---> 0.93\n",
      "Class name --> person\n",
      "Confidence ---> 0.75\n",
      "Class name --> person\n",
      "Confidence ---> 0.44\n",
      "Class name --> cell phone\n",
      "Confidence ---> 0.32\n",
      "Class name --> chair\n",
      "Confidence ---> 0.29\n",
      "Class name --> surfboard\n",
      "Confidence ---> 0.93\n",
      "Class name --> person\n",
      "Confidence ---> 0.8\n",
      "Class name --> person\n",
      "Confidence ---> 0.46\n",
      "Class name --> cell phone\n",
      "Confidence ---> 0.35\n",
      "Class name --> chair\n",
      "Confidence ---> 0.27\n",
      "Class name --> chair\n",
      "Confidence ---> 0.26\n",
      "Class name --> cell phone\n"
     ]
    },
    {
     "name": "stderr",
     "output_type": "stream",
     "text": [
      "0: 480x640 2 persons, 1 cup, 2 chairs, 107.9ms\n",
      "Speed: 2.1ms preprocess, 107.9ms inference, 0.7ms postprocess per image at shape (1, 3, 480, 640)\n",
      "\n",
      "0: 480x640 2 persons, 1 cup, 1 chair, 1 cell phone, 96.9ms\n",
      "Speed: 2.3ms preprocess, 96.9ms inference, 0.7ms postprocess per image at shape (1, 3, 480, 640)\n",
      "\n"
     ]
    },
    {
     "name": "stdout",
     "output_type": "stream",
     "text": [
      "Confidence ---> 0.92\n",
      "Class name --> person\n",
      "Confidence ---> 0.6\n",
      "Class name --> person\n",
      "Confidence ---> 0.35\n",
      "Class name --> chair\n",
      "Confidence ---> 0.3\n",
      "Class name --> chair\n",
      "Confidence ---> 0.27\n",
      "Class name --> cup\n",
      "Confidence ---> 0.93\n",
      "Class name --> person\n",
      "Confidence ---> 0.78\n",
      "Class name --> person\n",
      "Confidence ---> 0.44\n",
      "Class name --> cup\n",
      "Confidence ---> 0.37\n",
      "Class name --> cell phone\n",
      "Confidence ---> 0.29\n",
      "Class name --> chair\n"
     ]
    },
    {
     "name": "stderr",
     "output_type": "stream",
     "text": [
      "0: 480x640 2 persons, 1 cup, 1 chair, 2 cell phones, 105.8ms\n",
      "Speed: 2.1ms preprocess, 105.8ms inference, 0.9ms postprocess per image at shape (1, 3, 480, 640)\n",
      "\n",
      "0: 480x640 2 persons, 1 cup, 2 chairs, 1 cell phone, 90.2ms\n",
      "Speed: 2.4ms preprocess, 90.2ms inference, 0.7ms postprocess per image at shape (1, 3, 480, 640)\n",
      "\n"
     ]
    },
    {
     "name": "stdout",
     "output_type": "stream",
     "text": [
      "Confidence ---> 0.94\n",
      "Class name --> person\n",
      "Confidence ---> 0.72\n",
      "Class name --> person\n",
      "Confidence ---> 0.43\n",
      "Class name --> cell phone\n",
      "Confidence ---> 0.42\n",
      "Class name --> chair\n",
      "Confidence ---> 0.34\n",
      "Class name --> cup\n",
      "Confidence ---> 0.31\n",
      "Class name --> cell phone\n",
      "Confidence ---> 0.93\n",
      "Class name --> person\n",
      "Confidence ---> 0.59\n",
      "Class name --> cup\n",
      "Confidence ---> 0.46\n",
      "Class name --> chair\n",
      "Confidence ---> 0.36\n",
      "Class name --> person\n",
      "Confidence ---> 0.3\n",
      "Class name --> cell phone\n",
      "Confidence ---> 0.28\n",
      "Class name --> chair\n"
     ]
    },
    {
     "name": "stderr",
     "output_type": "stream",
     "text": [
      "0: 480x640 2 persons, 1 cup, 2 chairs, 109.7ms\n",
      "Speed: 2.0ms preprocess, 109.7ms inference, 0.7ms postprocess per image at shape (1, 3, 480, 640)\n",
      "\n",
      "0: 480x640 3 persons, 1 cup, 1 chair, 1 cell phone, 92.8ms\n",
      "Speed: 2.0ms preprocess, 92.8ms inference, 0.7ms postprocess per image at shape (1, 3, 480, 640)\n",
      "\n"
     ]
    },
    {
     "name": "stdout",
     "output_type": "stream",
     "text": [
      "Confidence ---> 0.93\n",
      "Class name --> person\n",
      "Confidence ---> 0.57\n",
      "Class name --> cup\n",
      "Confidence ---> 0.43\n",
      "Class name --> chair\n",
      "Confidence ---> 0.34\n",
      "Class name --> person\n",
      "Confidence ---> 0.27\n",
      "Class name --> chair\n",
      "Confidence ---> 0.93\n",
      "Class name --> person\n",
      "Confidence ---> 0.46\n",
      "Class name --> cup\n",
      "Confidence ---> 0.45\n",
      "Class name --> chair\n",
      "Confidence ---> 0.4\n",
      "Class name --> person\n",
      "Confidence ---> 0.34\n",
      "Class name --> cell phone\n",
      "Confidence ---> 0.33\n",
      "Class name --> person\n"
     ]
    },
    {
     "name": "stderr",
     "output_type": "stream",
     "text": [
      "0: 480x640 2 persons, 1 cup, 1 chair, 103.8ms\n",
      "Speed: 2.0ms preprocess, 103.8ms inference, 0.7ms postprocess per image at shape (1, 3, 480, 640)\n",
      "\n",
      "0: 480x640 2 persons, 1 cup, 1 chair, 93.9ms\n",
      "Speed: 2.3ms preprocess, 93.9ms inference, 0.7ms postprocess per image at shape (1, 3, 480, 640)\n",
      "\n"
     ]
    },
    {
     "name": "stdout",
     "output_type": "stream",
     "text": [
      "Confidence ---> 0.93\n",
      "Class name --> person\n",
      "Confidence ---> 0.62\n",
      "Class name --> cup\n",
      "Confidence ---> 0.59\n",
      "Class name --> person\n",
      "Confidence ---> 0.42\n",
      "Class name --> chair\n",
      "Confidence ---> 0.92\n",
      "Class name --> person\n",
      "Confidence ---> 0.62\n",
      "Class name --> person\n",
      "Confidence ---> 0.59\n",
      "Class name --> cup\n",
      "Confidence ---> 0.46\n",
      "Class name --> chair\n"
     ]
    },
    {
     "name": "stderr",
     "output_type": "stream",
     "text": [
      "0: 480x640 2 persons, 1 cup, 1 chair, 109.7ms\n",
      "Speed: 2.1ms preprocess, 109.7ms inference, 0.7ms postprocess per image at shape (1, 3, 480, 640)\n",
      "\n",
      "0: 480x640 2 persons, 1 cup, 1 chair, 93.9ms\n",
      "Speed: 1.8ms preprocess, 93.9ms inference, 0.7ms postprocess per image at shape (1, 3, 480, 640)\n",
      "\n"
     ]
    },
    {
     "name": "stdout",
     "output_type": "stream",
     "text": [
      "Confidence ---> 0.92\n",
      "Class name --> person\n",
      "Confidence ---> 0.75\n",
      "Class name --> cup\n",
      "Confidence ---> 0.65\n",
      "Class name --> person\n",
      "Confidence ---> 0.54\n",
      "Class name --> chair\n",
      "Confidence ---> 0.94\n",
      "Class name --> person\n",
      "Confidence ---> 0.75\n",
      "Class name --> cup\n",
      "Confidence ---> 0.75\n",
      "Class name --> person\n",
      "Confidence ---> 0.57\n",
      "Class name --> chair\n"
     ]
    },
    {
     "name": "stderr",
     "output_type": "stream",
     "text": [
      "0: 480x640 2 persons, 1 cup, 1 chair, 106.3ms\n",
      "Speed: 2.1ms preprocess, 106.3ms inference, 0.7ms postprocess per image at shape (1, 3, 480, 640)\n",
      "\n",
      "0: 480x640 3 persons, 1 cup, 2 chairs, 113.4ms\n",
      "Speed: 31.7ms preprocess, 113.4ms inference, 0.7ms postprocess per image at shape (1, 3, 480, 640)\n"
     ]
    },
    {
     "name": "stdout",
     "output_type": "stream",
     "text": [
      "Confidence ---> 0.93\n",
      "Class name --> person\n",
      "Confidence ---> 0.71\n",
      "Class name --> cup\n",
      "Confidence ---> 0.67\n",
      "Class name --> person\n",
      "Confidence ---> 0.55\n",
      "Class name --> chair\n",
      "Confidence ---> 0.94\n",
      "Class name --> person\n",
      "Confidence ---> 0.56\n",
      "Class name --> cup\n",
      "Confidence ---> 0.47\n",
      "Class name --> chair\n",
      "Confidence ---> 0.36\n",
      "Class name --> person\n",
      "Confidence ---> 0.34\n",
      "Class name --> person\n",
      "Confidence ---> 0.28\n",
      "Class name --> chair\n"
     ]
    },
    {
     "name": "stderr",
     "output_type": "stream",
     "text": [
      "\n",
      "0: 480x640 2 persons, 1 cup, 2 chairs, 1 cell phone, 102.6ms\n",
      "Speed: 1.9ms preprocess, 102.6ms inference, 0.7ms postprocess per image at shape (1, 3, 480, 640)\n",
      "\n",
      "0: 480x640 2 persons, 1 chair, 94.9ms\n",
      "Speed: 2.0ms preprocess, 94.9ms inference, 0.9ms postprocess per image at shape (1, 3, 480, 640)\n",
      "\n"
     ]
    },
    {
     "name": "stdout",
     "output_type": "stream",
     "text": [
      "Confidence ---> 0.93\n",
      "Class name --> person\n",
      "Confidence ---> 0.54\n",
      "Class name --> chair\n",
      "Confidence ---> 0.5\n",
      "Class name --> person\n",
      "Confidence ---> 0.49\n",
      "Class name --> cup\n",
      "Confidence ---> 0.31\n",
      "Class name --> cell phone\n",
      "Confidence ---> 0.27\n",
      "Class name --> chair\n",
      "Confidence ---> 0.94\n",
      "Class name --> person\n",
      "Confidence ---> 0.48\n",
      "Class name --> chair\n",
      "Confidence ---> 0.39\n",
      "Class name --> person\n"
     ]
    },
    {
     "name": "stderr",
     "output_type": "stream",
     "text": [
      "0: 480x640 5 persons, 1 suitcase, 1 chair, 170.1ms\n",
      "Speed: 2.0ms preprocess, 170.1ms inference, 0.8ms postprocess per image at shape (1, 3, 480, 640)\n",
      "\n",
      "0: 480x640 1 person, 1 bottle, 97.5ms\n",
      "Speed: 6.9ms preprocess, 97.5ms inference, 0.7ms postprocess per image at shape (1, 3, 480, 640)\n",
      "\n"
     ]
    },
    {
     "name": "stdout",
     "output_type": "stream",
     "text": [
      "Confidence ---> 0.88\n",
      "Class name --> person\n",
      "Confidence ---> 0.57\n",
      "Class name --> person\n",
      "Confidence ---> 0.41\n",
      "Class name --> person\n",
      "Confidence ---> 0.33\n",
      "Class name --> person\n",
      "Confidence ---> 0.3\n",
      "Class name --> person\n",
      "Confidence ---> 0.29\n",
      "Class name --> chair\n",
      "Confidence ---> 0.28\n",
      "Class name --> suitcase\n",
      "Confidence ---> 0.41\n",
      "Class name --> bottle\n",
      "Confidence ---> 0.34\n",
      "Class name --> person\n"
     ]
    },
    {
     "name": "stderr",
     "output_type": "stream",
     "text": [
      "0: 480x640 1 person, 112.5ms\n",
      "Speed: 1.8ms preprocess, 112.5ms inference, 0.7ms postprocess per image at shape (1, 3, 480, 640)\n",
      "\n",
      "0: 480x640 1 chair, 92.4ms\n",
      "Speed: 2.5ms preprocess, 92.4ms inference, 0.7ms postprocess per image at shape (1, 3, 480, 640)\n",
      "\n"
     ]
    },
    {
     "name": "stdout",
     "output_type": "stream",
     "text": [
      "Confidence ---> 0.29\n",
      "Class name --> person\n",
      "Confidence ---> 0.34\n",
      "Class name --> chair\n"
     ]
    },
    {
     "name": "stderr",
     "output_type": "stream",
     "text": [
      "0: 480x640 2 persons, 1 cup, 104.2ms\n",
      "Speed: 2.1ms preprocess, 104.2ms inference, 0.7ms postprocess per image at shape (1, 3, 480, 640)\n",
      "\n",
      "0: 480x640 1 bowl, 94.8ms\n",
      "Speed: 2.0ms preprocess, 94.8ms inference, 0.8ms postprocess per image at shape (1, 3, 480, 640)\n",
      "\n"
     ]
    },
    {
     "name": "stdout",
     "output_type": "stream",
     "text": [
      "Confidence ---> 0.35\n",
      "Class name --> person\n",
      "Confidence ---> 0.34\n",
      "Class name --> cup\n",
      "Confidence ---> 0.3\n",
      "Class name --> person\n",
      "Confidence ---> 0.34\n",
      "Class name --> bowl\n"
     ]
    },
    {
     "name": "stderr",
     "output_type": "stream",
     "text": [
      "0: 480x640 (no detections), 106.6ms\n",
      "Speed: 2.0ms preprocess, 106.6ms inference, 0.5ms postprocess per image at shape (1, 3, 480, 640)\n",
      "\n",
      "0: 480x640 1 cup, 1 oven, 98.5ms\n",
      "Speed: 1.8ms preprocess, 98.5ms inference, 0.7ms postprocess per image at shape (1, 3, 480, 640)\n",
      "\n",
      "0: 480x640 1 person, 98.9ms\n",
      "Speed: 1.8ms preprocess, 98.9ms inference, 0.7ms postprocess per image at shape (1, 3, 480, 640)\n",
      "\n"
     ]
    },
    {
     "name": "stdout",
     "output_type": "stream",
     "text": [
      "Confidence ---> 0.47\n",
      "Class name --> cup\n",
      "Confidence ---> 0.29\n",
      "Class name --> oven\n",
      "Confidence ---> 0.75\n",
      "Class name --> person\n"
     ]
    },
    {
     "name": "stderr",
     "output_type": "stream",
     "text": [
      "0: 480x640 2 persons, 1 microwave, 126.4ms\n",
      "Speed: 1.8ms preprocess, 126.4ms inference, 0.7ms postprocess per image at shape (1, 3, 480, 640)\n",
      "\n",
      "0: 480x640 2 persons, 2 chairs, 1 dining table, 98.1ms\n",
      "Speed: 1.9ms preprocess, 98.1ms inference, 0.7ms postprocess per image at shape (1, 3, 480, 640)\n",
      "\n"
     ]
    },
    {
     "name": "stdout",
     "output_type": "stream",
     "text": [
      "Confidence ---> 0.79\n",
      "Class name --> person\n",
      "Confidence ---> 0.79\n",
      "Class name --> person\n",
      "Confidence ---> 0.37\n",
      "Class name --> microwave\n",
      "Confidence ---> 0.9\n",
      "Class name --> person\n",
      "Confidence ---> 0.86\n",
      "Class name --> person\n",
      "Confidence ---> 0.39\n",
      "Class name --> chair\n",
      "Confidence ---> 0.37\n",
      "Class name --> chair\n",
      "Confidence ---> 0.29\n",
      "Class name --> diningtable\n"
     ]
    },
    {
     "name": "stderr",
     "output_type": "stream",
     "text": [
      "0: 480x640 2 persons, 1 dining table, 111.1ms\n",
      "Speed: 1.7ms preprocess, 111.1ms inference, 0.7ms postprocess per image at shape (1, 3, 480, 640)\n",
      "\n",
      "0: 480x640 2 persons, 2 chairs, 1 dining table, 100.7ms\n",
      "Speed: 2.2ms preprocess, 100.7ms inference, 0.9ms postprocess per image at shape (1, 3, 480, 640)\n",
      "\n"
     ]
    },
    {
     "name": "stdout",
     "output_type": "stream",
     "text": [
      "Confidence ---> 0.92\n",
      "Class name --> person\n",
      "Confidence ---> 0.91\n",
      "Class name --> person\n",
      "Confidence ---> 0.35\n",
      "Class name --> diningtable\n",
      "Confidence ---> 0.91\n",
      "Class name --> person\n",
      "Confidence ---> 0.91\n",
      "Class name --> person\n",
      "Confidence ---> 0.48\n",
      "Class name --> chair\n",
      "Confidence ---> 0.43\n",
      "Class name --> diningtable\n",
      "Confidence ---> 0.35\n",
      "Class name --> chair\n"
     ]
    },
    {
     "name": "stderr",
     "output_type": "stream",
     "text": [
      "0: 480x640 2 persons, 3 chairs, 1 dining table, 107.1ms\n",
      "Speed: 1.7ms preprocess, 107.1ms inference, 0.8ms postprocess per image at shape (1, 3, 480, 640)\n",
      "\n",
      "0: 480x640 2 persons, 1 chair, 157.3ms\n",
      "Speed: 2.1ms preprocess, 157.3ms inference, 0.7ms postprocess per image at shape (1, 3, 480, 640)\n"
     ]
    },
    {
     "name": "stdout",
     "output_type": "stream",
     "text": [
      "Confidence ---> 0.9\n",
      "Class name --> person\n",
      "Confidence ---> 0.88\n",
      "Class name --> person\n",
      "Confidence ---> 0.48\n",
      "Class name --> chair\n",
      "Confidence ---> 0.37\n",
      "Class name --> diningtable\n",
      "Confidence ---> 0.31\n",
      "Class name --> chair\n",
      "Confidence ---> 0.28\n",
      "Class name --> chair\n",
      "Confidence ---> 0.89\n",
      "Class name --> person\n",
      "Confidence ---> 0.86\n",
      "Class name --> person\n",
      "Confidence ---> 0.32\n",
      "Class name --> chair\n"
     ]
    },
    {
     "name": "stderr",
     "output_type": "stream",
     "text": [
      "\n",
      "0: 480x640 2 persons, 1 chair, 120.9ms\n",
      "Speed: 1.9ms preprocess, 120.9ms inference, 0.8ms postprocess per image at shape (1, 3, 480, 640)\n",
      "\n",
      "0: 480x640 2 persons, 2 chairs, 1 dining table, 94.4ms\n",
      "Speed: 1.7ms preprocess, 94.4ms inference, 0.7ms postprocess per image at shape (1, 3, 480, 640)\n",
      "\n"
     ]
    },
    {
     "name": "stdout",
     "output_type": "stream",
     "text": [
      "Confidence ---> 0.88\n",
      "Class name --> person\n",
      "Confidence ---> 0.87\n",
      "Class name --> person\n",
      "Confidence ---> 0.32\n",
      "Class name --> chair\n",
      "Confidence ---> 0.9\n",
      "Class name --> person\n",
      "Confidence ---> 0.88\n",
      "Class name --> person\n",
      "Confidence ---> 0.38\n",
      "Class name --> chair\n",
      "Confidence ---> 0.34\n",
      "Class name --> chair\n",
      "Confidence ---> 0.31\n",
      "Class name --> diningtable\n"
     ]
    },
    {
     "name": "stderr",
     "output_type": "stream",
     "text": [
      "0: 480x640 2 persons, 3 chairs, 1 dining table, 106.5ms\n",
      "Speed: 1.9ms preprocess, 106.5ms inference, 0.8ms postprocess per image at shape (1, 3, 480, 640)\n",
      "\n",
      "0: 480x640 2 persons, 1 chair, 94.2ms\n",
      "Speed: 2.5ms preprocess, 94.2ms inference, 0.9ms postprocess per image at shape (1, 3, 480, 640)\n",
      "\n"
     ]
    },
    {
     "name": "stdout",
     "output_type": "stream",
     "text": [
      "Confidence ---> 0.9\n",
      "Class name --> person\n",
      "Confidence ---> 0.87\n",
      "Class name --> person\n",
      "Confidence ---> 0.36\n",
      "Class name --> chair\n",
      "Confidence ---> 0.34\n",
      "Class name --> chair\n",
      "Confidence ---> 0.31\n",
      "Class name --> diningtable\n",
      "Confidence ---> 0.3\n",
      "Class name --> chair\n",
      "Confidence ---> 0.79\n",
      "Class name --> person\n",
      "Confidence ---> 0.79\n",
      "Class name --> person\n",
      "Confidence ---> 0.53\n",
      "Class name --> chair\n"
     ]
    },
    {
     "name": "stderr",
     "output_type": "stream",
     "text": [
      "0: 480x640 3 persons, 2 chairs, 1 couch, 1 dining table, 107.3ms\n",
      "Speed: 1.7ms preprocess, 107.3ms inference, 0.7ms postprocess per image at shape (1, 3, 480, 640)\n",
      "\n",
      "0: 480x640 2 persons, 2 chairs, 1 dining table, 95.5ms\n",
      "Speed: 2.0ms preprocess, 95.5ms inference, 0.8ms postprocess per image at shape (1, 3, 480, 640)\n",
      "\n"
     ]
    },
    {
     "name": "stdout",
     "output_type": "stream",
     "text": [
      "Confidence ---> 0.86\n",
      "Class name --> person\n",
      "Confidence ---> 0.64\n",
      "Class name --> chair\n",
      "Confidence ---> 0.53\n",
      "Class name --> person\n",
      "Confidence ---> 0.47\n",
      "Class name --> sofa\n",
      "Confidence ---> 0.46\n",
      "Class name --> diningtable\n",
      "Confidence ---> 0.38\n",
      "Class name --> person\n",
      "Confidence ---> 0.35\n",
      "Class name --> chair\n",
      "Confidence ---> 0.76\n",
      "Class name --> person\n",
      "Confidence ---> 0.73\n",
      "Class name --> person\n",
      "Confidence ---> 0.38\n",
      "Class name --> chair\n",
      "Confidence ---> 0.36\n",
      "Class name --> diningtable\n",
      "Confidence ---> 0.26\n",
      "Class name --> chair\n"
     ]
    },
    {
     "name": "stderr",
     "output_type": "stream",
     "text": [
      "0: 480x640 2 persons, 1 chair, 1 dining table, 123.9ms\n",
      "Speed: 1.8ms preprocess, 123.9ms inference, 0.7ms postprocess per image at shape (1, 3, 480, 640)\n",
      "\n",
      "0: 480x640 2 persons, 2 chairs, 1 couch, 1 dining table, 96.7ms\n",
      "Speed: 1.8ms preprocess, 96.7ms inference, 0.7ms postprocess per image at shape (1, 3, 480, 640)\n",
      "\n"
     ]
    },
    {
     "name": "stdout",
     "output_type": "stream",
     "text": [
      "Confidence ---> 0.91\n",
      "Class name --> person\n",
      "Confidence ---> 0.81\n",
      "Class name --> person\n",
      "Confidence ---> 0.68\n",
      "Class name --> diningtable\n",
      "Confidence ---> 0.58\n",
      "Class name --> chair\n",
      "Confidence ---> 0.91\n",
      "Class name --> person\n",
      "Confidence ---> 0.69\n",
      "Class name --> chair\n",
      "Confidence ---> 0.63\n",
      "Class name --> person\n",
      "Confidence ---> 0.62\n",
      "Class name --> diningtable\n",
      "Confidence ---> 0.31\n",
      "Class name --> chair\n",
      "Confidence ---> 0.28\n",
      "Class name --> sofa\n"
     ]
    },
    {
     "name": "stderr",
     "output_type": "stream",
     "text": [
      "0: 480x640 2 persons, 3 chairs, 1 dining table, 119.2ms\n",
      "Speed: 1.7ms preprocess, 119.2ms inference, 1.0ms postprocess per image at shape (1, 3, 480, 640)\n",
      "\n",
      "0: 480x640 2 persons, 3 chairs, 1 couch, 1 dining table, 97.5ms\n",
      "Speed: 1.7ms preprocess, 97.5ms inference, 0.7ms postprocess per image at shape (1, 3, 480, 640)\n",
      "\n"
     ]
    },
    {
     "name": "stdout",
     "output_type": "stream",
     "text": [
      "Confidence ---> 0.92\n",
      "Class name --> person\n",
      "Confidence ---> 0.75\n",
      "Class name --> person\n",
      "Confidence ---> 0.69\n",
      "Class name --> diningtable\n",
      "Confidence ---> 0.58\n",
      "Class name --> chair\n",
      "Confidence ---> 0.38\n",
      "Class name --> chair\n",
      "Confidence ---> 0.32\n",
      "Class name --> chair\n",
      "Confidence ---> 0.91\n",
      "Class name --> person\n",
      "Confidence ---> 0.7\n",
      "Class name --> diningtable\n",
      "Confidence ---> 0.53\n",
      "Class name --> chair\n",
      "Confidence ---> 0.49\n",
      "Class name --> person\n",
      "Confidence ---> 0.36\n",
      "Class name --> sofa\n",
      "Confidence ---> 0.35\n",
      "Class name --> chair\n",
      "Confidence ---> 0.32\n",
      "Class name --> chair\n"
     ]
    },
    {
     "name": "stderr",
     "output_type": "stream",
     "text": [
      "0: 480x640 2 persons, 4 chairs, 1 dining table, 113.7ms\n",
      "Speed: 1.7ms preprocess, 113.7ms inference, 0.7ms postprocess per image at shape (1, 3, 480, 640)\n",
      "\n",
      "0: 480x640 2 persons, 4 chairs, 1 dining table, 96.8ms\n",
      "Speed: 1.8ms preprocess, 96.8ms inference, 0.8ms postprocess per image at shape (1, 3, 480, 640)\n",
      "\n"
     ]
    },
    {
     "name": "stdout",
     "output_type": "stream",
     "text": [
      "Confidence ---> 0.92\n",
      "Class name --> person\n",
      "Confidence ---> 0.74\n",
      "Class name --> person\n",
      "Confidence ---> 0.73\n",
      "Class name --> diningtable\n",
      "Confidence ---> 0.63\n",
      "Class name --> chair\n",
      "Confidence ---> 0.37\n",
      "Class name --> chair\n",
      "Confidence ---> 0.34\n",
      "Class name --> chair\n",
      "Confidence ---> 0.34\n",
      "Class name --> chair\n",
      "Confidence ---> 0.92\n",
      "Class name --> person\n",
      "Confidence ---> 0.74\n",
      "Class name --> diningtable\n",
      "Confidence ---> 0.7\n",
      "Class name --> chair\n",
      "Confidence ---> 0.64\n",
      "Class name --> person\n",
      "Confidence ---> 0.37\n",
      "Class name --> chair\n",
      "Confidence ---> 0.3\n",
      "Class name --> chair\n",
      "Confidence ---> 0.3\n",
      "Class name --> chair\n"
     ]
    },
    {
     "name": "stderr",
     "output_type": "stream",
     "text": [
      "0: 480x640 2 persons, 4 chairs, 1 dining table, 107.5ms\n",
      "Speed: 1.7ms preprocess, 107.5ms inference, 0.7ms postprocess per image at shape (1, 3, 480, 640)\n",
      "\n",
      "0: 480x640 2 persons, 4 chairs, 1 dining table, 98.6ms\n",
      "Speed: 2.0ms preprocess, 98.6ms inference, 0.7ms postprocess per image at shape (1, 3, 480, 640)\n",
      "\n"
     ]
    },
    {
     "name": "stdout",
     "output_type": "stream",
     "text": [
      "Confidence ---> 0.92\n",
      "Class name --> person\n",
      "Confidence ---> 0.73\n",
      "Class name --> diningtable\n",
      "Confidence ---> 0.69\n",
      "Class name --> chair\n",
      "Confidence ---> 0.55\n",
      "Class name --> person\n",
      "Confidence ---> 0.34\n",
      "Class name --> chair\n",
      "Confidence ---> 0.33\n",
      "Class name --> chair\n",
      "Confidence ---> 0.32\n",
      "Class name --> chair\n",
      "Confidence ---> 0.92\n",
      "Class name --> person\n",
      "Confidence ---> 0.74\n",
      "Class name --> diningtable\n",
      "Confidence ---> 0.59\n",
      "Class name --> person\n",
      "Confidence ---> 0.53\n",
      "Class name --> chair\n",
      "Confidence ---> 0.45\n",
      "Class name --> chair\n",
      "Confidence ---> 0.37\n",
      "Class name --> chair\n",
      "Confidence ---> 0.28\n",
      "Class name --> chair\n"
     ]
    },
    {
     "name": "stderr",
     "output_type": "stream",
     "text": [
      "0: 480x640 2 persons, 4 chairs, 1 dining table, 108.8ms\n",
      "Speed: 1.7ms preprocess, 108.8ms inference, 0.8ms postprocess per image at shape (1, 3, 480, 640)\n",
      "\n",
      "0: 480x640 2 persons, 4 chairs, 1 couch, 1 dining table, 113.2ms\n",
      "Speed: 14.9ms preprocess, 113.2ms inference, 0.8ms postprocess per image at shape (1, 3, 480, 640)\n"
     ]
    },
    {
     "name": "stdout",
     "output_type": "stream",
     "text": [
      "Confidence ---> 0.92\n",
      "Class name --> person\n",
      "Confidence ---> 0.75\n",
      "Class name --> diningtable\n",
      "Confidence ---> 0.6\n",
      "Class name --> chair\n",
      "Confidence ---> 0.53\n",
      "Class name --> person\n",
      "Confidence ---> 0.51\n",
      "Class name --> chair\n",
      "Confidence ---> 0.41\n",
      "Class name --> chair\n",
      "Confidence ---> 0.36\n",
      "Class name --> chair\n",
      "Confidence ---> 0.92\n",
      "Class name --> person\n",
      "Confidence ---> 0.74\n",
      "Class name --> diningtable\n",
      "Confidence ---> 0.57\n",
      "Class name --> chair\n",
      "Confidence ---> 0.4\n",
      "Class name --> chair\n",
      "Confidence ---> 0.37\n",
      "Class name --> chair\n",
      "Confidence ---> 0.34\n",
      "Class name --> chair\n",
      "Confidence ---> 0.31\n",
      "Class name --> sofa\n",
      "Confidence ---> 0.3\n",
      "Class name --> person\n"
     ]
    },
    {
     "name": "stderr",
     "output_type": "stream",
     "text": [
      "\n",
      "0: 480x640 2 persons, 2 chairs, 1 dining table, 101.1ms\n",
      "Speed: 1.9ms preprocess, 101.1ms inference, 0.7ms postprocess per image at shape (1, 3, 480, 640)\n",
      "\n",
      "0: 480x640 2 persons, 1 chair, 1 dining table, 95.1ms\n",
      "Speed: 1.8ms preprocess, 95.1ms inference, 0.8ms postprocess per image at shape (1, 3, 480, 640)\n",
      "\n"
     ]
    },
    {
     "name": "stdout",
     "output_type": "stream",
     "text": [
      "Confidence ---> 0.93\n",
      "Class name --> person\n",
      "Confidence ---> 0.68\n",
      "Class name --> diningtable\n",
      "Confidence ---> 0.59\n",
      "Class name --> person\n",
      "Confidence ---> 0.54\n",
      "Class name --> chair\n",
      "Confidence ---> 0.35\n",
      "Class name --> chair\n",
      "Confidence ---> 0.93\n",
      "Class name --> person\n",
      "Confidence ---> 0.71\n",
      "Class name --> diningtable\n",
      "Confidence ---> 0.66\n",
      "Class name --> chair\n",
      "Confidence ---> 0.64\n",
      "Class name --> person\n"
     ]
    },
    {
     "name": "stderr",
     "output_type": "stream",
     "text": [
      "0: 480x640 2 persons, 1 chair, 1 dining table, 113.5ms\n",
      "Speed: 1.7ms preprocess, 113.5ms inference, 0.7ms postprocess per image at shape (1, 3, 480, 640)\n",
      "\n",
      "0: 480x640 2 persons, 2 chairs, 1 dining table, 98.8ms\n",
      "Speed: 2.1ms preprocess, 98.8ms inference, 0.9ms postprocess per image at shape (1, 3, 480, 640)\n",
      "\n"
     ]
    },
    {
     "name": "stdout",
     "output_type": "stream",
     "text": [
      "Confidence ---> 0.92\n",
      "Class name --> person\n",
      "Confidence ---> 0.76\n",
      "Class name --> person\n",
      "Confidence ---> 0.73\n",
      "Class name --> diningtable\n",
      "Confidence ---> 0.61\n",
      "Class name --> chair\n",
      "Confidence ---> 0.93\n",
      "Class name --> person\n",
      "Confidence ---> 0.75\n",
      "Class name --> diningtable\n",
      "Confidence ---> 0.73\n",
      "Class name --> person\n",
      "Confidence ---> 0.55\n",
      "Class name --> chair\n",
      "Confidence ---> 0.27\n",
      "Class name --> chair\n"
     ]
    },
    {
     "name": "stderr",
     "output_type": "stream",
     "text": [
      "0: 480x640 2 persons, 2 chairs, 1 couch, 1 dining table, 109.5ms\n",
      "Speed: 1.8ms preprocess, 109.5ms inference, 0.7ms postprocess per image at shape (1, 3, 480, 640)\n",
      "\n",
      "0: 480x640 2 persons, 1 chair, 1 dining table, 94.3ms\n",
      "Speed: 1.7ms preprocess, 94.3ms inference, 0.8ms postprocess per image at shape (1, 3, 480, 640)\n",
      "\n"
     ]
    },
    {
     "name": "stdout",
     "output_type": "stream",
     "text": [
      "Confidence ---> 0.93\n",
      "Class name --> person\n",
      "Confidence ---> 0.76\n",
      "Class name --> diningtable\n",
      "Confidence ---> 0.56\n",
      "Class name --> chair\n",
      "Confidence ---> 0.56\n",
      "Class name --> person\n",
      "Confidence ---> 0.36\n",
      "Class name --> sofa\n",
      "Confidence ---> 0.27\n",
      "Class name --> chair\n",
      "Confidence ---> 0.93\n",
      "Class name --> person\n",
      "Confidence ---> 0.75\n",
      "Class name --> diningtable\n",
      "Confidence ---> 0.69\n",
      "Class name --> person\n",
      "Confidence ---> 0.49\n",
      "Class name --> chair\n"
     ]
    },
    {
     "name": "stderr",
     "output_type": "stream",
     "text": [
      "0: 480x640 2 persons, 1 chair, 1 couch, 1 dining table, 107.7ms\n",
      "Speed: 1.8ms preprocess, 107.7ms inference, 0.7ms postprocess per image at shape (1, 3, 480, 640)\n",
      "\n",
      "0: 480x640 2 persons, 1 chair, 1 couch, 1 dining table, 95.6ms\n",
      "Speed: 2.0ms preprocess, 95.6ms inference, 0.8ms postprocess per image at shape (1, 3, 480, 640)\n",
      "\n"
     ]
    },
    {
     "name": "stdout",
     "output_type": "stream",
     "text": [
      "Confidence ---> 0.93\n",
      "Class name --> person\n",
      "Confidence ---> 0.7\n",
      "Class name --> diningtable\n",
      "Confidence ---> 0.63\n",
      "Class name --> person\n",
      "Confidence ---> 0.6\n",
      "Class name --> chair\n",
      "Confidence ---> 0.31\n",
      "Class name --> sofa\n",
      "Confidence ---> 0.93\n",
      "Class name --> person\n",
      "Confidence ---> 0.75\n",
      "Class name --> diningtable\n",
      "Confidence ---> 0.61\n",
      "Class name --> person\n",
      "Confidence ---> 0.6\n",
      "Class name --> chair\n",
      "Confidence ---> 0.3\n",
      "Class name --> sofa\n"
     ]
    },
    {
     "name": "stderr",
     "output_type": "stream",
     "text": [
      "0: 480x640 2 persons, 2 chairs, 1 dining table, 109.2ms\n",
      "Speed: 1.7ms preprocess, 109.2ms inference, 0.7ms postprocess per image at shape (1, 3, 480, 640)\n",
      "\n",
      "0: 480x640 2 persons, 1 dining table, 94.4ms\n",
      "Speed: 1.8ms preprocess, 94.4ms inference, 0.7ms postprocess per image at shape (1, 3, 480, 640)\n",
      "\n"
     ]
    },
    {
     "name": "stdout",
     "output_type": "stream",
     "text": [
      "Confidence ---> 0.93\n",
      "Class name --> person\n",
      "Confidence ---> 0.76\n",
      "Class name --> person\n",
      "Confidence ---> 0.74\n",
      "Class name --> diningtable\n",
      "Confidence ---> 0.58\n",
      "Class name --> chair\n",
      "Confidence ---> 0.36\n",
      "Class name --> chair\n",
      "Confidence ---> 0.92\n",
      "Class name --> person\n",
      "Confidence ---> 0.8\n",
      "Class name --> person\n",
      "Confidence ---> 0.61\n",
      "Class name --> diningtable\n"
     ]
    },
    {
     "name": "stderr",
     "output_type": "stream",
     "text": [
      "0: 480x640 2 persons, 1 chair, 1 dining table, 238.7ms\n",
      "Speed: 1.7ms preprocess, 238.7ms inference, 0.8ms postprocess per image at shape (1, 3, 480, 640)\n",
      "\n",
      "0: 480x640 2 persons, 1 chair, 1 dining table, 137.3ms\n",
      "Speed: 6.0ms preprocess, 137.3ms inference, 1.0ms postprocess per image at shape (1, 3, 480, 640)\n"
     ]
    },
    {
     "name": "stdout",
     "output_type": "stream",
     "text": [
      "Confidence ---> 0.93\n",
      "Class name --> person\n",
      "Confidence ---> 0.78\n",
      "Class name --> person\n",
      "Confidence ---> 0.71\n",
      "Class name --> chair\n",
      "Confidence ---> 0.55\n",
      "Class name --> diningtable\n",
      "Confidence ---> 0.94\n",
      "Class name --> person\n",
      "Confidence ---> 0.83\n",
      "Class name --> chair\n",
      "Confidence ---> 0.64\n",
      "Class name --> diningtable\n",
      "Confidence ---> 0.32\n",
      "Class name --> person\n"
     ]
    },
    {
     "name": "stderr",
     "output_type": "stream",
     "text": [
      "\n",
      "0: 480x640 2 persons, 1 chair, 1 dining table, 105.9ms\n",
      "Speed: 2.2ms preprocess, 105.9ms inference, 0.7ms postprocess per image at shape (1, 3, 480, 640)\n",
      "\n",
      "0: 480x640 2 persons, 1 chair, 1 dining table, 105.4ms\n",
      "Speed: 1.9ms preprocess, 105.4ms inference, 0.9ms postprocess per image at shape (1, 3, 480, 640)\n",
      "\n"
     ]
    },
    {
     "name": "stdout",
     "output_type": "stream",
     "text": [
      "Confidence ---> 0.92\n",
      "Class name --> person\n",
      "Confidence ---> 0.74\n",
      "Class name --> person\n",
      "Confidence ---> 0.72\n",
      "Class name --> chair\n",
      "Confidence ---> 0.62\n",
      "Class name --> diningtable\n",
      "Confidence ---> 0.93\n",
      "Class name --> person\n",
      "Confidence ---> 0.75\n",
      "Class name --> chair\n",
      "Confidence ---> 0.75\n",
      "Class name --> person\n",
      "Confidence ---> 0.65\n",
      "Class name --> diningtable\n"
     ]
    },
    {
     "name": "stderr",
     "output_type": "stream",
     "text": [
      "0: 480x640 2 persons, 1 chair, 1 dining table, 122.8ms\n",
      "Speed: 1.9ms preprocess, 122.8ms inference, 0.7ms postprocess per image at shape (1, 3, 480, 640)\n",
      "\n",
      "0: 480x640 2 persons, 1 chair, 1 dining table, 98.1ms\n",
      "Speed: 1.7ms preprocess, 98.1ms inference, 0.7ms postprocess per image at shape (1, 3, 480, 640)\n",
      "\n"
     ]
    },
    {
     "name": "stdout",
     "output_type": "stream",
     "text": [
      "Confidence ---> 0.93\n",
      "Class name --> person\n",
      "Confidence ---> 0.75\n",
      "Class name --> chair\n",
      "Confidence ---> 0.75\n",
      "Class name --> person\n",
      "Confidence ---> 0.63\n",
      "Class name --> diningtable\n",
      "Confidence ---> 0.93\n",
      "Class name --> person\n",
      "Confidence ---> 0.81\n",
      "Class name --> person\n",
      "Confidence ---> 0.76\n",
      "Class name --> chair\n",
      "Confidence ---> 0.61\n",
      "Class name --> diningtable\n"
     ]
    },
    {
     "name": "stderr",
     "output_type": "stream",
     "text": [
      "0: 480x640 2 persons, 1 chair, 1 dining table, 113.3ms\n",
      "Speed: 1.7ms preprocess, 113.3ms inference, 0.7ms postprocess per image at shape (1, 3, 480, 640)\n",
      "\n"
     ]
    },
    {
     "name": "stdout",
     "output_type": "stream",
     "text": [
      "Confidence ---> 0.93\n",
      "Class name --> person\n",
      "Confidence ---> 0.8\n",
      "Class name --> person\n",
      "Confidence ---> 0.77\n",
      "Class name --> chair\n",
      "Confidence ---> 0.63\n",
      "Class name --> diningtable\n"
     ]
    },
    {
     "name": "stderr",
     "output_type": "stream",
     "text": [
      "0: 480x640 2 persons, 1 chair, 1 dining table, 148.6ms\n",
      "Speed: 1.7ms preprocess, 148.6ms inference, 0.7ms postprocess per image at shape (1, 3, 480, 640)\n",
      "\n",
      "0: 480x640 2 persons, 1 chair, 1 dining table, 98.2ms\n",
      "Speed: 1.8ms preprocess, 98.2ms inference, 0.7ms postprocess per image at shape (1, 3, 480, 640)\n",
      "\n"
     ]
    },
    {
     "name": "stdout",
     "output_type": "stream",
     "text": [
      "Confidence ---> 0.93\n",
      "Class name --> person\n",
      "Confidence ---> 0.8\n",
      "Class name --> person\n",
      "Confidence ---> 0.71\n",
      "Class name --> chair\n",
      "Confidence ---> 0.61\n",
      "Class name --> diningtable\n",
      "Confidence ---> 0.94\n",
      "Class name --> person\n",
      "Confidence ---> 0.87\n",
      "Class name --> person\n",
      "Confidence ---> 0.69\n",
      "Class name --> chair\n",
      "Confidence ---> 0.61\n",
      "Class name --> diningtable\n"
     ]
    },
    {
     "name": "stderr",
     "output_type": "stream",
     "text": [
      "0: 480x640 2 persons, 1 chair, 1 dining table, 121.1ms\n",
      "Speed: 1.8ms preprocess, 121.1ms inference, 1.0ms postprocess per image at shape (1, 3, 480, 640)\n",
      "\n"
     ]
    },
    {
     "name": "stdout",
     "output_type": "stream",
     "text": [
      "Confidence ---> 0.93\n",
      "Class name --> person\n",
      "Confidence ---> 0.87\n",
      "Class name --> person\n",
      "Confidence ---> 0.67\n",
      "Class name --> chair\n",
      "Confidence ---> 0.59\n",
      "Class name --> diningtable\n",
      "Confidence ---> 0.92\n",
      "Class name --> person\n",
      "Confidence ---> 0.88\n",
      "Class name --> person\n",
      "Confidence ---> 0.6\n",
      "Class name --> chair\n",
      "Confidence ---> 0.57\n",
      "Class name --> diningtable\n"
     ]
    },
    {
     "name": "stderr",
     "output_type": "stream",
     "text": [
      "0: 480x640 2 persons, 1 chair, 1 dining table, 148.2ms\n",
      "Speed: 2.1ms preprocess, 148.2ms inference, 1.0ms postprocess per image at shape (1, 3, 480, 640)\n",
      "\n",
      "0: 480x640 2 persons, 1 chair, 1 dining table, 108.5ms\n",
      "Speed: 1.8ms preprocess, 108.5ms inference, 0.9ms postprocess per image at shape (1, 3, 480, 640)\n",
      "\n",
      "0: 480x640 2 persons, 1 chair, 1 dining table, 100.6ms\n",
      "Speed: 1.7ms preprocess, 100.6ms inference, 0.7ms postprocess per image at shape (1, 3, 480, 640)\n",
      "\n"
     ]
    },
    {
     "name": "stdout",
     "output_type": "stream",
     "text": [
      "Confidence ---> 0.93\n",
      "Class name --> person\n",
      "Confidence ---> 0.87\n",
      "Class name --> person\n",
      "Confidence ---> 0.66\n",
      "Class name --> chair\n",
      "Confidence ---> 0.57\n",
      "Class name --> diningtable\n",
      "Confidence ---> 0.92\n",
      "Class name --> person\n",
      "Confidence ---> 0.88\n",
      "Class name --> person\n",
      "Confidence ---> 0.58\n",
      "Class name --> diningtable\n",
      "Confidence ---> 0.51\n",
      "Class name --> chair\n"
     ]
    },
    {
     "name": "stderr",
     "output_type": "stream",
     "text": [
      "0: 480x640 2 persons, 2 chairs, 1 dining table, 112.6ms\n",
      "Speed: 1.7ms preprocess, 112.6ms inference, 0.8ms postprocess per image at shape (1, 3, 480, 640)\n",
      "\n",
      "0: 480x640 2 persons, 1 chair, 1 dining table, 100.2ms\n",
      "Speed: 1.8ms preprocess, 100.2ms inference, 0.7ms postprocess per image at shape (1, 3, 480, 640)\n",
      "\n"
     ]
    },
    {
     "name": "stdout",
     "output_type": "stream",
     "text": [
      "Confidence ---> 0.91\n",
      "Class name --> person\n",
      "Confidence ---> 0.88\n",
      "Class name --> person\n",
      "Confidence ---> 0.54\n",
      "Class name --> diningtable\n",
      "Confidence ---> 0.4\n",
      "Class name --> chair\n",
      "Confidence ---> 0.34\n",
      "Class name --> chair\n",
      "Confidence ---> 0.88\n",
      "Class name --> person\n",
      "Confidence ---> 0.87\n",
      "Class name --> person\n",
      "Confidence ---> 0.47\n",
      "Class name --> diningtable\n",
      "Confidence ---> 0.46\n",
      "Class name --> chair\n"
     ]
    },
    {
     "name": "stderr",
     "output_type": "stream",
     "text": [
      "0: 480x640 2 persons, 1 chair, 1 dining table, 108.3ms\n",
      "Speed: 1.7ms preprocess, 108.3ms inference, 0.7ms postprocess per image at shape (1, 3, 480, 640)\n",
      "\n",
      "0: 480x640 2 persons, 1 chair, 1 dining table, 98.7ms\n",
      "Speed: 1.9ms preprocess, 98.7ms inference, 0.8ms postprocess per image at shape (1, 3, 480, 640)\n",
      "\n"
     ]
    },
    {
     "name": "stdout",
     "output_type": "stream",
     "text": [
      "Confidence ---> 0.88\n",
      "Class name --> person\n",
      "Confidence ---> 0.85\n",
      "Class name --> person\n",
      "Confidence ---> 0.42\n",
      "Class name --> diningtable\n",
      "Confidence ---> 0.38\n",
      "Class name --> chair\n",
      "Confidence ---> 0.89\n",
      "Class name --> person\n",
      "Confidence ---> 0.84\n",
      "Class name --> person\n",
      "Confidence ---> 0.45\n",
      "Class name --> diningtable\n",
      "Confidence ---> 0.28\n",
      "Class name --> chair\n"
     ]
    },
    {
     "name": "stderr",
     "output_type": "stream",
     "text": [
      "0: 480x640 2 persons, 2 chairs, 1 dining table, 108.4ms\n",
      "Speed: 1.7ms preprocess, 108.4ms inference, 0.7ms postprocess per image at shape (1, 3, 480, 640)\n",
      "\n",
      "0: 480x640 2 persons, 1 chair, 1 dining table, 97.6ms\n",
      "Speed: 1.8ms preprocess, 97.6ms inference, 0.7ms postprocess per image at shape (1, 3, 480, 640)\n",
      "\n"
     ]
    },
    {
     "name": "stdout",
     "output_type": "stream",
     "text": [
      "Confidence ---> 0.88\n",
      "Class name --> person\n",
      "Confidence ---> 0.85\n",
      "Class name --> person\n",
      "Confidence ---> 0.48\n",
      "Class name --> diningtable\n",
      "Confidence ---> 0.43\n",
      "Class name --> chair\n",
      "Confidence ---> 0.27\n",
      "Class name --> chair\n",
      "Confidence ---> 0.87\n",
      "Class name --> person\n",
      "Confidence ---> 0.83\n",
      "Class name --> person\n",
      "Confidence ---> 0.38\n",
      "Class name --> diningtable\n",
      "Confidence ---> 0.31\n",
      "Class name --> chair\n"
     ]
    },
    {
     "name": "stderr",
     "output_type": "stream",
     "text": [
      "0: 480x640 2 persons, 1 chair, 1 dining table, 110.7ms\n",
      "Speed: 1.8ms preprocess, 110.7ms inference, 0.8ms postprocess per image at shape (1, 3, 480, 640)\n",
      "\n",
      "0: 480x640 2 persons, 2 chairs, 1 couch, 1 dining table, 99.2ms\n",
      "Speed: 1.9ms preprocess, 99.2ms inference, 0.7ms postprocess per image at shape (1, 3, 480, 640)\n",
      "\n"
     ]
    },
    {
     "name": "stdout",
     "output_type": "stream",
     "text": [
      "Confidence ---> 0.86\n",
      "Class name --> person\n",
      "Confidence ---> 0.83\n",
      "Class name --> person\n",
      "Confidence ---> 0.43\n",
      "Class name --> diningtable\n",
      "Confidence ---> 0.36\n",
      "Class name --> chair\n",
      "Confidence ---> 0.89\n",
      "Class name --> person\n",
      "Confidence ---> 0.62\n",
      "Class name --> person\n",
      "Confidence ---> 0.43\n",
      "Class name --> chair\n",
      "Confidence ---> 0.42\n",
      "Class name --> diningtable\n",
      "Confidence ---> 0.34\n",
      "Class name --> sofa\n",
      "Confidence ---> 0.27\n",
      "Class name --> chair\n"
     ]
    },
    {
     "name": "stderr",
     "output_type": "stream",
     "text": [
      "0: 480x640 2 persons, 1 chair, 1 couch, 1 dining table, 111.1ms\n",
      "Speed: 1.7ms preprocess, 111.1ms inference, 0.7ms postprocess per image at shape (1, 3, 480, 640)\n",
      "\n",
      "0: 480x640 1 person, 1 chair, 1 couch, 1 bed, 1 dining table, 98.6ms\n",
      "Speed: 1.8ms preprocess, 98.6ms inference, 0.7ms postprocess per image at shape (1, 3, 480, 640)\n",
      "\n"
     ]
    },
    {
     "name": "stdout",
     "output_type": "stream",
     "text": [
      "Confidence ---> 0.88\n",
      "Class name --> person\n",
      "Confidence ---> 0.55\n",
      "Class name --> chair\n",
      "Confidence ---> 0.44\n",
      "Class name --> diningtable\n",
      "Confidence ---> 0.41\n",
      "Class name --> person\n",
      "Confidence ---> 0.35\n",
      "Class name --> sofa\n",
      "Confidence ---> 0.78\n",
      "Class name --> person\n",
      "Confidence ---> 0.59\n",
      "Class name --> sofa\n",
      "Confidence ---> 0.51\n",
      "Class name --> bed\n",
      "Confidence ---> 0.43\n",
      "Class name --> chair\n",
      "Confidence ---> 0.36\n",
      "Class name --> diningtable\n"
     ]
    },
    {
     "name": "stderr",
     "output_type": "stream",
     "text": [
      "0: 480x640 1 person, 1 chair, 1 couch, 1 dining table, 107.9ms\n",
      "Speed: 1.9ms preprocess, 107.9ms inference, 0.7ms postprocess per image at shape (1, 3, 480, 640)\n",
      "\n",
      "0: 480x640 1 person, 1 chair, 1 couch, 1 dining table, 98.3ms\n",
      "Speed: 1.8ms preprocess, 98.3ms inference, 0.7ms postprocess per image at shape (1, 3, 480, 640)\n",
      "\n"
     ]
    },
    {
     "name": "stdout",
     "output_type": "stream",
     "text": [
      "Confidence ---> 0.86\n",
      "Class name --> person\n",
      "Confidence ---> 0.55\n",
      "Class name --> sofa\n",
      "Confidence ---> 0.45\n",
      "Class name --> chair\n",
      "Confidence ---> 0.43\n",
      "Class name --> diningtable\n",
      "Confidence ---> 0.86\n",
      "Class name --> person\n",
      "Confidence ---> 0.76\n",
      "Class name --> sofa\n",
      "Confidence ---> 0.43\n",
      "Class name --> diningtable\n",
      "Confidence ---> 0.38\n",
      "Class name --> chair\n"
     ]
    },
    {
     "name": "stderr",
     "output_type": "stream",
     "text": [
      "0: 480x640 1 person, 1 chair, 1 couch, 1 dining table, 174.3ms\n",
      "Speed: 1.7ms preprocess, 174.3ms inference, 0.8ms postprocess per image at shape (1, 3, 480, 640)\n",
      "\n",
      "0: 480x640 1 person, 1 chair, 1 couch, 1 dining table, 99.6ms\n",
      "Speed: 2.0ms preprocess, 99.6ms inference, 0.7ms postprocess per image at shape (1, 3, 480, 640)\n",
      "\n"
     ]
    },
    {
     "name": "stdout",
     "output_type": "stream",
     "text": [
      "Confidence ---> 0.84\n",
      "Class name --> person\n",
      "Confidence ---> 0.7\n",
      "Class name --> sofa\n",
      "Confidence ---> 0.46\n",
      "Class name --> diningtable\n",
      "Confidence ---> 0.38\n",
      "Class name --> chair\n",
      "Confidence ---> 0.83\n",
      "Class name --> person\n",
      "Confidence ---> 0.81\n",
      "Class name --> sofa\n",
      "Confidence ---> 0.47\n",
      "Class name --> diningtable\n",
      "Confidence ---> 0.31\n",
      "Class name --> chair\n"
     ]
    },
    {
     "name": "stderr",
     "output_type": "stream",
     "text": [
      "0: 480x640 2 persons, 1 chair, 1 couch, 1 dining table, 1 microwave, 132.2ms\n",
      "Speed: 1.8ms preprocess, 132.2ms inference, 0.8ms postprocess per image at shape (1, 3, 480, 640)\n",
      "\n",
      "0: 480x640 2 persons, 1 chair, 1 dining table, 106.0ms\n",
      "Speed: 2.0ms preprocess, 106.0ms inference, 0.9ms postprocess per image at shape (1, 3, 480, 640)\n",
      "\n"
     ]
    },
    {
     "name": "stdout",
     "output_type": "stream",
     "text": [
      "Confidence ---> 0.86\n",
      "Class name --> person\n",
      "Confidence ---> 0.49\n",
      "Class name --> person\n",
      "Confidence ---> 0.44\n",
      "Class name --> sofa\n",
      "Confidence ---> 0.41\n",
      "Class name --> diningtable\n",
      "Confidence ---> 0.35\n",
      "Class name --> chair\n",
      "Confidence ---> 0.26\n",
      "Class name --> microwave\n",
      "Confidence ---> 0.86\n",
      "Class name --> person\n",
      "Confidence ---> 0.71\n",
      "Class name --> person\n",
      "Confidence ---> 0.42\n",
      "Class name --> chair\n",
      "Confidence ---> 0.4\n",
      "Class name --> diningtable\n"
     ]
    },
    {
     "name": "stderr",
     "output_type": "stream",
     "text": [
      "0: 480x640 2 persons, 1 chair, 1 dining table, 114.6ms\n",
      "Speed: 1.8ms preprocess, 114.6ms inference, 0.8ms postprocess per image at shape (1, 3, 480, 640)\n",
      "\n"
     ]
    },
    {
     "name": "stdout",
     "output_type": "stream",
     "text": [
      "Confidence ---> 0.86\n",
      "Class name --> person\n",
      "Confidence ---> 0.75\n",
      "Class name --> person\n",
      "Confidence ---> 0.41\n",
      "Class name --> diningtable\n",
      "Confidence ---> 0.35\n",
      "Class name --> chair\n"
     ]
    },
    {
     "name": "stderr",
     "output_type": "stream",
     "text": [
      "0: 480x640 2 persons, 1 chair, 1 dining table, 186.9ms\n",
      "Speed: 1.7ms preprocess, 186.9ms inference, 0.9ms postprocess per image at shape (1, 3, 480, 640)\n",
      "\n",
      "0: 480x640 2 persons, 1 chair, 1 dining table, 139.3ms\n",
      "Speed: 2.2ms preprocess, 139.3ms inference, 0.7ms postprocess per image at shape (1, 3, 480, 640)\n"
     ]
    },
    {
     "name": "stdout",
     "output_type": "stream",
     "text": [
      "Confidence ---> 0.85\n",
      "Class name --> person\n",
      "Confidence ---> 0.72\n",
      "Class name --> person\n",
      "Confidence ---> 0.45\n",
      "Class name --> diningtable\n",
      "Confidence ---> 0.27\n",
      "Class name --> chair\n",
      "Confidence ---> 0.85\n",
      "Class name --> person\n",
      "Confidence ---> 0.73\n",
      "Class name --> person\n",
      "Confidence ---> 0.45\n",
      "Class name --> diningtable\n",
      "Confidence ---> 0.37\n",
      "Class name --> chair\n"
     ]
    },
    {
     "name": "stderr",
     "output_type": "stream",
     "text": [
      "\n",
      "0: 480x640 2 persons, 1 chair, 1 dining table, 111.7ms\n",
      "Speed: 2.1ms preprocess, 111.7ms inference, 0.7ms postprocess per image at shape (1, 3, 480, 640)\n",
      "\n",
      "0: 480x640 2 persons, 1 chair, 1 couch, 1 dining table, 111.3ms\n",
      "Speed: 2.8ms preprocess, 111.3ms inference, 0.7ms postprocess per image at shape (1, 3, 480, 640)\n"
     ]
    },
    {
     "name": "stdout",
     "output_type": "stream",
     "text": [
      "Confidence ---> 0.86\n",
      "Class name --> person\n",
      "Confidence ---> 0.8\n",
      "Class name --> person\n",
      "Confidence ---> 0.47\n",
      "Class name --> diningtable\n",
      "Confidence ---> 0.36\n",
      "Class name --> chair\n",
      "Confidence ---> 0.87\n",
      "Class name --> person\n",
      "Confidence ---> 0.6\n",
      "Class name --> person\n",
      "Confidence ---> 0.47\n",
      "Class name --> diningtable\n",
      "Confidence ---> 0.28\n",
      "Class name --> chair\n",
      "Confidence ---> 0.27\n",
      "Class name --> sofa\n"
     ]
    },
    {
     "name": "stderr",
     "output_type": "stream",
     "text": [
      "\n",
      "0: 480x640 2 persons, 1 chair, 1 couch, 1 dining table, 123.0ms\n",
      "Speed: 2.4ms preprocess, 123.0ms inference, 0.8ms postprocess per image at shape (1, 3, 480, 640)\n",
      "\n",
      "0: 480x640 2 persons, 1 chair, 1 dining table, 107.1ms\n",
      "Speed: 1.9ms preprocess, 107.1ms inference, 0.8ms postprocess per image at shape (1, 3, 480, 640)\n"
     ]
    },
    {
     "name": "stdout",
     "output_type": "stream",
     "text": [
      "Confidence ---> 0.89\n",
      "Class name --> person\n",
      "Confidence ---> 0.65\n",
      "Class name --> person\n",
      "Confidence ---> 0.48\n",
      "Class name --> diningtable\n",
      "Confidence ---> 0.33\n",
      "Class name --> sofa\n",
      "Confidence ---> 0.26\n",
      "Class name --> chair\n",
      "Confidence ---> 0.9\n",
      "Class name --> person\n",
      "Confidence ---> 0.6\n",
      "Class name --> person\n",
      "Confidence ---> 0.5\n",
      "Class name --> diningtable\n",
      "Confidence ---> 0.33\n",
      "Class name --> chair\n"
     ]
    },
    {
     "name": "stderr",
     "output_type": "stream",
     "text": [
      "\n",
      "0: 480x640 2 persons, 1 chair, 1 dining table, 102.9ms\n",
      "Speed: 1.8ms preprocess, 102.9ms inference, 1.4ms postprocess per image at shape (1, 3, 480, 640)\n",
      "\n",
      "0: 480x640 2 persons, 1 chair, 1 dining table, 157.9ms\n",
      "Speed: 2.9ms preprocess, 157.9ms inference, 0.8ms postprocess per image at shape (1, 3, 480, 640)\n"
     ]
    },
    {
     "name": "stdout",
     "output_type": "stream",
     "text": [
      "Confidence ---> 0.91\n",
      "Class name --> person\n",
      "Confidence ---> 0.67\n",
      "Class name --> person\n",
      "Confidence ---> 0.43\n",
      "Class name --> diningtable\n",
      "Confidence ---> 0.37\n",
      "Class name --> chair\n",
      "Confidence ---> 0.9\n",
      "Class name --> person\n",
      "Confidence ---> 0.68\n",
      "Class name --> person\n",
      "Confidence ---> 0.47\n",
      "Class name --> diningtable\n",
      "Confidence ---> 0.36\n",
      "Class name --> chair\n"
     ]
    },
    {
     "name": "stderr",
     "output_type": "stream",
     "text": [
      "\n",
      "0: 480x640 2 persons, 1 chair, 1 dining table, 119.6ms\n",
      "Speed: 2.2ms preprocess, 119.6ms inference, 0.9ms postprocess per image at shape (1, 3, 480, 640)\n",
      "\n",
      "0: 480x640 2 persons, 1 chair, 1 dining table, 103.3ms\n",
      "Speed: 2.0ms preprocess, 103.3ms inference, 0.9ms postprocess per image at shape (1, 3, 480, 640)\n",
      "\n"
     ]
    },
    {
     "name": "stdout",
     "output_type": "stream",
     "text": [
      "Confidence ---> 0.9\n",
      "Class name --> person\n",
      "Confidence ---> 0.72\n",
      "Class name --> person\n",
      "Confidence ---> 0.5\n",
      "Class name --> diningtable\n",
      "Confidence ---> 0.46\n",
      "Class name --> chair\n",
      "Confidence ---> 0.9\n",
      "Class name --> person\n",
      "Confidence ---> 0.74\n",
      "Class name --> person\n",
      "Confidence ---> 0.58\n",
      "Class name --> chair\n",
      "Confidence ---> 0.45\n",
      "Class name --> diningtable\n"
     ]
    },
    {
     "name": "stderr",
     "output_type": "stream",
     "text": [
      "0: 480x640 2 persons, 1 chair, 1 dining table, 131.6ms\n",
      "Speed: 2.0ms preprocess, 131.6ms inference, 1.0ms postprocess per image at shape (1, 3, 480, 640)\n",
      "\n"
     ]
    },
    {
     "name": "stdout",
     "output_type": "stream",
     "text": [
      "Confidence ---> 0.89\n",
      "Class name --> person\n",
      "Confidence ---> 0.76\n",
      "Class name --> person\n",
      "Confidence ---> 0.48\n",
      "Class name --> chair\n",
      "Confidence ---> 0.44\n",
      "Class name --> diningtable\n"
     ]
    },
    {
     "name": "stderr",
     "output_type": "stream",
     "text": [
      "0: 480x640 2 persons, 1 chair, 1 dining table, 154.7ms\n",
      "Speed: 42.3ms preprocess, 154.7ms inference, 1.3ms postprocess per image at shape (1, 3, 480, 640)\n",
      "\n"
     ]
    },
    {
     "name": "stdout",
     "output_type": "stream",
     "text": [
      "Confidence ---> 0.91\n",
      "Class name --> person\n",
      "Confidence ---> 0.76\n",
      "Class name --> person\n",
      "Confidence ---> 0.45\n",
      "Class name --> diningtable\n",
      "Confidence ---> 0.3\n",
      "Class name --> chair\n"
     ]
    },
    {
     "name": "stderr",
     "output_type": "stream",
     "text": [
      "0: 480x640 2 persons, 1 chair, 1 dining table, 159.3ms\n",
      "Speed: 5.6ms preprocess, 159.3ms inference, 0.9ms postprocess per image at shape (1, 3, 480, 640)\n",
      "\n",
      "0: 480x640 2 persons, 1 chair, 1 couch, 1 dining table, 158.5ms\n",
      "Speed: 2.0ms preprocess, 158.5ms inference, 0.9ms postprocess per image at shape (1, 3, 480, 640)\n"
     ]
    },
    {
     "name": "stdout",
     "output_type": "stream",
     "text": [
      "Confidence ---> 0.81\n",
      "Class name --> person\n",
      "Confidence ---> 0.8\n",
      "Class name --> person\n",
      "Confidence ---> 0.42\n",
      "Class name --> diningtable\n",
      "Confidence ---> 0.26\n",
      "Class name --> chair\n",
      "Confidence ---> 0.89\n",
      "Class name --> person\n",
      "Confidence ---> 0.64\n",
      "Class name --> person\n",
      "Confidence ---> 0.48\n",
      "Class name --> chair\n",
      "Confidence ---> 0.46\n",
      "Class name --> diningtable\n",
      "Confidence ---> 0.32\n",
      "Class name --> sofa\n"
     ]
    },
    {
     "name": "stderr",
     "output_type": "stream",
     "text": [
      "\n",
      "0: 480x640 2 persons, 1 chair, 1 couch, 1 dining table, 109.3ms\n",
      "Speed: 2.1ms preprocess, 109.3ms inference, 0.8ms postprocess per image at shape (1, 3, 480, 640)\n",
      "\n",
      "0: 480x640 2 persons, 1 chair, 1 couch, 1 dining table, 94.9ms\n",
      "Speed: 1.9ms preprocess, 94.9ms inference, 0.8ms postprocess per image at shape (1, 3, 480, 640)\n",
      "\n"
     ]
    },
    {
     "name": "stdout",
     "output_type": "stream",
     "text": [
      "Confidence ---> 0.85\n",
      "Class name --> person\n",
      "Confidence ---> 0.73\n",
      "Class name --> person\n",
      "Confidence ---> 0.44\n",
      "Class name --> diningtable\n",
      "Confidence ---> 0.44\n",
      "Class name --> chair\n",
      "Confidence ---> 0.27\n",
      "Class name --> sofa\n",
      "Confidence ---> 0.9\n",
      "Class name --> person\n",
      "Confidence ---> 0.69\n",
      "Class name --> person\n",
      "Confidence ---> 0.52\n",
      "Class name --> chair\n",
      "Confidence ---> 0.42\n",
      "Class name --> diningtable\n",
      "Confidence ---> 0.26\n",
      "Class name --> sofa\n"
     ]
    },
    {
     "name": "stderr",
     "output_type": "stream",
     "text": [
      "0: 480x640 2 persons, 1 chair, 1 dining table, 92.5ms\n",
      "Speed: 1.9ms preprocess, 92.5ms inference, 0.8ms postprocess per image at shape (1, 3, 480, 640)\n",
      "\n",
      "0: 480x640 2 persons, 1 chair, 1 dining table, 93.3ms\n",
      "Speed: 1.9ms preprocess, 93.3ms inference, 0.8ms postprocess per image at shape (1, 3, 480, 640)\n",
      "\n"
     ]
    },
    {
     "name": "stdout",
     "output_type": "stream",
     "text": [
      "Confidence ---> 0.89\n",
      "Class name --> person\n",
      "Confidence ---> 0.79\n",
      "Class name --> person\n",
      "Confidence ---> 0.52\n",
      "Class name --> chair\n",
      "Confidence ---> 0.47\n",
      "Class name --> diningtable\n",
      "Confidence ---> 0.89\n",
      "Class name --> person\n",
      "Confidence ---> 0.77\n",
      "Class name --> person\n",
      "Confidence ---> 0.48\n",
      "Class name --> chair\n",
      "Confidence ---> 0.42\n",
      "Class name --> diningtable\n"
     ]
    },
    {
     "name": "stderr",
     "output_type": "stream",
     "text": [
      "0: 480x640 2 persons, 1 chair, 1 dining table, 92.6ms\n",
      "Speed: 1.9ms preprocess, 92.6ms inference, 0.8ms postprocess per image at shape (1, 3, 480, 640)\n",
      "\n",
      "0: 480x640 2 persons, 1 chair, 1 dining table, 92.3ms\n",
      "Speed: 1.9ms preprocess, 92.3ms inference, 1.0ms postprocess per image at shape (1, 3, 480, 640)\n",
      "\n"
     ]
    },
    {
     "name": "stdout",
     "output_type": "stream",
     "text": [
      "Confidence ---> 0.86\n",
      "Class name --> person\n",
      "Confidence ---> 0.75\n",
      "Class name --> person\n",
      "Confidence ---> 0.48\n",
      "Class name --> chair\n",
      "Confidence ---> 0.43\n",
      "Class name --> diningtable\n",
      "Confidence ---> 0.88\n",
      "Class name --> person\n",
      "Confidence ---> 0.68\n",
      "Class name --> person\n",
      "Confidence ---> 0.48\n",
      "Class name --> chair\n",
      "Confidence ---> 0.42\n",
      "Class name --> diningtable\n"
     ]
    },
    {
     "name": "stderr",
     "output_type": "stream",
     "text": [
      "0: 480x640 2 persons, 1 chair, 1 dining table, 99.1ms\n",
      "Speed: 1.8ms preprocess, 99.1ms inference, 0.8ms postprocess per image at shape (1, 3, 480, 640)\n",
      "\n",
      "0: 480x640 2 persons, 1 chair, 1 couch, 1 dining table, 99.9ms\n",
      "Speed: 1.7ms preprocess, 99.9ms inference, 0.7ms postprocess per image at shape (1, 3, 480, 640)\n",
      "\n"
     ]
    },
    {
     "name": "stdout",
     "output_type": "stream",
     "text": [
      "Confidence ---> 0.82\n",
      "Class name --> person\n",
      "Confidence ---> 0.76\n",
      "Class name --> person\n",
      "Confidence ---> 0.47\n",
      "Class name --> diningtable\n",
      "Confidence ---> 0.39\n",
      "Class name --> chair\n",
      "Confidence ---> 0.87\n",
      "Class name --> person\n",
      "Confidence ---> 0.66\n",
      "Class name --> person\n",
      "Confidence ---> 0.46\n",
      "Class name --> diningtable\n",
      "Confidence ---> 0.41\n",
      "Class name --> chair\n",
      "Confidence ---> 0.29\n",
      "Class name --> sofa\n"
     ]
    },
    {
     "name": "stderr",
     "output_type": "stream",
     "text": [
      "0: 480x640 2 persons, 1 chair, 1 dining table, 103.5ms\n",
      "Speed: 1.8ms preprocess, 103.5ms inference, 0.7ms postprocess per image at shape (1, 3, 480, 640)\n",
      "\n",
      "0: 480x640 2 persons, 1 chair, 1 dining table, 93.4ms\n",
      "Speed: 2.1ms preprocess, 93.4ms inference, 0.8ms postprocess per image at shape (1, 3, 480, 640)\n",
      "\n"
     ]
    },
    {
     "name": "stdout",
     "output_type": "stream",
     "text": [
      "Confidence ---> 0.88\n",
      "Class name --> person\n",
      "Confidence ---> 0.75\n",
      "Class name --> person\n",
      "Confidence ---> 0.44\n",
      "Class name --> diningtable\n",
      "Confidence ---> 0.42\n",
      "Class name --> chair\n",
      "Confidence ---> 0.89\n",
      "Class name --> person\n",
      "Confidence ---> 0.71\n",
      "Class name --> person\n",
      "Confidence ---> 0.48\n",
      "Class name --> chair\n",
      "Confidence ---> 0.47\n",
      "Class name --> diningtable\n"
     ]
    },
    {
     "name": "stderr",
     "output_type": "stream",
     "text": [
      "0: 480x640 2 persons, 1 chair, 1 couch, 1 dining table, 92.6ms\n",
      "Speed: 1.9ms preprocess, 92.6ms inference, 0.7ms postprocess per image at shape (1, 3, 480, 640)\n",
      "\n",
      "0: 480x640 2 persons, 1 chair, 1 dining table, 109.2ms\n",
      "Speed: 2.1ms preprocess, 109.2ms inference, 0.7ms postprocess per image at shape (1, 3, 480, 640)\n"
     ]
    },
    {
     "name": "stdout",
     "output_type": "stream",
     "text": [
      "Confidence ---> 0.89\n",
      "Class name --> person\n",
      "Confidence ---> 0.51\n",
      "Class name --> chair\n",
      "Confidence ---> 0.5\n",
      "Class name --> person\n",
      "Confidence ---> 0.49\n",
      "Class name --> diningtable\n",
      "Confidence ---> 0.39\n",
      "Class name --> sofa\n",
      "Confidence ---> 0.88\n",
      "Class name --> person\n",
      "Confidence ---> 0.7\n",
      "Class name --> person\n",
      "Confidence ---> 0.5\n",
      "Class name --> chair\n",
      "Confidence ---> 0.48\n",
      "Class name --> diningtable\n"
     ]
    },
    {
     "name": "stderr",
     "output_type": "stream",
     "text": [
      "\n",
      "0: 480x640 2 persons, 1 chair, 1 dining table, 99.8ms\n",
      "Speed: 1.8ms preprocess, 99.8ms inference, 0.8ms postprocess per image at shape (1, 3, 480, 640)\n",
      "\n",
      "0: 480x640 2 persons, 1 chair, 1 couch, 1 dining table, 88.6ms\n",
      "Speed: 2.5ms preprocess, 88.6ms inference, 0.8ms postprocess per image at shape (1, 3, 480, 640)\n",
      "\n"
     ]
    },
    {
     "name": "stdout",
     "output_type": "stream",
     "text": [
      "Confidence ---> 0.89\n",
      "Class name --> person\n",
      "Confidence ---> 0.7\n",
      "Class name --> person\n",
      "Confidence ---> 0.52\n",
      "Class name --> chair\n",
      "Confidence ---> 0.48\n",
      "Class name --> diningtable\n",
      "Confidence ---> 0.89\n",
      "Class name --> person\n",
      "Confidence ---> 0.59\n",
      "Class name --> person\n",
      "Confidence ---> 0.52\n",
      "Class name --> diningtable\n",
      "Confidence ---> 0.48\n",
      "Class name --> chair\n",
      "Confidence ---> 0.36\n",
      "Class name --> sofa\n"
     ]
    },
    {
     "name": "stderr",
     "output_type": "stream",
     "text": [
      "0: 480x640 2 persons, 1 chair, 1 dining table, 90.8ms\n",
      "Speed: 1.9ms preprocess, 90.8ms inference, 0.8ms postprocess per image at shape (1, 3, 480, 640)\n",
      "\n",
      "0: 480x640 2 persons, 1 chair, 1 dining table, 85.3ms\n",
      "Speed: 1.7ms preprocess, 85.3ms inference, 0.7ms postprocess per image at shape (1, 3, 480, 640)\n",
      "\n"
     ]
    },
    {
     "name": "stdout",
     "output_type": "stream",
     "text": [
      "Confidence ---> 0.89\n",
      "Class name --> person\n",
      "Confidence ---> 0.72\n",
      "Class name --> person\n",
      "Confidence ---> 0.5\n",
      "Class name --> diningtable\n",
      "Confidence ---> 0.49\n",
      "Class name --> chair\n",
      "Confidence ---> 0.89\n",
      "Class name --> person\n",
      "Confidence ---> 0.77\n",
      "Class name --> person\n",
      "Confidence ---> 0.49\n",
      "Class name --> diningtable\n",
      "Confidence ---> 0.42\n",
      "Class name --> chair\n"
     ]
    },
    {
     "name": "stderr",
     "output_type": "stream",
     "text": [
      "0: 480x640 2 persons, 1 chair, 1 couch, 1 dining table, 168.5ms\n",
      "Speed: 1.8ms preprocess, 168.5ms inference, 0.7ms postprocess per image at shape (1, 3, 480, 640)\n",
      "\n",
      "0: 480x640 2 persons, 1 chair, 1 couch, 1 dining table, 94.8ms\n",
      "Speed: 2.1ms preprocess, 94.8ms inference, 0.8ms postprocess per image at shape (1, 3, 480, 640)\n",
      "\n"
     ]
    },
    {
     "name": "stdout",
     "output_type": "stream",
     "text": [
      "Confidence ---> 0.89\n",
      "Class name --> person\n",
      "Confidence ---> 0.68\n",
      "Class name --> person\n",
      "Confidence ---> 0.5\n",
      "Class name --> diningtable\n",
      "Confidence ---> 0.5\n",
      "Class name --> chair\n",
      "Confidence ---> 0.27\n",
      "Class name --> sofa\n",
      "Confidence ---> 0.89\n",
      "Class name --> person\n",
      "Confidence ---> 0.69\n",
      "Class name --> person\n",
      "Confidence ---> 0.5\n",
      "Class name --> diningtable\n",
      "Confidence ---> 0.45\n",
      "Class name --> chair\n",
      "Confidence ---> 0.26\n",
      "Class name --> sofa\n"
     ]
    },
    {
     "name": "stderr",
     "output_type": "stream",
     "text": [
      "0: 480x640 2 persons, 1 chair, 1 dining table, 89.3ms\n",
      "Speed: 1.8ms preprocess, 89.3ms inference, 0.9ms postprocess per image at shape (1, 3, 480, 640)\n",
      "\n",
      "0: 480x640 2 persons, 1 chair, 1 dining table, 85.8ms\n",
      "Speed: 1.7ms preprocess, 85.8ms inference, 0.7ms postprocess per image at shape (1, 3, 480, 640)\n",
      "\n"
     ]
    },
    {
     "name": "stdout",
     "output_type": "stream",
     "text": [
      "Confidence ---> 0.88\n",
      "Class name --> person\n",
      "Confidence ---> 0.81\n",
      "Class name --> person\n",
      "Confidence ---> 0.49\n",
      "Class name --> diningtable\n",
      "Confidence ---> 0.49\n",
      "Class name --> chair\n",
      "Confidence ---> 0.85\n",
      "Class name --> person\n",
      "Confidence ---> 0.84\n",
      "Class name --> person\n",
      "Confidence ---> 0.5\n",
      "Class name --> diningtable\n",
      "Confidence ---> 0.43\n",
      "Class name --> chair\n"
     ]
    },
    {
     "name": "stderr",
     "output_type": "stream",
     "text": [
      "0: 480x640 2 persons, 1 chair, 1 dining table, 100.4ms\n",
      "Speed: 1.9ms preprocess, 100.4ms inference, 1.0ms postprocess per image at shape (1, 3, 480, 640)\n",
      "\n"
     ]
    },
    {
     "name": "stdout",
     "output_type": "stream",
     "text": [
      "Confidence ---> 0.84\n",
      "Class name --> person\n",
      "Confidence ---> 0.76\n",
      "Class name --> person\n",
      "Confidence ---> 0.45\n",
      "Class name --> diningtable\n",
      "Confidence ---> 0.42\n",
      "Class name --> chair\n"
     ]
    },
    {
     "name": "stderr",
     "output_type": "stream",
     "text": [
      "0: 480x640 2 persons, 1 chair, 1 dining table, 380.8ms\n",
      "Speed: 1.9ms preprocess, 380.8ms inference, 1.0ms postprocess per image at shape (1, 3, 480, 640)\n",
      "\n"
     ]
    },
    {
     "name": "stdout",
     "output_type": "stream",
     "text": [
      "Confidence ---> 0.86\n",
      "Class name --> person\n",
      "Confidence ---> 0.71\n",
      "Class name --> person\n",
      "Confidence ---> 0.46\n",
      "Class name --> diningtable\n",
      "Confidence ---> 0.42\n",
      "Class name --> chair\n"
     ]
    },
    {
     "name": "stderr",
     "output_type": "stream",
     "text": [
      "0: 480x640 2 persons, 1 chair, 1 dining table, 464.9ms\n",
      "Speed: 4.3ms preprocess, 464.9ms inference, 2.0ms postprocess per image at shape (1, 3, 480, 640)\n",
      "\n",
      "0: 480x640 2 persons, 1 chair, 1 couch, 1 dining table, 99.5ms\n",
      "Speed: 2.7ms preprocess, 99.5ms inference, 0.8ms postprocess per image at shape (1, 3, 480, 640)\n",
      "\n"
     ]
    },
    {
     "name": "stdout",
     "output_type": "stream",
     "text": [
      "Confidence ---> 0.9\n",
      "Class name --> person\n",
      "Confidence ---> 0.68\n",
      "Class name --> person\n",
      "Confidence ---> 0.5\n",
      "Class name --> chair\n",
      "Confidence ---> 0.46\n",
      "Class name --> diningtable\n",
      "Confidence ---> 0.88\n",
      "Class name --> person\n",
      "Confidence ---> 0.59\n",
      "Class name --> person\n",
      "Confidence ---> 0.46\n",
      "Class name --> diningtable\n",
      "Confidence ---> 0.4\n",
      "Class name --> chair\n",
      "Confidence ---> 0.28\n",
      "Class name --> sofa\n"
     ]
    },
    {
     "name": "stderr",
     "output_type": "stream",
     "text": [
      "0: 480x640 2 persons, 1 chair, 1 dining table, 121.4ms\n",
      "Speed: 1.9ms preprocess, 121.4ms inference, 0.7ms postprocess per image at shape (1, 3, 480, 640)\n",
      "\n",
      "0: 480x640 2 persons, 1 chair, 1 dining table, 99.6ms\n",
      "Speed: 1.8ms preprocess, 99.6ms inference, 0.7ms postprocess per image at shape (1, 3, 480, 640)\n",
      "\n"
     ]
    },
    {
     "name": "stdout",
     "output_type": "stream",
     "text": [
      "Confidence ---> 0.88\n",
      "Class name --> person\n",
      "Confidence ---> 0.82\n",
      "Class name --> person\n",
      "Confidence ---> 0.5\n",
      "Class name --> diningtable\n",
      "Confidence ---> 0.42\n",
      "Class name --> chair\n",
      "Confidence ---> 0.88\n",
      "Class name --> person\n",
      "Confidence ---> 0.8\n",
      "Class name --> person\n",
      "Confidence ---> 0.46\n",
      "Class name --> diningtable\n",
      "Confidence ---> 0.43\n",
      "Class name --> chair\n"
     ]
    },
    {
     "name": "stderr",
     "output_type": "stream",
     "text": [
      "0: 480x640 2 persons, 1 chair, 1 dining table, 112.9ms\n",
      "Speed: 1.7ms preprocess, 112.9ms inference, 0.7ms postprocess per image at shape (1, 3, 480, 640)\n",
      "\n",
      "0: 480x640 2 persons, 1 chair, 1 dining table, 109.4ms\n",
      "Speed: 2.0ms preprocess, 109.4ms inference, 0.8ms postprocess per image at shape (1, 3, 480, 640)\n"
     ]
    },
    {
     "name": "stdout",
     "output_type": "stream",
     "text": [
      "Confidence ---> 0.89\n",
      "Class name --> person\n",
      "Confidence ---> 0.75\n",
      "Class name --> person\n",
      "Confidence ---> 0.47\n",
      "Class name --> chair\n",
      "Confidence ---> 0.46\n",
      "Class name --> diningtable\n",
      "Confidence ---> 0.89\n",
      "Class name --> person\n",
      "Confidence ---> 0.78\n",
      "Class name --> person\n",
      "Confidence ---> 0.48\n",
      "Class name --> chair\n",
      "Confidence ---> 0.46\n",
      "Class name --> diningtable\n"
     ]
    },
    {
     "name": "stderr",
     "output_type": "stream",
     "text": [
      "\n",
      "0: 480x640 2 persons, 1 chair, 1 dining table, 118.2ms\n",
      "Speed: 2.6ms preprocess, 118.2ms inference, 0.7ms postprocess per image at shape (1, 3, 480, 640)\n",
      "\n",
      "0: 480x640 2 persons, 1 chair, 1 dining table, 103.3ms\n",
      "Speed: 1.8ms preprocess, 103.3ms inference, 0.8ms postprocess per image at shape (1, 3, 480, 640)\n",
      "\n"
     ]
    },
    {
     "name": "stdout",
     "output_type": "stream",
     "text": [
      "Confidence ---> 0.87\n",
      "Class name --> person\n",
      "Confidence ---> 0.84\n",
      "Class name --> person\n",
      "Confidence ---> 0.47\n",
      "Class name --> diningtable\n",
      "Confidence ---> 0.44\n",
      "Class name --> chair\n",
      "Confidence ---> 0.88\n",
      "Class name --> person\n",
      "Confidence ---> 0.81\n",
      "Class name --> person\n",
      "Confidence ---> 0.5\n",
      "Class name --> diningtable\n",
      "Confidence ---> 0.41\n",
      "Class name --> chair\n"
     ]
    },
    {
     "name": "stderr",
     "output_type": "stream",
     "text": [
      "0: 480x640 2 persons, 1 chair, 1 dining table, 113.4ms\n",
      "Speed: 2.1ms preprocess, 113.4ms inference, 0.7ms postprocess per image at shape (1, 3, 480, 640)\n",
      "\n",
      "0: 480x640 2 persons, 1 chair, 1 dining table, 112.0ms\n",
      "Speed: 2.2ms preprocess, 112.0ms inference, 1.0ms postprocess per image at shape (1, 3, 480, 640)\n"
     ]
    },
    {
     "name": "stdout",
     "output_type": "stream",
     "text": [
      "Confidence ---> 0.9\n",
      "Class name --> person\n",
      "Confidence ---> 0.85\n",
      "Class name --> person\n",
      "Confidence ---> 0.51\n",
      "Class name --> diningtable\n",
      "Confidence ---> 0.47\n",
      "Class name --> chair\n",
      "Confidence ---> 0.88\n",
      "Class name --> person\n",
      "Confidence ---> 0.84\n",
      "Class name --> person\n",
      "Confidence ---> 0.43\n",
      "Class name --> diningtable\n",
      "Confidence ---> 0.4\n",
      "Class name --> chair\n"
     ]
    },
    {
     "name": "stderr",
     "output_type": "stream",
     "text": [
      "\n",
      "0: 480x640 2 persons, 1 chair, 1 dining table, 119.9ms\n",
      "Speed: 2.0ms preprocess, 119.9ms inference, 1.3ms postprocess per image at shape (1, 3, 480, 640)\n",
      "\n",
      "0: 480x640 2 persons, 1 chair, 1 dining table, 111.2ms\n",
      "Speed: 1.8ms preprocess, 111.2ms inference, 0.8ms postprocess per image at shape (1, 3, 480, 640)\n"
     ]
    },
    {
     "name": "stdout",
     "output_type": "stream",
     "text": [
      "Confidence ---> 0.88\n",
      "Class name --> person\n",
      "Confidence ---> 0.8\n",
      "Class name --> person\n",
      "Confidence ---> 0.5\n",
      "Class name --> diningtable\n",
      "Confidence ---> 0.45\n",
      "Class name --> chair\n",
      "Confidence ---> 0.89\n",
      "Class name --> person\n",
      "Confidence ---> 0.81\n",
      "Class name --> person\n",
      "Confidence ---> 0.49\n",
      "Class name --> diningtable\n",
      "Confidence ---> 0.48\n",
      "Class name --> chair\n"
     ]
    },
    {
     "name": "stderr",
     "output_type": "stream",
     "text": [
      "\n",
      "0: 480x640 2 persons, 1 chair, 1 couch, 1 dining table, 131.4ms\n",
      "Speed: 2.0ms preprocess, 131.4ms inference, 1.0ms postprocess per image at shape (1, 3, 480, 640)\n",
      "\n",
      "0: 480x640 2 persons, 1 chair, 1 dining table, 100.0ms\n",
      "Speed: 1.8ms preprocess, 100.0ms inference, 0.7ms postprocess per image at shape (1, 3, 480, 640)\n",
      "\n"
     ]
    },
    {
     "name": "stdout",
     "output_type": "stream",
     "text": [
      "Confidence ---> 0.87\n",
      "Class name --> person\n",
      "Confidence ---> 0.58\n",
      "Class name --> person\n",
      "Confidence ---> 0.51\n",
      "Class name --> diningtable\n",
      "Confidence ---> 0.44\n",
      "Class name --> chair\n",
      "Confidence ---> 0.37\n",
      "Class name --> sofa\n",
      "Confidence ---> 0.89\n",
      "Class name --> person\n",
      "Confidence ---> 0.6\n",
      "Class name --> person\n",
      "Confidence ---> 0.56\n",
      "Class name --> diningtable\n",
      "Confidence ---> 0.49\n",
      "Class name --> chair\n"
     ]
    },
    {
     "name": "stderr",
     "output_type": "stream",
     "text": [
      "0: 480x640 2 persons, 2 chairs, 1 couch, 1 dining table, 127.7ms\n",
      "Speed: 1.7ms preprocess, 127.7ms inference, 1.2ms postprocess per image at shape (1, 3, 480, 640)\n",
      "\n"
     ]
    },
    {
     "name": "stdout",
     "output_type": "stream",
     "text": [
      "Confidence ---> 0.86\n",
      "Class name --> person\n",
      "Confidence ---> 0.51\n",
      "Class name --> diningtable\n",
      "Confidence ---> 0.49\n",
      "Class name --> person\n",
      "Confidence ---> 0.4\n",
      "Class name --> chair\n",
      "Confidence ---> 0.32\n",
      "Class name --> sofa\n",
      "Confidence ---> 0.3\n",
      "Class name --> chair\n"
     ]
    },
    {
     "name": "stderr",
     "output_type": "stream",
     "text": [
      "0: 480x640 2 persons, 1 chair, 1 couch, 1 dining table, 200.6ms\n",
      "Speed: 47.2ms preprocess, 200.6ms inference, 0.9ms postprocess per image at shape (1, 3, 480, 640)\n",
      "\n",
      "0: 480x640 2 persons, 1 chair, 1 couch, 1 dining table, 90.2ms\n",
      "Speed: 1.7ms preprocess, 90.2ms inference, 0.8ms postprocess per image at shape (1, 3, 480, 640)\n",
      "\n"
     ]
    },
    {
     "name": "stdout",
     "output_type": "stream",
     "text": [
      "Confidence ---> 0.91\n",
      "Class name --> person\n",
      "Confidence ---> 0.59\n",
      "Class name --> diningtable\n",
      "Confidence ---> 0.51\n",
      "Class name --> chair\n",
      "Confidence ---> 0.5\n",
      "Class name --> person\n",
      "Confidence ---> 0.42\n",
      "Class name --> sofa\n",
      "Confidence ---> 0.92\n",
      "Class name --> person\n",
      "Confidence ---> 0.68\n",
      "Class name --> chair\n",
      "Confidence ---> 0.61\n",
      "Class name --> diningtable\n",
      "Confidence ---> 0.56\n",
      "Class name --> person\n",
      "Confidence ---> 0.47\n",
      "Class name --> sofa\n"
     ]
    },
    {
     "name": "stderr",
     "output_type": "stream",
     "text": [
      "0: 480x640 2 persons, 1 chair, 1 dining table, 105.3ms\n",
      "Speed: 2.1ms preprocess, 105.3ms inference, 0.7ms postprocess per image at shape (1, 3, 480, 640)\n",
      "\n",
      "0: 480x640 2 persons, 1 chair, 1 dining table, 93.1ms\n",
      "Speed: 1.8ms preprocess, 93.1ms inference, 0.8ms postprocess per image at shape (1, 3, 480, 640)\n",
      "\n"
     ]
    },
    {
     "name": "stdout",
     "output_type": "stream",
     "text": [
      "Confidence ---> 0.92\n",
      "Class name --> person\n",
      "Confidence ---> 0.72\n",
      "Class name --> person\n",
      "Confidence ---> 0.66\n",
      "Class name --> chair\n",
      "Confidence ---> 0.55\n",
      "Class name --> diningtable\n",
      "Confidence ---> 0.93\n",
      "Class name --> person\n",
      "Confidence ---> 0.85\n",
      "Class name --> person\n",
      "Confidence ---> 0.77\n",
      "Class name --> chair\n",
      "Confidence ---> 0.54\n",
      "Class name --> diningtable\n"
     ]
    },
    {
     "name": "stderr",
     "output_type": "stream",
     "text": [
      "0: 480x640 2 persons, 1 chair, 1 dining table, 115.7ms\n",
      "Speed: 1.8ms preprocess, 115.7ms inference, 0.7ms postprocess per image at shape (1, 3, 480, 640)\n",
      "\n",
      "0: 480x640 2 persons, 1 chair, 1 dining table, 84.4ms\n",
      "Speed: 1.6ms preprocess, 84.4ms inference, 0.7ms postprocess per image at shape (1, 3, 480, 640)\n",
      "\n"
     ]
    },
    {
     "name": "stdout",
     "output_type": "stream",
     "text": [
      "Confidence ---> 0.94\n",
      "Class name --> person\n",
      "Confidence ---> 0.85\n",
      "Class name --> person\n",
      "Confidence ---> 0.8\n",
      "Class name --> chair\n",
      "Confidence ---> 0.59\n",
      "Class name --> diningtable\n",
      "Confidence ---> 0.94\n",
      "Class name --> person\n",
      "Confidence ---> 0.89\n",
      "Class name --> person\n",
      "Confidence ---> 0.78\n",
      "Class name --> chair\n",
      "Confidence ---> 0.62\n",
      "Class name --> diningtable\n"
     ]
    },
    {
     "name": "stderr",
     "output_type": "stream",
     "text": [
      "0: 480x640 2 persons, 1 chair, 1 dining table, 87.3ms\n",
      "Speed: 1.7ms preprocess, 87.3ms inference, 0.7ms postprocess per image at shape (1, 3, 480, 640)\n",
      "\n",
      "0: 480x640 2 persons, 1 chair, 1 dining table, 80.7ms\n",
      "Speed: 1.7ms preprocess, 80.7ms inference, 0.7ms postprocess per image at shape (1, 3, 480, 640)\n",
      "\n"
     ]
    },
    {
     "name": "stdout",
     "output_type": "stream",
     "text": [
      "Confidence ---> 0.94\n",
      "Class name --> person\n",
      "Confidence ---> 0.88\n",
      "Class name --> person\n",
      "Confidence ---> 0.79\n",
      "Class name --> chair\n",
      "Confidence ---> 0.59\n",
      "Class name --> diningtable\n",
      "Confidence ---> 0.94\n",
      "Class name --> person\n",
      "Confidence ---> 0.9\n",
      "Class name --> person\n",
      "Confidence ---> 0.77\n",
      "Class name --> chair\n",
      "Confidence ---> 0.62\n",
      "Class name --> diningtable\n"
     ]
    },
    {
     "name": "stderr",
     "output_type": "stream",
     "text": [
      "0: 480x640 2 persons, 1 chair, 1 dining table, 85.6ms\n",
      "Speed: 1.7ms preprocess, 85.6ms inference, 0.7ms postprocess per image at shape (1, 3, 480, 640)\n",
      "\n",
      "0: 480x640 2 persons, 1 chair, 1 dining table, 81.3ms\n",
      "Speed: 1.7ms preprocess, 81.3ms inference, 0.7ms postprocess per image at shape (1, 3, 480, 640)\n",
      "\n"
     ]
    },
    {
     "name": "stdout",
     "output_type": "stream",
     "text": [
      "Confidence ---> 0.94\n",
      "Class name --> person\n",
      "Confidence ---> 0.88\n",
      "Class name --> person\n",
      "Confidence ---> 0.75\n",
      "Class name --> chair\n",
      "Confidence ---> 0.6\n",
      "Class name --> diningtable\n",
      "Confidence ---> 0.94\n",
      "Class name --> person\n",
      "Confidence ---> 0.87\n",
      "Class name --> person\n",
      "Confidence ---> 0.75\n",
      "Class name --> chair\n",
      "Confidence ---> 0.64\n",
      "Class name --> diningtable\n"
     ]
    },
    {
     "name": "stderr",
     "output_type": "stream",
     "text": [
      "0: 480x640 2 persons, 1 chair, 1 dining table, 86.8ms\n",
      "Speed: 1.8ms preprocess, 86.8ms inference, 0.7ms postprocess per image at shape (1, 3, 480, 640)\n",
      "\n",
      "0: 480x640 2 persons, 1 chair, 1 dining table, 83.3ms\n",
      "Speed: 1.8ms preprocess, 83.3ms inference, 0.7ms postprocess per image at shape (1, 3, 480, 640)\n",
      "\n"
     ]
    },
    {
     "name": "stdout",
     "output_type": "stream",
     "text": [
      "Confidence ---> 0.95\n",
      "Class name --> person\n",
      "Confidence ---> 0.88\n",
      "Class name --> person\n",
      "Confidence ---> 0.74\n",
      "Class name --> chair\n",
      "Confidence ---> 0.63\n",
      "Class name --> diningtable\n",
      "Confidence ---> 0.95\n",
      "Class name --> person\n",
      "Confidence ---> 0.9\n",
      "Class name --> person\n",
      "Confidence ---> 0.75\n",
      "Class name --> chair\n",
      "Confidence ---> 0.57\n",
      "Class name --> diningtable\n"
     ]
    },
    {
     "name": "stderr",
     "output_type": "stream",
     "text": [
      "0: 480x640 2 persons, 1 chair, 1 dining table, 84.7ms\n",
      "Speed: 1.7ms preprocess, 84.7ms inference, 0.7ms postprocess per image at shape (1, 3, 480, 640)\n",
      "\n",
      "0: 480x640 2 persons, 1 chair, 1 dining table, 87.1ms\n",
      "Speed: 1.7ms preprocess, 87.1ms inference, 0.7ms postprocess per image at shape (1, 3, 480, 640)\n",
      "\n"
     ]
    },
    {
     "name": "stdout",
     "output_type": "stream",
     "text": [
      "Confidence ---> 0.95\n",
      "Class name --> person\n",
      "Confidence ---> 0.89\n",
      "Class name --> person\n",
      "Confidence ---> 0.75\n",
      "Class name --> chair\n",
      "Confidence ---> 0.6\n",
      "Class name --> diningtable\n",
      "Confidence ---> 0.95\n",
      "Class name --> person\n",
      "Confidence ---> 0.89\n",
      "Class name --> person\n",
      "Confidence ---> 0.74\n",
      "Class name --> chair\n",
      "Confidence ---> 0.65\n",
      "Class name --> diningtable\n"
     ]
    },
    {
     "name": "stderr",
     "output_type": "stream",
     "text": [
      "0: 480x640 2 persons, 1 chair, 1 dining table, 91.4ms\n",
      "Speed: 1.9ms preprocess, 91.4ms inference, 0.7ms postprocess per image at shape (1, 3, 480, 640)\n",
      "\n",
      "0: 480x640 2 persons, 1 chair, 1 dining table, 86.6ms\n",
      "Speed: 1.7ms preprocess, 86.6ms inference, 0.7ms postprocess per image at shape (1, 3, 480, 640)\n",
      "\n"
     ]
    },
    {
     "name": "stdout",
     "output_type": "stream",
     "text": [
      "Confidence ---> 0.93\n",
      "Class name --> person\n",
      "Confidence ---> 0.88\n",
      "Class name --> person\n",
      "Confidence ---> 0.65\n",
      "Class name --> diningtable\n",
      "Confidence ---> 0.65\n",
      "Class name --> chair\n",
      "Confidence ---> 0.93\n",
      "Class name --> person\n",
      "Confidence ---> 0.88\n",
      "Class name --> person\n",
      "Confidence ---> 0.72\n",
      "Class name --> chair\n",
      "Confidence ---> 0.61\n",
      "Class name --> diningtable\n"
     ]
    },
    {
     "name": "stderr",
     "output_type": "stream",
     "text": [
      "0: 480x640 2 persons, 1 chair, 1 dining table, 83.8ms\n",
      "Speed: 1.7ms preprocess, 83.8ms inference, 0.7ms postprocess per image at shape (1, 3, 480, 640)\n",
      "\n",
      "0: 480x640 2 persons, 1 chair, 1 dining table, 83.5ms\n",
      "Speed: 1.7ms preprocess, 83.5ms inference, 0.7ms postprocess per image at shape (1, 3, 480, 640)\n",
      "\n"
     ]
    },
    {
     "name": "stdout",
     "output_type": "stream",
     "text": [
      "Confidence ---> 0.91\n",
      "Class name --> person\n",
      "Confidence ---> 0.89\n",
      "Class name --> person\n",
      "Confidence ---> 0.75\n",
      "Class name --> chair\n",
      "Confidence ---> 0.61\n",
      "Class name --> diningtable\n",
      "Confidence ---> 0.88\n",
      "Class name --> person\n",
      "Confidence ---> 0.88\n",
      "Class name --> person\n",
      "Confidence ---> 0.73\n",
      "Class name --> chair\n",
      "Confidence ---> 0.65\n",
      "Class name --> diningtable\n"
     ]
    },
    {
     "name": "stderr",
     "output_type": "stream",
     "text": [
      "0: 480x640 2 persons, 1 chair, 1 dining table, 83.9ms\n",
      "Speed: 1.6ms preprocess, 83.9ms inference, 0.8ms postprocess per image at shape (1, 3, 480, 640)\n",
      "\n",
      "0: 480x640 2 persons, 1 chair, 1 dining table, 83.7ms\n",
      "Speed: 1.8ms preprocess, 83.7ms inference, 0.7ms postprocess per image at shape (1, 3, 480, 640)\n",
      "\n"
     ]
    },
    {
     "name": "stdout",
     "output_type": "stream",
     "text": [
      "Confidence ---> 0.87\n",
      "Class name --> person\n",
      "Confidence ---> 0.87\n",
      "Class name --> person\n",
      "Confidence ---> 0.66\n",
      "Class name --> chair\n",
      "Confidence ---> 0.61\n",
      "Class name --> diningtable\n",
      "Confidence ---> 0.88\n",
      "Class name --> person\n",
      "Confidence ---> 0.88\n",
      "Class name --> person\n",
      "Confidence ---> 0.72\n",
      "Class name --> chair\n",
      "Confidence ---> 0.58\n",
      "Class name --> diningtable\n"
     ]
    },
    {
     "name": "stderr",
     "output_type": "stream",
     "text": [
      "0: 480x640 2 persons, 1 chair, 1 dining table, 85.5ms\n",
      "Speed: 1.8ms preprocess, 85.5ms inference, 0.8ms postprocess per image at shape (1, 3, 480, 640)\n",
      "\n",
      "0: 480x640 2 persons, 1 chair, 1 dining table, 83.5ms\n",
      "Speed: 1.6ms preprocess, 83.5ms inference, 0.7ms postprocess per image at shape (1, 3, 480, 640)\n",
      "\n"
     ]
    },
    {
     "name": "stdout",
     "output_type": "stream",
     "text": [
      "Confidence ---> 0.9\n",
      "Class name --> person\n",
      "Confidence ---> 0.88\n",
      "Class name --> person\n",
      "Confidence ---> 0.75\n",
      "Class name --> chair\n",
      "Confidence ---> 0.65\n",
      "Class name --> diningtable\n",
      "Confidence ---> 0.9\n",
      "Class name --> person\n",
      "Confidence ---> 0.89\n",
      "Class name --> person\n",
      "Confidence ---> 0.75\n",
      "Class name --> chair\n",
      "Confidence ---> 0.64\n",
      "Class name --> diningtable\n"
     ]
    },
    {
     "name": "stderr",
     "output_type": "stream",
     "text": [
      "0: 480x640 2 persons, 1 chair, 1 dining table, 84.0ms\n",
      "Speed: 1.7ms preprocess, 84.0ms inference, 0.7ms postprocess per image at shape (1, 3, 480, 640)\n",
      "\n",
      "0: 480x640 2 persons, 1 chair, 1 dining table, 87.3ms\n",
      "Speed: 1.6ms preprocess, 87.3ms inference, 0.7ms postprocess per image at shape (1, 3, 480, 640)\n",
      "\n"
     ]
    },
    {
     "name": "stdout",
     "output_type": "stream",
     "text": [
      "Confidence ---> 0.89\n",
      "Class name --> person\n",
      "Confidence ---> 0.89\n",
      "Class name --> person\n",
      "Confidence ---> 0.79\n",
      "Class name --> chair\n",
      "Confidence ---> 0.61\n",
      "Class name --> diningtable\n",
      "Confidence ---> 0.89\n",
      "Class name --> person\n",
      "Confidence ---> 0.89\n",
      "Class name --> person\n",
      "Confidence ---> 0.76\n",
      "Class name --> chair\n",
      "Confidence ---> 0.63\n",
      "Class name --> diningtable\n"
     ]
    },
    {
     "name": "stderr",
     "output_type": "stream",
     "text": [
      "0: 480x640 2 persons, 1 chair, 1 dining table, 234.5ms\n",
      "Speed: 4.6ms preprocess, 234.5ms inference, 0.9ms postprocess per image at shape (1, 3, 480, 640)\n",
      "\n",
      "0: 480x640 2 persons, 1 chair, 1 dining table, 105.8ms\n",
      "Speed: 1.8ms preprocess, 105.8ms inference, 0.7ms postprocess per image at shape (1, 3, 480, 640)\n",
      "\n"
     ]
    },
    {
     "name": "stdout",
     "output_type": "stream",
     "text": [
      "Confidence ---> 0.9\n",
      "Class name --> person\n",
      "Confidence ---> 0.89\n",
      "Class name --> person\n",
      "Confidence ---> 0.76\n",
      "Class name --> chair\n",
      "Confidence ---> 0.59\n",
      "Class name --> diningtable\n",
      "Confidence ---> 0.87\n",
      "Class name --> person\n",
      "Confidence ---> 0.87\n",
      "Class name --> person\n",
      "Confidence ---> 0.79\n",
      "Class name --> chair\n",
      "Confidence ---> 0.68\n",
      "Class name --> diningtable\n"
     ]
    },
    {
     "name": "stderr",
     "output_type": "stream",
     "text": [
      "0: 480x640 2 persons, 1 chair, 1 dining table, 104.6ms\n",
      "Speed: 2.0ms preprocess, 104.6ms inference, 0.7ms postprocess per image at shape (1, 3, 480, 640)\n",
      "\n",
      "0: 480x640 2 persons, 1 chair, 1 dining table, 93.5ms\n",
      "Speed: 1.7ms preprocess, 93.5ms inference, 0.9ms postprocess per image at shape (1, 3, 480, 640)\n",
      "\n"
     ]
    },
    {
     "name": "stdout",
     "output_type": "stream",
     "text": [
      "Confidence ---> 0.89\n",
      "Class name --> person\n",
      "Confidence ---> 0.88\n",
      "Class name --> person\n",
      "Confidence ---> 0.72\n",
      "Class name --> chair\n",
      "Confidence ---> 0.66\n",
      "Class name --> diningtable\n",
      "Confidence ---> 0.9\n",
      "Class name --> person\n",
      "Confidence ---> 0.89\n",
      "Class name --> person\n",
      "Confidence ---> 0.72\n",
      "Class name --> chair\n",
      "Confidence ---> 0.65\n",
      "Class name --> diningtable\n"
     ]
    },
    {
     "name": "stderr",
     "output_type": "stream",
     "text": [
      "0: 480x640 2 persons, 1 chair, 1 dining table, 105.6ms\n",
      "Speed: 1.8ms preprocess, 105.6ms inference, 0.8ms postprocess per image at shape (1, 3, 480, 640)\n",
      "\n",
      "0: 480x640 2 persons, 1 chair, 1 dining table, 92.8ms\n",
      "Speed: 1.8ms preprocess, 92.8ms inference, 0.7ms postprocess per image at shape (1, 3, 480, 640)\n",
      "\n"
     ]
    },
    {
     "name": "stdout",
     "output_type": "stream",
     "text": [
      "Confidence ---> 0.89\n",
      "Class name --> person\n",
      "Confidence ---> 0.88\n",
      "Class name --> person\n",
      "Confidence ---> 0.69\n",
      "Class name --> chair\n",
      "Confidence ---> 0.57\n",
      "Class name --> diningtable\n",
      "Confidence ---> 0.91\n",
      "Class name --> person\n",
      "Confidence ---> 0.88\n",
      "Class name --> person\n",
      "Confidence ---> 0.69\n",
      "Class name --> chair\n",
      "Confidence ---> 0.66\n",
      "Class name --> diningtable\n"
     ]
    },
    {
     "name": "stderr",
     "output_type": "stream",
     "text": [
      "0: 480x640 2 persons, 1 chair, 1 dining table, 112.5ms\n",
      "Speed: 2.4ms preprocess, 112.5ms inference, 0.8ms postprocess per image at shape (1, 3, 480, 640)\n",
      "\n",
      "0: 480x640 2 persons, 1 chair, 1 dining table, 97.4ms\n",
      "Speed: 2.3ms preprocess, 97.4ms inference, 0.7ms postprocess per image at shape (1, 3, 480, 640)\n",
      "\n"
     ]
    },
    {
     "name": "stdout",
     "output_type": "stream",
     "text": [
      "Confidence ---> 0.92\n",
      "Class name --> person\n",
      "Confidence ---> 0.88\n",
      "Class name --> person\n",
      "Confidence ---> 0.74\n",
      "Class name --> chair\n",
      "Confidence ---> 0.67\n",
      "Class name --> diningtable\n",
      "Confidence ---> 0.92\n",
      "Class name --> person\n",
      "Confidence ---> 0.88\n",
      "Class name --> person\n",
      "Confidence ---> 0.68\n",
      "Class name --> chair\n",
      "Confidence ---> 0.66\n",
      "Class name --> diningtable\n"
     ]
    },
    {
     "name": "stderr",
     "output_type": "stream",
     "text": [
      "0: 480x640 2 persons, 1 chair, 1 dining table, 109.3ms\n",
      "Speed: 2.3ms preprocess, 109.3ms inference, 0.7ms postprocess per image at shape (1, 3, 480, 640)\n",
      "\n",
      "0: 480x640 2 persons, 1 chair, 1 dining table, 1 cell phone, 93.9ms\n",
      "Speed: 2.2ms preprocess, 93.9ms inference, 0.8ms postprocess per image at shape (1, 3, 480, 640)\n",
      "\n"
     ]
    },
    {
     "name": "stdout",
     "output_type": "stream",
     "text": [
      "Confidence ---> 0.9\n",
      "Class name --> person\n",
      "Confidence ---> 0.88\n",
      "Class name --> person\n",
      "Confidence ---> 0.66\n",
      "Class name --> diningtable\n",
      "Confidence ---> 0.64\n",
      "Class name --> chair\n",
      "Confidence ---> 0.9\n",
      "Class name --> person\n",
      "Confidence ---> 0.87\n",
      "Class name --> person\n",
      "Confidence ---> 0.69\n",
      "Class name --> chair\n",
      "Confidence ---> 0.64\n",
      "Class name --> diningtable\n",
      "Confidence ---> 0.54\n",
      "Class name --> cell phone\n"
     ]
    },
    {
     "name": "stderr",
     "output_type": "stream",
     "text": [
      "0: 480x640 2 persons, 1 chair, 1 dining table, 117.7ms\n",
      "Speed: 2.2ms preprocess, 117.7ms inference, 0.7ms postprocess per image at shape (1, 3, 480, 640)\n",
      "\n",
      "0: 480x640 2 persons, 1 chair, 1 dining table, 99.3ms\n",
      "Speed: 2.4ms preprocess, 99.3ms inference, 0.7ms postprocess per image at shape (1, 3, 480, 640)\n",
      "\n"
     ]
    },
    {
     "name": "stdout",
     "output_type": "stream",
     "text": [
      "Confidence ---> 0.92\n",
      "Class name --> person\n",
      "Confidence ---> 0.88\n",
      "Class name --> person\n",
      "Confidence ---> 0.7\n",
      "Class name --> diningtable\n",
      "Confidence ---> 0.67\n",
      "Class name --> chair\n",
      "Confidence ---> 0.91\n",
      "Class name --> person\n",
      "Confidence ---> 0.88\n",
      "Class name --> person\n",
      "Confidence ---> 0.71\n",
      "Class name --> chair\n",
      "Confidence ---> 0.67\n",
      "Class name --> diningtable\n"
     ]
    },
    {
     "name": "stderr",
     "output_type": "stream",
     "text": [
      "0: 480x640 2 persons, 1 chair, 1 dining table, 111.2ms\n",
      "Speed: 2.8ms preprocess, 111.2ms inference, 0.8ms postprocess per image at shape (1, 3, 480, 640)\n",
      "\n",
      "0: 480x640 2 persons, 1 chair, 1 dining table, 98.5ms\n",
      "Speed: 2.3ms preprocess, 98.5ms inference, 0.7ms postprocess per image at shape (1, 3, 480, 640)\n",
      "\n"
     ]
    },
    {
     "name": "stdout",
     "output_type": "stream",
     "text": [
      "Confidence ---> 0.94\n",
      "Class name --> person\n",
      "Confidence ---> 0.88\n",
      "Class name --> person\n",
      "Confidence ---> 0.73\n",
      "Class name --> chair\n",
      "Confidence ---> 0.52\n",
      "Class name --> diningtable\n",
      "Confidence ---> 0.93\n",
      "Class name --> person\n",
      "Confidence ---> 0.88\n",
      "Class name --> person\n",
      "Confidence ---> 0.72\n",
      "Class name --> chair\n",
      "Confidence ---> 0.37\n",
      "Class name --> diningtable\n"
     ]
    },
    {
     "name": "stderr",
     "output_type": "stream",
     "text": [
      "0: 480x640 2 persons, 1 chair, 1 dining table, 1 cell phone, 105.6ms\n",
      "Speed: 2.3ms preprocess, 105.6ms inference, 0.8ms postprocess per image at shape (1, 3, 480, 640)\n",
      "\n",
      "0: 480x640 2 persons, 1 chair, 1 dining table, 1 cell phone, 123.5ms\n",
      "Speed: 33.3ms preprocess, 123.5ms inference, 0.7ms postprocess per image at shape (1, 3, 480, 640)\n"
     ]
    },
    {
     "name": "stdout",
     "output_type": "stream",
     "text": [
      "Confidence ---> 0.94\n",
      "Class name --> person\n",
      "Confidence ---> 0.88\n",
      "Class name --> person\n",
      "Confidence ---> 0.73\n",
      "Class name --> chair\n",
      "Confidence ---> 0.42\n",
      "Class name --> diningtable\n",
      "Confidence ---> 0.39\n",
      "Class name --> cell phone\n",
      "Confidence ---> 0.94\n",
      "Class name --> person\n",
      "Confidence ---> 0.87\n",
      "Class name --> person\n",
      "Confidence ---> 0.68\n",
      "Class name --> chair\n",
      "Confidence ---> 0.4\n",
      "Class name --> diningtable\n",
      "Confidence ---> 0.26\n",
      "Class name --> cell phone\n"
     ]
    },
    {
     "name": "stderr",
     "output_type": "stream",
     "text": [
      "\n",
      "0: 480x640 2 persons, 1 chair, 1 dining table, 107.4ms\n",
      "Speed: 2.5ms preprocess, 107.4ms inference, 0.9ms postprocess per image at shape (1, 3, 480, 640)\n",
      "\n",
      "0: 480x640 2 persons, 1 chair, 1 dining table, 94.2ms\n",
      "Speed: 2.4ms preprocess, 94.2ms inference, 1.0ms postprocess per image at shape (1, 3, 480, 640)\n",
      "\n"
     ]
    },
    {
     "name": "stdout",
     "output_type": "stream",
     "text": [
      "Confidence ---> 0.94\n",
      "Class name --> person\n",
      "Confidence ---> 0.88\n",
      "Class name --> person\n",
      "Confidence ---> 0.69\n",
      "Class name --> chair\n",
      "Confidence ---> 0.28\n",
      "Class name --> diningtable\n",
      "Confidence ---> 0.94\n",
      "Class name --> person\n",
      "Confidence ---> 0.86\n",
      "Class name --> person\n",
      "Confidence ---> 0.66\n",
      "Class name --> chair\n",
      "Confidence ---> 0.29\n",
      "Class name --> diningtable\n"
     ]
    },
    {
     "name": "stderr",
     "output_type": "stream",
     "text": [
      "0: 480x640 2 persons, 1 chair, 1 dining table, 104.5ms\n",
      "Speed: 2.5ms preprocess, 104.5ms inference, 0.7ms postprocess per image at shape (1, 3, 480, 640)\n",
      "\n",
      "0: 480x640 2 persons, 1 chair, 1 dining table, 98.4ms\n",
      "Speed: 2.4ms preprocess, 98.4ms inference, 0.8ms postprocess per image at shape (1, 3, 480, 640)\n",
      "\n"
     ]
    },
    {
     "name": "stdout",
     "output_type": "stream",
     "text": [
      "Confidence ---> 0.94\n",
      "Class name --> person\n",
      "Confidence ---> 0.88\n",
      "Class name --> person\n",
      "Confidence ---> 0.7\n",
      "Class name --> chair\n",
      "Confidence ---> 0.4\n",
      "Class name --> diningtable\n",
      "Confidence ---> 0.94\n",
      "Class name --> person\n",
      "Confidence ---> 0.86\n",
      "Class name --> person\n",
      "Confidence ---> 0.71\n",
      "Class name --> chair\n",
      "Confidence ---> 0.4\n",
      "Class name --> diningtable\n"
     ]
    },
    {
     "name": "stderr",
     "output_type": "stream",
     "text": [
      "0: 480x640 2 persons, 1 chair, 1 dining table, 119.5ms\n",
      "Speed: 2.4ms preprocess, 119.5ms inference, 0.7ms postprocess per image at shape (1, 3, 480, 640)\n",
      "\n",
      "0: 480x640 2 persons, 1 chair, 1 dining table, 95.0ms\n",
      "Speed: 2.4ms preprocess, 95.0ms inference, 0.9ms postprocess per image at shape (1, 3, 480, 640)\n",
      "\n"
     ]
    },
    {
     "name": "stdout",
     "output_type": "stream",
     "text": [
      "Confidence ---> 0.95\n",
      "Class name --> person\n",
      "Confidence ---> 0.87\n",
      "Class name --> person\n",
      "Confidence ---> 0.72\n",
      "Class name --> chair\n",
      "Confidence ---> 0.4\n",
      "Class name --> diningtable\n",
      "Confidence ---> 0.95\n",
      "Class name --> person\n",
      "Confidence ---> 0.87\n",
      "Class name --> person\n",
      "Confidence ---> 0.69\n",
      "Class name --> chair\n",
      "Confidence ---> 0.35\n",
      "Class name --> diningtable\n"
     ]
    },
    {
     "name": "stderr",
     "output_type": "stream",
     "text": [
      "0: 480x640 2 persons, 1 chair, 1 dining table, 108.6ms\n",
      "Speed: 2.2ms preprocess, 108.6ms inference, 0.7ms postprocess per image at shape (1, 3, 480, 640)\n",
      "\n",
      "0: 480x640 2 persons, 1 chair, 1 dining table, 1 cell phone, 95.7ms\n",
      "Speed: 2.2ms preprocess, 95.7ms inference, 0.8ms postprocess per image at shape (1, 3, 480, 640)\n",
      "\n"
     ]
    },
    {
     "name": "stdout",
     "output_type": "stream",
     "text": [
      "Confidence ---> 0.95\n",
      "Class name --> person\n",
      "Confidence ---> 0.88\n",
      "Class name --> person\n",
      "Confidence ---> 0.72\n",
      "Class name --> chair\n",
      "Confidence ---> 0.35\n",
      "Class name --> diningtable\n",
      "Confidence ---> 0.95\n",
      "Class name --> person\n",
      "Confidence ---> 0.87\n",
      "Class name --> person\n",
      "Confidence ---> 0.71\n",
      "Class name --> chair\n",
      "Confidence ---> 0.31\n",
      "Class name --> diningtable\n",
      "Confidence ---> 0.26\n",
      "Class name --> cell phone\n"
     ]
    },
    {
     "name": "stderr",
     "output_type": "stream",
     "text": [
      "0: 480x640 2 persons, 1 chair, 1 dining table, 102.1ms\n",
      "Speed: 2.5ms preprocess, 102.1ms inference, 0.7ms postprocess per image at shape (1, 3, 480, 640)\n",
      "\n",
      "0: 480x640 2 persons, 1 chair, 1 dining table, 106.0ms\n",
      "Speed: 2.3ms preprocess, 106.0ms inference, 0.7ms postprocess per image at shape (1, 3, 480, 640)\n",
      "\n"
     ]
    },
    {
     "name": "stdout",
     "output_type": "stream",
     "text": [
      "Confidence ---> 0.94\n",
      "Class name --> person\n",
      "Confidence ---> 0.89\n",
      "Class name --> person\n",
      "Confidence ---> 0.68\n",
      "Class name --> chair\n",
      "Confidence ---> 0.34\n",
      "Class name --> diningtable\n",
      "Confidence ---> 0.95\n",
      "Class name --> person\n",
      "Confidence ---> 0.88\n",
      "Class name --> person\n",
      "Confidence ---> 0.66\n",
      "Class name --> chair\n",
      "Confidence ---> 0.36\n",
      "Class name --> diningtable\n"
     ]
    },
    {
     "name": "stderr",
     "output_type": "stream",
     "text": [
      "0: 480x640 2 persons, 1 chair, 1 dining table, 112.1ms\n",
      "Speed: 2.3ms preprocess, 112.1ms inference, 0.9ms postprocess per image at shape (1, 3, 480, 640)\n",
      "\n",
      "0: 480x640 2 persons, 1 chair, 1 dining table, 92.5ms\n",
      "Speed: 2.4ms preprocess, 92.5ms inference, 0.7ms postprocess per image at shape (1, 3, 480, 640)\n",
      "\n"
     ]
    },
    {
     "name": "stdout",
     "output_type": "stream",
     "text": [
      "Confidence ---> 0.95\n",
      "Class name --> person\n",
      "Confidence ---> 0.86\n",
      "Class name --> person\n",
      "Confidence ---> 0.66\n",
      "Class name --> chair\n",
      "Confidence ---> 0.33\n",
      "Class name --> diningtable\n",
      "Confidence ---> 0.95\n",
      "Class name --> person\n",
      "Confidence ---> 0.87\n",
      "Class name --> person\n",
      "Confidence ---> 0.63\n",
      "Class name --> chair\n",
      "Confidence ---> 0.44\n",
      "Class name --> diningtable\n"
     ]
    },
    {
     "name": "stderr",
     "output_type": "stream",
     "text": [
      "0: 480x640 2 persons, 1 chair, 1 dining table, 109.5ms\n",
      "Speed: 2.6ms preprocess, 109.5ms inference, 0.7ms postprocess per image at shape (1, 3, 480, 640)\n",
      "\n",
      "0: 480x640 2 persons, 1 chair, 1 dining table, 95.8ms\n",
      "Speed: 2.5ms preprocess, 95.8ms inference, 0.8ms postprocess per image at shape (1, 3, 480, 640)\n",
      "\n"
     ]
    },
    {
     "name": "stdout",
     "output_type": "stream",
     "text": [
      "Confidence ---> 0.95\n",
      "Class name --> person\n",
      "Confidence ---> 0.87\n",
      "Class name --> person\n",
      "Confidence ---> 0.67\n",
      "Class name --> chair\n",
      "Confidence ---> 0.39\n",
      "Class name --> diningtable\n",
      "Confidence ---> 0.95\n",
      "Class name --> person\n",
      "Confidence ---> 0.88\n",
      "Class name --> person\n",
      "Confidence ---> 0.6\n",
      "Class name --> chair\n",
      "Confidence ---> 0.44\n",
      "Class name --> diningtable\n"
     ]
    },
    {
     "name": "stderr",
     "output_type": "stream",
     "text": [
      "0: 480x640 2 persons, 1 cup, 1 chair, 1 dining table, 99.5ms\n",
      "Speed: 2.8ms preprocess, 99.5ms inference, 0.7ms postprocess per image at shape (1, 3, 480, 640)\n",
      "\n",
      "0: 480x640 2 persons, 1 wine glass, 1 chair, 1 dining table, 147.5ms\n",
      "Speed: 2.4ms preprocess, 147.5ms inference, 0.7ms postprocess per image at shape (1, 3, 480, 640)\n"
     ]
    },
    {
     "name": "stdout",
     "output_type": "stream",
     "text": [
      "Confidence ---> 0.88\n",
      "Class name --> person\n",
      "Confidence ---> 0.86\n",
      "Class name --> person\n",
      "Confidence ---> 0.62\n",
      "Class name --> chair\n",
      "Confidence ---> 0.33\n",
      "Class name --> diningtable\n",
      "Confidence ---> 0.28\n",
      "Class name --> cup\n",
      "Confidence ---> 0.92\n",
      "Class name --> person\n",
      "Confidence ---> 0.69\n",
      "Class name --> person\n",
      "Confidence ---> 0.58\n",
      "Class name --> chair\n",
      "Confidence ---> 0.52\n",
      "Class name --> wine glass\n",
      "Confidence ---> 0.42\n",
      "Class name --> diningtable\n"
     ]
    },
    {
     "name": "stderr",
     "output_type": "stream",
     "text": [
      "\n",
      "0: 480x640 2 persons, 101.9ms\n",
      "Speed: 2.5ms preprocess, 101.9ms inference, 0.7ms postprocess per image at shape (1, 3, 480, 640)\n",
      "\n",
      "0: 480x640 1 person, 97.9ms\n",
      "Speed: 2.5ms preprocess, 97.9ms inference, 0.7ms postprocess per image at shape (1, 3, 480, 640)\n",
      "\n"
     ]
    },
    {
     "name": "stdout",
     "output_type": "stream",
     "text": [
      "Confidence ---> 0.8\n",
      "Class name --> person\n",
      "Confidence ---> 0.78\n",
      "Class name --> person\n",
      "Confidence ---> 0.61\n",
      "Class name --> person\n"
     ]
    },
    {
     "name": "stderr",
     "output_type": "stream",
     "text": [
      "0: 480x640 1 person, 131.8ms\n",
      "Speed: 2.4ms preprocess, 131.8ms inference, 0.8ms postprocess per image at shape (1, 3, 480, 640)\n",
      "\n",
      "0: 480x640 2 persons, 99.5ms\n",
      "Speed: 2.4ms preprocess, 99.5ms inference, 0.7ms postprocess per image at shape (1, 3, 480, 640)\n",
      "\n"
     ]
    },
    {
     "name": "stdout",
     "output_type": "stream",
     "text": [
      "Confidence ---> 0.4\n",
      "Class name --> person\n",
      "Confidence ---> 0.89\n",
      "Class name --> person\n",
      "Confidence ---> 0.86\n",
      "Class name --> person\n"
     ]
    },
    {
     "name": "stderr",
     "output_type": "stream",
     "text": [
      "0: 480x640 3 persons, 1 tv, 108.7ms\n",
      "Speed: 2.6ms preprocess, 108.7ms inference, 0.8ms postprocess per image at shape (1, 3, 480, 640)\n",
      "\n",
      "0: 480x640 2 persons, 1 microwave, 90.3ms\n",
      "Speed: 2.4ms preprocess, 90.3ms inference, 0.7ms postprocess per image at shape (1, 3, 480, 640)\n",
      "\n"
     ]
    },
    {
     "name": "stdout",
     "output_type": "stream",
     "text": [
      "Confidence ---> 0.88\n",
      "Class name --> person\n",
      "Confidence ---> 0.58\n",
      "Class name --> person\n",
      "Confidence ---> 0.39\n",
      "Class name --> person\n",
      "Confidence ---> 0.38\n",
      "Class name --> tvmonitor\n",
      "Confidence ---> 0.88\n",
      "Class name --> person\n",
      "Confidence ---> 0.55\n",
      "Class name --> person\n",
      "Confidence ---> 0.46\n",
      "Class name --> microwave\n"
     ]
    },
    {
     "name": "stderr",
     "output_type": "stream",
     "text": [
      "0: 480x640 4 persons, 1 laptop, 106.0ms\n",
      "Speed: 2.3ms preprocess, 106.0ms inference, 0.7ms postprocess per image at shape (1, 3, 480, 640)\n",
      "\n",
      "0: 480x640 3 persons, 1 laptop, 95.8ms\n",
      "Speed: 2.4ms preprocess, 95.8ms inference, 0.7ms postprocess per image at shape (1, 3, 480, 640)\n",
      "\n"
     ]
    },
    {
     "name": "stdout",
     "output_type": "stream",
     "text": [
      "Confidence ---> 0.82\n",
      "Class name --> person\n",
      "Confidence ---> 0.77\n",
      "Class name --> person\n",
      "Confidence ---> 0.5\n",
      "Class name --> person\n",
      "Confidence ---> 0.45\n",
      "Class name --> person\n",
      "Confidence ---> 0.27\n",
      "Class name --> laptop\n",
      "Confidence ---> 0.88\n",
      "Class name --> person\n",
      "Confidence ---> 0.74\n",
      "Class name --> person\n",
      "Confidence ---> 0.68\n",
      "Class name --> person\n",
      "Confidence ---> 0.62\n",
      "Class name --> laptop\n"
     ]
    },
    {
     "name": "stderr",
     "output_type": "stream",
     "text": [
      "0: 480x640 3 persons, 1 laptop, 111.0ms\n",
      "Speed: 2.3ms preprocess, 111.0ms inference, 0.8ms postprocess per image at shape (1, 3, 480, 640)\n",
      "\n",
      "0: 480x640 3 persons, 1 chair, 1 laptop, 91.2ms\n",
      "Speed: 2.2ms preprocess, 91.2ms inference, 0.7ms postprocess per image at shape (1, 3, 480, 640)\n",
      "\n"
     ]
    },
    {
     "name": "stdout",
     "output_type": "stream",
     "text": [
      "Confidence ---> 0.9\n",
      "Class name --> person\n",
      "Confidence ---> 0.79\n",
      "Class name --> person\n",
      "Confidence ---> 0.74\n",
      "Class name --> person\n",
      "Confidence ---> 0.7\n",
      "Class name --> laptop\n",
      "Confidence ---> 0.85\n",
      "Class name --> person\n",
      "Confidence ---> 0.85\n",
      "Class name --> person\n",
      "Confidence ---> 0.77\n",
      "Class name --> person\n",
      "Confidence ---> 0.75\n",
      "Class name --> laptop\n",
      "Confidence ---> 0.3\n",
      "Class name --> chair\n"
     ]
    },
    {
     "name": "stderr",
     "output_type": "stream",
     "text": [
      "0: 480x640 3 persons, 1 tv, 1 laptop, 112.4ms\n",
      "Speed: 2.3ms preprocess, 112.4ms inference, 0.8ms postprocess per image at shape (1, 3, 480, 640)\n",
      "\n",
      "0: 480x640 3 persons, 1 laptop, 91.9ms\n",
      "Speed: 2.3ms preprocess, 91.9ms inference, 0.7ms postprocess per image at shape (1, 3, 480, 640)\n",
      "\n"
     ]
    },
    {
     "name": "stdout",
     "output_type": "stream",
     "text": [
      "Confidence ---> 0.87\n",
      "Class name --> person\n",
      "Confidence ---> 0.86\n",
      "Class name --> person\n",
      "Confidence ---> 0.8\n",
      "Class name --> laptop\n",
      "Confidence ---> 0.75\n",
      "Class name --> person\n",
      "Confidence ---> 0.34\n",
      "Class name --> tvmonitor\n",
      "Confidence ---> 0.86\n",
      "Class name --> person\n",
      "Confidence ---> 0.86\n",
      "Class name --> person\n",
      "Confidence ---> 0.77\n",
      "Class name --> person\n",
      "Confidence ---> 0.76\n",
      "Class name --> laptop\n"
     ]
    },
    {
     "name": "stderr",
     "output_type": "stream",
     "text": [
      "0: 480x640 3 persons, 1 laptop, 121.3ms\n",
      "Speed: 2.2ms preprocess, 121.3ms inference, 0.7ms postprocess per image at shape (1, 3, 480, 640)\n",
      "\n",
      "0: 480x640 2 persons, 1 laptop, 102.4ms\n",
      "Speed: 2.3ms preprocess, 102.4ms inference, 0.7ms postprocess per image at shape (1, 3, 480, 640)\n",
      "\n"
     ]
    },
    {
     "name": "stdout",
     "output_type": "stream",
     "text": [
      "Confidence ---> 0.86\n",
      "Class name --> person\n",
      "Confidence ---> 0.79\n",
      "Class name --> person\n",
      "Confidence ---> 0.78\n",
      "Class name --> laptop\n",
      "Confidence ---> 0.71\n",
      "Class name --> person\n",
      "Confidence ---> 0.83\n",
      "Class name --> person\n",
      "Confidence ---> 0.82\n",
      "Class name --> laptop\n",
      "Confidence ---> 0.79\n",
      "Class name --> person\n"
     ]
    },
    {
     "name": "stderr",
     "output_type": "stream",
     "text": [
      "0: 480x640 2 persons, 1 tv, 1 laptop, 123.0ms\n",
      "Speed: 2.9ms preprocess, 123.0ms inference, 0.7ms postprocess per image at shape (1, 3, 480, 640)\n",
      "\n",
      "0: 480x640 2 persons, 1 tv, 1 laptop, 155.7ms\n"
     ]
    },
    {
     "name": "stdout",
     "output_type": "stream",
     "text": [
      "Confidence ---> 0.86\n",
      "Class name --> person\n",
      "Confidence ---> 0.85\n",
      "Class name --> laptop\n",
      "Confidence ---> 0.8\n",
      "Class name --> person\n",
      "Confidence ---> 0.26\n",
      "Class name --> tvmonitor\n",
      "Confidence ---> 0.89\n",
      "Class name --> person\n",
      "Confidence ---> 0.83\n",
      "Class name --> laptop\n",
      "Confidence ---> 0.78\n",
      "Class name --> person\n",
      "Confidence ---> 0.29\n",
      "Class name --> tvmonitor\n"
     ]
    },
    {
     "name": "stderr",
     "output_type": "stream",
     "text": [
      "Speed: 2.4ms preprocess, 155.7ms inference, 0.7ms postprocess per image at shape (1, 3, 480, 640)\n",
      "\n",
      "0: 480x640 2 persons, 1 tv, 1 laptop, 103.2ms\n",
      "Speed: 2.6ms preprocess, 103.2ms inference, 0.7ms postprocess per image at shape (1, 3, 480, 640)\n",
      "\n",
      "0: 480x640 2 persons, 1 chair, 1 laptop, 97.8ms\n",
      "Speed: 2.5ms preprocess, 97.8ms inference, 0.8ms postprocess per image at shape (1, 3, 480, 640)\n",
      "\n"
     ]
    },
    {
     "name": "stdout",
     "output_type": "stream",
     "text": [
      "Confidence ---> 0.89\n",
      "Class name --> person\n",
      "Confidence ---> 0.82\n",
      "Class name --> person\n",
      "Confidence ---> 0.81\n",
      "Class name --> laptop\n",
      "Confidence ---> 0.39\n",
      "Class name --> tvmonitor\n",
      "Confidence ---> 0.86\n",
      "Class name --> person\n",
      "Confidence ---> 0.86\n",
      "Class name --> laptop\n",
      "Confidence ---> 0.83\n",
      "Class name --> person\n",
      "Confidence ---> 0.3\n",
      "Class name --> chair\n"
     ]
    },
    {
     "name": "stderr",
     "output_type": "stream",
     "text": [
      "0: 480x640 2 persons, 1 chair, 1 tv, 1 laptop, 110.3ms\n",
      "Speed: 2.6ms preprocess, 110.3ms inference, 0.7ms postprocess per image at shape (1, 3, 480, 640)\n",
      "\n",
      "0: 480x640 2 persons, 1 chair, 1 laptop, 92.2ms\n",
      "Speed: 2.3ms preprocess, 92.2ms inference, 0.8ms postprocess per image at shape (1, 3, 480, 640)\n",
      "\n"
     ]
    },
    {
     "name": "stdout",
     "output_type": "stream",
     "text": [
      "Confidence ---> 0.88\n",
      "Class name --> person\n",
      "Confidence ---> 0.86\n",
      "Class name --> laptop\n",
      "Confidence ---> 0.84\n",
      "Class name --> person\n",
      "Confidence ---> 0.33\n",
      "Class name --> chair\n",
      "Confidence ---> 0.29\n",
      "Class name --> tvmonitor\n",
      "Confidence ---> 0.89\n",
      "Class name --> laptop\n",
      "Confidence ---> 0.85\n",
      "Class name --> person\n",
      "Confidence ---> 0.84\n",
      "Class name --> person\n",
      "Confidence ---> 0.33\n",
      "Class name --> chair\n"
     ]
    },
    {
     "name": "stderr",
     "output_type": "stream",
     "text": [
      "0: 480x640 2 persons, 1 laptop, 107.1ms\n",
      "Speed: 2.4ms preprocess, 107.1ms inference, 0.7ms postprocess per image at shape (1, 3, 480, 640)\n",
      "\n",
      "0: 480x640 2 persons, 2 tvs, 1 laptop, 95.9ms\n",
      "Speed: 2.6ms preprocess, 95.9ms inference, 0.7ms postprocess per image at shape (1, 3, 480, 640)\n",
      "\n"
     ]
    },
    {
     "name": "stdout",
     "output_type": "stream",
     "text": [
      "Confidence ---> 0.92\n",
      "Class name --> person\n",
      "Confidence ---> 0.88\n",
      "Class name --> laptop\n",
      "Confidence ---> 0.8\n",
      "Class name --> person\n",
      "Confidence ---> 0.88\n",
      "Class name --> person\n",
      "Confidence ---> 0.88\n",
      "Class name --> laptop\n",
      "Confidence ---> 0.81\n",
      "Class name --> person\n",
      "Confidence ---> 0.41\n",
      "Class name --> tvmonitor\n",
      "Confidence ---> 0.35\n",
      "Class name --> tvmonitor\n"
     ]
    },
    {
     "name": "stderr",
     "output_type": "stream",
     "text": [
      "0: 480x640 2 persons, 2 tvs, 1 laptop, 114.3ms\n",
      "Speed: 2.4ms preprocess, 114.3ms inference, 0.7ms postprocess per image at shape (1, 3, 480, 640)\n",
      "\n",
      "0: 480x640 2 persons, 2 tvs, 94.9ms\n",
      "Speed: 2.3ms preprocess, 94.9ms inference, 0.8ms postprocess per image at shape (1, 3, 480, 640)\n",
      "\n"
     ]
    },
    {
     "name": "stdout",
     "output_type": "stream",
     "text": [
      "Confidence ---> 0.88\n",
      "Class name --> laptop\n",
      "Confidence ---> 0.88\n",
      "Class name --> person\n",
      "Confidence ---> 0.81\n",
      "Class name --> person\n",
      "Confidence ---> 0.44\n",
      "Class name --> tvmonitor\n",
      "Confidence ---> 0.35\n",
      "Class name --> tvmonitor\n",
      "Confidence ---> 0.72\n",
      "Class name --> person\n",
      "Confidence ---> 0.56\n",
      "Class name --> person\n",
      "Confidence ---> 0.43\n",
      "Class name --> tvmonitor\n",
      "Confidence ---> 0.38\n",
      "Class name --> tvmonitor\n"
     ]
    },
    {
     "name": "stderr",
     "output_type": "stream",
     "text": [
      "0: 480x640 3 persons, 107.8ms\n",
      "Speed: 2.5ms preprocess, 107.8ms inference, 0.7ms postprocess per image at shape (1, 3, 480, 640)\n",
      "\n",
      "0: 480x640 1 person, 100.0ms\n",
      "Speed: 3.6ms preprocess, 100.0ms inference, 0.7ms postprocess per image at shape (1, 3, 480, 640)\n",
      "\n"
     ]
    },
    {
     "name": "stdout",
     "output_type": "stream",
     "text": [
      "Confidence ---> 0.8\n",
      "Class name --> person\n",
      "Confidence ---> 0.27\n",
      "Class name --> person\n",
      "Confidence ---> 0.27\n",
      "Class name --> person\n",
      "Confidence ---> 0.76\n",
      "Class name --> person\n"
     ]
    },
    {
     "name": "stderr",
     "output_type": "stream",
     "text": [
      "0: 480x640 1 person, 111.6ms\n",
      "Speed: 2.5ms preprocess, 111.6ms inference, 0.9ms postprocess per image at shape (1, 3, 480, 640)\n",
      "\n",
      "0: 480x640 1 person, 93.9ms\n",
      "Speed: 2.4ms preprocess, 93.9ms inference, 0.7ms postprocess per image at shape (1, 3, 480, 640)\n",
      "\n"
     ]
    },
    {
     "name": "stdout",
     "output_type": "stream",
     "text": [
      "Confidence ---> 0.84\n",
      "Class name --> person\n",
      "Confidence ---> 0.86\n",
      "Class name --> person\n"
     ]
    },
    {
     "name": "stderr",
     "output_type": "stream",
     "text": [
      "0: 480x640 1 person, 114.7ms\n",
      "Speed: 2.2ms preprocess, 114.7ms inference, 0.8ms postprocess per image at shape (1, 3, 480, 640)\n",
      "\n",
      "0: 480x640 1 person, 94.3ms\n",
      "Speed: 2.3ms preprocess, 94.3ms inference, 0.8ms postprocess per image at shape (1, 3, 480, 640)\n",
      "\n"
     ]
    },
    {
     "name": "stdout",
     "output_type": "stream",
     "text": [
      "Confidence ---> 0.86\n",
      "Class name --> person\n",
      "Confidence ---> 0.86\n",
      "Class name --> person\n"
     ]
    },
    {
     "name": "stderr",
     "output_type": "stream",
     "text": [
      "0: 480x640 1 person, 126.1ms\n",
      "Speed: 2.5ms preprocess, 126.1ms inference, 0.7ms postprocess per image at shape (1, 3, 480, 640)\n",
      "\n",
      "0: 480x640 1 person, 103.1ms\n",
      "Speed: 15.6ms preprocess, 103.1ms inference, 0.7ms postprocess per image at shape (1, 3, 480, 640)\n"
     ]
    },
    {
     "name": "stdout",
     "output_type": "stream",
     "text": [
      "Confidence ---> 0.88\n",
      "Class name --> person\n",
      "Confidence ---> 0.89\n",
      "Class name --> person\n"
     ]
    },
    {
     "name": "stderr",
     "output_type": "stream",
     "text": [
      "\n",
      "0: 480x640 1 person, 100.6ms\n",
      "Speed: 2.6ms preprocess, 100.6ms inference, 0.7ms postprocess per image at shape (1, 3, 480, 640)\n",
      "\n",
      "0: 480x640 1 person, 94.9ms\n",
      "Speed: 2.2ms preprocess, 94.9ms inference, 0.8ms postprocess per image at shape (1, 3, 480, 640)\n",
      "\n"
     ]
    },
    {
     "name": "stdout",
     "output_type": "stream",
     "text": [
      "Confidence ---> 0.87\n",
      "Class name --> person\n",
      "Confidence ---> 0.88\n",
      "Class name --> person\n"
     ]
    },
    {
     "name": "stderr",
     "output_type": "stream",
     "text": [
      "0: 480x640 1 person, 109.4ms\n",
      "Speed: 2.6ms preprocess, 109.4ms inference, 0.7ms postprocess per image at shape (1, 3, 480, 640)\n",
      "\n",
      "0: 480x640 1 person, 105.6ms\n",
      "Speed: 2.4ms preprocess, 105.6ms inference, 0.7ms postprocess per image at shape (1, 3, 480, 640)\n",
      "\n"
     ]
    },
    {
     "name": "stdout",
     "output_type": "stream",
     "text": [
      "Confidence ---> 0.9\n",
      "Class name --> person\n",
      "Confidence ---> 0.85\n",
      "Class name --> person\n"
     ]
    },
    {
     "name": "stderr",
     "output_type": "stream",
     "text": [
      "0: 480x640 1 person, 110.3ms\n",
      "Speed: 2.4ms preprocess, 110.3ms inference, 0.7ms postprocess per image at shape (1, 3, 480, 640)\n",
      "\n",
      "0: 480x640 1 person, 92.3ms\n",
      "Speed: 2.2ms preprocess, 92.3ms inference, 0.7ms postprocess per image at shape (1, 3, 480, 640)\n",
      "\n"
     ]
    },
    {
     "name": "stdout",
     "output_type": "stream",
     "text": [
      "Confidence ---> 0.89\n",
      "Class name --> person\n",
      "Confidence ---> 0.89\n",
      "Class name --> person\n"
     ]
    },
    {
     "name": "stderr",
     "output_type": "stream",
     "text": [
      "0: 480x640 1 person, 106.9ms\n",
      "Speed: 2.2ms preprocess, 106.9ms inference, 0.7ms postprocess per image at shape (1, 3, 480, 640)\n",
      "\n",
      "0: 480x640 1 person, 93.3ms\n",
      "Speed: 2.4ms preprocess, 93.3ms inference, 0.7ms postprocess per image at shape (1, 3, 480, 640)\n",
      "\n"
     ]
    },
    {
     "name": "stdout",
     "output_type": "stream",
     "text": [
      "Confidence ---> 0.85\n",
      "Class name --> person\n",
      "Confidence ---> 0.86\n",
      "Class name --> person\n"
     ]
    },
    {
     "name": "stderr",
     "output_type": "stream",
     "text": [
      "0: 480x640 1 person, 110.8ms\n",
      "Speed: 2.7ms preprocess, 110.8ms inference, 0.7ms postprocess per image at shape (1, 3, 480, 640)\n",
      "\n",
      "0: 480x640 1 person, 93.1ms\n",
      "Speed: 2.3ms preprocess, 93.1ms inference, 0.7ms postprocess per image at shape (1, 3, 480, 640)\n",
      "\n"
     ]
    },
    {
     "name": "stdout",
     "output_type": "stream",
     "text": [
      "Confidence ---> 0.87\n",
      "Class name --> person\n",
      "Confidence ---> 0.85\n",
      "Class name --> person\n"
     ]
    },
    {
     "name": "stderr",
     "output_type": "stream",
     "text": [
      "0: 480x640 2 persons, 111.0ms\n",
      "Speed: 2.3ms preprocess, 111.0ms inference, 0.7ms postprocess per image at shape (1, 3, 480, 640)\n",
      "\n",
      "0: 480x640 3 persons, 94.7ms\n",
      "Speed: 2.2ms preprocess, 94.7ms inference, 0.8ms postprocess per image at shape (1, 3, 480, 640)\n",
      "\n"
     ]
    },
    {
     "name": "stdout",
     "output_type": "stream",
     "text": [
      "Confidence ---> 0.8\n",
      "Class name --> person\n",
      "Confidence ---> 0.58\n",
      "Class name --> person\n",
      "Confidence ---> 0.78\n",
      "Class name --> person\n",
      "Confidence ---> 0.69\n",
      "Class name --> person\n",
      "Confidence ---> 0.32\n",
      "Class name --> person\n"
     ]
    },
    {
     "name": "stderr",
     "output_type": "stream",
     "text": [
      "0: 480x640 3 persons, 1 tv, 110.2ms\n",
      "Speed: 2.6ms preprocess, 110.2ms inference, 0.7ms postprocess per image at shape (1, 3, 480, 640)\n",
      "\n",
      "0: 480x640 3 persons, 1 bottle, 89.6ms\n",
      "Speed: 2.5ms preprocess, 89.6ms inference, 0.7ms postprocess per image at shape (1, 3, 480, 640)\n",
      "\n"
     ]
    },
    {
     "name": "stdout",
     "output_type": "stream",
     "text": [
      "Confidence ---> 0.8\n",
      "Class name --> person\n",
      "Confidence ---> 0.69\n",
      "Class name --> person\n",
      "Confidence ---> 0.51\n",
      "Class name --> person\n",
      "Confidence ---> 0.37\n",
      "Class name --> tvmonitor\n",
      "Confidence ---> 0.8\n",
      "Class name --> person\n",
      "Confidence ---> 0.69\n",
      "Class name --> person\n",
      "Confidence ---> 0.46\n",
      "Class name --> person\n",
      "Confidence ---> 0.27\n",
      "Class name --> bottle\n"
     ]
    },
    {
     "name": "stderr",
     "output_type": "stream",
     "text": [
      "0: 480x640 3 persons, 110.2ms\n",
      "Speed: 2.5ms preprocess, 110.2ms inference, 0.7ms postprocess per image at shape (1, 3, 480, 640)\n",
      "\n",
      "0: 480x640 3 persons, 100.9ms\n",
      "Speed: 10.4ms preprocess, 100.9ms inference, 0.7ms postprocess per image at shape (1, 3, 480, 640)\n"
     ]
    },
    {
     "name": "stdout",
     "output_type": "stream",
     "text": [
      "Confidence ---> 0.76\n",
      "Class name --> person\n",
      "Confidence ---> 0.67\n",
      "Class name --> person\n",
      "Confidence ---> 0.61\n",
      "Class name --> person\n",
      "Confidence ---> 0.8\n",
      "Class name --> person\n",
      "Confidence ---> 0.71\n",
      "Class name --> person\n",
      "Confidence ---> 0.54\n",
      "Class name --> person\n"
     ]
    },
    {
     "name": "stderr",
     "output_type": "stream",
     "text": [
      "\n",
      "0: 480x640 4 persons, 103.2ms\n",
      "Speed: 2.2ms preprocess, 103.2ms inference, 0.7ms postprocess per image at shape (1, 3, 480, 640)\n",
      "\n",
      "0: 480x640 3 persons, 94.9ms\n",
      "Speed: 2.2ms preprocess, 94.9ms inference, 0.7ms postprocess per image at shape (1, 3, 480, 640)\n",
      "\n"
     ]
    },
    {
     "name": "stdout",
     "output_type": "stream",
     "text": [
      "Confidence ---> 0.77\n",
      "Class name --> person\n",
      "Confidence ---> 0.69\n",
      "Class name --> person\n",
      "Confidence ---> 0.33\n",
      "Class name --> person\n",
      "Confidence ---> 0.27\n",
      "Class name --> person\n",
      "Confidence ---> 0.79\n",
      "Class name --> person\n",
      "Confidence ---> 0.73\n",
      "Class name --> person\n",
      "Confidence ---> 0.42\n",
      "Class name --> person\n"
     ]
    },
    {
     "name": "stderr",
     "output_type": "stream",
     "text": [
      "0: 480x640 4 persons, 109.2ms\n",
      "Speed: 2.5ms preprocess, 109.2ms inference, 0.7ms postprocess per image at shape (1, 3, 480, 640)\n",
      "\n",
      "0: 480x640 2 persons, 88.6ms\n",
      "Speed: 2.3ms preprocess, 88.6ms inference, 0.7ms postprocess per image at shape (1, 3, 480, 640)\n",
      "\n"
     ]
    },
    {
     "name": "stdout",
     "output_type": "stream",
     "text": [
      "Confidence ---> 0.76\n",
      "Class name --> person\n",
      "Confidence ---> 0.68\n",
      "Class name --> person\n",
      "Confidence ---> 0.3\n",
      "Class name --> person\n",
      "Confidence ---> 0.27\n",
      "Class name --> person\n",
      "Confidence ---> 0.78\n",
      "Class name --> person\n",
      "Confidence ---> 0.7\n",
      "Class name --> person\n"
     ]
    },
    {
     "name": "stderr",
     "output_type": "stream",
     "text": [
      "0: 480x640 2 persons, 1 laptop, 104.4ms\n",
      "Speed: 2.3ms preprocess, 104.4ms inference, 0.7ms postprocess per image at shape (1, 3, 480, 640)\n",
      "\n",
      "0: 480x640 2 persons, 1 laptop, 95.6ms\n",
      "Speed: 7.0ms preprocess, 95.6ms inference, 0.7ms postprocess per image at shape (1, 3, 480, 640)\n",
      "\n"
     ]
    },
    {
     "name": "stdout",
     "output_type": "stream",
     "text": [
      "Confidence ---> 0.82\n",
      "Class name --> person\n",
      "Confidence ---> 0.77\n",
      "Class name --> person\n",
      "Confidence ---> 0.48\n",
      "Class name --> laptop\n",
      "Confidence ---> 0.83\n",
      "Class name --> person\n",
      "Confidence ---> 0.76\n",
      "Class name --> laptop\n",
      "Confidence ---> 0.73\n",
      "Class name --> person\n"
     ]
    },
    {
     "name": "stderr",
     "output_type": "stream",
     "text": [
      "0: 480x640 3 persons, 1 tv, 1 laptop, 1 cell phone, 109.5ms\n",
      "Speed: 2.7ms preprocess, 109.5ms inference, 0.7ms postprocess per image at shape (1, 3, 480, 640)\n",
      "\n",
      "0: 480x640 4 persons, 1 tv, 1 laptop, 98.7ms\n",
      "Speed: 2.3ms preprocess, 98.7ms inference, 0.7ms postprocess per image at shape (1, 3, 480, 640)\n",
      "\n"
     ]
    },
    {
     "name": "stdout",
     "output_type": "stream",
     "text": [
      "Confidence ---> 0.85\n",
      "Class name --> person\n",
      "Confidence ---> 0.81\n",
      "Class name --> laptop\n",
      "Confidence ---> 0.76\n",
      "Class name --> person\n",
      "Confidence ---> 0.5\n",
      "Class name --> person\n",
      "Confidence ---> 0.31\n",
      "Class name --> tvmonitor\n",
      "Confidence ---> 0.3\n",
      "Class name --> cell phone\n",
      "Confidence ---> 0.86\n",
      "Class name --> person\n",
      "Confidence ---> 0.75\n",
      "Class name --> person\n",
      "Confidence ---> 0.71\n",
      "Class name --> laptop\n",
      "Confidence ---> 0.54\n",
      "Class name --> person\n",
      "Confidence ---> 0.42\n",
      "Class name --> person\n",
      "Confidence ---> 0.28\n",
      "Class name --> tvmonitor\n"
     ]
    },
    {
     "name": "stderr",
     "output_type": "stream",
     "text": [
      "0: 480x640 3 persons, 1 tv, 1 laptop, 112.4ms\n",
      "Speed: 2.3ms preprocess, 112.4ms inference, 0.7ms postprocess per image at shape (1, 3, 480, 640)\n",
      "\n",
      "0: 480x640 4 persons, 1 tv, 1 laptop, 109.2ms\n",
      "Speed: 2.3ms preprocess, 109.2ms inference, 0.7ms postprocess per image at shape (1, 3, 480, 640)\n"
     ]
    },
    {
     "name": "stdout",
     "output_type": "stream",
     "text": [
      "Confidence ---> 0.86\n",
      "Class name --> person\n",
      "Confidence ---> 0.75\n",
      "Class name --> laptop\n",
      "Confidence ---> 0.74\n",
      "Class name --> person\n",
      "Confidence ---> 0.64\n",
      "Class name --> person\n",
      "Confidence ---> 0.31\n",
      "Class name --> tvmonitor\n",
      "Confidence ---> 0.87\n",
      "Class name --> person\n",
      "Confidence ---> 0.7\n",
      "Class name --> laptop\n",
      "Confidence ---> 0.61\n",
      "Class name --> person\n",
      "Confidence ---> 0.56\n",
      "Class name --> person\n",
      "Confidence ---> 0.36\n",
      "Class name --> tvmonitor\n",
      "Confidence ---> 0.32\n",
      "Class name --> person\n"
     ]
    },
    {
     "name": "stderr",
     "output_type": "stream",
     "text": [
      "\n",
      "0: 480x640 4 persons, 1 tv, 1 laptop, 100.0ms\n",
      "Speed: 5.2ms preprocess, 100.0ms inference, 0.7ms postprocess per image at shape (1, 3, 480, 640)\n",
      "\n",
      "0: 480x640 3 persons, 1 tv, 1 laptop, 94.4ms\n",
      "Speed: 2.3ms preprocess, 94.4ms inference, 0.7ms postprocess per image at shape (1, 3, 480, 640)\n",
      "\n"
     ]
    },
    {
     "name": "stdout",
     "output_type": "stream",
     "text": [
      "Confidence ---> 0.86\n",
      "Class name --> person\n",
      "Confidence ---> 0.65\n",
      "Class name --> person\n",
      "Confidence ---> 0.65\n",
      "Class name --> laptop\n",
      "Confidence ---> 0.48\n",
      "Class name --> person\n",
      "Confidence ---> 0.42\n",
      "Class name --> person\n",
      "Confidence ---> 0.34\n",
      "Class name --> tvmonitor\n",
      "Confidence ---> 0.87\n",
      "Class name --> person\n",
      "Confidence ---> 0.74\n",
      "Class name --> laptop\n",
      "Confidence ---> 0.65\n",
      "Class name --> person\n",
      "Confidence ---> 0.57\n",
      "Class name --> person\n",
      "Confidence ---> 0.37\n",
      "Class name --> tvmonitor\n"
     ]
    },
    {
     "name": "stderr",
     "output_type": "stream",
     "text": [
      "0: 480x640 3 persons, 1 tv, 1 laptop, 107.9ms\n",
      "Speed: 2.4ms preprocess, 107.9ms inference, 0.7ms postprocess per image at shape (1, 3, 480, 640)\n",
      "\n",
      "0: 480x640 3 persons, 1 tv, 1 laptop, 92.7ms\n",
      "Speed: 2.6ms preprocess, 92.7ms inference, 0.8ms postprocess per image at shape (1, 3, 480, 640)\n",
      "\n"
     ]
    },
    {
     "name": "stdout",
     "output_type": "stream",
     "text": [
      "Confidence ---> 0.86\n",
      "Class name --> person\n",
      "Confidence ---> 0.74\n",
      "Class name --> laptop\n",
      "Confidence ---> 0.62\n",
      "Class name --> person\n",
      "Confidence ---> 0.52\n",
      "Class name --> person\n",
      "Confidence ---> 0.39\n",
      "Class name --> tvmonitor\n",
      "Confidence ---> 0.87\n",
      "Class name --> person\n",
      "Confidence ---> 0.74\n",
      "Class name --> laptop\n",
      "Confidence ---> 0.64\n",
      "Class name --> person\n",
      "Confidence ---> 0.6\n",
      "Class name --> person\n",
      "Confidence ---> 0.39\n",
      "Class name --> tvmonitor\n"
     ]
    },
    {
     "name": "stderr",
     "output_type": "stream",
     "text": [
      "0: 480x640 3 persons, 1 tv, 1 laptop, 115.2ms\n",
      "Speed: 2.5ms preprocess, 115.2ms inference, 0.9ms postprocess per image at shape (1, 3, 480, 640)\n",
      "\n",
      "0: 480x640 3 persons, 1 tv, 1 laptop, 108.5ms\n",
      "Speed: 6.1ms preprocess, 108.5ms inference, 0.7ms postprocess per image at shape (1, 3, 480, 640)\n"
     ]
    },
    {
     "name": "stdout",
     "output_type": "stream",
     "text": [
      "Confidence ---> 0.87\n",
      "Class name --> person\n",
      "Confidence ---> 0.81\n",
      "Class name --> laptop\n",
      "Confidence ---> 0.72\n",
      "Class name --> person\n",
      "Confidence ---> 0.71\n",
      "Class name --> person\n",
      "Confidence ---> 0.41\n",
      "Class name --> tvmonitor\n",
      "Confidence ---> 0.86\n",
      "Class name --> person\n",
      "Confidence ---> 0.79\n",
      "Class name --> laptop\n",
      "Confidence ---> 0.65\n",
      "Class name --> person\n",
      "Confidence ---> 0.56\n",
      "Class name --> person\n",
      "Confidence ---> 0.45\n",
      "Class name --> tvmonitor\n"
     ]
    },
    {
     "name": "stderr",
     "output_type": "stream",
     "text": [
      "\n",
      "0: 480x640 4 persons, 1 tv, 1 laptop, 108.8ms\n",
      "Speed: 3.5ms preprocess, 108.8ms inference, 0.7ms postprocess per image at shape (1, 3, 480, 640)\n",
      "\n",
      "0: 480x640 3 persons, 1 tv, 1 laptop, 89.5ms\n",
      "Speed: 2.6ms preprocess, 89.5ms inference, 0.7ms postprocess per image at shape (1, 3, 480, 640)\n",
      "\n"
     ]
    },
    {
     "name": "stdout",
     "output_type": "stream",
     "text": [
      "Confidence ---> 0.85\n",
      "Class name --> person\n",
      "Confidence ---> 0.8\n",
      "Class name --> laptop\n",
      "Confidence ---> 0.68\n",
      "Class name --> person\n",
      "Confidence ---> 0.41\n",
      "Class name --> tvmonitor\n",
      "Confidence ---> 0.38\n",
      "Class name --> person\n",
      "Confidence ---> 0.26\n",
      "Class name --> person\n",
      "Confidence ---> 0.86\n",
      "Class name --> person\n",
      "Confidence ---> 0.82\n",
      "Class name --> laptop\n",
      "Confidence ---> 0.75\n",
      "Class name --> person\n",
      "Confidence ---> 0.66\n",
      "Class name --> person\n",
      "Confidence ---> 0.37\n",
      "Class name --> tvmonitor\n"
     ]
    },
    {
     "name": "stderr",
     "output_type": "stream",
     "text": [
      "0: 480x640 4 persons, 1 tv, 1 laptop, 108.9ms\n",
      "Speed: 2.6ms preprocess, 108.9ms inference, 0.7ms postprocess per image at shape (1, 3, 480, 640)\n",
      "\n",
      "0: 480x640 3 persons, 1 tv, 1 laptop, 92.2ms\n",
      "Speed: 2.4ms preprocess, 92.2ms inference, 0.8ms postprocess per image at shape (1, 3, 480, 640)\n",
      "\n"
     ]
    },
    {
     "name": "stdout",
     "output_type": "stream",
     "text": [
      "Confidence ---> 0.83\n",
      "Class name --> person\n",
      "Confidence ---> 0.7\n",
      "Class name --> laptop\n",
      "Confidence ---> 0.68\n",
      "Class name --> person\n",
      "Confidence ---> 0.39\n",
      "Class name --> tvmonitor\n",
      "Confidence ---> 0.34\n",
      "Class name --> person\n",
      "Confidence ---> 0.3\n",
      "Class name --> person\n",
      "Confidence ---> 0.85\n",
      "Class name --> person\n",
      "Confidence ---> 0.76\n",
      "Class name --> laptop\n",
      "Confidence ---> 0.66\n",
      "Class name --> person\n",
      "Confidence ---> 0.4\n",
      "Class name --> person\n",
      "Confidence ---> 0.37\n",
      "Class name --> tvmonitor\n"
     ]
    },
    {
     "name": "stderr",
     "output_type": "stream",
     "text": [
      "0: 480x640 3 persons, 1 tv, 1 laptop, 116.9ms\n",
      "Speed: 2.3ms preprocess, 116.9ms inference, 1.0ms postprocess per image at shape (1, 3, 480, 640)\n",
      "\n",
      "0: 480x640 3 persons, 1 tv, 1 laptop, 93.2ms\n",
      "Speed: 2.7ms preprocess, 93.2ms inference, 0.7ms postprocess per image at shape (1, 3, 480, 640)\n",
      "\n"
     ]
    },
    {
     "name": "stdout",
     "output_type": "stream",
     "text": [
      "Confidence ---> 0.85\n",
      "Class name --> person\n",
      "Confidence ---> 0.74\n",
      "Class name --> laptop\n",
      "Confidence ---> 0.65\n",
      "Class name --> person\n",
      "Confidence ---> 0.46\n",
      "Class name --> person\n",
      "Confidence ---> 0.45\n",
      "Class name --> tvmonitor\n",
      "Confidence ---> 0.85\n",
      "Class name --> person\n",
      "Confidence ---> 0.73\n",
      "Class name --> laptop\n",
      "Confidence ---> 0.69\n",
      "Class name --> person\n",
      "Confidence ---> 0.37\n",
      "Class name --> person\n",
      "Confidence ---> 0.26\n",
      "Class name --> tvmonitor\n"
     ]
    },
    {
     "name": "stderr",
     "output_type": "stream",
     "text": [
      "0: 480x640 3 persons, 1 tv, 1 laptop, 144.8ms\n",
      "Speed: 2.4ms preprocess, 144.8ms inference, 0.7ms postprocess per image at shape (1, 3, 480, 640)\n",
      "\n",
      "0: 480x640 2 persons, 1 tv, 1 laptop, 94.3ms\n",
      "Speed: 2.2ms preprocess, 94.3ms inference, 0.7ms postprocess per image at shape (1, 3, 480, 640)\n",
      "\n"
     ]
    },
    {
     "name": "stdout",
     "output_type": "stream",
     "text": [
      "Confidence ---> 0.85\n",
      "Class name --> person\n",
      "Confidence ---> 0.7\n",
      "Class name --> laptop\n",
      "Confidence ---> 0.68\n",
      "Class name --> person\n",
      "Confidence ---> 0.27\n",
      "Class name --> tvmonitor\n",
      "Confidence ---> 0.26\n",
      "Class name --> person\n",
      "Confidence ---> 0.84\n",
      "Class name --> person\n",
      "Confidence ---> 0.76\n",
      "Class name --> laptop\n",
      "Confidence ---> 0.73\n",
      "Class name --> person\n",
      "Confidence ---> 0.33\n",
      "Class name --> tvmonitor\n"
     ]
    },
    {
     "name": "stderr",
     "output_type": "stream",
     "text": [
      "0: 480x640 3 persons, 1 tv, 1 laptop, 108.8ms\n",
      "Speed: 2.6ms preprocess, 108.8ms inference, 0.8ms postprocess per image at shape (1, 3, 480, 640)\n",
      "\n",
      "0: 480x640 2 persons, 1 tv, 1 laptop, 91.5ms\n",
      "Speed: 2.5ms preprocess, 91.5ms inference, 0.7ms postprocess per image at shape (1, 3, 480, 640)\n",
      "\n"
     ]
    },
    {
     "name": "stdout",
     "output_type": "stream",
     "text": [
      "Confidence ---> 0.84\n",
      "Class name --> person\n",
      "Confidence ---> 0.67\n",
      "Class name --> person\n",
      "Confidence ---> 0.61\n",
      "Class name --> laptop\n",
      "Confidence ---> 0.51\n",
      "Class name --> person\n",
      "Confidence ---> 0.28\n",
      "Class name --> tvmonitor\n",
      "Confidence ---> 0.86\n",
      "Class name --> person\n",
      "Confidence ---> 0.69\n",
      "Class name --> laptop\n",
      "Confidence ---> 0.67\n",
      "Class name --> person\n",
      "Confidence ---> 0.33\n",
      "Class name --> tvmonitor\n"
     ]
    },
    {
     "name": "stderr",
     "output_type": "stream",
     "text": [
      "0: 480x640 2 persons, 1 tv, 1 laptop, 115.0ms\n",
      "Speed: 3.9ms preprocess, 115.0ms inference, 0.7ms postprocess per image at shape (1, 3, 480, 640)\n",
      "\n",
      "0: 480x640 3 persons, 1 tv, 1 laptop, 96.6ms\n",
      "Speed: 2.3ms preprocess, 96.6ms inference, 0.7ms postprocess per image at shape (1, 3, 480, 640)\n",
      "\n"
     ]
    },
    {
     "name": "stdout",
     "output_type": "stream",
     "text": [
      "Confidence ---> 0.85\n",
      "Class name --> person\n",
      "Confidence ---> 0.71\n",
      "Class name --> person\n",
      "Confidence ---> 0.65\n",
      "Class name --> laptop\n",
      "Confidence ---> 0.29\n",
      "Class name --> tvmonitor\n",
      "Confidence ---> 0.86\n",
      "Class name --> person\n",
      "Confidence ---> 0.78\n",
      "Class name --> laptop\n",
      "Confidence ---> 0.66\n",
      "Class name --> person\n",
      "Confidence ---> 0.34\n",
      "Class name --> person\n",
      "Confidence ---> 0.31\n",
      "Class name --> tvmonitor\n"
     ]
    },
    {
     "name": "stderr",
     "output_type": "stream",
     "text": [
      "0: 480x640 3 persons, 1 tv, 1 laptop, 114.7ms\n",
      "Speed: 2.3ms preprocess, 114.7ms inference, 0.8ms postprocess per image at shape (1, 3, 480, 640)\n",
      "\n",
      "0: 480x640 2 persons, 1 tv, 1 laptop, 97.2ms\n",
      "Speed: 2.3ms preprocess, 97.2ms inference, 0.7ms postprocess per image at shape (1, 3, 480, 640)\n",
      "\n"
     ]
    },
    {
     "name": "stdout",
     "output_type": "stream",
     "text": [
      "Confidence ---> 0.88\n",
      "Class name --> person\n",
      "Confidence ---> 0.78\n",
      "Class name --> laptop\n",
      "Confidence ---> 0.65\n",
      "Class name --> person\n",
      "Confidence ---> 0.38\n",
      "Class name --> person\n",
      "Confidence ---> 0.36\n",
      "Class name --> tvmonitor\n",
      "Confidence ---> 0.85\n",
      "Class name --> person\n",
      "Confidence ---> 0.85\n",
      "Class name --> laptop\n",
      "Confidence ---> 0.65\n",
      "Class name --> person\n",
      "Confidence ---> 0.43\n",
      "Class name --> tvmonitor\n"
     ]
    },
    {
     "name": "stderr",
     "output_type": "stream",
     "text": [
      "0: 480x640 2 persons, 1 tv, 1 laptop, 165.7ms\n",
      "Speed: 2.5ms preprocess, 165.7ms inference, 0.8ms postprocess per image at shape (1, 3, 480, 640)\n",
      "\n",
      "0: 480x640 2 persons, 1 tv, 1 laptop, 95.9ms\n",
      "Speed: 2.3ms preprocess, 95.9ms inference, 0.7ms postprocess per image at shape (1, 3, 480, 640)\n",
      "\n"
     ]
    },
    {
     "name": "stdout",
     "output_type": "stream",
     "text": [
      "Confidence ---> 0.86\n",
      "Class name --> person\n",
      "Confidence ---> 0.81\n",
      "Class name --> laptop\n",
      "Confidence ---> 0.67\n",
      "Class name --> person\n",
      "Confidence ---> 0.47\n",
      "Class name --> tvmonitor\n",
      "Confidence ---> 0.8\n",
      "Class name --> laptop\n",
      "Confidence ---> 0.8\n",
      "Class name --> person\n",
      "Confidence ---> 0.69\n",
      "Class name --> person\n",
      "Confidence ---> 0.34\n",
      "Class name --> tvmonitor\n"
     ]
    },
    {
     "name": "stderr",
     "output_type": "stream",
     "text": [
      "0: 480x640 3 persons, 1 laptop, 118.3ms\n",
      "Speed: 2.1ms preprocess, 118.3ms inference, 0.9ms postprocess per image at shape (1, 3, 480, 640)\n",
      "\n",
      "0: 480x640 3 persons, 1 laptop, 97.6ms\n",
      "Speed: 2.0ms preprocess, 97.6ms inference, 0.7ms postprocess per image at shape (1, 3, 480, 640)\n",
      "\n"
     ]
    },
    {
     "name": "stdout",
     "output_type": "stream",
     "text": [
      "Confidence ---> 0.84\n",
      "Class name --> person\n",
      "Confidence ---> 0.81\n",
      "Class name --> laptop\n",
      "Confidence ---> 0.66\n",
      "Class name --> person\n",
      "Confidence ---> 0.59\n",
      "Class name --> person\n",
      "Confidence ---> 0.83\n",
      "Class name --> person\n",
      "Confidence ---> 0.76\n",
      "Class name --> laptop\n",
      "Confidence ---> 0.68\n",
      "Class name --> person\n",
      "Confidence ---> 0.48\n",
      "Class name --> person\n"
     ]
    },
    {
     "name": "stderr",
     "output_type": "stream",
     "text": [
      "0: 480x640 3 persons, 1 laptop, 113.3ms\n",
      "Speed: 2.2ms preprocess, 113.3ms inference, 0.7ms postprocess per image at shape (1, 3, 480, 640)\n",
      "\n",
      "0: 480x640 3 persons, 1 laptop, 97.3ms\n",
      "Speed: 2.3ms preprocess, 97.3ms inference, 0.7ms postprocess per image at shape (1, 3, 480, 640)\n",
      "\n"
     ]
    },
    {
     "name": "stdout",
     "output_type": "stream",
     "text": [
      "Confidence ---> 0.81\n",
      "Class name --> person\n",
      "Confidence ---> 0.79\n",
      "Class name --> laptop\n",
      "Confidence ---> 0.68\n",
      "Class name --> person\n",
      "Confidence ---> 0.62\n",
      "Class name --> person\n",
      "Confidence ---> 0.83\n",
      "Class name --> person\n",
      "Confidence ---> 0.78\n",
      "Class name --> laptop\n",
      "Confidence ---> 0.67\n",
      "Class name --> person\n",
      "Confidence ---> 0.64\n",
      "Class name --> person\n"
     ]
    },
    {
     "name": "stderr",
     "output_type": "stream",
     "text": [
      "0: 480x640 3 persons, 1 laptop, 112.1ms\n",
      "Speed: 2.5ms preprocess, 112.1ms inference, 0.7ms postprocess per image at shape (1, 3, 480, 640)\n",
      "\n",
      "0: 480x640 3 persons, 1 laptop, 100.0ms\n",
      "Speed: 2.2ms preprocess, 100.0ms inference, 1.0ms postprocess per image at shape (1, 3, 480, 640)\n",
      "\n"
     ]
    },
    {
     "name": "stdout",
     "output_type": "stream",
     "text": [
      "Confidence ---> 0.82\n",
      "Class name --> person\n",
      "Confidence ---> 0.79\n",
      "Class name --> laptop\n",
      "Confidence ---> 0.7\n",
      "Class name --> person\n",
      "Confidence ---> 0.63\n",
      "Class name --> person\n",
      "Confidence ---> 0.84\n",
      "Class name --> person\n",
      "Confidence ---> 0.77\n",
      "Class name --> laptop\n",
      "Confidence ---> 0.72\n",
      "Class name --> person\n",
      "Confidence ---> 0.65\n",
      "Class name --> person\n"
     ]
    },
    {
     "name": "stderr",
     "output_type": "stream",
     "text": [
      "0: 480x640 3 persons, 1 laptop, 124.9ms\n",
      "Speed: 2.3ms preprocess, 124.9ms inference, 0.7ms postprocess per image at shape (1, 3, 480, 640)\n",
      "\n",
      "0: 480x640 3 persons, 2 chairs, 1 laptop, 97.8ms\n",
      "Speed: 2.3ms preprocess, 97.8ms inference, 0.7ms postprocess per image at shape (1, 3, 480, 640)\n",
      "\n"
     ]
    },
    {
     "name": "stdout",
     "output_type": "stream",
     "text": [
      "Confidence ---> 0.88\n",
      "Class name --> person\n",
      "Confidence ---> 0.74\n",
      "Class name --> laptop\n",
      "Confidence ---> 0.67\n",
      "Class name --> person\n",
      "Confidence ---> 0.66\n",
      "Class name --> person\n",
      "Confidence ---> 0.86\n",
      "Class name --> person\n",
      "Confidence ---> 0.75\n",
      "Class name --> laptop\n",
      "Confidence ---> 0.67\n",
      "Class name --> person\n",
      "Confidence ---> 0.65\n",
      "Class name --> person\n",
      "Confidence ---> 0.35\n",
      "Class name --> chair\n",
      "Confidence ---> 0.26\n",
      "Class name --> chair\n"
     ]
    },
    {
     "name": "stderr",
     "output_type": "stream",
     "text": [
      "0: 480x640 3 persons, 1 laptop, 116.2ms\n",
      "Speed: 2.4ms preprocess, 116.2ms inference, 0.9ms postprocess per image at shape (1, 3, 480, 640)\n",
      "\n",
      "0: 480x640 3 persons, 1 laptop, 96.6ms\n",
      "Speed: 2.4ms preprocess, 96.6ms inference, 0.7ms postprocess per image at shape (1, 3, 480, 640)\n",
      "\n"
     ]
    },
    {
     "name": "stdout",
     "output_type": "stream",
     "text": [
      "Confidence ---> 0.88\n",
      "Class name --> person\n",
      "Confidence ---> 0.73\n",
      "Class name --> laptop\n",
      "Confidence ---> 0.65\n",
      "Class name --> person\n",
      "Confidence ---> 0.58\n",
      "Class name --> person\n",
      "Confidence ---> 0.89\n",
      "Class name --> person\n",
      "Confidence ---> 0.74\n",
      "Class name --> laptop\n",
      "Confidence ---> 0.65\n",
      "Class name --> person\n",
      "Confidence ---> 0.49\n",
      "Class name --> person\n"
     ]
    },
    {
     "name": "stderr",
     "output_type": "stream",
     "text": [
      "0: 480x640 3 persons, 1 laptop, 145.9ms\n",
      "Speed: 32.6ms preprocess, 145.9ms inference, 0.7ms postprocess per image at shape (1, 3, 480, 640)\n",
      "\n",
      "0: 480x640 2 persons, 112.0ms\n",
      "Speed: 2.1ms preprocess, 112.0ms inference, 0.7ms postprocess per image at shape (1, 3, 480, 640)\n"
     ]
    },
    {
     "name": "stdout",
     "output_type": "stream",
     "text": [
      "Confidence ---> 0.91\n",
      "Class name --> person\n",
      "Confidence ---> 0.74\n",
      "Class name --> laptop\n",
      "Confidence ---> 0.65\n",
      "Class name --> person\n",
      "Confidence ---> 0.56\n",
      "Class name --> person\n",
      "Confidence ---> 0.68\n",
      "Class name --> person\n",
      "Confidence ---> 0.28\n",
      "Class name --> person\n"
     ]
    },
    {
     "name": "stderr",
     "output_type": "stream",
     "text": [
      "\n",
      "0: 480x640 2 persons, 1 cell phone, 164.0ms\n",
      "Speed: 4.1ms preprocess, 164.0ms inference, 2.3ms postprocess per image at shape (1, 3, 480, 640)\n",
      "\n",
      "0: 480x640 1 person, 1 cell phone, 98.4ms\n",
      "Speed: 2.3ms preprocess, 98.4ms inference, 0.9ms postprocess per image at shape (1, 3, 480, 640)\n",
      "\n"
     ]
    },
    {
     "name": "stdout",
     "output_type": "stream",
     "text": [
      "Confidence ---> 0.94\n",
      "Class name --> cell phone\n",
      "Confidence ---> 0.82\n",
      "Class name --> person\n",
      "Confidence ---> 0.3\n",
      "Class name --> person\n",
      "Confidence ---> 0.97\n",
      "Class name --> cell phone\n",
      "Confidence ---> 0.86\n",
      "Class name --> person\n"
     ]
    },
    {
     "name": "stderr",
     "output_type": "stream",
     "text": [
      "0: 480x640 1 person, 1 cell phone, 128.7ms\n",
      "Speed: 2.5ms preprocess, 128.7ms inference, 0.8ms postprocess per image at shape (1, 3, 480, 640)\n",
      "\n",
      "0: 480x640 1 person, 1 cell phone, 105.6ms\n",
      "Speed: 3.7ms preprocess, 105.6ms inference, 0.7ms postprocess per image at shape (1, 3, 480, 640)\n",
      "\n"
     ]
    },
    {
     "name": "stdout",
     "output_type": "stream",
     "text": [
      "Confidence ---> 0.88\n",
      "Class name --> cell phone\n",
      "Confidence ---> 0.81\n",
      "Class name --> person\n",
      "Confidence ---> 0.89\n",
      "Class name --> cell phone\n",
      "Confidence ---> 0.8\n",
      "Class name --> person\n"
     ]
    },
    {
     "name": "stderr",
     "output_type": "stream",
     "text": [
      "0: 480x640 1 person, 1 cell phone, 107.2ms\n",
      "Speed: 2.6ms preprocess, 107.2ms inference, 0.8ms postprocess per image at shape (1, 3, 480, 640)\n",
      "\n",
      "0: 480x640 2 persons, 1 cell phone, 96.7ms\n",
      "Speed: 2.2ms preprocess, 96.7ms inference, 0.7ms postprocess per image at shape (1, 3, 480, 640)\n",
      "\n"
     ]
    },
    {
     "name": "stdout",
     "output_type": "stream",
     "text": [
      "Confidence ---> 0.87\n",
      "Class name --> cell phone\n",
      "Confidence ---> 0.81\n",
      "Class name --> person\n",
      "Confidence ---> 0.97\n",
      "Class name --> cell phone\n",
      "Confidence ---> 0.81\n",
      "Class name --> person\n",
      "Confidence ---> 0.26\n",
      "Class name --> person\n"
     ]
    },
    {
     "name": "stderr",
     "output_type": "stream",
     "text": [
      "0: 480x640 2 persons, 1 cell phone, 119.2ms\n",
      "Speed: 3.6ms preprocess, 119.2ms inference, 0.7ms postprocess per image at shape (1, 3, 480, 640)\n",
      "\n",
      "0: 480x640 1 person, 1 cell phone, 98.9ms\n",
      "Speed: 2.2ms preprocess, 98.9ms inference, 0.7ms postprocess per image at shape (1, 3, 480, 640)\n",
      "\n"
     ]
    },
    {
     "name": "stdout",
     "output_type": "stream",
     "text": [
      "Confidence ---> 0.96\n",
      "Class name --> cell phone\n",
      "Confidence ---> 0.86\n",
      "Class name --> person\n",
      "Confidence ---> 0.32\n",
      "Class name --> person\n",
      "Confidence ---> 0.95\n",
      "Class name --> cell phone\n",
      "Confidence ---> 0.84\n",
      "Class name --> person\n"
     ]
    },
    {
     "name": "stderr",
     "output_type": "stream",
     "text": [
      "0: 480x640 1 person, 1 cell phone, 111.6ms\n",
      "Speed: 2.3ms preprocess, 111.6ms inference, 0.9ms postprocess per image at shape (1, 3, 480, 640)\n",
      "\n",
      "0: 480x640 1 person, 1 cell phone, 96.6ms\n",
      "Speed: 2.4ms preprocess, 96.6ms inference, 0.7ms postprocess per image at shape (1, 3, 480, 640)\n",
      "\n"
     ]
    },
    {
     "name": "stdout",
     "output_type": "stream",
     "text": [
      "Confidence ---> 0.93\n",
      "Class name --> cell phone\n",
      "Confidence ---> 0.8\n",
      "Class name --> person\n",
      "Confidence ---> 0.94\n",
      "Class name --> cell phone\n",
      "Confidence ---> 0.8\n",
      "Class name --> person\n"
     ]
    },
    {
     "name": "stderr",
     "output_type": "stream",
     "text": [
      "0: 480x640 1 person, 1 laptop, 1 cell phone, 114.1ms\n",
      "Speed: 2.5ms preprocess, 114.1ms inference, 0.7ms postprocess per image at shape (1, 3, 480, 640)\n",
      "\n",
      "0: 480x640 2 persons, 1 cell phone, 104.2ms\n",
      "Speed: 2.2ms preprocess, 104.2ms inference, 0.7ms postprocess per image at shape (1, 3, 480, 640)\n",
      "\n"
     ]
    },
    {
     "name": "stdout",
     "output_type": "stream",
     "text": [
      "Confidence ---> 0.9\n",
      "Class name --> cell phone\n",
      "Confidence ---> 0.81\n",
      "Class name --> person\n",
      "Confidence ---> 0.5\n",
      "Class name --> laptop\n",
      "Confidence ---> 0.86\n",
      "Class name --> cell phone\n",
      "Confidence ---> 0.75\n",
      "Class name --> person\n",
      "Confidence ---> 0.33\n",
      "Class name --> person\n"
     ]
    },
    {
     "name": "stderr",
     "output_type": "stream",
     "text": [
      "0: 480x640 3 persons, 119.3ms\n",
      "Speed: 2.2ms preprocess, 119.3ms inference, 0.7ms postprocess per image at shape (1, 3, 480, 640)\n",
      "\n",
      "0: 480x640 2 persons, 1 laptop, 98.4ms\n",
      "Speed: 2.3ms preprocess, 98.4ms inference, 0.7ms postprocess per image at shape (1, 3, 480, 640)\n",
      "\n"
     ]
    },
    {
     "name": "stdout",
     "output_type": "stream",
     "text": [
      "Confidence ---> 0.9\n",
      "Class name --> person\n",
      "Confidence ---> 0.7\n",
      "Class name --> person\n",
      "Confidence ---> 0.26\n",
      "Class name --> person\n",
      "Confidence ---> 0.87\n",
      "Class name --> person\n",
      "Confidence ---> 0.79\n",
      "Class name --> laptop\n",
      "Confidence ---> 0.62\n",
      "Class name --> person\n"
     ]
    },
    {
     "name": "stderr",
     "output_type": "stream",
     "text": [
      "0: 480x640 2 persons, 1 laptop, 117.9ms\n",
      "Speed: 2.1ms preprocess, 117.9ms inference, 1.0ms postprocess per image at shape (1, 3, 480, 640)\n",
      "\n"
     ]
    },
    {
     "name": "stdout",
     "output_type": "stream",
     "text": [
      "Confidence ---> 0.84\n",
      "Class name --> person\n",
      "Confidence ---> 0.81\n",
      "Class name --> laptop\n",
      "Confidence ---> 0.64\n",
      "Class name --> person\n"
     ]
    },
    {
     "name": "stderr",
     "output_type": "stream",
     "text": [
      "0: 480x640 3 persons, 1 laptop, 157.4ms\n",
      "Speed: 2.1ms preprocess, 157.4ms inference, 0.7ms postprocess per image at shape (1, 3, 480, 640)\n",
      "\n",
      "0: 480x640 3 persons, 1 laptop, 102.1ms\n",
      "Speed: 2.3ms preprocess, 102.1ms inference, 0.8ms postprocess per image at shape (1, 3, 480, 640)\n",
      "\n"
     ]
    },
    {
     "name": "stdout",
     "output_type": "stream",
     "text": [
      "Confidence ---> 0.85\n",
      "Class name --> person\n",
      "Confidence ---> 0.8\n",
      "Class name --> person\n",
      "Confidence ---> 0.72\n",
      "Class name --> laptop\n",
      "Confidence ---> 0.63\n",
      "Class name --> person\n",
      "Confidence ---> 0.89\n",
      "Class name --> person\n",
      "Confidence ---> 0.85\n",
      "Class name --> person\n",
      "Confidence ---> 0.73\n",
      "Class name --> laptop\n",
      "Confidence ---> 0.64\n",
      "Class name --> person\n"
     ]
    },
    {
     "name": "stderr",
     "output_type": "stream",
     "text": [
      "0: 480x640 4 persons, 1 laptop, 139.0ms\n",
      "Speed: 2.1ms preprocess, 139.0ms inference, 0.7ms postprocess per image at shape (1, 3, 480, 640)\n",
      "\n",
      "0: 480x640 4 persons, 1 laptop, 105.0ms\n",
      "Speed: 2.3ms preprocess, 105.0ms inference, 0.7ms postprocess per image at shape (1, 3, 480, 640)\n",
      "\n"
     ]
    },
    {
     "name": "stdout",
     "output_type": "stream",
     "text": [
      "Confidence ---> 0.88\n",
      "Class name --> person\n",
      "Confidence ---> 0.83\n",
      "Class name --> person\n",
      "Confidence ---> 0.72\n",
      "Class name --> laptop\n",
      "Confidence ---> 0.65\n",
      "Class name --> person\n",
      "Confidence ---> 0.32\n",
      "Class name --> person\n",
      "Confidence ---> 0.86\n",
      "Class name --> person\n",
      "Confidence ---> 0.85\n",
      "Class name --> person\n",
      "Confidence ---> 0.74\n",
      "Class name --> laptop\n",
      "Confidence ---> 0.61\n",
      "Class name --> person\n",
      "Confidence ---> 0.26\n",
      "Class name --> person\n"
     ]
    },
    {
     "name": "stderr",
     "output_type": "stream",
     "text": [
      "0: 480x640 3 persons, 1 laptop, 113.5ms\n",
      "Speed: 2.3ms preprocess, 113.5ms inference, 0.7ms postprocess per image at shape (1, 3, 480, 640)\n",
      "\n",
      "0: 480x640 3 persons, 1 laptop, 101.2ms\n",
      "Speed: 2.1ms preprocess, 101.2ms inference, 0.8ms postprocess per image at shape (1, 3, 480, 640)\n",
      "\n"
     ]
    },
    {
     "name": "stdout",
     "output_type": "stream",
     "text": [
      "Confidence ---> 0.87\n",
      "Class name --> person\n",
      "Confidence ---> 0.83\n",
      "Class name --> person\n",
      "Confidence ---> 0.7\n",
      "Class name --> laptop\n",
      "Confidence ---> 0.65\n",
      "Class name --> person\n",
      "Confidence ---> 0.9\n",
      "Class name --> person\n",
      "Confidence ---> 0.88\n",
      "Class name --> person\n",
      "Confidence ---> 0.72\n",
      "Class name --> laptop\n",
      "Confidence ---> 0.54\n",
      "Class name --> person\n"
     ]
    },
    {
     "name": "stderr",
     "output_type": "stream",
     "text": [
      "0: 480x640 3 persons, 1 laptop, 121.4ms\n",
      "Speed: 2.2ms preprocess, 121.4ms inference, 0.7ms postprocess per image at shape (1, 3, 480, 640)\n",
      "\n",
      "0: 480x640 3 persons, 1 laptop, 103.7ms\n",
      "Speed: 2.9ms preprocess, 103.7ms inference, 0.7ms postprocess per image at shape (1, 3, 480, 640)\n",
      "\n"
     ]
    },
    {
     "name": "stdout",
     "output_type": "stream",
     "text": [
      "Confidence ---> 0.87\n",
      "Class name --> person\n",
      "Confidence ---> 0.7\n",
      "Class name --> person\n",
      "Confidence ---> 0.66\n",
      "Class name --> laptop\n",
      "Confidence ---> 0.57\n",
      "Class name --> person\n",
      "Confidence ---> 0.92\n",
      "Class name --> person\n",
      "Confidence ---> 0.64\n",
      "Class name --> laptop\n",
      "Confidence ---> 0.48\n",
      "Class name --> person\n",
      "Confidence ---> 0.46\n",
      "Class name --> person\n"
     ]
    },
    {
     "name": "stderr",
     "output_type": "stream",
     "text": [
      "0: 480x640 3 persons, 1 laptop, 116.7ms\n",
      "Speed: 2.5ms preprocess, 116.7ms inference, 0.8ms postprocess per image at shape (1, 3, 480, 640)\n",
      "\n",
      "0: 480x640 4 persons, 1 laptop, 103.1ms\n",
      "Speed: 2.3ms preprocess, 103.1ms inference, 0.7ms postprocess per image at shape (1, 3, 480, 640)\n",
      "\n"
     ]
    },
    {
     "name": "stdout",
     "output_type": "stream",
     "text": [
      "Confidence ---> 0.93\n",
      "Class name --> person\n",
      "Confidence ---> 0.68\n",
      "Class name --> laptop\n",
      "Confidence ---> 0.44\n",
      "Class name --> person\n",
      "Confidence ---> 0.28\n",
      "Class name --> person\n",
      "Confidence ---> 0.92\n",
      "Class name --> person\n",
      "Confidence ---> 0.74\n",
      "Class name --> laptop\n",
      "Confidence ---> 0.51\n",
      "Class name --> person\n",
      "Confidence ---> 0.35\n",
      "Class name --> person\n",
      "Confidence ---> 0.34\n",
      "Class name --> person\n"
     ]
    },
    {
     "name": "stderr",
     "output_type": "stream",
     "text": [
      "0: 480x640 5 persons, 1 banana, 1 laptop, 111.3ms\n",
      "Speed: 2.1ms preprocess, 111.3ms inference, 0.8ms postprocess per image at shape (1, 3, 480, 640)\n",
      "\n",
      "0: 480x640 3 persons, 1 laptop, 97.7ms\n",
      "Speed: 2.7ms preprocess, 97.7ms inference, 0.7ms postprocess per image at shape (1, 3, 480, 640)\n",
      "\n"
     ]
    },
    {
     "name": "stdout",
     "output_type": "stream",
     "text": [
      "Confidence ---> 0.92\n",
      "Class name --> person\n",
      "Confidence ---> 0.72\n",
      "Class name --> laptop\n",
      "Confidence ---> 0.37\n",
      "Class name --> person\n",
      "Confidence ---> 0.37\n",
      "Class name --> person\n",
      "Confidence ---> 0.28\n",
      "Class name --> person\n",
      "Confidence ---> 0.27\n",
      "Class name --> banana\n",
      "Confidence ---> 0.26\n",
      "Class name --> person\n",
      "Confidence ---> 0.93\n",
      "Class name --> person\n",
      "Confidence ---> 0.69\n",
      "Class name --> laptop\n",
      "Confidence ---> 0.52\n",
      "Class name --> person\n",
      "Confidence ---> 0.49\n",
      "Class name --> person\n"
     ]
    },
    {
     "name": "stderr",
     "output_type": "stream",
     "text": [
      "0: 480x640 2 persons, 1 laptop, 113.4ms\n",
      "Speed: 2.3ms preprocess, 113.4ms inference, 0.7ms postprocess per image at shape (1, 3, 480, 640)\n",
      "\n",
      "0: 480x640 3 persons, 1 banana, 1 laptop, 98.7ms\n",
      "Speed: 2.3ms preprocess, 98.7ms inference, 0.7ms postprocess per image at shape (1, 3, 480, 640)\n",
      "\n"
     ]
    },
    {
     "name": "stdout",
     "output_type": "stream",
     "text": [
      "Confidence ---> 0.93\n",
      "Class name --> person\n",
      "Confidence ---> 0.74\n",
      "Class name --> laptop\n",
      "Confidence ---> 0.51\n",
      "Class name --> person\n",
      "Confidence ---> 0.92\n",
      "Class name --> person\n",
      "Confidence ---> 0.71\n",
      "Class name --> laptop\n",
      "Confidence ---> 0.58\n",
      "Class name --> person\n",
      "Confidence ---> 0.3\n",
      "Class name --> banana\n",
      "Confidence ---> 0.28\n",
      "Class name --> person\n"
     ]
    },
    {
     "name": "stderr",
     "output_type": "stream",
     "text": [
      "0: 480x640 2 persons, 1 laptop, 183.5ms\n",
      "Speed: 2.1ms preprocess, 183.5ms inference, 0.8ms postprocess per image at shape (1, 3, 480, 640)\n",
      "\n",
      "0: 480x640 4 persons, 1 laptop, 105.7ms\n",
      "Speed: 2.3ms preprocess, 105.7ms inference, 0.7ms postprocess per image at shape (1, 3, 480, 640)\n",
      "\n"
     ]
    },
    {
     "name": "stdout",
     "output_type": "stream",
     "text": [
      "Confidence ---> 0.91\n",
      "Class name --> person\n",
      "Confidence ---> 0.69\n",
      "Class name --> laptop\n",
      "Confidence ---> 0.3\n",
      "Class name --> person\n",
      "Confidence ---> 0.92\n",
      "Class name --> person\n",
      "Confidence ---> 0.74\n",
      "Class name --> laptop\n",
      "Confidence ---> 0.58\n",
      "Class name --> person\n",
      "Confidence ---> 0.35\n",
      "Class name --> person\n",
      "Confidence ---> 0.27\n",
      "Class name --> person\n"
     ]
    },
    {
     "name": "stderr",
     "output_type": "stream",
     "text": [
      "0: 480x640 4 persons, 1 laptop, 233.1ms\n",
      "Speed: 2.5ms preprocess, 233.1ms inference, 1.0ms postprocess per image at shape (1, 3, 480, 640)\n",
      "\n"
     ]
    },
    {
     "name": "stdout",
     "output_type": "stream",
     "text": [
      "Confidence ---> 0.9\n",
      "Class name --> person\n",
      "Confidence ---> 0.84\n",
      "Class name --> person\n",
      "Confidence ---> 0.82\n",
      "Class name --> laptop\n",
      "Confidence ---> 0.51\n",
      "Class name --> person\n",
      "Confidence ---> 0.3\n",
      "Class name --> person\n"
     ]
    },
    {
     "name": "stderr",
     "output_type": "stream",
     "text": [
      "0: 480x640 4 persons, 1 laptop, 170.6ms\n",
      "Speed: 5.3ms preprocess, 170.6ms inference, 0.9ms postprocess per image at shape (1, 3, 480, 640)\n",
      "\n"
     ]
    },
    {
     "name": "stdout",
     "output_type": "stream",
     "text": [
      "Confidence ---> 0.92\n",
      "Class name --> person\n",
      "Confidence ---> 0.88\n",
      "Class name --> person\n",
      "Confidence ---> 0.75\n",
      "Class name --> laptop\n",
      "Confidence ---> 0.63\n",
      "Class name --> person\n",
      "Confidence ---> 0.54\n",
      "Class name --> person\n"
     ]
    },
    {
     "name": "stderr",
     "output_type": "stream",
     "text": [
      "0: 480x640 3 persons, 1 laptop, 147.5ms\n",
      "Speed: 4.3ms preprocess, 147.5ms inference, 0.9ms postprocess per image at shape (1, 3, 480, 640)\n",
      "\n"
     ]
    },
    {
     "name": "stdout",
     "output_type": "stream",
     "text": [
      "Confidence ---> 0.92\n",
      "Class name --> person\n",
      "Confidence ---> 0.85\n",
      "Class name --> laptop\n",
      "Confidence ---> 0.78\n",
      "Class name --> person\n",
      "Confidence ---> 0.63\n",
      "Class name --> person\n"
     ]
    },
    {
     "name": "stderr",
     "output_type": "stream",
     "text": [
      "0: 480x640 3 persons, 1 laptop, 150.1ms\n",
      "Speed: 3.8ms preprocess, 150.1ms inference, 2.2ms postprocess per image at shape (1, 3, 480, 640)\n",
      "\n",
      "0: 480x640 4 persons, 1 laptop, 120.6ms\n",
      "Speed: 3.1ms preprocess, 120.6ms inference, 0.9ms postprocess per image at shape (1, 3, 480, 640)\n"
     ]
    },
    {
     "name": "stdout",
     "output_type": "stream",
     "text": [
      "Confidence ---> 0.91\n",
      "Class name --> person\n",
      "Confidence ---> 0.88\n",
      "Class name --> laptop\n",
      "Confidence ---> 0.78\n",
      "Class name --> person\n",
      "Confidence ---> 0.59\n",
      "Class name --> person\n",
      "Confidence ---> 0.92\n",
      "Class name --> person\n",
      "Confidence ---> 0.85\n",
      "Class name --> laptop\n",
      "Confidence ---> 0.77\n",
      "Class name --> person\n",
      "Confidence ---> 0.48\n",
      "Class name --> person\n",
      "Confidence ---> 0.33\n",
      "Class name --> person\n"
     ]
    },
    {
     "name": "stderr",
     "output_type": "stream",
     "text": [
      "\n",
      "0: 480x640 4 persons, 1 laptop, 137.5ms\n",
      "Speed: 4.0ms preprocess, 137.5ms inference, 0.7ms postprocess per image at shape (1, 3, 480, 640)\n",
      "\n",
      "0: 480x640 4 persons, 1 laptop, 115.5ms\n",
      "Speed: 2.9ms preprocess, 115.5ms inference, 0.7ms postprocess per image at shape (1, 3, 480, 640)\n"
     ]
    },
    {
     "name": "stdout",
     "output_type": "stream",
     "text": [
      "Confidence ---> 0.92\n",
      "Class name --> person\n",
      "Confidence ---> 0.81\n",
      "Class name --> laptop\n",
      "Confidence ---> 0.78\n",
      "Class name --> person\n",
      "Confidence ---> 0.56\n",
      "Class name --> person\n",
      "Confidence ---> 0.34\n",
      "Class name --> person\n",
      "Confidence ---> 0.92\n",
      "Class name --> person\n",
      "Confidence ---> 0.8\n",
      "Class name --> laptop\n",
      "Confidence ---> 0.73\n",
      "Class name --> person\n",
      "Confidence ---> 0.59\n",
      "Class name --> person\n",
      "Confidence ---> 0.42\n",
      "Class name --> person\n"
     ]
    },
    {
     "name": "stderr",
     "output_type": "stream",
     "text": [
      "\n",
      "0: 480x640 4 persons, 1 laptop, 137.6ms\n",
      "Speed: 10.3ms preprocess, 137.6ms inference, 0.7ms postprocess per image at shape (1, 3, 480, 640)\n",
      "\n",
      "0: 480x640 4 persons, 1 laptop, 115.4ms\n",
      "Speed: 2.9ms preprocess, 115.4ms inference, 0.8ms postprocess per image at shape (1, 3, 480, 640)\n"
     ]
    },
    {
     "name": "stdout",
     "output_type": "stream",
     "text": [
      "Confidence ---> 0.91\n",
      "Class name --> person\n",
      "Confidence ---> 0.83\n",
      "Class name --> laptop\n",
      "Confidence ---> 0.79\n",
      "Class name --> person\n",
      "Confidence ---> 0.62\n",
      "Class name --> person\n",
      "Confidence ---> 0.44\n",
      "Class name --> person\n",
      "Confidence ---> 0.92\n",
      "Class name --> person\n",
      "Confidence ---> 0.78\n",
      "Class name --> laptop\n",
      "Confidence ---> 0.67\n",
      "Class name --> person\n",
      "Confidence ---> 0.53\n",
      "Class name --> person\n",
      "Confidence ---> 0.45\n",
      "Class name --> person\n"
     ]
    },
    {
     "name": "stderr",
     "output_type": "stream",
     "text": [
      "\n",
      "0: 480x640 4 persons, 1 laptop, 249.1ms\n",
      "Speed: 3.6ms preprocess, 249.1ms inference, 0.7ms postprocess per image at shape (1, 3, 480, 640)\n",
      "\n",
      "0: 480x640 4 persons, 1 laptop, 122.0ms\n",
      "Speed: 3.3ms preprocess, 122.0ms inference, 1.3ms postprocess per image at shape (1, 3, 480, 640)\n"
     ]
    },
    {
     "name": "stdout",
     "output_type": "stream",
     "text": [
      "Confidence ---> 0.92\n",
      "Class name --> person\n",
      "Confidence ---> 0.82\n",
      "Class name --> laptop\n",
      "Confidence ---> 0.66\n",
      "Class name --> person\n",
      "Confidence ---> 0.58\n",
      "Class name --> person\n",
      "Confidence ---> 0.4\n",
      "Class name --> person\n",
      "Confidence ---> 0.91\n",
      "Class name --> person\n",
      "Confidence ---> 0.85\n",
      "Class name --> laptop\n",
      "Confidence ---> 0.72\n",
      "Class name --> person\n",
      "Confidence ---> 0.51\n",
      "Class name --> person\n",
      "Confidence ---> 0.32\n",
      "Class name --> person\n"
     ]
    },
    {
     "name": "stderr",
     "output_type": "stream",
     "text": [
      "\n",
      "0: 480x640 5 persons, 1 laptop, 127.6ms\n",
      "Speed: 7.0ms preprocess, 127.6ms inference, 1.0ms postprocess per image at shape (1, 3, 480, 640)\n",
      "\n",
      "0: 480x640 4 persons, 1 laptop, 122.4ms\n",
      "Speed: 2.2ms preprocess, 122.4ms inference, 1.0ms postprocess per image at shape (1, 3, 480, 640)\n",
      "\n"
     ]
    },
    {
     "name": "stdout",
     "output_type": "stream",
     "text": [
      "Confidence ---> 0.88\n",
      "Class name --> person\n",
      "Confidence ---> 0.83\n",
      "Class name --> person\n",
      "Confidence ---> 0.81\n",
      "Class name --> laptop\n",
      "Confidence ---> 0.43\n",
      "Class name --> person\n",
      "Confidence ---> 0.33\n",
      "Class name --> person\n",
      "Confidence ---> 0.29\n",
      "Class name --> person\n",
      "Confidence ---> 0.9\n",
      "Class name --> person\n",
      "Confidence ---> 0.87\n",
      "Class name --> laptop\n",
      "Confidence ---> 0.75\n",
      "Class name --> person\n",
      "Confidence ---> 0.48\n",
      "Class name --> person\n",
      "Confidence ---> 0.35\n",
      "Class name --> person\n"
     ]
    },
    {
     "name": "stderr",
     "output_type": "stream",
     "text": [
      "0: 480x640 4 persons, 1 laptop, 136.0ms\n",
      "Speed: 3.0ms preprocess, 136.0ms inference, 1.3ms postprocess per image at shape (1, 3, 480, 640)\n",
      "\n",
      "0: 480x640 4 persons, 1 laptop, 120.3ms\n",
      "Speed: 2.5ms preprocess, 120.3ms inference, 2.3ms postprocess per image at shape (1, 3, 480, 640)\n",
      "\n"
     ]
    },
    {
     "name": "stdout",
     "output_type": "stream",
     "text": [
      "Confidence ---> 0.9\n",
      "Class name --> person\n",
      "Confidence ---> 0.83\n",
      "Class name --> laptop\n",
      "Confidence ---> 0.74\n",
      "Class name --> person\n",
      "Confidence ---> 0.48\n",
      "Class name --> person\n",
      "Confidence ---> 0.35\n",
      "Class name --> person\n",
      "Confidence ---> 0.89\n",
      "Class name --> person\n",
      "Confidence ---> 0.87\n",
      "Class name --> laptop\n",
      "Confidence ---> 0.75\n",
      "Class name --> person\n",
      "Confidence ---> 0.57\n",
      "Class name --> person\n",
      "Confidence ---> 0.37\n",
      "Class name --> person\n"
     ]
    },
    {
     "name": "stderr",
     "output_type": "stream",
     "text": [
      "0: 480x640 5 persons, 1 laptop, 136.8ms\n",
      "Speed: 2.9ms preprocess, 136.8ms inference, 1.3ms postprocess per image at shape (1, 3, 480, 640)\n",
      "\n"
     ]
    },
    {
     "name": "stdout",
     "output_type": "stream",
     "text": [
      "Confidence ---> 0.9\n",
      "Class name --> person\n",
      "Confidence ---> 0.86\n",
      "Class name --> laptop\n",
      "Confidence ---> 0.82\n",
      "Class name --> person\n",
      "Confidence ---> 0.4\n",
      "Class name --> person\n",
      "Confidence ---> 0.32\n",
      "Class name --> person\n",
      "Confidence ---> 0.31\n",
      "Class name --> person\n",
      "Confidence ---> 0.88\n",
      "Class name --> person\n",
      "Confidence ---> 0.86\n",
      "Class name --> laptop\n",
      "Confidence ---> 0.8\n",
      "Class name --> person\n",
      "Confidence ---> 0.55\n",
      "Class name --> person\n",
      "Confidence ---> 0.33\n",
      "Class name --> person\n"
     ]
    },
    {
     "name": "stderr",
     "output_type": "stream",
     "text": [
      "0: 480x640 4 persons, 1 laptop, 162.8ms\n",
      "Speed: 2.7ms preprocess, 162.8ms inference, 0.8ms postprocess per image at shape (1, 3, 480, 640)\n",
      "\n",
      "0: 480x640 3 persons, 1 laptop, 128.4ms\n",
      "Speed: 2.9ms preprocess, 128.4ms inference, 0.8ms postprocess per image at shape (1, 3, 480, 640)\n",
      "\n"
     ]
    },
    {
     "name": "stdout",
     "output_type": "stream",
     "text": [
      "Confidence ---> 0.89\n",
      "Class name --> person\n",
      "Confidence ---> 0.86\n",
      "Class name --> laptop\n",
      "Confidence ---> 0.84\n",
      "Class name --> person\n",
      "Confidence ---> 0.5\n",
      "Class name --> person\n"
     ]
    },
    {
     "name": "stderr",
     "output_type": "stream",
     "text": [
      "0: 480x640 4 persons, 1 laptop, 167.2ms\n",
      "Speed: 3.0ms preprocess, 167.2ms inference, 0.9ms postprocess per image at shape (1, 3, 480, 640)\n",
      "\n",
      "0: 480x640 3 persons, 1 laptop, 97.8ms\n",
      "Speed: 7.4ms preprocess, 97.8ms inference, 1.1ms postprocess per image at shape (1, 3, 480, 640)\n",
      "\n"
     ]
    },
    {
     "name": "stdout",
     "output_type": "stream",
     "text": [
      "Confidence ---> 0.88\n",
      "Class name --> person\n",
      "Confidence ---> 0.83\n",
      "Class name --> laptop\n",
      "Confidence ---> 0.83\n",
      "Class name --> person\n",
      "Confidence ---> 0.43\n",
      "Class name --> person\n",
      "Confidence ---> 0.36\n",
      "Class name --> person\n",
      "Confidence ---> 0.88\n",
      "Class name --> person\n",
      "Confidence ---> 0.83\n",
      "Class name --> person\n",
      "Confidence ---> 0.79\n",
      "Class name --> laptop\n",
      "Confidence ---> 0.54\n",
      "Class name --> person\n"
     ]
    },
    {
     "name": "stderr",
     "output_type": "stream",
     "text": [
      "0: 480x640 4 persons, 1 laptop, 109.8ms\n",
      "Speed: 2.2ms preprocess, 109.8ms inference, 0.8ms postprocess per image at shape (1, 3, 480, 640)\n",
      "\n"
     ]
    },
    {
     "name": "stdout",
     "output_type": "stream",
     "text": [
      "Confidence ---> 0.88\n",
      "Class name --> person\n",
      "Confidence ---> 0.81\n",
      "Class name --> person\n",
      "Confidence ---> 0.77\n",
      "Class name --> laptop\n",
      "Confidence ---> 0.5\n",
      "Class name --> person\n",
      "Confidence ---> 0.38\n",
      "Class name --> person\n"
     ]
    },
    {
     "name": "stderr",
     "output_type": "stream",
     "text": [
      "0: 480x640 4 persons, 1 laptop, 126.5ms\n",
      "Speed: 2.2ms preprocess, 126.5ms inference, 3.7ms postprocess per image at shape (1, 3, 480, 640)\n",
      "\n"
     ]
    },
    {
     "name": "stdout",
     "output_type": "stream",
     "text": [
      "Confidence ---> 0.88\n",
      "Class name --> person\n",
      "Confidence ---> 0.81\n",
      "Class name --> laptop\n",
      "Confidence ---> 0.73\n",
      "Class name --> person\n",
      "Confidence ---> 0.43\n",
      "Class name --> person\n",
      "Confidence ---> 0.35\n",
      "Class name --> person\n"
     ]
    },
    {
     "name": "stderr",
     "output_type": "stream",
     "text": [
      "0: 480x640 3 persons, 1 laptop, 302.1ms\n",
      "Speed: 40.7ms preprocess, 302.1ms inference, 1.0ms postprocess per image at shape (1, 3, 480, 640)\n",
      "\n",
      "0: 480x640 3 persons, 1 laptop, 125.4ms\n",
      "Speed: 2.6ms preprocess, 125.4ms inference, 0.9ms postprocess per image at shape (1, 3, 480, 640)\n"
     ]
    },
    {
     "name": "stdout",
     "output_type": "stream",
     "text": [
      "Confidence ---> 0.89\n",
      "Class name --> person\n",
      "Confidence ---> 0.83\n",
      "Class name --> person\n",
      "Confidence ---> 0.8\n",
      "Class name --> laptop\n",
      "Confidence ---> 0.58\n",
      "Class name --> person\n",
      "Confidence ---> 0.89\n",
      "Class name --> person\n",
      "Confidence ---> 0.82\n",
      "Class name --> person\n",
      "Confidence ---> 0.7\n",
      "Class name --> laptop\n",
      "Confidence ---> 0.61\n",
      "Class name --> person\n"
     ]
    },
    {
     "name": "stderr",
     "output_type": "stream",
     "text": [
      "\n",
      "0: 480x640 3 persons, 1 laptop, 136.0ms\n",
      "Speed: 2.7ms preprocess, 136.0ms inference, 0.8ms postprocess per image at shape (1, 3, 480, 640)\n",
      "\n",
      "0: 480x640 5 persons, 1 laptop, 112.7ms\n",
      "Speed: 2.4ms preprocess, 112.7ms inference, 0.7ms postprocess per image at shape (1, 3, 480, 640)\n"
     ]
    },
    {
     "name": "stdout",
     "output_type": "stream",
     "text": [
      "Confidence ---> 0.9\n",
      "Class name --> person\n",
      "Confidence ---> 0.78\n",
      "Class name --> person\n",
      "Confidence ---> 0.76\n",
      "Class name --> laptop\n",
      "Confidence ---> 0.5\n",
      "Class name --> person\n",
      "Confidence ---> 0.91\n",
      "Class name --> person\n",
      "Confidence ---> 0.8\n",
      "Class name --> laptop\n",
      "Confidence ---> 0.78\n",
      "Class name --> person\n",
      "Confidence ---> 0.4\n",
      "Class name --> person\n",
      "Confidence ---> 0.31\n",
      "Class name --> person\n",
      "Confidence ---> 0.27\n",
      "Class name --> person\n"
     ]
    },
    {
     "name": "stderr",
     "output_type": "stream",
     "text": [
      "\n",
      "0: 480x640 3 persons, 1 laptop, 124.0ms\n",
      "Speed: 7.6ms preprocess, 124.0ms inference, 0.8ms postprocess per image at shape (1, 3, 480, 640)\n",
      "\n",
      "0: 480x640 3 persons, 1 laptop, 112.6ms\n",
      "Speed: 2.4ms preprocess, 112.6ms inference, 0.8ms postprocess per image at shape (1, 3, 480, 640)\n",
      "\n"
     ]
    },
    {
     "name": "stdout",
     "output_type": "stream",
     "text": [
      "Confidence ---> 0.9\n",
      "Class name --> person\n",
      "Confidence ---> 0.86\n",
      "Class name --> person\n",
      "Confidence ---> 0.76\n",
      "Class name --> laptop\n",
      "Confidence ---> 0.53\n",
      "Class name --> person\n",
      "Confidence ---> 0.92\n",
      "Class name --> person\n",
      "Confidence ---> 0.82\n",
      "Class name --> person\n",
      "Confidence ---> 0.79\n",
      "Class name --> laptop\n",
      "Confidence ---> 0.7\n",
      "Class name --> person\n"
     ]
    },
    {
     "name": "stderr",
     "output_type": "stream",
     "text": [
      "0: 480x640 3 persons, 1 laptop, 119.1ms\n",
      "Speed: 3.4ms preprocess, 119.1ms inference, 1.2ms postprocess per image at shape (1, 3, 480, 640)\n",
      "\n",
      "0: 480x640 3 persons, 1 laptop, 112.3ms\n",
      "Speed: 2.6ms preprocess, 112.3ms inference, 1.5ms postprocess per image at shape (1, 3, 480, 640)\n"
     ]
    },
    {
     "name": "stdout",
     "output_type": "stream",
     "text": [
      "Confidence ---> 0.91\n",
      "Class name --> person\n",
      "Confidence ---> 0.79\n",
      "Class name --> person\n",
      "Confidence ---> 0.77\n",
      "Class name --> laptop\n",
      "Confidence ---> 0.73\n",
      "Class name --> person\n",
      "Confidence ---> 0.91\n",
      "Class name --> person\n",
      "Confidence ---> 0.79\n",
      "Class name --> laptop\n",
      "Confidence ---> 0.77\n",
      "Class name --> person\n",
      "Confidence ---> 0.59\n",
      "Class name --> person\n"
     ]
    },
    {
     "name": "stderr",
     "output_type": "stream",
     "text": [
      "\n",
      "0: 480x640 3 persons, 1 laptop, 117.0ms\n",
      "Speed: 2.6ms preprocess, 117.0ms inference, 0.8ms postprocess per image at shape (1, 3, 480, 640)\n",
      "\n",
      "0: 480x640 3 persons, 1 laptop, 105.5ms\n",
      "Speed: 2.6ms preprocess, 105.5ms inference, 0.8ms postprocess per image at shape (1, 3, 480, 640)\n",
      "\n"
     ]
    },
    {
     "name": "stdout",
     "output_type": "stream",
     "text": [
      "Confidence ---> 0.9\n",
      "Class name --> person\n",
      "Confidence ---> 0.78\n",
      "Class name --> person\n",
      "Confidence ---> 0.76\n",
      "Class name --> laptop\n",
      "Confidence ---> 0.55\n",
      "Class name --> person\n",
      "Confidence ---> 0.92\n",
      "Class name --> person\n",
      "Confidence ---> 0.72\n",
      "Class name --> laptop\n",
      "Confidence ---> 0.72\n",
      "Class name --> person\n",
      "Confidence ---> 0.59\n",
      "Class name --> person\n"
     ]
    },
    {
     "name": "stderr",
     "output_type": "stream",
     "text": [
      "0: 480x640 3 persons, 1 laptop, 118.1ms\n",
      "Speed: 2.2ms preprocess, 118.1ms inference, 0.7ms postprocess per image at shape (1, 3, 480, 640)\n",
      "\n"
     ]
    },
    {
     "name": "stdout",
     "output_type": "stream",
     "text": [
      "Confidence ---> 0.91\n",
      "Class name --> person\n",
      "Confidence ---> 0.77\n",
      "Class name --> laptop\n",
      "Confidence ---> 0.76\n",
      "Class name --> person\n",
      "Confidence ---> 0.73\n",
      "Class name --> person\n"
     ]
    },
    {
     "name": "stderr",
     "output_type": "stream",
     "text": [
      "0: 480x640 3 persons, 1 laptop, 121.7ms\n",
      "Speed: 28.8ms preprocess, 121.7ms inference, 0.7ms postprocess per image at shape (1, 3, 480, 640)\n",
      "\n",
      "0: 480x640 3 persons, 1 laptop, 114.6ms\n",
      "Speed: 3.7ms preprocess, 114.6ms inference, 0.7ms postprocess per image at shape (1, 3, 480, 640)\n",
      "\n"
     ]
    },
    {
     "name": "stdout",
     "output_type": "stream",
     "text": [
      "Confidence ---> 0.9\n",
      "Class name --> person\n",
      "Confidence ---> 0.78\n",
      "Class name --> person\n",
      "Confidence ---> 0.76\n",
      "Class name --> laptop\n",
      "Confidence ---> 0.68\n",
      "Class name --> person\n",
      "Confidence ---> 0.91\n",
      "Class name --> person\n",
      "Confidence ---> 0.74\n",
      "Class name --> laptop\n",
      "Confidence ---> 0.68\n",
      "Class name --> person\n",
      "Confidence ---> 0.66\n",
      "Class name --> person\n"
     ]
    },
    {
     "name": "stderr",
     "output_type": "stream",
     "text": [
      "0: 480x640 3 persons, 1 laptop, 111.7ms\n",
      "Speed: 2.5ms preprocess, 111.7ms inference, 1.5ms postprocess per image at shape (1, 3, 480, 640)\n",
      "\n",
      "0: 480x640 3 persons, 1 laptop, 105.6ms\n",
      "Speed: 2.2ms preprocess, 105.6ms inference, 0.8ms postprocess per image at shape (1, 3, 480, 640)\n",
      "\n"
     ]
    },
    {
     "name": "stdout",
     "output_type": "stream",
     "text": [
      "Confidence ---> 0.91\n",
      "Class name --> person\n",
      "Confidence ---> 0.79\n",
      "Class name --> laptop\n",
      "Confidence ---> 0.72\n",
      "Class name --> person\n",
      "Confidence ---> 0.71\n",
      "Class name --> person\n",
      "Confidence ---> 0.9\n",
      "Class name --> person\n",
      "Confidence ---> 0.76\n",
      "Class name --> person\n",
      "Confidence ---> 0.76\n",
      "Class name --> laptop\n",
      "Confidence ---> 0.7\n",
      "Class name --> person\n"
     ]
    },
    {
     "name": "stderr",
     "output_type": "stream",
     "text": [
      "0: 480x640 3 persons, 1 laptop, 113.1ms\n",
      "Speed: 2.2ms preprocess, 113.1ms inference, 0.7ms postprocess per image at shape (1, 3, 480, 640)\n",
      "\n",
      "0: 480x640 3 persons, 1 laptop, 102.1ms\n",
      "Speed: 2.2ms preprocess, 102.1ms inference, 0.7ms postprocess per image at shape (1, 3, 480, 640)\n",
      "\n"
     ]
    },
    {
     "name": "stdout",
     "output_type": "stream",
     "text": [
      "Confidence ---> 0.89\n",
      "Class name --> person\n",
      "Confidence ---> 0.77\n",
      "Class name --> laptop\n",
      "Confidence ---> 0.72\n",
      "Class name --> person\n",
      "Confidence ---> 0.7\n",
      "Class name --> person\n",
      "Confidence ---> 0.9\n",
      "Class name --> person\n",
      "Confidence ---> 0.8\n",
      "Class name --> laptop\n",
      "Confidence ---> 0.69\n",
      "Class name --> person\n",
      "Confidence ---> 0.68\n",
      "Class name --> person\n"
     ]
    },
    {
     "name": "stderr",
     "output_type": "stream",
     "text": [
      "0: 480x640 3 persons, 1 laptop, 127.7ms\n",
      "Speed: 2.3ms preprocess, 127.7ms inference, 0.9ms postprocess per image at shape (1, 3, 480, 640)\n",
      "\n",
      "0: 480x640 3 persons, 1 laptop, 102.0ms\n",
      "Speed: 2.0ms preprocess, 102.0ms inference, 0.7ms postprocess per image at shape (1, 3, 480, 640)\n",
      "\n"
     ]
    },
    {
     "name": "stdout",
     "output_type": "stream",
     "text": [
      "Confidence ---> 0.9\n",
      "Class name --> person\n",
      "Confidence ---> 0.79\n",
      "Class name --> laptop\n",
      "Confidence ---> 0.68\n",
      "Class name --> person\n",
      "Confidence ---> 0.59\n",
      "Class name --> person\n",
      "Confidence ---> 0.9\n",
      "Class name --> person\n",
      "Confidence ---> 0.77\n",
      "Class name --> laptop\n",
      "Confidence ---> 0.72\n",
      "Class name --> person\n",
      "Confidence ---> 0.48\n",
      "Class name --> person\n"
     ]
    },
    {
     "name": "stderr",
     "output_type": "stream",
     "text": [
      "0: 480x640 3 persons, 1 laptop, 116.8ms\n",
      "Speed: 2.0ms preprocess, 116.8ms inference, 0.8ms postprocess per image at shape (1, 3, 480, 640)\n",
      "\n",
      "0: 480x640 3 persons, 1 laptop, 100.6ms\n",
      "Speed: 2.1ms preprocess, 100.6ms inference, 0.7ms postprocess per image at shape (1, 3, 480, 640)\n",
      "\n"
     ]
    },
    {
     "name": "stdout",
     "output_type": "stream",
     "text": [
      "Confidence ---> 0.92\n",
      "Class name --> person\n",
      "Confidence ---> 0.76\n",
      "Class name --> laptop\n",
      "Confidence ---> 0.7\n",
      "Class name --> person\n",
      "Confidence ---> 0.7\n",
      "Class name --> person\n",
      "Confidence ---> 0.9\n",
      "Class name --> person\n",
      "Confidence ---> 0.76\n",
      "Class name --> laptop\n",
      "Confidence ---> 0.7\n",
      "Class name --> person\n",
      "Confidence ---> 0.66\n",
      "Class name --> person\n"
     ]
    },
    {
     "name": "stderr",
     "output_type": "stream",
     "text": [
      "0: 480x640 3 persons, 1 laptop, 118.2ms\n",
      "Speed: 2.4ms preprocess, 118.2ms inference, 0.7ms postprocess per image at shape (1, 3, 480, 640)\n",
      "\n",
      "0: 480x640 3 persons, 1 laptop, 100.5ms\n",
      "Speed: 2.1ms preprocess, 100.5ms inference, 0.7ms postprocess per image at shape (1, 3, 480, 640)\n",
      "\n"
     ]
    },
    {
     "name": "stdout",
     "output_type": "stream",
     "text": [
      "Confidence ---> 0.89\n",
      "Class name --> person\n",
      "Confidence ---> 0.8\n",
      "Class name --> laptop\n",
      "Confidence ---> 0.76\n",
      "Class name --> person\n",
      "Confidence ---> 0.71\n",
      "Class name --> person\n",
      "Confidence ---> 0.91\n",
      "Class name --> person\n",
      "Confidence ---> 0.77\n",
      "Class name --> laptop\n",
      "Confidence ---> 0.73\n",
      "Class name --> person\n",
      "Confidence ---> 0.67\n",
      "Class name --> person\n"
     ]
    },
    {
     "name": "stderr",
     "output_type": "stream",
     "text": [
      "0: 480x640 3 persons, 1 laptop, 115.4ms\n",
      "Speed: 2.0ms preprocess, 115.4ms inference, 0.7ms postprocess per image at shape (1, 3, 480, 640)\n",
      "\n"
     ]
    },
    {
     "name": "stdout",
     "output_type": "stream",
     "text": [
      "Confidence ---> 0.91\n",
      "Class name --> person\n",
      "Confidence ---> 0.76\n",
      "Class name --> laptop\n",
      "Confidence ---> 0.71\n",
      "Class name --> person\n",
      "Confidence ---> 0.61\n",
      "Class name --> person\n"
     ]
    },
    {
     "name": "stderr",
     "output_type": "stream",
     "text": [
      "0: 480x640 3 persons, 1 tv, 1 laptop, 156.3ms\n",
      "Speed: 2.0ms preprocess, 156.3ms inference, 0.9ms postprocess per image at shape (1, 3, 480, 640)\n",
      "\n",
      "0: 480x640 2 persons, 1 tv, 1 laptop, 110.4ms\n",
      "Speed: 2.6ms preprocess, 110.4ms inference, 0.8ms postprocess per image at shape (1, 3, 480, 640)\n"
     ]
    },
    {
     "name": "stdout",
     "output_type": "stream",
     "text": [
      "Confidence ---> 0.89\n",
      "Class name --> person\n",
      "Confidence ---> 0.8\n",
      "Class name --> laptop\n",
      "Confidence ---> 0.74\n",
      "Class name --> person\n",
      "Confidence ---> 0.39\n",
      "Class name --> person\n",
      "Confidence ---> 0.33\n",
      "Class name --> tvmonitor\n",
      "Confidence ---> 0.88\n",
      "Class name --> person\n",
      "Confidence ---> 0.8\n",
      "Class name --> laptop\n",
      "Confidence ---> 0.65\n",
      "Class name --> person\n",
      "Confidence ---> 0.35\n",
      "Class name --> tvmonitor\n"
     ]
    },
    {
     "name": "stderr",
     "output_type": "stream",
     "text": [
      "\n",
      "0: 480x640 2 persons, 1 tv, 1 laptop, 109.6ms\n",
      "Speed: 2.4ms preprocess, 109.6ms inference, 0.7ms postprocess per image at shape (1, 3, 480, 640)\n",
      "\n",
      "0: 480x640 2 persons, 1 tv, 1 laptop, 97.6ms\n",
      "Speed: 2.4ms preprocess, 97.6ms inference, 0.7ms postprocess per image at shape (1, 3, 480, 640)\n",
      "\n"
     ]
    },
    {
     "name": "stdout",
     "output_type": "stream",
     "text": [
      "Confidence ---> 0.88\n",
      "Class name --> person\n",
      "Confidence ---> 0.78\n",
      "Class name --> laptop\n",
      "Confidence ---> 0.67\n",
      "Class name --> person\n",
      "Confidence ---> 0.31\n",
      "Class name --> tvmonitor\n",
      "Confidence ---> 0.91\n",
      "Class name --> person\n",
      "Confidence ---> 0.76\n",
      "Class name --> laptop\n",
      "Confidence ---> 0.66\n",
      "Class name --> person\n",
      "Confidence ---> 0.29\n",
      "Class name --> tvmonitor\n"
     ]
    },
    {
     "name": "stderr",
     "output_type": "stream",
     "text": [
      "0: 480x640 2 persons, 1 tv, 1 laptop, 114.3ms\n",
      "Speed: 2.1ms preprocess, 114.3ms inference, 0.7ms postprocess per image at shape (1, 3, 480, 640)\n",
      "\n",
      "0: 480x640 2 persons, 1 tv, 1 laptop, 99.6ms\n",
      "Speed: 2.1ms preprocess, 99.6ms inference, 0.7ms postprocess per image at shape (1, 3, 480, 640)\n",
      "\n"
     ]
    },
    {
     "name": "stdout",
     "output_type": "stream",
     "text": [
      "Confidence ---> 0.92\n",
      "Class name --> person\n",
      "Confidence ---> 0.82\n",
      "Class name --> laptop\n",
      "Confidence ---> 0.76\n",
      "Class name --> person\n",
      "Confidence ---> 0.35\n",
      "Class name --> tvmonitor\n",
      "Confidence ---> 0.91\n",
      "Class name --> person\n",
      "Confidence ---> 0.79\n",
      "Class name --> laptop\n",
      "Confidence ---> 0.71\n",
      "Class name --> person\n",
      "Confidence ---> 0.28\n",
      "Class name --> tvmonitor\n"
     ]
    },
    {
     "name": "stderr",
     "output_type": "stream",
     "text": [
      "0: 480x640 2 persons, 1 laptop, 113.2ms\n",
      "Speed: 2.1ms preprocess, 113.2ms inference, 0.7ms postprocess per image at shape (1, 3, 480, 640)\n",
      "\n",
      "0: 480x640 2 persons, 1 tv, 1 laptop, 115.5ms\n",
      "Speed: 2.4ms preprocess, 115.5ms inference, 0.8ms postprocess per image at shape (1, 3, 480, 640)\n"
     ]
    },
    {
     "name": "stdout",
     "output_type": "stream",
     "text": [
      "Confidence ---> 0.9\n",
      "Class name --> person\n",
      "Confidence ---> 0.8\n",
      "Class name --> laptop\n",
      "Confidence ---> 0.76\n",
      "Class name --> person\n",
      "Confidence ---> 0.9\n",
      "Class name --> person\n",
      "Confidence ---> 0.79\n",
      "Class name --> laptop\n",
      "Confidence ---> 0.76\n",
      "Class name --> person\n",
      "Confidence ---> 0.3\n",
      "Class name --> tvmonitor\n"
     ]
    },
    {
     "name": "stderr",
     "output_type": "stream",
     "text": [
      "\n",
      "0: 480x640 3 persons, 1 laptop, 117.7ms\n",
      "Speed: 3.3ms preprocess, 117.7ms inference, 0.8ms postprocess per image at shape (1, 3, 480, 640)\n",
      "\n",
      "0: 480x640 3 persons, 1 laptop, 98.9ms\n",
      "Speed: 2.4ms preprocess, 98.9ms inference, 0.7ms postprocess per image at shape (1, 3, 480, 640)\n",
      "\n"
     ]
    },
    {
     "name": "stdout",
     "output_type": "stream",
     "text": [
      "Confidence ---> 0.89\n",
      "Class name --> person\n",
      "Confidence ---> 0.8\n",
      "Class name --> laptop\n",
      "Confidence ---> 0.79\n",
      "Class name --> person\n",
      "Confidence ---> 0.71\n",
      "Class name --> person\n",
      "Confidence ---> 0.9\n",
      "Class name --> person\n",
      "Confidence ---> 0.77\n",
      "Class name --> laptop\n",
      "Confidence ---> 0.76\n",
      "Class name --> person\n",
      "Confidence ---> 0.71\n",
      "Class name --> person\n"
     ]
    },
    {
     "name": "stderr",
     "output_type": "stream",
     "text": [
      "0: 480x640 3 persons, 1 laptop, 126.0ms\n",
      "Speed: 2.5ms preprocess, 126.0ms inference, 0.9ms postprocess per image at shape (1, 3, 480, 640)\n",
      "\n",
      "0: 480x640 3 persons, 1 laptop, 103.0ms\n",
      "Speed: 2.0ms preprocess, 103.0ms inference, 0.7ms postprocess per image at shape (1, 3, 480, 640)\n",
      "\n"
     ]
    },
    {
     "name": "stdout",
     "output_type": "stream",
     "text": [
      "Confidence ---> 0.9\n",
      "Class name --> person\n",
      "Confidence ---> 0.8\n",
      "Class name --> laptop\n",
      "Confidence ---> 0.75\n",
      "Class name --> person\n",
      "Confidence ---> 0.73\n",
      "Class name --> person\n",
      "Confidence ---> 0.89\n",
      "Class name --> person\n",
      "Confidence ---> 0.81\n",
      "Class name --> laptop\n",
      "Confidence ---> 0.72\n",
      "Class name --> person\n",
      "Confidence ---> 0.66\n",
      "Class name --> person\n"
     ]
    },
    {
     "name": "stderr",
     "output_type": "stream",
     "text": [
      "0: 480x640 3 persons, 1 laptop, 114.3ms\n",
      "Speed: 2.1ms preprocess, 114.3ms inference, 0.7ms postprocess per image at shape (1, 3, 480, 640)\n",
      "\n",
      "0: 480x640 3 persons, 1 laptop, 101.1ms\n",
      "Speed: 2.3ms preprocess, 101.1ms inference, 0.7ms postprocess per image at shape (1, 3, 480, 640)\n",
      "\n"
     ]
    },
    {
     "name": "stdout",
     "output_type": "stream",
     "text": [
      "Confidence ---> 0.91\n",
      "Class name --> person\n",
      "Confidence ---> 0.76\n",
      "Class name --> laptop\n",
      "Confidence ---> 0.69\n",
      "Class name --> person\n",
      "Confidence ---> 0.67\n",
      "Class name --> person\n",
      "Confidence ---> 0.91\n",
      "Class name --> person\n",
      "Confidence ---> 0.78\n",
      "Class name --> laptop\n",
      "Confidence ---> 0.72\n",
      "Class name --> person\n",
      "Confidence ---> 0.71\n",
      "Class name --> person\n"
     ]
    },
    {
     "name": "stderr",
     "output_type": "stream",
     "text": [
      "0: 480x640 3 persons, 1 laptop, 173.5ms\n",
      "Speed: 2.2ms preprocess, 173.5ms inference, 0.8ms postprocess per image at shape (1, 3, 480, 640)\n",
      "\n",
      "0: 480x640 3 persons, 1 laptop, 102.3ms\n",
      "Speed: 4.0ms preprocess, 102.3ms inference, 0.7ms postprocess per image at shape (1, 3, 480, 640)\n",
      "\n"
     ]
    },
    {
     "name": "stdout",
     "output_type": "stream",
     "text": [
      "Confidence ---> 0.9\n",
      "Class name --> person\n",
      "Confidence ---> 0.78\n",
      "Class name --> laptop\n",
      "Confidence ---> 0.74\n",
      "Class name --> person\n",
      "Confidence ---> 0.71\n",
      "Class name --> person\n",
      "Confidence ---> 0.91\n",
      "Class name --> person\n",
      "Confidence ---> 0.79\n",
      "Class name --> laptop\n",
      "Confidence ---> 0.68\n",
      "Class name --> person\n",
      "Confidence ---> 0.66\n",
      "Class name --> person\n"
     ]
    },
    {
     "name": "stderr",
     "output_type": "stream",
     "text": [
      "0: 480x640 3 persons, 1 laptop, 114.7ms\n",
      "Speed: 2.4ms preprocess, 114.7ms inference, 0.8ms postprocess per image at shape (1, 3, 480, 640)\n",
      "\n",
      "0: 480x640 3 persons, 1 laptop, 102.4ms\n",
      "Speed: 2.3ms preprocess, 102.4ms inference, 0.7ms postprocess per image at shape (1, 3, 480, 640)\n",
      "\n"
     ]
    },
    {
     "name": "stdout",
     "output_type": "stream",
     "text": [
      "Confidence ---> 0.92\n",
      "Class name --> person\n",
      "Confidence ---> 0.77\n",
      "Class name --> laptop\n",
      "Confidence ---> 0.68\n",
      "Class name --> person\n",
      "Confidence ---> 0.63\n",
      "Class name --> person\n",
      "Confidence ---> 0.91\n",
      "Class name --> person\n",
      "Confidence ---> 0.86\n",
      "Class name --> person\n",
      "Confidence ---> 0.78\n",
      "Class name --> laptop\n",
      "Confidence ---> 0.73\n",
      "Class name --> person\n"
     ]
    },
    {
     "name": "stderr",
     "output_type": "stream",
     "text": [
      "0: 480x640 3 persons, 1 laptop, 112.4ms\n",
      "Speed: 2.4ms preprocess, 112.4ms inference, 0.7ms postprocess per image at shape (1, 3, 480, 640)\n",
      "\n",
      "0: 480x640 3 persons, 1 laptop, 85.8ms\n",
      "Speed: 2.1ms preprocess, 85.8ms inference, 0.8ms postprocess per image at shape (1, 3, 480, 640)\n",
      "\n"
     ]
    },
    {
     "name": "stdout",
     "output_type": "stream",
     "text": [
      "Confidence ---> 0.92\n",
      "Class name --> person\n",
      "Confidence ---> 0.81\n",
      "Class name --> person\n",
      "Confidence ---> 0.79\n",
      "Class name --> laptop\n",
      "Confidence ---> 0.72\n",
      "Class name --> person\n",
      "Confidence ---> 0.9\n",
      "Class name --> person\n",
      "Confidence ---> 0.78\n",
      "Class name --> laptop\n",
      "Confidence ---> 0.72\n",
      "Class name --> person\n",
      "Confidence ---> 0.63\n",
      "Class name --> person\n"
     ]
    },
    {
     "name": "stderr",
     "output_type": "stream",
     "text": [
      "0: 480x640 3 persons, 1 laptop, 86.2ms\n",
      "Speed: 2.0ms preprocess, 86.2ms inference, 0.7ms postprocess per image at shape (1, 3, 480, 640)\n",
      "\n",
      "0: 480x640 3 persons, 1 laptop, 81.9ms\n",
      "Speed: 2.2ms preprocess, 81.9ms inference, 0.7ms postprocess per image at shape (1, 3, 480, 640)\n",
      "\n"
     ]
    },
    {
     "name": "stdout",
     "output_type": "stream",
     "text": [
      "Confidence ---> 0.91\n",
      "Class name --> person\n",
      "Confidence ---> 0.8\n",
      "Class name --> person\n",
      "Confidence ---> 0.75\n",
      "Class name --> laptop\n",
      "Confidence ---> 0.67\n",
      "Class name --> person\n",
      "Confidence ---> 0.89\n",
      "Class name --> person\n",
      "Confidence ---> 0.81\n",
      "Class name --> laptop\n",
      "Confidence ---> 0.79\n",
      "Class name --> person\n",
      "Confidence ---> 0.72\n",
      "Class name --> person\n"
     ]
    },
    {
     "name": "stderr",
     "output_type": "stream",
     "text": [
      "0: 480x640 3 persons, 1 laptop, 88.5ms\n",
      "Speed: 2.3ms preprocess, 88.5ms inference, 0.7ms postprocess per image at shape (1, 3, 480, 640)\n",
      "\n",
      "0: 480x640 3 persons, 1 laptop, 84.0ms\n",
      "Speed: 2.2ms preprocess, 84.0ms inference, 0.7ms postprocess per image at shape (1, 3, 480, 640)\n",
      "\n"
     ]
    },
    {
     "name": "stdout",
     "output_type": "stream",
     "text": [
      "Confidence ---> 0.88\n",
      "Class name --> person\n",
      "Confidence ---> 0.8\n",
      "Class name --> laptop\n",
      "Confidence ---> 0.72\n",
      "Class name --> person\n",
      "Confidence ---> 0.66\n",
      "Class name --> person\n",
      "Confidence ---> 0.91\n",
      "Class name --> person\n",
      "Confidence ---> 0.76\n",
      "Class name --> laptop\n",
      "Confidence ---> 0.68\n",
      "Class name --> person\n",
      "Confidence ---> 0.67\n",
      "Class name --> person\n"
     ]
    },
    {
     "name": "stderr",
     "output_type": "stream",
     "text": [
      "0: 480x640 3 persons, 1 laptop, 113.5ms\n",
      "Speed: 2.0ms preprocess, 113.5ms inference, 1.0ms postprocess per image at shape (1, 3, 480, 640)\n",
      "\n",
      "0: 480x640 3 persons, 1 laptop, 87.3ms\n",
      "Speed: 2.2ms preprocess, 87.3ms inference, 0.8ms postprocess per image at shape (1, 3, 480, 640)\n",
      "\n"
     ]
    },
    {
     "name": "stdout",
     "output_type": "stream",
     "text": [
      "Confidence ---> 0.9\n",
      "Class name --> person\n",
      "Confidence ---> 0.78\n",
      "Class name --> laptop\n",
      "Confidence ---> 0.74\n",
      "Class name --> person\n",
      "Confidence ---> 0.67\n",
      "Class name --> person\n",
      "Confidence ---> 0.91\n",
      "Class name --> person\n",
      "Confidence ---> 0.76\n",
      "Class name --> person\n",
      "Confidence ---> 0.76\n",
      "Class name --> person\n",
      "Confidence ---> 0.75\n",
      "Class name --> laptop\n"
     ]
    },
    {
     "name": "stderr",
     "output_type": "stream",
     "text": [
      "0: 480x640 3 persons, 1 laptop, 97.3ms\n",
      "Speed: 2.3ms preprocess, 97.3ms inference, 0.7ms postprocess per image at shape (1, 3, 480, 640)\n",
      "\n",
      "0: 480x640 3 persons, 1 laptop, 84.7ms\n",
      "Speed: 2.2ms preprocess, 84.7ms inference, 0.7ms postprocess per image at shape (1, 3, 480, 640)\n",
      "\n"
     ]
    },
    {
     "name": "stdout",
     "output_type": "stream",
     "text": [
      "Confidence ---> 0.91\n",
      "Class name --> person\n",
      "Confidence ---> 0.81\n",
      "Class name --> laptop\n",
      "Confidence ---> 0.75\n",
      "Class name --> person\n",
      "Confidence ---> 0.67\n",
      "Class name --> person\n",
      "Confidence ---> 0.9\n",
      "Class name --> person\n",
      "Confidence ---> 0.76\n",
      "Class name --> laptop\n",
      "Confidence ---> 0.76\n",
      "Class name --> person\n",
      "Confidence ---> 0.61\n",
      "Class name --> person\n"
     ]
    },
    {
     "name": "stderr",
     "output_type": "stream",
     "text": [
      "0: 480x640 3 persons, 1 laptop, 98.0ms\n",
      "Speed: 3.6ms preprocess, 98.0ms inference, 0.7ms postprocess per image at shape (1, 3, 480, 640)\n",
      "\n",
      "0: 480x640 3 persons, 1 laptop, 89.7ms\n",
      "Speed: 2.1ms preprocess, 89.7ms inference, 0.8ms postprocess per image at shape (1, 3, 480, 640)\n",
      "\n"
     ]
    },
    {
     "name": "stdout",
     "output_type": "stream",
     "text": [
      "Confidence ---> 0.9\n",
      "Class name --> person\n",
      "Confidence ---> 0.8\n",
      "Class name --> laptop\n",
      "Confidence ---> 0.72\n",
      "Class name --> person\n",
      "Confidence ---> 0.59\n",
      "Class name --> person\n",
      "Confidence ---> 0.9\n",
      "Class name --> person\n",
      "Confidence ---> 0.81\n",
      "Class name --> laptop\n",
      "Confidence ---> 0.73\n",
      "Class name --> person\n",
      "Confidence ---> 0.52\n",
      "Class name --> person\n"
     ]
    },
    {
     "name": "stderr",
     "output_type": "stream",
     "text": [
      "0: 480x640 3 persons, 1 laptop, 91.3ms\n",
      "Speed: 2.1ms preprocess, 91.3ms inference, 0.9ms postprocess per image at shape (1, 3, 480, 640)\n",
      "\n",
      "0: 480x640 3 persons, 1 laptop, 84.7ms\n",
      "Speed: 2.2ms preprocess, 84.7ms inference, 0.7ms postprocess per image at shape (1, 3, 480, 640)\n",
      "\n"
     ]
    },
    {
     "name": "stdout",
     "output_type": "stream",
     "text": [
      "Confidence ---> 0.91\n",
      "Class name --> person\n",
      "Confidence ---> 0.81\n",
      "Class name --> laptop\n",
      "Confidence ---> 0.74\n",
      "Class name --> person\n",
      "Confidence ---> 0.42\n",
      "Class name --> person\n",
      "Confidence ---> 0.91\n",
      "Class name --> person\n",
      "Confidence ---> 0.8\n",
      "Class name --> laptop\n",
      "Confidence ---> 0.76\n",
      "Class name --> person\n",
      "Confidence ---> 0.64\n",
      "Class name --> person\n"
     ]
    },
    {
     "name": "stderr",
     "output_type": "stream",
     "text": [
      "0: 480x640 3 persons, 1 laptop, 84.8ms\n",
      "Speed: 2.0ms preprocess, 84.8ms inference, 0.7ms postprocess per image at shape (1, 3, 480, 640)\n",
      "\n",
      "0: 480x640 3 persons, 1 laptop, 83.0ms\n",
      "Speed: 2.0ms preprocess, 83.0ms inference, 0.7ms postprocess per image at shape (1, 3, 480, 640)\n",
      "\n"
     ]
    },
    {
     "name": "stdout",
     "output_type": "stream",
     "text": [
      "Confidence ---> 0.92\n",
      "Class name --> person\n",
      "Confidence ---> 0.79\n",
      "Class name --> laptop\n",
      "Confidence ---> 0.73\n",
      "Class name --> person\n",
      "Confidence ---> 0.71\n",
      "Class name --> person\n",
      "Confidence ---> 0.91\n",
      "Class name --> person\n",
      "Confidence ---> 0.8\n",
      "Class name --> laptop\n",
      "Confidence ---> 0.73\n",
      "Class name --> person\n",
      "Confidence ---> 0.73\n",
      "Class name --> person\n"
     ]
    },
    {
     "name": "stderr",
     "output_type": "stream",
     "text": [
      "0: 480x640 3 persons, 1 laptop, 88.6ms\n",
      "Speed: 2.0ms preprocess, 88.6ms inference, 0.7ms postprocess per image at shape (1, 3, 480, 640)\n",
      "\n",
      "0: 480x640 3 persons, 1 laptop, 80.6ms\n",
      "Speed: 2.1ms preprocess, 80.6ms inference, 0.7ms postprocess per image at shape (1, 3, 480, 640)\n",
      "\n"
     ]
    },
    {
     "name": "stdout",
     "output_type": "stream",
     "text": [
      "Confidence ---> 0.9\n",
      "Class name --> person\n",
      "Confidence ---> 0.82\n",
      "Class name --> person\n",
      "Confidence ---> 0.77\n",
      "Class name --> laptop\n",
      "Confidence ---> 0.68\n",
      "Class name --> person\n",
      "Confidence ---> 0.91\n",
      "Class name --> person\n",
      "Confidence ---> 0.82\n",
      "Class name --> person\n",
      "Confidence ---> 0.77\n",
      "Class name --> laptop\n",
      "Confidence ---> 0.71\n",
      "Class name --> person\n"
     ]
    },
    {
     "name": "stderr",
     "output_type": "stream",
     "text": [
      "0: 480x640 3 persons, 1 laptop, 96.7ms\n",
      "Speed: 2.2ms preprocess, 96.7ms inference, 0.7ms postprocess per image at shape (1, 3, 480, 640)\n",
      "\n",
      "0: 480x640 3 persons, 1 laptop, 84.0ms\n",
      "Speed: 2.0ms preprocess, 84.0ms inference, 0.7ms postprocess per image at shape (1, 3, 480, 640)\n",
      "\n"
     ]
    },
    {
     "name": "stdout",
     "output_type": "stream",
     "text": [
      "Confidence ---> 0.91\n",
      "Class name --> person\n",
      "Confidence ---> 0.77\n",
      "Class name --> laptop\n",
      "Confidence ---> 0.74\n",
      "Class name --> person\n",
      "Confidence ---> 0.7\n",
      "Class name --> person\n",
      "Confidence ---> 0.89\n",
      "Class name --> person\n",
      "Confidence ---> 0.86\n",
      "Class name --> person\n",
      "Confidence ---> 0.78\n",
      "Class name --> laptop\n",
      "Confidence ---> 0.7\n",
      "Class name --> person\n"
     ]
    },
    {
     "name": "stderr",
     "output_type": "stream",
     "text": [
      "0: 480x640 3 persons, 1 laptop, 89.7ms\n",
      "Speed: 2.0ms preprocess, 89.7ms inference, 0.7ms postprocess per image at shape (1, 3, 480, 640)\n",
      "\n",
      "0: 480x640 3 persons, 1 laptop, 82.3ms\n",
      "Speed: 2.0ms preprocess, 82.3ms inference, 0.7ms postprocess per image at shape (1, 3, 480, 640)\n",
      "\n"
     ]
    },
    {
     "name": "stdout",
     "output_type": "stream",
     "text": [
      "Confidence ---> 0.9\n",
      "Class name --> person\n",
      "Confidence ---> 0.84\n",
      "Class name --> person\n",
      "Confidence ---> 0.75\n",
      "Class name --> laptop\n",
      "Confidence ---> 0.67\n",
      "Class name --> person\n",
      "Confidence ---> 0.89\n",
      "Class name --> person\n",
      "Confidence ---> 0.83\n",
      "Class name --> person\n",
      "Confidence ---> 0.79\n",
      "Class name --> laptop\n",
      "Confidence ---> 0.69\n",
      "Class name --> person\n"
     ]
    },
    {
     "name": "stderr",
     "output_type": "stream",
     "text": [
      "0: 480x640 3 persons, 1 laptop, 88.5ms\n",
      "Speed: 2.0ms preprocess, 88.5ms inference, 0.7ms postprocess per image at shape (1, 3, 480, 640)\n",
      "\n",
      "0: 480x640 3 persons, 1 laptop, 82.6ms\n",
      "Speed: 2.1ms preprocess, 82.6ms inference, 0.7ms postprocess per image at shape (1, 3, 480, 640)\n",
      "\n"
     ]
    },
    {
     "name": "stdout",
     "output_type": "stream",
     "text": [
      "Confidence ---> 0.89\n",
      "Class name --> person\n",
      "Confidence ---> 0.82\n",
      "Class name --> person\n",
      "Confidence ---> 0.82\n",
      "Class name --> laptop\n",
      "Confidence ---> 0.69\n",
      "Class name --> person\n",
      "Confidence ---> 0.89\n",
      "Class name --> person\n",
      "Confidence ---> 0.83\n",
      "Class name --> person\n",
      "Confidence ---> 0.81\n",
      "Class name --> laptop\n",
      "Confidence ---> 0.7\n",
      "Class name --> person\n"
     ]
    },
    {
     "name": "stderr",
     "output_type": "stream",
     "text": [
      "0: 480x640 3 persons, 1 laptop, 91.6ms\n",
      "Speed: 2.2ms preprocess, 91.6ms inference, 0.8ms postprocess per image at shape (1, 3, 480, 640)\n",
      "\n",
      "0: 480x640 3 persons, 1 laptop, 93.9ms\n",
      "Speed: 21.3ms preprocess, 93.9ms inference, 0.9ms postprocess per image at shape (1, 3, 480, 640)\n"
     ]
    },
    {
     "name": "stdout",
     "output_type": "stream",
     "text": [
      "Confidence ---> 0.89\n",
      "Class name --> person\n",
      "Confidence ---> 0.81\n",
      "Class name --> laptop\n",
      "Confidence ---> 0.78\n",
      "Class name --> person\n",
      "Confidence ---> 0.7\n",
      "Class name --> person\n",
      "Confidence ---> 0.9\n",
      "Class name --> person\n",
      "Confidence ---> 0.86\n",
      "Class name --> person\n",
      "Confidence ---> 0.79\n",
      "Class name --> laptop\n",
      "Confidence ---> 0.67\n",
      "Class name --> person\n"
     ]
    },
    {
     "name": "stderr",
     "output_type": "stream",
     "text": [
      "\n",
      "0: 480x640 3 persons, 1 laptop, 88.2ms\n",
      "Speed: 2.0ms preprocess, 88.2ms inference, 0.7ms postprocess per image at shape (1, 3, 480, 640)\n",
      "\n",
      "0: 480x640 3 persons, 1 laptop, 80.9ms\n",
      "Speed: 2.1ms preprocess, 80.9ms inference, 0.7ms postprocess per image at shape (1, 3, 480, 640)\n",
      "\n"
     ]
    },
    {
     "name": "stdout",
     "output_type": "stream",
     "text": [
      "Confidence ---> 0.9\n",
      "Class name --> person\n",
      "Confidence ---> 0.84\n",
      "Class name --> person\n",
      "Confidence ---> 0.8\n",
      "Class name --> laptop\n",
      "Confidence ---> 0.71\n",
      "Class name --> person\n",
      "Confidence ---> 0.9\n",
      "Class name --> person\n",
      "Confidence ---> 0.84\n",
      "Class name --> person\n",
      "Confidence ---> 0.81\n",
      "Class name --> laptop\n",
      "Confidence ---> 0.71\n",
      "Class name --> person\n"
     ]
    },
    {
     "name": "stderr",
     "output_type": "stream",
     "text": [
      "0: 480x640 3 persons, 1 laptop, 86.7ms\n",
      "Speed: 2.0ms preprocess, 86.7ms inference, 0.7ms postprocess per image at shape (1, 3, 480, 640)\n",
      "\n",
      "0: 480x640 3 persons, 1 laptop, 85.1ms\n",
      "Speed: 2.1ms preprocess, 85.1ms inference, 0.7ms postprocess per image at shape (1, 3, 480, 640)\n",
      "\n"
     ]
    },
    {
     "name": "stdout",
     "output_type": "stream",
     "text": [
      "Confidence ---> 0.9\n",
      "Class name --> person\n",
      "Confidence ---> 0.85\n",
      "Class name --> person\n",
      "Confidence ---> 0.81\n",
      "Class name --> laptop\n",
      "Confidence ---> 0.72\n",
      "Class name --> person\n",
      "Confidence ---> 0.9\n",
      "Class name --> person\n",
      "Confidence ---> 0.87\n",
      "Class name --> person\n",
      "Confidence ---> 0.78\n",
      "Class name --> laptop\n",
      "Confidence ---> 0.69\n",
      "Class name --> person\n"
     ]
    },
    {
     "name": "stderr",
     "output_type": "stream",
     "text": [
      "0: 480x640 3 persons, 1 laptop, 87.0ms\n",
      "Speed: 2.0ms preprocess, 87.0ms inference, 0.7ms postprocess per image at shape (1, 3, 480, 640)\n",
      "\n",
      "0: 480x640 3 persons, 1 laptop, 84.6ms\n",
      "Speed: 2.1ms preprocess, 84.6ms inference, 0.7ms postprocess per image at shape (1, 3, 480, 640)\n",
      "\n"
     ]
    },
    {
     "name": "stdout",
     "output_type": "stream",
     "text": [
      "Confidence ---> 0.88\n",
      "Class name --> person\n",
      "Confidence ---> 0.86\n",
      "Class name --> person\n",
      "Confidence ---> 0.72\n",
      "Class name --> laptop\n",
      "Confidence ---> 0.68\n",
      "Class name --> person\n",
      "Confidence ---> 0.89\n",
      "Class name --> person\n",
      "Confidence ---> 0.85\n",
      "Class name --> person\n",
      "Confidence ---> 0.8\n",
      "Class name --> laptop\n",
      "Confidence ---> 0.69\n",
      "Class name --> person\n"
     ]
    },
    {
     "name": "stderr",
     "output_type": "stream",
     "text": [
      "0: 480x640 3 persons, 1 laptop, 88.3ms\n",
      "Speed: 1.9ms preprocess, 88.3ms inference, 0.7ms postprocess per image at shape (1, 3, 480, 640)\n",
      "\n",
      "0: 480x640 3 persons, 1 laptop, 83.5ms\n",
      "Speed: 2.1ms preprocess, 83.5ms inference, 0.8ms postprocess per image at shape (1, 3, 480, 640)\n",
      "\n"
     ]
    },
    {
     "name": "stdout",
     "output_type": "stream",
     "text": [
      "Confidence ---> 0.9\n",
      "Class name --> person\n",
      "Confidence ---> 0.86\n",
      "Class name --> person\n",
      "Confidence ---> 0.83\n",
      "Class name --> laptop\n",
      "Confidence ---> 0.7\n",
      "Class name --> person\n",
      "Confidence ---> 0.9\n",
      "Class name --> person\n",
      "Confidence ---> 0.85\n",
      "Class name --> person\n",
      "Confidence ---> 0.77\n",
      "Class name --> laptop\n",
      "Confidence ---> 0.7\n",
      "Class name --> person\n"
     ]
    },
    {
     "name": "stderr",
     "output_type": "stream",
     "text": [
      "0: 480x640 3 persons, 1 laptop, 91.0ms\n",
      "Speed: 2.6ms preprocess, 91.0ms inference, 0.9ms postprocess per image at shape (1, 3, 480, 640)\n",
      "\n",
      "0: 480x640 3 persons, 1 laptop, 83.5ms\n",
      "Speed: 2.2ms preprocess, 83.5ms inference, 0.7ms postprocess per image at shape (1, 3, 480, 640)\n",
      "\n"
     ]
    },
    {
     "name": "stdout",
     "output_type": "stream",
     "text": [
      "Confidence ---> 0.9\n",
      "Class name --> person\n",
      "Confidence ---> 0.86\n",
      "Class name --> person\n",
      "Confidence ---> 0.82\n",
      "Class name --> laptop\n",
      "Confidence ---> 0.71\n",
      "Class name --> person\n",
      "Confidence ---> 0.9\n",
      "Class name --> person\n",
      "Confidence ---> 0.84\n",
      "Class name --> person\n",
      "Confidence ---> 0.78\n",
      "Class name --> laptop\n",
      "Confidence ---> 0.71\n",
      "Class name --> person\n"
     ]
    },
    {
     "name": "stderr",
     "output_type": "stream",
     "text": [
      "0: 480x640 3 persons, 1 laptop, 86.8ms\n",
      "Speed: 2.2ms preprocess, 86.8ms inference, 0.7ms postprocess per image at shape (1, 3, 480, 640)\n",
      "\n",
      "0: 480x640 3 persons, 1 laptop, 80.6ms\n",
      "Speed: 2.2ms preprocess, 80.6ms inference, 0.7ms postprocess per image at shape (1, 3, 480, 640)\n",
      "\n"
     ]
    },
    {
     "name": "stdout",
     "output_type": "stream",
     "text": [
      "Confidence ---> 0.91\n",
      "Class name --> person\n",
      "Confidence ---> 0.82\n",
      "Class name --> person\n",
      "Confidence ---> 0.77\n",
      "Class name --> laptop\n",
      "Confidence ---> 0.74\n",
      "Class name --> person\n",
      "Confidence ---> 0.89\n",
      "Class name --> person\n",
      "Confidence ---> 0.81\n",
      "Class name --> person\n",
      "Confidence ---> 0.79\n",
      "Class name --> laptop\n",
      "Confidence ---> 0.75\n",
      "Class name --> person\n"
     ]
    },
    {
     "name": "stderr",
     "output_type": "stream",
     "text": [
      "0: 480x640 3 persons, 1 laptop, 91.8ms\n",
      "Speed: 2.0ms preprocess, 91.8ms inference, 0.7ms postprocess per image at shape (1, 3, 480, 640)\n",
      "\n",
      "0: 480x640 3 persons, 1 laptop, 82.8ms\n",
      "Speed: 2.1ms preprocess, 82.8ms inference, 0.7ms postprocess per image at shape (1, 3, 480, 640)\n",
      "\n"
     ]
    },
    {
     "name": "stdout",
     "output_type": "stream",
     "text": [
      "Confidence ---> 0.91\n",
      "Class name --> person\n",
      "Confidence ---> 0.87\n",
      "Class name --> person\n",
      "Confidence ---> 0.78\n",
      "Class name --> laptop\n",
      "Confidence ---> 0.69\n",
      "Class name --> person\n",
      "Confidence ---> 0.92\n",
      "Class name --> person\n",
      "Confidence ---> 0.85\n",
      "Class name --> person\n",
      "Confidence ---> 0.78\n",
      "Class name --> laptop\n",
      "Confidence ---> 0.67\n",
      "Class name --> person\n"
     ]
    },
    {
     "name": "stderr",
     "output_type": "stream",
     "text": [
      "0: 480x640 3 persons, 1 laptop, 163.3ms\n",
      "Speed: 2.2ms preprocess, 163.3ms inference, 0.7ms postprocess per image at shape (1, 3, 480, 640)\n",
      "\n",
      "0: 480x640 3 persons, 1 laptop, 82.6ms\n",
      "Speed: 2.0ms preprocess, 82.6ms inference, 0.7ms postprocess per image at shape (1, 3, 480, 640)\n",
      "\n"
     ]
    },
    {
     "name": "stdout",
     "output_type": "stream",
     "text": [
      "Confidence ---> 0.9\n",
      "Class name --> person\n",
      "Confidence ---> 0.86\n",
      "Class name --> person\n",
      "Confidence ---> 0.82\n",
      "Class name --> laptop\n",
      "Confidence ---> 0.59\n",
      "Class name --> person\n",
      "Confidence ---> 0.91\n",
      "Class name --> person\n",
      "Confidence ---> 0.86\n",
      "Class name --> person\n",
      "Confidence ---> 0.84\n",
      "Class name --> laptop\n",
      "Confidence ---> 0.48\n",
      "Class name --> person\n"
     ]
    },
    {
     "name": "stderr",
     "output_type": "stream",
     "text": [
      "0: 480x640 4 persons, 1 laptop, 86.9ms\n",
      "Speed: 2.0ms preprocess, 86.9ms inference, 0.7ms postprocess per image at shape (1, 3, 480, 640)\n",
      "\n",
      "0: 480x640 5 persons, 1 laptop, 82.9ms\n",
      "Speed: 2.0ms preprocess, 82.9ms inference, 0.7ms postprocess per image at shape (1, 3, 480, 640)\n",
      "\n"
     ]
    },
    {
     "name": "stdout",
     "output_type": "stream",
     "text": [
      "Confidence ---> 0.91\n",
      "Class name --> person\n",
      "Confidence ---> 0.85\n",
      "Class name --> laptop\n",
      "Confidence ---> 0.77\n",
      "Class name --> person\n",
      "Confidence ---> 0.48\n",
      "Class name --> person\n",
      "Confidence ---> 0.35\n",
      "Class name --> person\n",
      "Confidence ---> 0.92\n",
      "Class name --> person\n",
      "Confidence ---> 0.86\n",
      "Class name --> person\n",
      "Confidence ---> 0.84\n",
      "Class name --> laptop\n",
      "Confidence ---> 0.77\n",
      "Class name --> person\n",
      "Confidence ---> 0.5\n",
      "Class name --> person\n",
      "Confidence ---> 0.33\n",
      "Class name --> person\n"
     ]
    },
    {
     "name": "stderr",
     "output_type": "stream",
     "text": [
      "0: 480x640 4 persons, 1 laptop, 88.4ms\n",
      "Speed: 1.9ms preprocess, 88.4ms inference, 0.7ms postprocess per image at shape (1, 3, 480, 640)\n",
      "\n",
      "0: 480x640 6 persons, 1 laptop, 80.8ms\n",
      "Speed: 2.1ms preprocess, 80.8ms inference, 0.8ms postprocess per image at shape (1, 3, 480, 640)\n",
      "\n"
     ]
    },
    {
     "name": "stdout",
     "output_type": "stream",
     "text": [
      "Confidence ---> 0.92\n",
      "Class name --> person\n",
      "Confidence ---> 0.91\n",
      "Class name --> person\n",
      "Confidence ---> 0.85\n",
      "Class name --> person\n",
      "Confidence ---> 0.78\n",
      "Class name --> laptop\n",
      "Confidence ---> 0.59\n",
      "Class name --> person\n",
      "Confidence ---> 0.89\n",
      "Class name --> person\n",
      "Confidence ---> 0.86\n",
      "Class name --> person\n",
      "Confidence ---> 0.81\n",
      "Class name --> person\n",
      "Confidence ---> 0.72\n",
      "Class name --> laptop\n",
      "Confidence ---> 0.43\n",
      "Class name --> person\n",
      "Confidence ---> 0.28\n",
      "Class name --> person\n",
      "Confidence ---> 0.28\n",
      "Class name --> person\n"
     ]
    },
    {
     "name": "stderr",
     "output_type": "stream",
     "text": [
      "0: 480x640 6 persons, 1 laptop, 88.3ms\n",
      "Speed: 1.9ms preprocess, 88.3ms inference, 0.7ms postprocess per image at shape (1, 3, 480, 640)\n",
      "\n",
      "0: 480x640 4 persons, 1 laptop, 84.9ms\n",
      "Speed: 2.1ms preprocess, 84.9ms inference, 0.7ms postprocess per image at shape (1, 3, 480, 640)\n",
      "\n"
     ]
    },
    {
     "name": "stdout",
     "output_type": "stream",
     "text": [
      "Confidence ---> 0.89\n",
      "Class name --> person\n",
      "Confidence ---> 0.84\n",
      "Class name --> person\n",
      "Confidence ---> 0.62\n",
      "Class name --> person\n",
      "Confidence ---> 0.55\n",
      "Class name --> laptop\n",
      "Confidence ---> 0.48\n",
      "Class name --> person\n",
      "Confidence ---> 0.39\n",
      "Class name --> person\n",
      "Confidence ---> 0.28\n",
      "Class name --> person\n",
      "Confidence ---> 0.92\n",
      "Class name --> person\n",
      "Confidence ---> 0.86\n",
      "Class name --> person\n",
      "Confidence ---> 0.83\n",
      "Class name --> person\n",
      "Confidence ---> 0.5\n",
      "Class name --> person\n",
      "Confidence ---> 0.45\n",
      "Class name --> laptop\n"
     ]
    },
    {
     "name": "stderr",
     "output_type": "stream",
     "text": [
      "0: 480x640 4 persons, 1 laptop, 93.0ms\n",
      "Speed: 2.0ms preprocess, 93.0ms inference, 0.8ms postprocess per image at shape (1, 3, 480, 640)\n",
      "\n",
      "0: 480x640 4 persons, 1 laptop, 80.6ms\n",
      "Speed: 2.0ms preprocess, 80.6ms inference, 0.7ms postprocess per image at shape (1, 3, 480, 640)\n",
      "\n"
     ]
    },
    {
     "name": "stdout",
     "output_type": "stream",
     "text": [
      "Confidence ---> 0.91\n",
      "Class name --> person\n",
      "Confidence ---> 0.85\n",
      "Class name --> person\n",
      "Confidence ---> 0.77\n",
      "Class name --> person\n",
      "Confidence ---> 0.57\n",
      "Class name --> laptop\n",
      "Confidence ---> 0.46\n",
      "Class name --> person\n",
      "Confidence ---> 0.95\n",
      "Class name --> person\n",
      "Confidence ---> 0.85\n",
      "Class name --> person\n",
      "Confidence ---> 0.64\n",
      "Class name --> person\n",
      "Confidence ---> 0.44\n",
      "Class name --> laptop\n",
      "Confidence ---> 0.41\n",
      "Class name --> person\n"
     ]
    },
    {
     "name": "stderr",
     "output_type": "stream",
     "text": [
      "0: 480x640 3 persons, 1 laptop, 87.4ms\n",
      "Speed: 2.1ms preprocess, 87.4ms inference, 0.7ms postprocess per image at shape (1, 3, 480, 640)\n",
      "\n",
      "0: 480x640 3 persons, 1 laptop, 82.1ms\n",
      "Speed: 2.0ms preprocess, 82.1ms inference, 0.7ms postprocess per image at shape (1, 3, 480, 640)\n",
      "\n"
     ]
    },
    {
     "name": "stdout",
     "output_type": "stream",
     "text": [
      "Confidence ---> 0.94\n",
      "Class name --> person\n",
      "Confidence ---> 0.87\n",
      "Class name --> person\n",
      "Confidence ---> 0.46\n",
      "Class name --> laptop\n",
      "Confidence ---> 0.36\n",
      "Class name --> person\n",
      "Confidence ---> 0.93\n",
      "Class name --> person\n",
      "Confidence ---> 0.88\n",
      "Class name --> person\n",
      "Confidence ---> 0.49\n",
      "Class name --> person\n",
      "Confidence ---> 0.42\n",
      "Class name --> laptop\n"
     ]
    },
    {
     "name": "stderr",
     "output_type": "stream",
     "text": [
      "0: 480x640 3 persons, 1 laptop, 87.6ms\n",
      "Speed: 2.1ms preprocess, 87.6ms inference, 0.7ms postprocess per image at shape (1, 3, 480, 640)\n",
      "\n",
      "0: 480x640 3 persons, 1 laptop, 83.6ms\n",
      "Speed: 2.0ms preprocess, 83.6ms inference, 0.7ms postprocess per image at shape (1, 3, 480, 640)\n",
      "\n"
     ]
    },
    {
     "name": "stdout",
     "output_type": "stream",
     "text": [
      "Confidence ---> 0.94\n",
      "Class name --> person\n",
      "Confidence ---> 0.87\n",
      "Class name --> person\n",
      "Confidence ---> 0.58\n",
      "Class name --> laptop\n",
      "Confidence ---> 0.56\n",
      "Class name --> person\n",
      "Confidence ---> 0.93\n",
      "Class name --> person\n",
      "Confidence ---> 0.87\n",
      "Class name --> person\n",
      "Confidence ---> 0.75\n",
      "Class name --> laptop\n",
      "Confidence ---> 0.7\n",
      "Class name --> person\n"
     ]
    },
    {
     "name": "stderr",
     "output_type": "stream",
     "text": [
      "0: 480x640 3 persons, 1 laptop, 85.6ms\n",
      "Speed: 2.1ms preprocess, 85.6ms inference, 48.9ms postprocess per image at shape (1, 3, 480, 640)\n",
      "\n",
      "0: 480x640 3 persons, 1 laptop, 80.6ms\n",
      "Speed: 2.0ms preprocess, 80.6ms inference, 0.7ms postprocess per image at shape (1, 3, 480, 640)\n",
      "\n"
     ]
    },
    {
     "name": "stdout",
     "output_type": "stream",
     "text": [
      "Confidence ---> 0.93\n",
      "Class name --> person\n",
      "Confidence ---> 0.88\n",
      "Class name --> person\n",
      "Confidence ---> 0.83\n",
      "Class name --> person\n",
      "Confidence ---> 0.78\n",
      "Class name --> laptop\n",
      "Confidence ---> 0.93\n",
      "Class name --> person\n",
      "Confidence ---> 0.88\n",
      "Class name --> person\n",
      "Confidence ---> 0.83\n",
      "Class name --> laptop\n",
      "Confidence ---> 0.76\n",
      "Class name --> person\n"
     ]
    },
    {
     "name": "stderr",
     "output_type": "stream",
     "text": [
      "0: 480x640 3 persons, 1 laptop, 86.9ms\n",
      "Speed: 2.1ms preprocess, 86.9ms inference, 0.7ms postprocess per image at shape (1, 3, 480, 640)\n",
      "\n",
      "0: 480x640 3 persons, 1 laptop, 83.1ms\n",
      "Speed: 2.1ms preprocess, 83.1ms inference, 0.7ms postprocess per image at shape (1, 3, 480, 640)\n",
      "\n"
     ]
    },
    {
     "name": "stdout",
     "output_type": "stream",
     "text": [
      "Confidence ---> 0.92\n",
      "Class name --> person\n",
      "Confidence ---> 0.88\n",
      "Class name --> person\n",
      "Confidence ---> 0.86\n",
      "Class name --> laptop\n",
      "Confidence ---> 0.79\n",
      "Class name --> person\n",
      "Confidence ---> 0.92\n",
      "Class name --> person\n",
      "Confidence ---> 0.88\n",
      "Class name --> person\n",
      "Confidence ---> 0.87\n",
      "Class name --> laptop\n",
      "Confidence ---> 0.74\n",
      "Class name --> person\n"
     ]
    },
    {
     "name": "stderr",
     "output_type": "stream",
     "text": [
      "0: 480x640 3 persons, 1 laptop, 89.4ms\n",
      "Speed: 2.2ms preprocess, 89.4ms inference, 0.8ms postprocess per image at shape (1, 3, 480, 640)\n",
      "\n",
      "0: 480x640 3 persons, 1 laptop, 85.3ms\n",
      "Speed: 2.4ms preprocess, 85.3ms inference, 0.7ms postprocess per image at shape (1, 3, 480, 640)\n",
      "\n"
     ]
    },
    {
     "name": "stdout",
     "output_type": "stream",
     "text": [
      "Confidence ---> 0.93\n",
      "Class name --> person\n",
      "Confidence ---> 0.88\n",
      "Class name --> person\n",
      "Confidence ---> 0.85\n",
      "Class name --> laptop\n",
      "Confidence ---> 0.76\n",
      "Class name --> person\n",
      "Confidence ---> 0.94\n",
      "Class name --> person\n",
      "Confidence ---> 0.88\n",
      "Class name --> person\n",
      "Confidence ---> 0.83\n",
      "Class name --> laptop\n",
      "Confidence ---> 0.69\n",
      "Class name --> person\n"
     ]
    },
    {
     "name": "stderr",
     "output_type": "stream",
     "text": [
      "0: 480x640 4 persons, 1 laptop, 92.9ms\n",
      "Speed: 2.0ms preprocess, 92.9ms inference, 0.7ms postprocess per image at shape (1, 3, 480, 640)\n",
      "\n",
      "0: 480x640 4 persons, 1 laptop, 84.1ms\n",
      "Speed: 2.1ms preprocess, 84.1ms inference, 0.7ms postprocess per image at shape (1, 3, 480, 640)\n",
      "\n"
     ]
    },
    {
     "name": "stdout",
     "output_type": "stream",
     "text": [
      "Confidence ---> 0.93\n",
      "Class name --> person\n",
      "Confidence ---> 0.85\n",
      "Class name --> person\n",
      "Confidence ---> 0.79\n",
      "Class name --> laptop\n",
      "Confidence ---> 0.6\n",
      "Class name --> person\n",
      "Confidence ---> 0.32\n",
      "Class name --> person\n",
      "Confidence ---> 0.93\n",
      "Class name --> person\n",
      "Confidence ---> 0.85\n",
      "Class name --> person\n",
      "Confidence ---> 0.79\n",
      "Class name --> laptop\n",
      "Confidence ---> 0.52\n",
      "Class name --> person\n",
      "Confidence ---> 0.37\n",
      "Class name --> person\n"
     ]
    },
    {
     "name": "stderr",
     "output_type": "stream",
     "text": [
      "0: 480x640 3 persons, 1 laptop, 201.7ms\n",
      "Speed: 2.1ms preprocess, 201.7ms inference, 1.3ms postprocess per image at shape (1, 3, 480, 640)\n",
      "\n",
      "0: 480x640 3 persons, 1 laptop, 92.9ms\n",
      "Speed: 2.7ms preprocess, 92.9ms inference, 1.0ms postprocess per image at shape (1, 3, 480, 640)\n",
      "\n"
     ]
    },
    {
     "name": "stdout",
     "output_type": "stream",
     "text": [
      "Confidence ---> 0.93\n",
      "Class name --> person\n",
      "Confidence ---> 0.84\n",
      "Class name --> laptop\n",
      "Confidence ---> 0.83\n",
      "Class name --> person\n",
      "Confidence ---> 0.6\n",
      "Class name --> person\n",
      "Confidence ---> 0.93\n",
      "Class name --> person\n",
      "Confidence ---> 0.85\n",
      "Class name --> person\n",
      "Confidence ---> 0.79\n",
      "Class name --> laptop\n",
      "Confidence ---> 0.65\n",
      "Class name --> person\n"
     ]
    },
    {
     "name": "stderr",
     "output_type": "stream",
     "text": [
      "0: 480x640 3 persons, 1 laptop, 89.5ms\n",
      "Speed: 2.3ms preprocess, 89.5ms inference, 0.7ms postprocess per image at shape (1, 3, 480, 640)\n",
      "\n",
      "0: 480x640 4 persons, 1 laptop, 89.1ms\n",
      "Speed: 2.1ms preprocess, 89.1ms inference, 0.7ms postprocess per image at shape (1, 3, 480, 640)\n",
      "\n"
     ]
    },
    {
     "name": "stdout",
     "output_type": "stream",
     "text": [
      "Confidence ---> 0.93\n",
      "Class name --> person\n",
      "Confidence ---> 0.88\n",
      "Class name --> person\n",
      "Confidence ---> 0.74\n",
      "Class name --> laptop\n",
      "Confidence ---> 0.72\n",
      "Class name --> person\n",
      "Confidence ---> 0.93\n",
      "Class name --> person\n",
      "Confidence ---> 0.87\n",
      "Class name --> person\n",
      "Confidence ---> 0.73\n",
      "Class name --> laptop\n",
      "Confidence ---> 0.72\n",
      "Class name --> person\n",
      "Confidence ---> 0.4\n",
      "Class name --> person\n"
     ]
    },
    {
     "name": "stderr",
     "output_type": "stream",
     "text": [
      "0: 480x640 4 persons, 1 laptop, 91.4ms\n",
      "Speed: 2.1ms preprocess, 91.4ms inference, 0.7ms postprocess per image at shape (1, 3, 480, 640)\n",
      "\n",
      "0: 480x640 4 persons, 1 laptop, 86.9ms\n",
      "Speed: 2.4ms preprocess, 86.9ms inference, 0.7ms postprocess per image at shape (1, 3, 480, 640)\n",
      "\n"
     ]
    },
    {
     "name": "stdout",
     "output_type": "stream",
     "text": [
      "Confidence ---> 0.94\n",
      "Class name --> person\n",
      "Confidence ---> 0.88\n",
      "Class name --> person\n",
      "Confidence ---> 0.75\n",
      "Class name --> laptop\n",
      "Confidence ---> 0.71\n",
      "Class name --> person\n",
      "Confidence ---> 0.42\n",
      "Class name --> person\n",
      "Confidence ---> 0.94\n",
      "Class name --> person\n",
      "Confidence ---> 0.87\n",
      "Class name --> person\n",
      "Confidence ---> 0.8\n",
      "Class name --> laptop\n",
      "Confidence ---> 0.73\n",
      "Class name --> person\n",
      "Confidence ---> 0.29\n",
      "Class name --> person\n"
     ]
    },
    {
     "name": "stderr",
     "output_type": "stream",
     "text": [
      "0: 480x640 3 persons, 1 laptop, 109.3ms\n",
      "Speed: 35.2ms preprocess, 109.3ms inference, 0.7ms postprocess per image at shape (1, 3, 480, 640)\n",
      "\n",
      "0: 480x640 4 persons, 1 laptop, 90.0ms\n",
      "Speed: 2.0ms preprocess, 90.0ms inference, 0.7ms postprocess per image at shape (1, 3, 480, 640)\n",
      "\n"
     ]
    },
    {
     "name": "stdout",
     "output_type": "stream",
     "text": [
      "Confidence ---> 0.92\n",
      "Class name --> person\n",
      "Confidence ---> 0.87\n",
      "Class name --> person\n",
      "Confidence ---> 0.72\n",
      "Class name --> laptop\n",
      "Confidence ---> 0.71\n",
      "Class name --> person\n",
      "Confidence ---> 0.93\n",
      "Class name --> person\n",
      "Confidence ---> 0.88\n",
      "Class name --> person\n",
      "Confidence ---> 0.71\n",
      "Class name --> person\n",
      "Confidence ---> 0.7\n",
      "Class name --> laptop\n",
      "Confidence ---> 0.29\n",
      "Class name --> person\n"
     ]
    },
    {
     "name": "stderr",
     "output_type": "stream",
     "text": [
      "0: 480x640 3 persons, 1 laptop, 92.1ms\n",
      "Speed: 2.2ms preprocess, 92.1ms inference, 0.7ms postprocess per image at shape (1, 3, 480, 640)\n",
      "\n",
      "0: 480x640 3 persons, 1 laptop, 88.4ms\n",
      "Speed: 2.3ms preprocess, 88.4ms inference, 0.7ms postprocess per image at shape (1, 3, 480, 640)\n",
      "\n"
     ]
    },
    {
     "name": "stdout",
     "output_type": "stream",
     "text": [
      "Confidence ---> 0.94\n",
      "Class name --> person\n",
      "Confidence ---> 0.89\n",
      "Class name --> person\n",
      "Confidence ---> 0.72\n",
      "Class name --> person\n",
      "Confidence ---> 0.68\n",
      "Class name --> laptop\n",
      "Confidence ---> 0.94\n",
      "Class name --> person\n",
      "Confidence ---> 0.88\n",
      "Class name --> person\n",
      "Confidence ---> 0.56\n",
      "Class name --> person\n",
      "Confidence ---> 0.51\n",
      "Class name --> laptop\n"
     ]
    },
    {
     "name": "stderr",
     "output_type": "stream",
     "text": [
      "0: 480x640 3 persons, 1 laptop, 102.9ms\n",
      "Speed: 2.2ms preprocess, 102.9ms inference, 0.7ms postprocess per image at shape (1, 3, 480, 640)\n",
      "\n",
      "0: 480x640 3 persons, 1 laptop, 87.2ms\n",
      "Speed: 2.2ms preprocess, 87.2ms inference, 0.8ms postprocess per image at shape (1, 3, 480, 640)\n",
      "\n"
     ]
    },
    {
     "name": "stdout",
     "output_type": "stream",
     "text": [
      "Confidence ---> 0.94\n",
      "Class name --> person\n",
      "Confidence ---> 0.88\n",
      "Class name --> person\n",
      "Confidence ---> 0.43\n",
      "Class name --> laptop\n",
      "Confidence ---> 0.32\n",
      "Class name --> person\n",
      "Confidence ---> 0.93\n",
      "Class name --> person\n",
      "Confidence ---> 0.87\n",
      "Class name --> person\n",
      "Confidence ---> 0.46\n",
      "Class name --> laptop\n",
      "Confidence ---> 0.4\n",
      "Class name --> person\n"
     ]
    },
    {
     "name": "stderr",
     "output_type": "stream",
     "text": [
      "0: 480x640 3 persons, 1 laptop, 101.5ms\n",
      "Speed: 2.1ms preprocess, 101.5ms inference, 0.7ms postprocess per image at shape (1, 3, 480, 640)\n",
      "\n",
      "0: 480x640 3 persons, 1 laptop, 87.8ms\n",
      "Speed: 2.1ms preprocess, 87.8ms inference, 0.7ms postprocess per image at shape (1, 3, 480, 640)\n",
      "\n"
     ]
    },
    {
     "name": "stdout",
     "output_type": "stream",
     "text": [
      "Confidence ---> 0.94\n",
      "Class name --> person\n",
      "Confidence ---> 0.87\n",
      "Class name --> person\n",
      "Confidence ---> 0.4\n",
      "Class name --> laptop\n",
      "Confidence ---> 0.39\n",
      "Class name --> person\n",
      "Confidence ---> 0.93\n",
      "Class name --> person\n",
      "Confidence ---> 0.87\n",
      "Class name --> person\n",
      "Confidence ---> 0.5\n",
      "Class name --> laptop\n",
      "Confidence ---> 0.37\n",
      "Class name --> person\n"
     ]
    },
    {
     "name": "stderr",
     "output_type": "stream",
     "text": [
      "0: 480x640 2 persons, 1 laptop, 101.7ms\n",
      "Speed: 2.1ms preprocess, 101.7ms inference, 0.7ms postprocess per image at shape (1, 3, 480, 640)\n",
      "\n",
      "0: 480x640 3 persons, 1 laptop, 85.9ms\n",
      "Speed: 2.5ms preprocess, 85.9ms inference, 0.7ms postprocess per image at shape (1, 3, 480, 640)\n",
      "\n"
     ]
    },
    {
     "name": "stdout",
     "output_type": "stream",
     "text": [
      "Confidence ---> 0.93\n",
      "Class name --> person\n",
      "Confidence ---> 0.88\n",
      "Class name --> person\n",
      "Confidence ---> 0.38\n",
      "Class name --> laptop\n",
      "Confidence ---> 0.94\n",
      "Class name --> person\n",
      "Confidence ---> 0.88\n",
      "Class name --> person\n",
      "Confidence ---> 0.47\n",
      "Class name --> laptop\n",
      "Confidence ---> 0.32\n",
      "Class name --> person\n"
     ]
    },
    {
     "name": "stderr",
     "output_type": "stream",
     "text": [
      "0: 480x640 3 persons, 1 laptop, 96.4ms\n",
      "Speed: 1.9ms preprocess, 96.4ms inference, 0.8ms postprocess per image at shape (1, 3, 480, 640)\n",
      "\n",
      "0: 480x640 3 persons, 1 laptop, 118.4ms\n",
      "Speed: 2.3ms preprocess, 118.4ms inference, 0.7ms postprocess per image at shape (1, 3, 480, 640)\n",
      "\n"
     ]
    },
    {
     "name": "stdout",
     "output_type": "stream",
     "text": [
      "Confidence ---> 0.94\n",
      "Class name --> person\n",
      "Confidence ---> 0.88\n",
      "Class name --> person\n",
      "Confidence ---> 0.52\n",
      "Class name --> laptop\n",
      "Confidence ---> 0.47\n",
      "Class name --> person\n",
      "Confidence ---> 0.94\n",
      "Class name --> person\n",
      "Confidence ---> 0.88\n",
      "Class name --> person\n",
      "Confidence ---> 0.41\n",
      "Class name --> person\n",
      "Confidence ---> 0.39\n",
      "Class name --> laptop\n"
     ]
    },
    {
     "name": "stderr",
     "output_type": "stream",
     "text": [
      "0: 480x640 3 persons, 1 laptop, 91.9ms\n",
      "Speed: 2.2ms preprocess, 91.9ms inference, 0.7ms postprocess per image at shape (1, 3, 480, 640)\n",
      "\n",
      "0: 480x640 3 persons, 1 laptop, 85.9ms\n",
      "Speed: 2.0ms preprocess, 85.9ms inference, 0.9ms postprocess per image at shape (1, 3, 480, 640)\n",
      "\n"
     ]
    },
    {
     "name": "stdout",
     "output_type": "stream",
     "text": [
      "Confidence ---> 0.94\n",
      "Class name --> person\n",
      "Confidence ---> 0.87\n",
      "Class name --> person\n",
      "Confidence ---> 0.53\n",
      "Class name --> person\n",
      "Confidence ---> 0.43\n",
      "Class name --> laptop\n",
      "Confidence ---> 0.94\n",
      "Class name --> person\n",
      "Confidence ---> 0.88\n",
      "Class name --> person\n",
      "Confidence ---> 0.6\n",
      "Class name --> person\n",
      "Confidence ---> 0.52\n",
      "Class name --> laptop\n"
     ]
    },
    {
     "name": "stderr",
     "output_type": "stream",
     "text": [
      "0: 480x640 3 persons, 1 laptop, 106.2ms\n",
      "Speed: 4.4ms preprocess, 106.2ms inference, 0.7ms postprocess per image at shape (1, 3, 480, 640)\n",
      "\n",
      "0: 480x640 3 persons, 1 laptop, 90.4ms\n",
      "Speed: 2.3ms preprocess, 90.4ms inference, 0.8ms postprocess per image at shape (1, 3, 480, 640)\n",
      "\n"
     ]
    },
    {
     "name": "stdout",
     "output_type": "stream",
     "text": [
      "Confidence ---> 0.94\n",
      "Class name --> person\n",
      "Confidence ---> 0.88\n",
      "Class name --> person\n",
      "Confidence ---> 0.63\n",
      "Class name --> person\n",
      "Confidence ---> 0.56\n",
      "Class name --> laptop\n",
      "Confidence ---> 0.94\n",
      "Class name --> person\n",
      "Confidence ---> 0.88\n",
      "Class name --> person\n",
      "Confidence ---> 0.69\n",
      "Class name --> laptop\n",
      "Confidence ---> 0.64\n",
      "Class name --> person\n"
     ]
    },
    {
     "name": "stderr",
     "output_type": "stream",
     "text": [
      "0: 480x640 4 persons, 1 laptop, 91.2ms\n",
      "Speed: 2.3ms preprocess, 91.2ms inference, 0.7ms postprocess per image at shape (1, 3, 480, 640)\n",
      "\n",
      "0: 480x640 4 persons, 1 laptop, 91.0ms\n",
      "Speed: 2.4ms preprocess, 91.0ms inference, 0.7ms postprocess per image at shape (1, 3, 480, 640)\n",
      "\n"
     ]
    },
    {
     "name": "stdout",
     "output_type": "stream",
     "text": [
      "Confidence ---> 0.94\n",
      "Class name --> person\n",
      "Confidence ---> 0.88\n",
      "Class name --> person\n",
      "Confidence ---> 0.74\n",
      "Class name --> laptop\n",
      "Confidence ---> 0.57\n",
      "Class name --> person\n",
      "Confidence ---> 0.45\n",
      "Class name --> person\n",
      "Confidence ---> 0.92\n",
      "Class name --> person\n",
      "Confidence ---> 0.87\n",
      "Class name --> person\n",
      "Confidence ---> 0.86\n",
      "Class name --> laptop\n",
      "Confidence ---> 0.52\n",
      "Class name --> person\n",
      "Confidence ---> 0.26\n",
      "Class name --> person\n"
     ]
    },
    {
     "name": "stderr",
     "output_type": "stream",
     "text": [
      "0: 480x640 3 persons, 1 laptop, 97.0ms\n",
      "Speed: 2.3ms preprocess, 97.0ms inference, 0.9ms postprocess per image at shape (1, 3, 480, 640)\n",
      "\n",
      "0: 480x640 3 persons, 1 laptop, 87.7ms\n",
      "Speed: 2.6ms preprocess, 87.7ms inference, 0.7ms postprocess per image at shape (1, 3, 480, 640)\n",
      "\n"
     ]
    },
    {
     "name": "stdout",
     "output_type": "stream",
     "text": [
      "Confidence ---> 0.9\n",
      "Class name --> laptop\n",
      "Confidence ---> 0.84\n",
      "Class name --> person\n",
      "Confidence ---> 0.62\n",
      "Class name --> person\n",
      "Confidence ---> 0.36\n",
      "Class name --> person\n",
      "Confidence ---> 0.88\n",
      "Class name --> laptop\n",
      "Confidence ---> 0.83\n",
      "Class name --> person\n",
      "Confidence ---> 0.69\n",
      "Class name --> person\n",
      "Confidence ---> 0.67\n",
      "Class name --> person\n"
     ]
    },
    {
     "name": "stderr",
     "output_type": "stream",
     "text": [
      "0: 480x640 3 persons, 2 laptops, 95.5ms\n",
      "Speed: 2.1ms preprocess, 95.5ms inference, 1.3ms postprocess per image at shape (1, 3, 480, 640)\n",
      "\n",
      "0: 480x640 3 persons, 1 laptop, 91.5ms\n",
      "Speed: 2.3ms preprocess, 91.5ms inference, 0.7ms postprocess per image at shape (1, 3, 480, 640)\n",
      "\n"
     ]
    },
    {
     "name": "stdout",
     "output_type": "stream",
     "text": [
      "Confidence ---> 0.9\n",
      "Class name --> person\n",
      "Confidence ---> 0.85\n",
      "Class name --> laptop\n",
      "Confidence ---> 0.81\n",
      "Class name --> person\n",
      "Confidence ---> 0.72\n",
      "Class name --> person\n",
      "Confidence ---> 0.27\n",
      "Class name --> laptop\n",
      "Confidence ---> 0.89\n",
      "Class name --> person\n",
      "Confidence ---> 0.88\n",
      "Class name --> laptop\n",
      "Confidence ---> 0.84\n",
      "Class name --> person\n",
      "Confidence ---> 0.82\n",
      "Class name --> person\n"
     ]
    },
    {
     "name": "stderr",
     "output_type": "stream",
     "text": [
      "0: 480x640 3 persons, 1 bowl, 1 laptop, 96.5ms\n",
      "Speed: 2.2ms preprocess, 96.5ms inference, 0.9ms postprocess per image at shape (1, 3, 480, 640)\n",
      "\n",
      "0: 480x640 3 persons, 1 laptop, 112.4ms\n",
      "Speed: 2.4ms preprocess, 112.4ms inference, 1.2ms postprocess per image at shape (1, 3, 480, 640)\n",
      "\n"
     ]
    },
    {
     "name": "stdout",
     "output_type": "stream",
     "text": [
      "Confidence ---> 0.88\n",
      "Class name --> person\n",
      "Confidence ---> 0.86\n",
      "Class name --> person\n",
      "Confidence ---> 0.85\n",
      "Class name --> laptop\n",
      "Confidence ---> 0.76\n",
      "Class name --> person\n",
      "Confidence ---> 0.28\n",
      "Class name --> bowl\n",
      "Confidence ---> 0.89\n",
      "Class name --> person\n",
      "Confidence ---> 0.86\n",
      "Class name --> laptop\n",
      "Confidence ---> 0.85\n",
      "Class name --> person\n",
      "Confidence ---> 0.67\n",
      "Class name --> person\n"
     ]
    },
    {
     "name": "stderr",
     "output_type": "stream",
     "text": [
      "0: 480x640 3 persons, 1 laptop, 96.9ms\n",
      "Speed: 2.4ms preprocess, 96.9ms inference, 0.8ms postprocess per image at shape (1, 3, 480, 640)\n",
      "\n",
      "0: 480x640 3 persons, 1 laptop, 94.9ms\n",
      "Speed: 2.4ms preprocess, 94.9ms inference, 1.1ms postprocess per image at shape (1, 3, 480, 640)\n",
      "\n"
     ]
    },
    {
     "name": "stdout",
     "output_type": "stream",
     "text": [
      "Confidence ---> 0.88\n",
      "Class name --> person\n",
      "Confidence ---> 0.87\n",
      "Class name --> laptop\n",
      "Confidence ---> 0.81\n",
      "Class name --> person\n",
      "Confidence ---> 0.66\n",
      "Class name --> person\n",
      "Confidence ---> 0.9\n",
      "Class name --> person\n",
      "Confidence ---> 0.88\n",
      "Class name --> laptop\n",
      "Confidence ---> 0.85\n",
      "Class name --> person\n",
      "Confidence ---> 0.67\n",
      "Class name --> person\n"
     ]
    },
    {
     "name": "stderr",
     "output_type": "stream",
     "text": [
      "0: 480x640 3 persons, 2 laptops, 157.5ms\n",
      "Speed: 2.3ms preprocess, 157.5ms inference, 0.7ms postprocess per image at shape (1, 3, 480, 640)\n",
      "\n",
      "0: 480x640 3 persons, 1 laptop, 126.8ms\n",
      "Speed: 2.6ms preprocess, 126.8ms inference, 1.1ms postprocess per image at shape (1, 3, 480, 640)\n"
     ]
    },
    {
     "name": "stdout",
     "output_type": "stream",
     "text": [
      "Confidence ---> 0.88\n",
      "Class name --> person\n",
      "Confidence ---> 0.88\n",
      "Class name --> laptop\n",
      "Confidence ---> 0.87\n",
      "Class name --> person\n",
      "Confidence ---> 0.74\n",
      "Class name --> person\n",
      "Confidence ---> 0.27\n",
      "Class name --> laptop\n",
      "Confidence ---> 0.9\n",
      "Class name --> laptop\n",
      "Confidence ---> 0.88\n",
      "Class name --> person\n",
      "Confidence ---> 0.88\n",
      "Class name --> person\n",
      "Confidence ---> 0.77\n",
      "Class name --> person\n"
     ]
    },
    {
     "name": "stderr",
     "output_type": "stream",
     "text": [
      "\n",
      "0: 480x640 3 persons, 1 laptop, 102.1ms\n",
      "Speed: 2.3ms preprocess, 102.1ms inference, 0.7ms postprocess per image at shape (1, 3, 480, 640)\n",
      "\n",
      "0: 480x640 3 persons, 1 laptop, 93.4ms\n",
      "Speed: 2.3ms preprocess, 93.4ms inference, 1.0ms postprocess per image at shape (1, 3, 480, 640)\n",
      "\n"
     ]
    },
    {
     "name": "stdout",
     "output_type": "stream",
     "text": [
      "Confidence ---> 0.89\n",
      "Class name --> person\n",
      "Confidence ---> 0.87\n",
      "Class name --> person\n",
      "Confidence ---> 0.85\n",
      "Class name --> laptop\n",
      "Confidence ---> 0.78\n",
      "Class name --> person\n",
      "Confidence ---> 0.89\n",
      "Class name --> person\n",
      "Confidence ---> 0.87\n",
      "Class name --> person\n",
      "Confidence ---> 0.85\n",
      "Class name --> laptop\n",
      "Confidence ---> 0.74\n",
      "Class name --> person\n"
     ]
    },
    {
     "name": "stderr",
     "output_type": "stream",
     "text": [
      "0: 480x640 3 persons, 1 laptop, 106.4ms\n",
      "Speed: 2.5ms preprocess, 106.4ms inference, 0.8ms postprocess per image at shape (1, 3, 480, 640)\n",
      "\n",
      "0: 480x640 3 persons, 1 laptop, 91.4ms\n",
      "Speed: 2.3ms preprocess, 91.4ms inference, 0.7ms postprocess per image at shape (1, 3, 480, 640)\n",
      "\n"
     ]
    },
    {
     "name": "stdout",
     "output_type": "stream",
     "text": [
      "Confidence ---> 0.89\n",
      "Class name --> person\n",
      "Confidence ---> 0.86\n",
      "Class name --> person\n",
      "Confidence ---> 0.83\n",
      "Class name --> laptop\n",
      "Confidence ---> 0.73\n",
      "Class name --> person\n",
      "Confidence ---> 0.88\n",
      "Class name --> person\n",
      "Confidence ---> 0.86\n",
      "Class name --> person\n",
      "Confidence ---> 0.82\n",
      "Class name --> laptop\n",
      "Confidence ---> 0.69\n",
      "Class name --> person\n"
     ]
    },
    {
     "name": "stderr",
     "output_type": "stream",
     "text": [
      "0: 480x640 4 persons, 1 laptop, 92.9ms\n",
      "Speed: 2.1ms preprocess, 92.9ms inference, 0.7ms postprocess per image at shape (1, 3, 480, 640)\n",
      "\n",
      "0: 480x640 3 persons, 1 laptop, 90.7ms\n",
      "Speed: 2.3ms preprocess, 90.7ms inference, 0.7ms postprocess per image at shape (1, 3, 480, 640)\n",
      "\n"
     ]
    },
    {
     "name": "stdout",
     "output_type": "stream",
     "text": [
      "Confidence ---> 0.89\n",
      "Class name --> person\n",
      "Confidence ---> 0.87\n",
      "Class name --> person\n",
      "Confidence ---> 0.84\n",
      "Class name --> laptop\n",
      "Confidence ---> 0.65\n",
      "Class name --> person\n",
      "Confidence ---> 0.33\n",
      "Class name --> person\n",
      "Confidence ---> 0.88\n",
      "Class name --> person\n",
      "Confidence ---> 0.85\n",
      "Class name --> person\n",
      "Confidence ---> 0.81\n",
      "Class name --> laptop\n",
      "Confidence ---> 0.63\n",
      "Class name --> person\n"
     ]
    },
    {
     "name": "stderr",
     "output_type": "stream",
     "text": [
      "0: 480x640 4 persons, 1 laptop, 97.7ms\n",
      "Speed: 2.0ms preprocess, 97.7ms inference, 0.8ms postprocess per image at shape (1, 3, 480, 640)\n",
      "\n",
      "0: 480x640 3 persons, 1 laptop, 91.3ms\n",
      "Speed: 2.7ms preprocess, 91.3ms inference, 0.8ms postprocess per image at shape (1, 3, 480, 640)\n",
      "\n"
     ]
    },
    {
     "name": "stdout",
     "output_type": "stream",
     "text": [
      "Confidence ---> 0.9\n",
      "Class name --> person\n",
      "Confidence ---> 0.85\n",
      "Class name --> laptop\n",
      "Confidence ---> 0.83\n",
      "Class name --> person\n",
      "Confidence ---> 0.62\n",
      "Class name --> person\n",
      "Confidence ---> 0.33\n",
      "Class name --> person\n",
      "Confidence ---> 0.91\n",
      "Class name --> person\n",
      "Confidence ---> 0.83\n",
      "Class name --> laptop\n",
      "Confidence ---> 0.82\n",
      "Class name --> person\n",
      "Confidence ---> 0.79\n",
      "Class name --> person\n"
     ]
    },
    {
     "name": "stderr",
     "output_type": "stream",
     "text": [
      "0: 480x640 3 persons, 1 laptop, 107.5ms\n",
      "Speed: 2.1ms preprocess, 107.5ms inference, 0.8ms postprocess per image at shape (1, 3, 480, 640)\n",
      "\n",
      "0: 480x640 3 persons, 1 laptop, 106.7ms\n",
      "Speed: 2.6ms preprocess, 106.7ms inference, 0.9ms postprocess per image at shape (1, 3, 480, 640)\n"
     ]
    },
    {
     "name": "stdout",
     "output_type": "stream",
     "text": [
      "Confidence ---> 0.91\n",
      "Class name --> person\n",
      "Confidence ---> 0.82\n",
      "Class name --> laptop\n",
      "Confidence ---> 0.81\n",
      "Class name --> person\n",
      "Confidence ---> 0.79\n",
      "Class name --> person\n",
      "Confidence ---> 0.9\n",
      "Class name --> person\n",
      "Confidence ---> 0.87\n",
      "Class name --> person\n",
      "Confidence ---> 0.86\n",
      "Class name --> laptop\n",
      "Confidence ---> 0.79\n",
      "Class name --> person\n"
     ]
    },
    {
     "name": "stderr",
     "output_type": "stream",
     "text": [
      "\n",
      "0: 480x640 4 persons, 1 laptop, 95.5ms\n",
      "Speed: 2.6ms preprocess, 95.5ms inference, 1.0ms postprocess per image at shape (1, 3, 480, 640)\n",
      "\n",
      "0: 480x640 4 persons, 1 laptop, 89.4ms\n",
      "Speed: 2.3ms preprocess, 89.4ms inference, 0.8ms postprocess per image at shape (1, 3, 480, 640)\n",
      "\n"
     ]
    },
    {
     "name": "stdout",
     "output_type": "stream",
     "text": [
      "Confidence ---> 0.88\n",
      "Class name --> person\n",
      "Confidence ---> 0.85\n",
      "Class name --> person\n",
      "Confidence ---> 0.84\n",
      "Class name --> laptop\n",
      "Confidence ---> 0.75\n",
      "Class name --> person\n",
      "Confidence ---> 0.34\n",
      "Class name --> person\n",
      "Confidence ---> 0.9\n",
      "Class name --> person\n",
      "Confidence ---> 0.85\n",
      "Class name --> person\n",
      "Confidence ---> 0.83\n",
      "Class name --> laptop\n",
      "Confidence ---> 0.71\n",
      "Class name --> person\n",
      "Confidence ---> 0.3\n",
      "Class name --> person\n"
     ]
    },
    {
     "name": "stderr",
     "output_type": "stream",
     "text": [
      "0: 480x640 4 persons, 1 laptop, 149.5ms\n",
      "Speed: 2.1ms preprocess, 149.5ms inference, 0.7ms postprocess per image at shape (1, 3, 480, 640)\n",
      "\n",
      "0: 480x640 4 persons, 1 laptop, 102.1ms\n",
      "Speed: 2.3ms preprocess, 102.1ms inference, 0.7ms postprocess per image at shape (1, 3, 480, 640)\n",
      "\n"
     ]
    },
    {
     "name": "stdout",
     "output_type": "stream",
     "text": [
      "Confidence ---> 0.9\n",
      "Class name --> person\n",
      "Confidence ---> 0.86\n",
      "Class name --> person\n",
      "Confidence ---> 0.81\n",
      "Class name --> laptop\n",
      "Confidence ---> 0.58\n",
      "Class name --> person\n",
      "Confidence ---> 0.35\n",
      "Class name --> person\n",
      "Confidence ---> 0.89\n",
      "Class name --> person\n",
      "Confidence ---> 0.86\n",
      "Class name --> person\n",
      "Confidence ---> 0.86\n",
      "Class name --> laptop\n",
      "Confidence ---> 0.4\n",
      "Class name --> person\n",
      "Confidence ---> 0.36\n",
      "Class name --> person\n"
     ]
    },
    {
     "name": "stderr",
     "output_type": "stream",
     "text": [
      "0: 480x640 3 persons, 1 laptop, 95.6ms\n",
      "Speed: 2.4ms preprocess, 95.6ms inference, 1.0ms postprocess per image at shape (1, 3, 480, 640)\n",
      "\n",
      "0: 480x640 3 persons, 1 laptop, 105.5ms\n",
      "Speed: 2.4ms preprocess, 105.5ms inference, 0.9ms postprocess per image at shape (1, 3, 480, 640)\n",
      "\n"
     ]
    },
    {
     "name": "stdout",
     "output_type": "stream",
     "text": [
      "Confidence ---> 0.89\n",
      "Class name --> person\n",
      "Confidence ---> 0.86\n",
      "Class name --> person\n",
      "Confidence ---> 0.8\n",
      "Class name --> laptop\n",
      "Confidence ---> 0.63\n",
      "Class name --> person\n",
      "Confidence ---> 0.88\n",
      "Class name --> person\n",
      "Confidence ---> 0.87\n",
      "Class name --> person\n",
      "Confidence ---> 0.86\n",
      "Class name --> laptop\n",
      "Confidence ---> 0.74\n",
      "Class name --> person\n"
     ]
    },
    {
     "name": "stderr",
     "output_type": "stream",
     "text": [
      "0: 480x640 3 persons, 1 laptop, 121.0ms\n",
      "Speed: 2.4ms preprocess, 121.0ms inference, 0.8ms postprocess per image at shape (1, 3, 480, 640)\n",
      "\n",
      "0: 480x640 3 persons, 1 laptop, 91.0ms\n",
      "Speed: 2.3ms preprocess, 91.0ms inference, 0.7ms postprocess per image at shape (1, 3, 480, 640)\n",
      "\n"
     ]
    },
    {
     "name": "stdout",
     "output_type": "stream",
     "text": [
      "Confidence ---> 0.9\n",
      "Class name --> person\n",
      "Confidence ---> 0.89\n",
      "Class name --> laptop\n",
      "Confidence ---> 0.87\n",
      "Class name --> person\n",
      "Confidence ---> 0.66\n",
      "Class name --> person\n",
      "Confidence ---> 0.91\n",
      "Class name --> laptop\n",
      "Confidence ---> 0.9\n",
      "Class name --> person\n",
      "Confidence ---> 0.86\n",
      "Class name --> person\n",
      "Confidence ---> 0.76\n",
      "Class name --> person\n"
     ]
    },
    {
     "name": "stderr",
     "output_type": "stream",
     "text": [
      "0: 480x640 3 persons, 2 laptops, 98.3ms\n",
      "Speed: 2.5ms preprocess, 98.3ms inference, 0.7ms postprocess per image at shape (1, 3, 480, 640)\n",
      "\n",
      "0: 480x640 3 persons, 1 laptop, 89.7ms\n",
      "Speed: 2.1ms preprocess, 89.7ms inference, 0.8ms postprocess per image at shape (1, 3, 480, 640)\n",
      "\n"
     ]
    },
    {
     "name": "stdout",
     "output_type": "stream",
     "text": [
      "Confidence ---> 0.91\n",
      "Class name --> laptop\n",
      "Confidence ---> 0.9\n",
      "Class name --> person\n",
      "Confidence ---> 0.85\n",
      "Class name --> person\n",
      "Confidence ---> 0.73\n",
      "Class name --> person\n",
      "Confidence ---> 0.37\n",
      "Class name --> laptop\n",
      "Confidence ---> 0.9\n",
      "Class name --> laptop\n",
      "Confidence ---> 0.89\n",
      "Class name --> person\n",
      "Confidence ---> 0.86\n",
      "Class name --> person\n",
      "Confidence ---> 0.78\n",
      "Class name --> person\n"
     ]
    },
    {
     "name": "stderr",
     "output_type": "stream",
     "text": [
      "0: 480x640 3 persons, 1 laptop, 93.2ms\n",
      "Speed: 2.2ms preprocess, 93.2ms inference, 0.7ms postprocess per image at shape (1, 3, 480, 640)\n",
      "\n",
      "0: 480x640 3 persons, 1 laptop, 91.3ms\n",
      "Speed: 2.4ms preprocess, 91.3ms inference, 0.7ms postprocess per image at shape (1, 3, 480, 640)\n",
      "\n"
     ]
    },
    {
     "name": "stdout",
     "output_type": "stream",
     "text": [
      "Confidence ---> 0.91\n",
      "Class name --> laptop\n",
      "Confidence ---> 0.89\n",
      "Class name --> person\n",
      "Confidence ---> 0.85\n",
      "Class name --> person\n",
      "Confidence ---> 0.77\n",
      "Class name --> person\n",
      "Confidence ---> 0.89\n",
      "Class name --> person\n",
      "Confidence ---> 0.89\n",
      "Class name --> laptop\n",
      "Confidence ---> 0.85\n",
      "Class name --> person\n",
      "Confidence ---> 0.78\n",
      "Class name --> person\n"
     ]
    },
    {
     "name": "stderr",
     "output_type": "stream",
     "text": [
      "0: 480x640 3 persons, 2 laptops, 112.7ms\n",
      "Speed: 2.2ms preprocess, 112.7ms inference, 0.9ms postprocess per image at shape (1, 3, 480, 640)\n",
      "\n"
     ]
    },
    {
     "name": "stdout",
     "output_type": "stream",
     "text": [
      "Confidence ---> 0.9\n",
      "Class name --> laptop\n",
      "Confidence ---> 0.9\n",
      "Class name --> person\n",
      "Confidence ---> 0.85\n",
      "Class name --> person\n",
      "Confidence ---> 0.74\n",
      "Class name --> person\n",
      "Confidence ---> 0.29\n",
      "Class name --> laptop\n"
     ]
    },
    {
     "name": "stderr",
     "output_type": "stream",
     "text": [
      "0: 480x640 3 persons, 2 laptops, 143.6ms\n",
      "Speed: 2.9ms preprocess, 143.6ms inference, 1.3ms postprocess per image at shape (1, 3, 480, 640)\n",
      "\n",
      "0: 480x640 3 persons, 2 laptops, 106.5ms\n",
      "Speed: 2.2ms preprocess, 106.5ms inference, 0.8ms postprocess per image at shape (1, 3, 480, 640)\n"
     ]
    },
    {
     "name": "stdout",
     "output_type": "stream",
     "text": [
      "Confidence ---> 0.91\n",
      "Class name --> laptop\n",
      "Confidence ---> 0.89\n",
      "Class name --> person\n",
      "Confidence ---> 0.86\n",
      "Class name --> person\n",
      "Confidence ---> 0.72\n",
      "Class name --> person\n",
      "Confidence ---> 0.28\n",
      "Class name --> laptop\n",
      "Confidence ---> 0.91\n",
      "Class name --> laptop\n",
      "Confidence ---> 0.89\n",
      "Class name --> person\n",
      "Confidence ---> 0.86\n",
      "Class name --> person\n",
      "Confidence ---> 0.76\n",
      "Class name --> person\n",
      "Confidence ---> 0.27\n",
      "Class name --> laptop\n"
     ]
    },
    {
     "name": "stderr",
     "output_type": "stream",
     "text": [
      "\n",
      "0: 480x640 3 persons, 2 laptops, 204.7ms\n",
      "Speed: 3.2ms preprocess, 204.7ms inference, 0.9ms postprocess per image at shape (1, 3, 480, 640)\n",
      "\n",
      "0: 480x640 3 persons, 2 laptops, 121.1ms\n",
      "Speed: 2.8ms preprocess, 121.1ms inference, 0.7ms postprocess per image at shape (1, 3, 480, 640)\n"
     ]
    },
    {
     "name": "stdout",
     "output_type": "stream",
     "text": [
      "Confidence ---> 0.91\n",
      "Class name --> laptop\n",
      "Confidence ---> 0.9\n",
      "Class name --> person\n",
      "Confidence ---> 0.85\n",
      "Class name --> person\n",
      "Confidence ---> 0.78\n",
      "Class name --> person\n",
      "Confidence ---> 0.26\n",
      "Class name --> laptop\n",
      "Confidence ---> 0.9\n",
      "Class name --> laptop\n",
      "Confidence ---> 0.9\n",
      "Class name --> person\n",
      "Confidence ---> 0.84\n",
      "Class name --> person\n",
      "Confidence ---> 0.77\n",
      "Class name --> person\n",
      "Confidence ---> 0.26\n",
      "Class name --> laptop\n"
     ]
    },
    {
     "name": "stderr",
     "output_type": "stream",
     "text": [
      "\n",
      "0: 480x640 3 persons, 2 laptops, 110.4ms\n",
      "Speed: 2.3ms preprocess, 110.4ms inference, 0.9ms postprocess per image at shape (1, 3, 480, 640)\n",
      "\n",
      "0: 480x640 3 persons, 2 laptops, 100.1ms\n",
      "Speed: 3.1ms preprocess, 100.1ms inference, 0.8ms postprocess per image at shape (1, 3, 480, 640)\n",
      "\n"
     ]
    },
    {
     "name": "stdout",
     "output_type": "stream",
     "text": [
      "Confidence ---> 0.92\n",
      "Class name --> laptop\n",
      "Confidence ---> 0.91\n",
      "Class name --> person\n",
      "Confidence ---> 0.86\n",
      "Class name --> person\n",
      "Confidence ---> 0.78\n",
      "Class name --> person\n",
      "Confidence ---> 0.36\n",
      "Class name --> laptop\n",
      "Confidence ---> 0.91\n",
      "Class name --> laptop\n",
      "Confidence ---> 0.89\n",
      "Class name --> person\n",
      "Confidence ---> 0.86\n",
      "Class name --> person\n",
      "Confidence ---> 0.8\n",
      "Class name --> person\n",
      "Confidence ---> 0.31\n",
      "Class name --> laptop\n"
     ]
    },
    {
     "name": "stderr",
     "output_type": "stream",
     "text": [
      "0: 480x640 3 persons, 2 laptops, 107.0ms\n",
      "Speed: 2.2ms preprocess, 107.0ms inference, 0.7ms postprocess per image at shape (1, 3, 480, 640)\n",
      "\n",
      "0: 480x640 3 persons, 1 laptop, 92.3ms\n",
      "Speed: 2.2ms preprocess, 92.3ms inference, 0.7ms postprocess per image at shape (1, 3, 480, 640)\n",
      "\n"
     ]
    },
    {
     "name": "stdout",
     "output_type": "stream",
     "text": [
      "Confidence ---> 0.91\n",
      "Class name --> laptop\n",
      "Confidence ---> 0.89\n",
      "Class name --> person\n",
      "Confidence ---> 0.87\n",
      "Class name --> person\n",
      "Confidence ---> 0.75\n",
      "Class name --> person\n",
      "Confidence ---> 0.3\n",
      "Class name --> laptop\n",
      "Confidence ---> 0.9\n",
      "Class name --> laptop\n",
      "Confidence ---> 0.9\n",
      "Class name --> person\n",
      "Confidence ---> 0.87\n",
      "Class name --> person\n",
      "Confidence ---> 0.77\n",
      "Class name --> person\n"
     ]
    },
    {
     "name": "stderr",
     "output_type": "stream",
     "text": [
      "0: 480x640 3 persons, 2 laptops, 102.3ms\n",
      "Speed: 2.2ms preprocess, 102.3ms inference, 0.7ms postprocess per image at shape (1, 3, 480, 640)\n",
      "\n",
      "0: 480x640 3 persons, 2 laptops, 101.7ms\n",
      "Speed: 2.5ms preprocess, 101.7ms inference, 0.7ms postprocess per image at shape (1, 3, 480, 640)\n",
      "\n"
     ]
    },
    {
     "name": "stdout",
     "output_type": "stream",
     "text": [
      "Confidence ---> 0.9\n",
      "Class name --> person\n",
      "Confidence ---> 0.89\n",
      "Class name --> laptop\n",
      "Confidence ---> 0.87\n",
      "Class name --> person\n",
      "Confidence ---> 0.8\n",
      "Class name --> person\n",
      "Confidence ---> 0.29\n",
      "Class name --> laptop\n",
      "Confidence ---> 0.89\n",
      "Class name --> person\n",
      "Confidence ---> 0.87\n",
      "Class name --> laptop\n",
      "Confidence ---> 0.87\n",
      "Class name --> person\n",
      "Confidence ---> 0.77\n",
      "Class name --> person\n",
      "Confidence ---> 0.28\n",
      "Class name --> laptop\n"
     ]
    },
    {
     "name": "stderr",
     "output_type": "stream",
     "text": [
      "0: 480x640 3 persons, 2 laptops, 113.0ms\n",
      "Speed: 2.5ms preprocess, 113.0ms inference, 1.3ms postprocess per image at shape (1, 3, 480, 640)\n",
      "\n",
      "0: 480x640 3 persons, 2 laptops, 127.2ms\n",
      "Speed: 2.5ms preprocess, 127.2ms inference, 0.9ms postprocess per image at shape (1, 3, 480, 640)\n"
     ]
    },
    {
     "name": "stdout",
     "output_type": "stream",
     "text": [
      "Confidence ---> 0.9\n",
      "Class name --> person\n",
      "Confidence ---> 0.87\n",
      "Class name --> laptop\n",
      "Confidence ---> 0.87\n",
      "Class name --> person\n",
      "Confidence ---> 0.8\n",
      "Class name --> person\n",
      "Confidence ---> 0.38\n",
      "Class name --> laptop\n",
      "Confidence ---> 0.9\n",
      "Class name --> person\n",
      "Confidence ---> 0.87\n",
      "Class name --> laptop\n",
      "Confidence ---> 0.86\n",
      "Class name --> person\n",
      "Confidence ---> 0.77\n",
      "Class name --> person\n",
      "Confidence ---> 0.39\n",
      "Class name --> laptop\n"
     ]
    },
    {
     "name": "stderr",
     "output_type": "stream",
     "text": [
      "\n",
      "0: 480x640 3 persons, 1 laptop, 114.7ms\n",
      "Speed: 3.2ms preprocess, 114.7ms inference, 0.9ms postprocess per image at shape (1, 3, 480, 640)\n",
      "\n",
      "0: 480x640 3 persons, 1 laptop, 140.2ms\n",
      "Speed: 2.5ms preprocess, 140.2ms inference, 0.8ms postprocess per image at shape (1, 3, 480, 640)\n"
     ]
    },
    {
     "name": "stdout",
     "output_type": "stream",
     "text": [
      "Confidence ---> 0.9\n",
      "Class name --> person\n",
      "Confidence ---> 0.87\n",
      "Class name --> person\n",
      "Confidence ---> 0.86\n",
      "Class name --> laptop\n",
      "Confidence ---> 0.68\n",
      "Class name --> person\n",
      "Confidence ---> 0.89\n",
      "Class name --> person\n",
      "Confidence ---> 0.87\n",
      "Class name --> person\n",
      "Confidence ---> 0.83\n",
      "Class name --> laptop\n",
      "Confidence ---> 0.7\n",
      "Class name --> person\n"
     ]
    },
    {
     "name": "stderr",
     "output_type": "stream",
     "text": [
      "\n",
      "0: 480x640 3 persons, 1 laptop, 145.9ms\n",
      "Speed: 3.0ms preprocess, 145.9ms inference, 1.1ms postprocess per image at shape (1, 3, 480, 640)\n",
      "\n",
      "0: 480x640 3 persons, 1 laptop, 117.2ms\n",
      "Speed: 4.1ms preprocess, 117.2ms inference, 0.8ms postprocess per image at shape (1, 3, 480, 640)\n"
     ]
    },
    {
     "name": "stdout",
     "output_type": "stream",
     "text": [
      "Confidence ---> 0.9\n",
      "Class name --> person\n",
      "Confidence ---> 0.87\n",
      "Class name --> laptop\n",
      "Confidence ---> 0.87\n",
      "Class name --> person\n",
      "Confidence ---> 0.64\n",
      "Class name --> person\n",
      "Confidence ---> 0.89\n",
      "Class name --> person\n",
      "Confidence ---> 0.87\n",
      "Class name --> person\n",
      "Confidence ---> 0.85\n",
      "Class name --> laptop\n",
      "Confidence ---> 0.64\n",
      "Class name --> person\n"
     ]
    },
    {
     "name": "stderr",
     "output_type": "stream",
     "text": [
      "\n",
      "0: 480x640 3 persons, 1 laptop, 187.3ms\n",
      "Speed: 3.2ms preprocess, 187.3ms inference, 1.2ms postprocess per image at shape (1, 3, 480, 640)\n",
      "\n",
      "0: 480x640 3 persons, 1 laptop, 131.2ms\n",
      "Speed: 2.6ms preprocess, 131.2ms inference, 2.0ms postprocess per image at shape (1, 3, 480, 640)\n"
     ]
    },
    {
     "name": "stdout",
     "output_type": "stream",
     "text": [
      "Confidence ---> 0.89\n",
      "Class name --> person\n",
      "Confidence ---> 0.86\n",
      "Class name --> person\n",
      "Confidence ---> 0.85\n",
      "Class name --> laptop\n",
      "Confidence ---> 0.65\n",
      "Class name --> person\n",
      "Confidence ---> 0.89\n",
      "Class name --> person\n",
      "Confidence ---> 0.87\n",
      "Class name --> person\n",
      "Confidence ---> 0.86\n",
      "Class name --> laptop\n",
      "Confidence ---> 0.61\n",
      "Class name --> person\n"
     ]
    },
    {
     "name": "stderr",
     "output_type": "stream",
     "text": [
      "\n",
      "0: 480x640 3 persons, 1 laptop, 166.5ms\n",
      "Speed: 2.7ms preprocess, 166.5ms inference, 1.0ms postprocess per image at shape (1, 3, 480, 640)\n",
      "\n",
      "0: 480x640 3 persons, 1 laptop, 145.2ms\n",
      "Speed: 5.8ms preprocess, 145.2ms inference, 1.3ms postprocess per image at shape (1, 3, 480, 640)\n"
     ]
    },
    {
     "name": "stdout",
     "output_type": "stream",
     "text": [
      "Confidence ---> 0.89\n",
      "Class name --> person\n",
      "Confidence ---> 0.87\n",
      "Class name --> laptop\n",
      "Confidence ---> 0.85\n",
      "Class name --> person\n",
      "Confidence ---> 0.6\n",
      "Class name --> person\n",
      "Confidence ---> 0.89\n",
      "Class name --> person\n",
      "Confidence ---> 0.85\n",
      "Class name --> laptop\n",
      "Confidence ---> 0.85\n",
      "Class name --> person\n",
      "Confidence ---> 0.56\n",
      "Class name --> person\n"
     ]
    },
    {
     "name": "stderr",
     "output_type": "stream",
     "text": [
      "\n",
      "0: 480x640 3 persons, 1 laptop, 131.6ms\n",
      "Speed: 4.7ms preprocess, 131.6ms inference, 1.1ms postprocess per image at shape (1, 3, 480, 640)\n",
      "\n",
      "0: 480x640 3 persons, 1 laptop, 129.0ms\n",
      "Speed: 2.7ms preprocess, 129.0ms inference, 1.0ms postprocess per image at shape (1, 3, 480, 640)\n"
     ]
    },
    {
     "name": "stdout",
     "output_type": "stream",
     "text": [
      "Confidence ---> 0.89\n",
      "Class name --> person\n",
      "Confidence ---> 0.85\n",
      "Class name --> person\n",
      "Confidence ---> 0.8\n",
      "Class name --> laptop\n",
      "Confidence ---> 0.69\n",
      "Class name --> person\n",
      "Confidence ---> 0.9\n",
      "Class name --> person\n",
      "Confidence ---> 0.86\n",
      "Class name --> laptop\n",
      "Confidence ---> 0.85\n",
      "Class name --> person\n",
      "Confidence ---> 0.76\n",
      "Class name --> person\n"
     ]
    },
    {
     "name": "stderr",
     "output_type": "stream",
     "text": [
      "\n",
      "0: 480x640 3 persons, 1 laptop, 133.3ms\n",
      "Speed: 3.4ms preprocess, 133.3ms inference, 0.8ms postprocess per image at shape (1, 3, 480, 640)\n",
      "\n",
      "0: 480x640 3 persons, 1 laptop, 118.6ms\n",
      "Speed: 2.8ms preprocess, 118.6ms inference, 0.9ms postprocess per image at shape (1, 3, 480, 640)\n"
     ]
    },
    {
     "name": "stdout",
     "output_type": "stream",
     "text": [
      "Confidence ---> 0.9\n",
      "Class name --> person\n",
      "Confidence ---> 0.87\n",
      "Class name --> laptop\n",
      "Confidence ---> 0.85\n",
      "Class name --> person\n",
      "Confidence ---> 0.77\n",
      "Class name --> person\n",
      "Confidence ---> 0.91\n",
      "Class name --> person\n",
      "Confidence ---> 0.87\n",
      "Class name --> laptop\n",
      "Confidence ---> 0.86\n",
      "Class name --> person\n",
      "Confidence ---> 0.73\n",
      "Class name --> person\n"
     ]
    },
    {
     "name": "stderr",
     "output_type": "stream",
     "text": [
      "\n",
      "0: 480x640 3 persons, 1 laptop, 136.5ms\n",
      "Speed: 2.9ms preprocess, 136.5ms inference, 1.2ms postprocess per image at shape (1, 3, 480, 640)\n",
      "\n",
      "0: 480x640 3 persons, 1 laptop, 130.0ms\n",
      "Speed: 2.9ms preprocess, 130.0ms inference, 1.0ms postprocess per image at shape (1, 3, 480, 640)\n"
     ]
    },
    {
     "name": "stdout",
     "output_type": "stream",
     "text": [
      "Confidence ---> 0.9\n",
      "Class name --> person\n",
      "Confidence ---> 0.86\n",
      "Class name --> laptop\n",
      "Confidence ---> 0.83\n",
      "Class name --> person\n",
      "Confidence ---> 0.76\n",
      "Class name --> person\n",
      "Confidence ---> 0.9\n",
      "Class name --> person\n",
      "Confidence ---> 0.87\n",
      "Class name --> laptop\n",
      "Confidence ---> 0.86\n",
      "Class name --> person\n",
      "Confidence ---> 0.75\n",
      "Class name --> person\n"
     ]
    },
    {
     "name": "stderr",
     "output_type": "stream",
     "text": [
      "\n",
      "0: 480x640 3 persons, 1 laptop, 150.4ms\n",
      "Speed: 6.6ms preprocess, 150.4ms inference, 0.9ms postprocess per image at shape (1, 3, 480, 640)\n",
      "\n",
      "0: 480x640 3 persons, 1 laptop, 141.0ms\n",
      "Speed: 3.5ms preprocess, 141.0ms inference, 1.0ms postprocess per image at shape (1, 3, 480, 640)\n"
     ]
    },
    {
     "name": "stdout",
     "output_type": "stream",
     "text": [
      "Confidence ---> 0.9\n",
      "Class name --> person\n",
      "Confidence ---> 0.86\n",
      "Class name --> laptop\n",
      "Confidence ---> 0.85\n",
      "Class name --> person\n",
      "Confidence ---> 0.78\n",
      "Class name --> person\n",
      "Confidence ---> 0.9\n",
      "Class name --> person\n",
      "Confidence ---> 0.84\n",
      "Class name --> laptop\n",
      "Confidence ---> 0.82\n",
      "Class name --> person\n",
      "Confidence ---> 0.75\n",
      "Class name --> person\n"
     ]
    },
    {
     "name": "stderr",
     "output_type": "stream",
     "text": [
      "\n",
      "0: 480x640 4 persons, 1 laptop, 151.2ms\n",
      "Speed: 13.8ms preprocess, 151.2ms inference, 0.9ms postprocess per image at shape (1, 3, 480, 640)\n",
      "\n"
     ]
    },
    {
     "name": "stdout",
     "output_type": "stream",
     "text": [
      "Confidence ---> 0.9\n",
      "Class name --> person\n",
      "Confidence ---> 0.83\n",
      "Class name --> person\n",
      "Confidence ---> 0.77\n",
      "Class name --> laptop\n",
      "Confidence ---> 0.61\n",
      "Class name --> person\n",
      "Confidence ---> 0.29\n",
      "Class name --> person\n"
     ]
    },
    {
     "name": "stderr",
     "output_type": "stream",
     "text": [
      "0: 480x640 3 persons, 1 laptop, 149.0ms\n",
      "Speed: 3.3ms preprocess, 149.0ms inference, 1.0ms postprocess per image at shape (1, 3, 480, 640)\n",
      "\n"
     ]
    },
    {
     "name": "stdout",
     "output_type": "stream",
     "text": [
      "Confidence ---> 0.9\n",
      "Class name --> person\n",
      "Confidence ---> 0.87\n",
      "Class name --> person\n",
      "Confidence ---> 0.85\n",
      "Class name --> laptop\n",
      "Confidence ---> 0.65\n",
      "Class name --> person\n",
      "Confidence ---> 0.89\n",
      "Class name --> person\n",
      "Confidence ---> 0.87\n",
      "Class name --> person\n",
      "Confidence ---> 0.83\n",
      "Class name --> laptop\n",
      "Confidence ---> 0.65\n",
      "Class name --> person\n"
     ]
    },
    {
     "name": "stderr",
     "output_type": "stream",
     "text": [
      "0: 480x640 3 persons, 1 laptop, 147.4ms\n",
      "Speed: 3.9ms preprocess, 147.4ms inference, 1.2ms postprocess per image at shape (1, 3, 480, 640)\n",
      "\n",
      "0: 480x640 3 persons, 1 laptop, 151.4ms\n",
      "Speed: 26.2ms preprocess, 151.4ms inference, 1.2ms postprocess per image at shape (1, 3, 480, 640)\n",
      "\n"
     ]
    },
    {
     "name": "stdout",
     "output_type": "stream",
     "text": [
      "Confidence ---> 0.89\n",
      "Class name --> person\n",
      "Confidence ---> 0.89\n",
      "Class name --> laptop\n",
      "Confidence ---> 0.88\n",
      "Class name --> person\n",
      "Confidence ---> 0.64\n",
      "Class name --> person\n"
     ]
    },
    {
     "name": "stderr",
     "output_type": "stream",
     "text": [
      "0: 480x640 4 persons, 1 laptop, 214.3ms\n",
      "Speed: 2.7ms preprocess, 214.3ms inference, 1.4ms postprocess per image at shape (1, 3, 480, 640)\n",
      "\n"
     ]
    },
    {
     "name": "stdout",
     "output_type": "stream",
     "text": [
      "Confidence ---> 0.89\n",
      "Class name --> person\n",
      "Confidence ---> 0.89\n",
      "Class name --> person\n",
      "Confidence ---> 0.84\n",
      "Class name --> laptop\n",
      "Confidence ---> 0.63\n",
      "Class name --> person\n",
      "Confidence ---> 0.34\n",
      "Class name --> person\n",
      "Confidence ---> 0.89\n",
      "Class name --> person\n",
      "Confidence ---> 0.85\n",
      "Class name --> laptop\n",
      "Confidence ---> 0.83\n",
      "Class name --> person\n",
      "Confidence ---> 0.72\n",
      "Class name --> person\n"
     ]
    },
    {
     "name": "stderr",
     "output_type": "stream",
     "text": [
      "0: 480x640 3 persons, 1 laptop, 143.5ms\n",
      "Speed: 3.0ms preprocess, 143.5ms inference, 1.2ms postprocess per image at shape (1, 3, 480, 640)\n",
      "\n",
      "0: 480x640 3 persons, 1 laptop, 210.0ms\n",
      "Speed: 3.3ms preprocess, 210.0ms inference, 1.1ms postprocess per image at shape (1, 3, 480, 640)\n",
      "\n"
     ]
    },
    {
     "name": "stdout",
     "output_type": "stream",
     "text": [
      "Confidence ---> 0.89\n",
      "Class name --> person\n",
      "Confidence ---> 0.89\n",
      "Class name --> person\n",
      "Confidence ---> 0.87\n",
      "Class name --> laptop\n",
      "Confidence ---> 0.76\n",
      "Class name --> person\n"
     ]
    },
    {
     "name": "stderr",
     "output_type": "stream",
     "text": [
      "0: 480x640 3 persons, 1 laptop, 194.7ms\n",
      "Speed: 4.1ms preprocess, 194.7ms inference, 1.1ms postprocess per image at shape (1, 3, 480, 640)\n",
      "\n",
      "0: 480x640 3 persons, 1 laptop, 132.1ms\n",
      "Speed: 7.8ms preprocess, 132.1ms inference, 1.0ms postprocess per image at shape (1, 3, 480, 640)\n"
     ]
    },
    {
     "name": "stdout",
     "output_type": "stream",
     "text": [
      "Confidence ---> 0.89\n",
      "Class name --> person\n",
      "Confidence ---> 0.86\n",
      "Class name --> laptop\n",
      "Confidence ---> 0.83\n",
      "Class name --> person\n",
      "Confidence ---> 0.72\n",
      "Class name --> person\n",
      "Confidence ---> 0.88\n",
      "Class name --> laptop\n",
      "Confidence ---> 0.88\n",
      "Class name --> person\n",
      "Confidence ---> 0.84\n",
      "Class name --> person\n",
      "Confidence ---> 0.79\n",
      "Class name --> person\n"
     ]
    },
    {
     "name": "stderr",
     "output_type": "stream",
     "text": [
      "\n",
      "0: 480x640 3 persons, 1 laptop, 129.1ms\n",
      "Speed: 3.4ms preprocess, 129.1ms inference, 0.8ms postprocess per image at shape (1, 3, 480, 640)\n",
      "\n"
     ]
    },
    {
     "name": "stdout",
     "output_type": "stream",
     "text": [
      "Confidence ---> 0.9\n",
      "Class name --> laptop\n",
      "Confidence ---> 0.9\n",
      "Class name --> person\n",
      "Confidence ---> 0.88\n",
      "Class name --> person\n",
      "Confidence ---> 0.66\n",
      "Class name --> person\n",
      "Confidence ---> 0.91\n",
      "Class name --> person\n",
      "Confidence ---> 0.89\n",
      "Class name --> laptop\n",
      "Confidence ---> 0.87\n",
      "Class name --> person\n",
      "Confidence ---> 0.77\n",
      "Class name --> person\n"
     ]
    },
    {
     "name": "stderr",
     "output_type": "stream",
     "text": [
      "0: 480x640 3 persons, 1 laptop, 157.4ms\n",
      "Speed: 3.1ms preprocess, 157.4ms inference, 1.1ms postprocess per image at shape (1, 3, 480, 640)\n",
      "\n",
      "0: 480x640 3 persons, 1 laptop, 129.6ms\n",
      "Speed: 2.8ms preprocess, 129.6ms inference, 0.8ms postprocess per image at shape (1, 3, 480, 640)\n",
      "\n"
     ]
    },
    {
     "name": "stdout",
     "output_type": "stream",
     "text": [
      "Confidence ---> 0.89\n",
      "Class name --> person\n",
      "Confidence ---> 0.87\n",
      "Class name --> person\n",
      "Confidence ---> 0.87\n",
      "Class name --> laptop\n",
      "Confidence ---> 0.78\n",
      "Class name --> person\n",
      "Confidence ---> 0.91\n",
      "Class name --> person\n",
      "Confidence ---> 0.87\n",
      "Class name --> person\n",
      "Confidence ---> 0.87\n",
      "Class name --> laptop\n",
      "Confidence ---> 0.8\n",
      "Class name --> person\n"
     ]
    },
    {
     "name": "stderr",
     "output_type": "stream",
     "text": [
      "0: 480x640 3 persons, 1 laptop, 161.7ms\n",
      "Speed: 4.1ms preprocess, 161.7ms inference, 1.1ms postprocess per image at shape (1, 3, 480, 640)\n",
      "\n",
      "0: 480x640 3 persons, 1 laptop, 151.6ms\n",
      "Speed: 9.4ms preprocess, 151.6ms inference, 1.1ms postprocess per image at shape (1, 3, 480, 640)\n",
      "\n",
      "0: 480x640 3 persons, 1 laptop, 117.8ms\n",
      "Speed: 2.6ms preprocess, 117.8ms inference, 0.9ms postprocess per image at shape (1, 3, 480, 640)\n"
     ]
    },
    {
     "name": "stdout",
     "output_type": "stream",
     "text": [
      "Confidence ---> 0.9\n",
      "Class name --> person\n",
      "Confidence ---> 0.89\n",
      "Class name --> laptop\n",
      "Confidence ---> 0.87\n",
      "Class name --> person\n",
      "Confidence ---> 0.76\n",
      "Class name --> person\n",
      "Confidence ---> 0.9\n",
      "Class name --> person\n",
      "Confidence ---> 0.88\n",
      "Class name --> laptop\n",
      "Confidence ---> 0.87\n",
      "Class name --> person\n",
      "Confidence ---> 0.77\n",
      "Class name --> person\n"
     ]
    },
    {
     "name": "stderr",
     "output_type": "stream",
     "text": [
      "\n",
      "0: 480x640 4 persons, 1 laptop, 136.8ms\n",
      "Speed: 3.1ms preprocess, 136.8ms inference, 1.0ms postprocess per image at shape (1, 3, 480, 640)\n",
      "\n",
      "0: 480x640 3 persons, 1 laptop, 101.0ms\n",
      "Speed: 2.7ms preprocess, 101.0ms inference, 0.9ms postprocess per image at shape (1, 3, 480, 640)\n",
      "\n"
     ]
    },
    {
     "name": "stdout",
     "output_type": "stream",
     "text": [
      "Confidence ---> 0.9\n",
      "Class name --> person\n",
      "Confidence ---> 0.88\n",
      "Class name --> person\n",
      "Confidence ---> 0.87\n",
      "Class name --> laptop\n",
      "Confidence ---> 0.62\n",
      "Class name --> person\n",
      "Confidence ---> 0.27\n",
      "Class name --> person\n",
      "Confidence ---> 0.91\n",
      "Class name --> person\n",
      "Confidence ---> 0.88\n",
      "Class name --> person\n",
      "Confidence ---> 0.87\n",
      "Class name --> laptop\n",
      "Confidence ---> 0.76\n",
      "Class name --> person\n"
     ]
    },
    {
     "name": "stderr",
     "output_type": "stream",
     "text": [
      "0: 480x640 4 persons, 1 laptop, 106.4ms\n",
      "Speed: 2.5ms preprocess, 106.4ms inference, 0.8ms postprocess per image at shape (1, 3, 480, 640)\n",
      "\n",
      "0: 480x640 4 persons, 1 laptop, 97.2ms\n",
      "Speed: 2.6ms preprocess, 97.2ms inference, 0.7ms postprocess per image at shape (1, 3, 480, 640)\n",
      "\n"
     ]
    },
    {
     "name": "stdout",
     "output_type": "stream",
     "text": [
      "Confidence ---> 0.9\n",
      "Class name --> person\n",
      "Confidence ---> 0.88\n",
      "Class name --> person\n",
      "Confidence ---> 0.86\n",
      "Class name --> laptop\n",
      "Confidence ---> 0.55\n",
      "Class name --> person\n",
      "Confidence ---> 0.34\n",
      "Class name --> person\n",
      "Confidence ---> 0.9\n",
      "Class name --> person\n",
      "Confidence ---> 0.88\n",
      "Class name --> laptop\n",
      "Confidence ---> 0.86\n",
      "Class name --> person\n",
      "Confidence ---> 0.51\n",
      "Class name --> person\n",
      "Confidence ---> 0.45\n",
      "Class name --> person\n"
     ]
    },
    {
     "name": "stderr",
     "output_type": "stream",
     "text": [
      "0: 480x640 4 persons, 1 laptop, 102.5ms\n",
      "Speed: 2.1ms preprocess, 102.5ms inference, 0.8ms postprocess per image at shape (1, 3, 480, 640)\n",
      "\n"
     ]
    },
    {
     "name": "stdout",
     "output_type": "stream",
     "text": [
      "Confidence ---> 0.89\n",
      "Class name --> person\n",
      "Confidence ---> 0.86\n",
      "Class name --> laptop\n",
      "Confidence ---> 0.85\n",
      "Class name --> person\n",
      "Confidence ---> 0.56\n",
      "Class name --> person\n",
      "Confidence ---> 0.33\n",
      "Class name --> person\n"
     ]
    },
    {
     "name": "stderr",
     "output_type": "stream",
     "text": [
      "0: 480x640 3 persons, 1 laptop, 125.7ms\n",
      "Speed: 27.0ms preprocess, 125.7ms inference, 0.8ms postprocess per image at shape (1, 3, 480, 640)\n",
      "\n",
      "0: 480x640 3 persons, 1 laptop, 102.4ms\n",
      "Speed: 2.5ms preprocess, 102.4ms inference, 0.9ms postprocess per image at shape (1, 3, 480, 640)\n",
      "\n"
     ]
    },
    {
     "name": "stdout",
     "output_type": "stream",
     "text": [
      "Confidence ---> 0.9\n",
      "Class name --> person\n",
      "Confidence ---> 0.88\n",
      "Class name --> laptop\n",
      "Confidence ---> 0.86\n",
      "Class name --> person\n",
      "Confidence ---> 0.76\n",
      "Class name --> person\n",
      "Confidence ---> 0.9\n",
      "Class name --> person\n",
      "Confidence ---> 0.89\n",
      "Class name --> laptop\n",
      "Confidence ---> 0.84\n",
      "Class name --> person\n",
      "Confidence ---> 0.73\n",
      "Class name --> person\n"
     ]
    },
    {
     "name": "stderr",
     "output_type": "stream",
     "text": [
      "0: 480x640 3 persons, 1 laptop, 119.8ms\n",
      "Speed: 2.3ms preprocess, 119.8ms inference, 0.8ms postprocess per image at shape (1, 3, 480, 640)\n",
      "\n"
     ]
    },
    {
     "name": "stdout",
     "output_type": "stream",
     "text": [
      "Confidence ---> 0.91\n",
      "Class name --> person\n",
      "Confidence ---> 0.89\n",
      "Class name --> laptop\n",
      "Confidence ---> 0.86\n",
      "Class name --> person\n",
      "Confidence ---> 0.78\n",
      "Class name --> person\n"
     ]
    },
    {
     "name": "stderr",
     "output_type": "stream",
     "text": [
      "0: 480x640 3 persons, 1 laptop, 128.6ms\n",
      "Speed: 2.4ms preprocess, 128.6ms inference, 0.8ms postprocess per image at shape (1, 3, 480, 640)\n",
      "\n",
      "0: 480x640 3 persons, 1 laptop, 95.1ms\n",
      "Speed: 2.7ms preprocess, 95.1ms inference, 0.9ms postprocess per image at shape (1, 3, 480, 640)\n",
      "\n"
     ]
    },
    {
     "name": "stdout",
     "output_type": "stream",
     "text": [
      "Confidence ---> 0.9\n",
      "Class name --> person\n",
      "Confidence ---> 0.88\n",
      "Class name --> laptop\n",
      "Confidence ---> 0.84\n",
      "Class name --> person\n",
      "Confidence ---> 0.75\n",
      "Class name --> person\n",
      "Confidence ---> 0.9\n",
      "Class name --> person\n",
      "Confidence ---> 0.9\n",
      "Class name --> laptop\n",
      "Confidence ---> 0.85\n",
      "Class name --> person\n",
      "Confidence ---> 0.76\n",
      "Class name --> person\n"
     ]
    },
    {
     "name": "stderr",
     "output_type": "stream",
     "text": [
      "0: 480x640 3 persons, 1 laptop, 99.2ms\n",
      "Speed: 2.0ms preprocess, 99.2ms inference, 0.7ms postprocess per image at shape (1, 3, 480, 640)\n",
      "\n",
      "0: 480x640 3 persons, 1 laptop, 105.6ms\n",
      "Speed: 2.1ms preprocess, 105.6ms inference, 0.9ms postprocess per image at shape (1, 3, 480, 640)\n",
      "\n"
     ]
    },
    {
     "name": "stdout",
     "output_type": "stream",
     "text": [
      "Confidence ---> 0.9\n",
      "Class name --> person\n",
      "Confidence ---> 0.88\n",
      "Class name --> laptop\n",
      "Confidence ---> 0.85\n",
      "Class name --> person\n",
      "Confidence ---> 0.79\n",
      "Class name --> person\n",
      "Confidence ---> 0.89\n",
      "Class name --> person\n",
      "Confidence ---> 0.88\n",
      "Class name --> laptop\n",
      "Confidence ---> 0.85\n",
      "Class name --> person\n",
      "Confidence ---> 0.77\n",
      "Class name --> person\n"
     ]
    },
    {
     "name": "stderr",
     "output_type": "stream",
     "text": [
      "0: 480x640 3 persons, 1 laptop, 116.8ms\n",
      "Speed: 2.4ms preprocess, 116.8ms inference, 1.4ms postprocess per image at shape (1, 3, 480, 640)\n",
      "\n",
      "0: 480x640 3 persons, 1 laptop, 114.8ms\n",
      "Speed: 2.4ms preprocess, 114.8ms inference, 1.0ms postprocess per image at shape (1, 3, 480, 640)\n"
     ]
    },
    {
     "name": "stdout",
     "output_type": "stream",
     "text": [
      "Confidence ---> 0.9\n",
      "Class name --> person\n",
      "Confidence ---> 0.9\n",
      "Class name --> laptop\n",
      "Confidence ---> 0.86\n",
      "Class name --> person\n",
      "Confidence ---> 0.72\n",
      "Class name --> person\n",
      "Confidence ---> 0.91\n",
      "Class name --> person\n",
      "Confidence ---> 0.87\n",
      "Class name --> laptop\n",
      "Confidence ---> 0.87\n",
      "Class name --> person\n",
      "Confidence ---> 0.83\n",
      "Class name --> person\n"
     ]
    },
    {
     "name": "stderr",
     "output_type": "stream",
     "text": [
      "\n",
      "0: 480x640 3 persons, 1 laptop, 130.8ms\n",
      "Speed: 3.1ms preprocess, 130.8ms inference, 0.7ms postprocess per image at shape (1, 3, 480, 640)\n",
      "\n",
      "0: 480x640 3 persons, 1 laptop, 90.3ms\n",
      "Speed: 2.1ms preprocess, 90.3ms inference, 0.7ms postprocess per image at shape (1, 3, 480, 640)\n",
      "\n"
     ]
    },
    {
     "name": "stdout",
     "output_type": "stream",
     "text": [
      "Confidence ---> 0.9\n",
      "Class name --> person\n",
      "Confidence ---> 0.88\n",
      "Class name --> laptop\n",
      "Confidence ---> 0.87\n",
      "Class name --> person\n",
      "Confidence ---> 0.82\n",
      "Class name --> person\n",
      "Confidence ---> 0.89\n",
      "Class name --> person\n",
      "Confidence ---> 0.89\n",
      "Class name --> laptop\n",
      "Confidence ---> 0.85\n",
      "Class name --> person\n",
      "Confidence ---> 0.83\n",
      "Class name --> person\n"
     ]
    },
    {
     "name": "stderr",
     "output_type": "stream",
     "text": [
      "0: 480x640 3 persons, 1 laptop, 158.0ms\n",
      "Speed: 2.2ms preprocess, 158.0ms inference, 0.7ms postprocess per image at shape (1, 3, 480, 640)\n",
      "\n",
      "0: 480x640 3 persons, 1 laptop, 87.1ms\n",
      "Speed: 2.2ms preprocess, 87.1ms inference, 0.7ms postprocess per image at shape (1, 3, 480, 640)\n",
      "\n"
     ]
    },
    {
     "name": "stdout",
     "output_type": "stream",
     "text": [
      "Confidence ---> 0.88\n",
      "Class name --> laptop\n",
      "Confidence ---> 0.87\n",
      "Class name --> person\n",
      "Confidence ---> 0.86\n",
      "Class name --> person\n",
      "Confidence ---> 0.82\n",
      "Class name --> person\n",
      "Confidence ---> 0.88\n",
      "Class name --> laptop\n",
      "Confidence ---> 0.87\n",
      "Class name --> person\n",
      "Confidence ---> 0.84\n",
      "Class name --> person\n",
      "Confidence ---> 0.82\n",
      "Class name --> person\n"
     ]
    },
    {
     "name": "stderr",
     "output_type": "stream",
     "text": [
      "0: 480x640 3 persons, 1 laptop, 89.8ms\n",
      "Speed: 2.0ms preprocess, 89.8ms inference, 0.7ms postprocess per image at shape (1, 3, 480, 640)\n",
      "\n",
      "0: 480x640 3 persons, 1 laptop, 85.6ms\n",
      "Speed: 2.1ms preprocess, 85.6ms inference, 0.9ms postprocess per image at shape (1, 3, 480, 640)\n",
      "\n"
     ]
    },
    {
     "name": "stdout",
     "output_type": "stream",
     "text": [
      "Confidence ---> 0.9\n",
      "Class name --> person\n",
      "Confidence ---> 0.89\n",
      "Class name --> laptop\n",
      "Confidence ---> 0.85\n",
      "Class name --> person\n",
      "Confidence ---> 0.81\n",
      "Class name --> person\n",
      "Confidence ---> 0.89\n",
      "Class name --> person\n",
      "Confidence ---> 0.88\n",
      "Class name --> laptop\n",
      "Confidence ---> 0.83\n",
      "Class name --> person\n",
      "Confidence ---> 0.81\n",
      "Class name --> person\n"
     ]
    },
    {
     "name": "stderr",
     "output_type": "stream",
     "text": [
      "0: 480x640 3 persons, 1 laptop, 100.1ms\n",
      "Speed: 2.1ms preprocess, 100.1ms inference, 0.7ms postprocess per image at shape (1, 3, 480, 640)\n",
      "\n",
      "0: 480x640 3 persons, 1 laptop, 84.3ms\n",
      "Speed: 2.1ms preprocess, 84.3ms inference, 0.7ms postprocess per image at shape (1, 3, 480, 640)\n",
      "\n"
     ]
    },
    {
     "name": "stdout",
     "output_type": "stream",
     "text": [
      "Confidence ---> 0.9\n",
      "Class name --> person\n",
      "Confidence ---> 0.87\n",
      "Class name --> laptop\n",
      "Confidence ---> 0.86\n",
      "Class name --> person\n",
      "Confidence ---> 0.82\n",
      "Class name --> person\n",
      "Confidence ---> 0.9\n",
      "Class name --> person\n",
      "Confidence ---> 0.88\n",
      "Class name --> laptop\n",
      "Confidence ---> 0.85\n",
      "Class name --> person\n",
      "Confidence ---> 0.82\n",
      "Class name --> person\n"
     ]
    },
    {
     "name": "stderr",
     "output_type": "stream",
     "text": [
      "0: 480x640 3 persons, 1 laptop, 90.7ms\n",
      "Speed: 2.1ms preprocess, 90.7ms inference, 0.7ms postprocess per image at shape (1, 3, 480, 640)\n",
      "\n",
      "0: 480x640 3 persons, 1 laptop, 84.7ms\n",
      "Speed: 2.0ms preprocess, 84.7ms inference, 0.7ms postprocess per image at shape (1, 3, 480, 640)\n",
      "\n"
     ]
    },
    {
     "name": "stdout",
     "output_type": "stream",
     "text": [
      "Confidence ---> 0.9\n",
      "Class name --> person\n",
      "Confidence ---> 0.88\n",
      "Class name --> laptop\n",
      "Confidence ---> 0.87\n",
      "Class name --> person\n",
      "Confidence ---> 0.83\n",
      "Class name --> person\n",
      "Confidence ---> 0.9\n",
      "Class name --> person\n",
      "Confidence ---> 0.88\n",
      "Class name --> laptop\n",
      "Confidence ---> 0.85\n",
      "Class name --> person\n",
      "Confidence ---> 0.82\n",
      "Class name --> person\n"
     ]
    },
    {
     "name": "stderr",
     "output_type": "stream",
     "text": [
      "0: 480x640 3 persons, 1 laptop, 93.0ms\n",
      "Speed: 2.2ms preprocess, 93.0ms inference, 0.7ms postprocess per image at shape (1, 3, 480, 640)\n",
      "\n",
      "0: 480x640 3 persons, 1 laptop, 84.3ms\n",
      "Speed: 2.1ms preprocess, 84.3ms inference, 0.8ms postprocess per image at shape (1, 3, 480, 640)\n",
      "\n"
     ]
    },
    {
     "name": "stdout",
     "output_type": "stream",
     "text": [
      "Confidence ---> 0.89\n",
      "Class name --> person\n",
      "Confidence ---> 0.89\n",
      "Class name --> laptop\n",
      "Confidence ---> 0.86\n",
      "Class name --> person\n",
      "Confidence ---> 0.81\n",
      "Class name --> person\n",
      "Confidence ---> 0.9\n",
      "Class name --> person\n",
      "Confidence ---> 0.88\n",
      "Class name --> laptop\n",
      "Confidence ---> 0.86\n",
      "Class name --> person\n",
      "Confidence ---> 0.82\n",
      "Class name --> person\n"
     ]
    },
    {
     "name": "stderr",
     "output_type": "stream",
     "text": [
      "0: 480x640 3 persons, 1 laptop, 91.6ms\n",
      "Speed: 2.1ms preprocess, 91.6ms inference, 0.7ms postprocess per image at shape (1, 3, 480, 640)\n",
      "\n",
      "0: 480x640 3 persons, 1 laptop, 87.5ms\n",
      "Speed: 2.3ms preprocess, 87.5ms inference, 0.7ms postprocess per image at shape (1, 3, 480, 640)\n",
      "\n"
     ]
    },
    {
     "name": "stdout",
     "output_type": "stream",
     "text": [
      "Confidence ---> 0.91\n",
      "Class name --> person\n",
      "Confidence ---> 0.87\n",
      "Class name --> laptop\n",
      "Confidence ---> 0.87\n",
      "Class name --> person\n",
      "Confidence ---> 0.82\n",
      "Class name --> person\n",
      "Confidence ---> 0.91\n",
      "Class name --> person\n",
      "Confidence ---> 0.88\n",
      "Class name --> laptop\n",
      "Confidence ---> 0.86\n",
      "Class name --> person\n",
      "Confidence ---> 0.81\n",
      "Class name --> person\n"
     ]
    },
    {
     "name": "stderr",
     "output_type": "stream",
     "text": [
      "0: 480x640 3 persons, 1 laptop, 147.8ms\n",
      "Speed: 2.1ms preprocess, 147.8ms inference, 0.7ms postprocess per image at shape (1, 3, 480, 640)\n",
      "\n",
      "0: 480x640 3 persons, 1 laptop, 83.1ms\n",
      "Speed: 2.1ms preprocess, 83.1ms inference, 0.7ms postprocess per image at shape (1, 3, 480, 640)\n",
      "\n"
     ]
    },
    {
     "name": "stdout",
     "output_type": "stream",
     "text": [
      "Confidence ---> 0.91\n",
      "Class name --> person\n",
      "Confidence ---> 0.88\n",
      "Class name --> laptop\n",
      "Confidence ---> 0.86\n",
      "Class name --> person\n",
      "Confidence ---> 0.82\n",
      "Class name --> person\n",
      "Confidence ---> 0.89\n",
      "Class name --> person\n",
      "Confidence ---> 0.87\n",
      "Class name --> laptop\n",
      "Confidence ---> 0.85\n",
      "Class name --> person\n",
      "Confidence ---> 0.8\n",
      "Class name --> person\n"
     ]
    },
    {
     "name": "stderr",
     "output_type": "stream",
     "text": [
      "0: 480x640 3 persons, 1 laptop, 88.8ms\n",
      "Speed: 2.2ms preprocess, 88.8ms inference, 0.7ms postprocess per image at shape (1, 3, 480, 640)\n",
      "\n",
      "0: 480x640 3 persons, 1 laptop, 82.1ms\n",
      "Speed: 2.0ms preprocess, 82.1ms inference, 0.7ms postprocess per image at shape (1, 3, 480, 640)\n",
      "\n"
     ]
    },
    {
     "name": "stdout",
     "output_type": "stream",
     "text": [
      "Confidence ---> 0.9\n",
      "Class name --> person\n",
      "Confidence ---> 0.88\n",
      "Class name --> laptop\n",
      "Confidence ---> 0.85\n",
      "Class name --> person\n",
      "Confidence ---> 0.8\n",
      "Class name --> person\n",
      "Confidence ---> 0.89\n",
      "Class name --> person\n",
      "Confidence ---> 0.89\n",
      "Class name --> laptop\n",
      "Confidence ---> 0.83\n",
      "Class name --> person\n",
      "Confidence ---> 0.81\n",
      "Class name --> person\n"
     ]
    },
    {
     "name": "stderr",
     "output_type": "stream",
     "text": [
      "0: 480x640 3 persons, 1 laptop, 92.2ms\n",
      "Speed: 2.1ms preprocess, 92.2ms inference, 0.7ms postprocess per image at shape (1, 3, 480, 640)\n",
      "\n",
      "0: 480x640 3 persons, 1 laptop, 83.6ms\n",
      "Speed: 2.0ms preprocess, 83.6ms inference, 0.7ms postprocess per image at shape (1, 3, 480, 640)\n",
      "\n"
     ]
    },
    {
     "name": "stdout",
     "output_type": "stream",
     "text": [
      "Confidence ---> 0.89\n",
      "Class name --> person\n",
      "Confidence ---> 0.88\n",
      "Class name --> laptop\n",
      "Confidence ---> 0.84\n",
      "Class name --> person\n",
      "Confidence ---> 0.81\n",
      "Class name --> person\n",
      "Confidence ---> 0.89\n",
      "Class name --> person\n",
      "Confidence ---> 0.87\n",
      "Class name --> laptop\n",
      "Confidence ---> 0.85\n",
      "Class name --> person\n",
      "Confidence ---> 0.81\n",
      "Class name --> person\n"
     ]
    },
    {
     "name": "stderr",
     "output_type": "stream",
     "text": [
      "0: 480x640 3 persons, 1 laptop, 90.6ms\n",
      "Speed: 2.0ms preprocess, 90.6ms inference, 0.7ms postprocess per image at shape (1, 3, 480, 640)\n",
      "\n",
      "0: 480x640 3 persons, 1 laptop, 81.4ms\n",
      "Speed: 2.1ms preprocess, 81.4ms inference, 0.7ms postprocess per image at shape (1, 3, 480, 640)\n",
      "\n"
     ]
    },
    {
     "name": "stdout",
     "output_type": "stream",
     "text": [
      "Confidence ---> 0.89\n",
      "Class name --> person\n",
      "Confidence ---> 0.88\n",
      "Class name --> laptop\n",
      "Confidence ---> 0.82\n",
      "Class name --> person\n",
      "Confidence ---> 0.8\n",
      "Class name --> person\n",
      "Confidence ---> 0.88\n",
      "Class name --> person\n",
      "Confidence ---> 0.87\n",
      "Class name --> laptop\n",
      "Confidence ---> 0.85\n",
      "Class name --> person\n",
      "Confidence ---> 0.81\n",
      "Class name --> person\n"
     ]
    },
    {
     "name": "stderr",
     "output_type": "stream",
     "text": [
      "0: 480x640 3 persons, 1 laptop, 88.3ms\n",
      "Speed: 2.1ms preprocess, 88.3ms inference, 0.8ms postprocess per image at shape (1, 3, 480, 640)\n",
      "\n",
      "0: 480x640 3 persons, 1 laptop, 83.9ms\n",
      "Speed: 2.2ms preprocess, 83.9ms inference, 0.7ms postprocess per image at shape (1, 3, 480, 640)\n",
      "\n"
     ]
    },
    {
     "name": "stdout",
     "output_type": "stream",
     "text": [
      "Confidence ---> 0.88\n",
      "Class name --> person\n",
      "Confidence ---> 0.87\n",
      "Class name --> laptop\n",
      "Confidence ---> 0.82\n",
      "Class name --> person\n",
      "Confidence ---> 0.81\n",
      "Class name --> person\n",
      "Confidence ---> 0.9\n",
      "Class name --> person\n",
      "Confidence ---> 0.88\n",
      "Class name --> laptop\n",
      "Confidence ---> 0.84\n",
      "Class name --> person\n",
      "Confidence ---> 0.8\n",
      "Class name --> person\n"
     ]
    },
    {
     "name": "stderr",
     "output_type": "stream",
     "text": [
      "0: 480x640 3 persons, 1 laptop, 91.2ms\n",
      "Speed: 2.1ms preprocess, 91.2ms inference, 0.7ms postprocess per image at shape (1, 3, 480, 640)\n",
      "\n",
      "0: 480x640 3 persons, 1 laptop, 85.4ms\n",
      "Speed: 2.2ms preprocess, 85.4ms inference, 1.1ms postprocess per image at shape (1, 3, 480, 640)\n",
      "\n"
     ]
    },
    {
     "name": "stdout",
     "output_type": "stream",
     "text": [
      "Confidence ---> 0.89\n",
      "Class name --> person\n",
      "Confidence ---> 0.88\n",
      "Class name --> laptop\n",
      "Confidence ---> 0.83\n",
      "Class name --> person\n",
      "Confidence ---> 0.81\n",
      "Class name --> person\n",
      "Confidence ---> 0.9\n",
      "Class name --> person\n",
      "Confidence ---> 0.88\n",
      "Class name --> laptop\n",
      "Confidence ---> 0.85\n",
      "Class name --> person\n",
      "Confidence ---> 0.82\n",
      "Class name --> person\n"
     ]
    },
    {
     "name": "stderr",
     "output_type": "stream",
     "text": [
      "0: 480x640 3 persons, 1 laptop, 86.1ms\n",
      "Speed: 2.2ms preprocess, 86.1ms inference, 0.8ms postprocess per image at shape (1, 3, 480, 640)\n",
      "\n",
      "0: 480x640 3 persons, 1 laptop, 83.2ms\n",
      "Speed: 1.9ms preprocess, 83.2ms inference, 0.8ms postprocess per image at shape (1, 3, 480, 640)\n",
      "\n"
     ]
    },
    {
     "name": "stdout",
     "output_type": "stream",
     "text": [
      "Confidence ---> 0.89\n",
      "Class name --> person\n",
      "Confidence ---> 0.86\n",
      "Class name --> laptop\n",
      "Confidence ---> 0.85\n",
      "Class name --> person\n",
      "Confidence ---> 0.81\n",
      "Class name --> person\n",
      "Confidence ---> 0.9\n",
      "Class name --> person\n",
      "Confidence ---> 0.87\n",
      "Class name --> laptop\n",
      "Confidence ---> 0.85\n",
      "Class name --> person\n",
      "Confidence ---> 0.82\n",
      "Class name --> person\n"
     ]
    },
    {
     "name": "stderr",
     "output_type": "stream",
     "text": [
      "0: 480x640 3 persons, 1 laptop, 145.2ms\n",
      "Speed: 2.0ms preprocess, 145.2ms inference, 0.7ms postprocess per image at shape (1, 3, 480, 640)\n",
      "\n",
      "0: 480x640 3 persons, 1 laptop, 116.2ms\n",
      "Speed: 2.3ms preprocess, 116.2ms inference, 1.1ms postprocess per image at shape (1, 3, 480, 640)\n"
     ]
    },
    {
     "name": "stdout",
     "output_type": "stream",
     "text": [
      "Confidence ---> 0.9\n",
      "Class name --> person\n",
      "Confidence ---> 0.88\n",
      "Class name --> laptop\n",
      "Confidence ---> 0.86\n",
      "Class name --> person\n",
      "Confidence ---> 0.81\n",
      "Class name --> person\n",
      "Confidence ---> 0.89\n",
      "Class name --> person\n",
      "Confidence ---> 0.89\n",
      "Class name --> laptop\n",
      "Confidence ---> 0.86\n",
      "Class name --> person\n",
      "Confidence ---> 0.82\n",
      "Class name --> person\n"
     ]
    },
    {
     "name": "stderr",
     "output_type": "stream",
     "text": [
      "\n",
      "0: 480x640 3 persons, 1 laptop, 90.9ms\n",
      "Speed: 3.4ms preprocess, 90.9ms inference, 0.7ms postprocess per image at shape (1, 3, 480, 640)\n",
      "\n",
      "0: 480x640 3 persons, 1 laptop, 98.1ms\n",
      "Speed: 2.0ms preprocess, 98.1ms inference, 0.7ms postprocess per image at shape (1, 3, 480, 640)\n",
      "\n"
     ]
    },
    {
     "name": "stdout",
     "output_type": "stream",
     "text": [
      "Confidence ---> 0.91\n",
      "Class name --> person\n",
      "Confidence ---> 0.88\n",
      "Class name --> laptop\n",
      "Confidence ---> 0.87\n",
      "Class name --> person\n",
      "Confidence ---> 0.82\n",
      "Class name --> person\n",
      "Confidence ---> 0.91\n",
      "Class name --> person\n",
      "Confidence ---> 0.88\n",
      "Class name --> laptop\n",
      "Confidence ---> 0.85\n",
      "Class name --> person\n",
      "Confidence ---> 0.81\n",
      "Class name --> person\n"
     ]
    },
    {
     "name": "stderr",
     "output_type": "stream",
     "text": [
      "0: 480x640 3 persons, 1 laptop, 96.5ms\n",
      "Speed: 2.2ms preprocess, 96.5ms inference, 0.8ms postprocess per image at shape (1, 3, 480, 640)\n",
      "\n",
      "0: 480x640 3 persons, 1 laptop, 86.9ms\n",
      "Speed: 2.1ms preprocess, 86.9ms inference, 1.2ms postprocess per image at shape (1, 3, 480, 640)\n",
      "\n"
     ]
    },
    {
     "name": "stdout",
     "output_type": "stream",
     "text": [
      "Confidence ---> 0.9\n",
      "Class name --> person\n",
      "Confidence ---> 0.89\n",
      "Class name --> laptop\n",
      "Confidence ---> 0.85\n",
      "Class name --> person\n",
      "Confidence ---> 0.81\n",
      "Class name --> person\n",
      "Confidence ---> 0.89\n",
      "Class name --> laptop\n",
      "Confidence ---> 0.88\n",
      "Class name --> person\n",
      "Confidence ---> 0.85\n",
      "Class name --> person\n",
      "Confidence ---> 0.82\n",
      "Class name --> person\n"
     ]
    },
    {
     "name": "stderr",
     "output_type": "stream",
     "text": [
      "0: 480x640 3 persons, 1 laptop, 93.8ms\n",
      "Speed: 1.9ms preprocess, 93.8ms inference, 0.8ms postprocess per image at shape (1, 3, 480, 640)\n",
      "\n",
      "0: 480x640 3 persons, 1 laptop, 87.1ms\n",
      "Speed: 1.9ms preprocess, 87.1ms inference, 0.9ms postprocess per image at shape (1, 3, 480, 640)\n",
      "\n"
     ]
    },
    {
     "name": "stdout",
     "output_type": "stream",
     "text": [
      "Confidence ---> 0.89\n",
      "Class name --> laptop\n",
      "Confidence ---> 0.88\n",
      "Class name --> person\n",
      "Confidence ---> 0.85\n",
      "Class name --> person\n",
      "Confidence ---> 0.82\n",
      "Class name --> person\n",
      "Confidence ---> 0.9\n",
      "Class name --> person\n",
      "Confidence ---> 0.89\n",
      "Class name --> laptop\n",
      "Confidence ---> 0.82\n",
      "Class name --> person\n",
      "Confidence ---> 0.82\n",
      "Class name --> person\n"
     ]
    },
    {
     "name": "stderr",
     "output_type": "stream",
     "text": [
      "0: 480x640 3 persons, 1 laptop, 93.6ms\n",
      "Speed: 2.1ms preprocess, 93.6ms inference, 0.7ms postprocess per image at shape (1, 3, 480, 640)\n",
      "\n",
      "0: 480x640 3 persons, 1 laptop, 85.9ms\n",
      "Speed: 2.0ms preprocess, 85.9ms inference, 0.7ms postprocess per image at shape (1, 3, 480, 640)\n",
      "\n"
     ]
    },
    {
     "name": "stdout",
     "output_type": "stream",
     "text": [
      "Confidence ---> 0.89\n",
      "Class name --> laptop\n",
      "Confidence ---> 0.88\n",
      "Class name --> person\n",
      "Confidence ---> 0.86\n",
      "Class name --> person\n",
      "Confidence ---> 0.81\n",
      "Class name --> person\n",
      "Confidence ---> 0.9\n",
      "Class name --> person\n",
      "Confidence ---> 0.89\n",
      "Class name --> laptop\n",
      "Confidence ---> 0.85\n",
      "Class name --> person\n",
      "Confidence ---> 0.81\n",
      "Class name --> person\n"
     ]
    },
    {
     "name": "stderr",
     "output_type": "stream",
     "text": [
      "0: 480x640 3 persons, 1 laptop, 94.8ms\n",
      "Speed: 2.1ms preprocess, 94.8ms inference, 0.9ms postprocess per image at shape (1, 3, 480, 640)\n",
      "\n",
      "0: 480x640 3 persons, 1 laptop, 98.1ms\n",
      "Speed: 2.0ms preprocess, 98.1ms inference, 0.7ms postprocess per image at shape (1, 3, 480, 640)\n",
      "\n"
     ]
    },
    {
     "name": "stdout",
     "output_type": "stream",
     "text": [
      "Confidence ---> 0.89\n",
      "Class name --> person\n",
      "Confidence ---> 0.88\n",
      "Class name --> laptop\n",
      "Confidence ---> 0.86\n",
      "Class name --> person\n",
      "Confidence ---> 0.81\n",
      "Class name --> person\n",
      "Confidence ---> 0.89\n",
      "Class name --> laptop\n",
      "Confidence ---> 0.88\n",
      "Class name --> person\n",
      "Confidence ---> 0.85\n",
      "Class name --> person\n",
      "Confidence ---> 0.81\n",
      "Class name --> person\n"
     ]
    },
    {
     "name": "stderr",
     "output_type": "stream",
     "text": [
      "0: 480x640 3 persons, 1 laptop, 103.4ms\n",
      "Speed: 2.1ms preprocess, 103.4ms inference, 1.0ms postprocess per image at shape (1, 3, 480, 640)\n",
      "\n",
      "0: 480x640 3 persons, 1 laptop, 87.8ms\n",
      "Speed: 2.5ms preprocess, 87.8ms inference, 0.8ms postprocess per image at shape (1, 3, 480, 640)\n",
      "\n"
     ]
    },
    {
     "name": "stdout",
     "output_type": "stream",
     "text": [
      "Confidence ---> 0.89\n",
      "Class name --> person\n",
      "Confidence ---> 0.88\n",
      "Class name --> laptop\n",
      "Confidence ---> 0.85\n",
      "Class name --> person\n",
      "Confidence ---> 0.81\n",
      "Class name --> person\n",
      "Confidence ---> 0.9\n",
      "Class name --> person\n",
      "Confidence ---> 0.88\n",
      "Class name --> laptop\n",
      "Confidence ---> 0.85\n",
      "Class name --> person\n",
      "Confidence ---> 0.81\n",
      "Class name --> person\n"
     ]
    },
    {
     "name": "stderr",
     "output_type": "stream",
     "text": [
      "0: 480x640 3 persons, 1 laptop, 156.9ms\n",
      "Speed: 2.1ms preprocess, 156.9ms inference, 0.7ms postprocess per image at shape (1, 3, 480, 640)\n",
      "\n",
      "0: 480x640 3 persons, 1 laptop, 85.7ms\n",
      "Speed: 2.0ms preprocess, 85.7ms inference, 0.7ms postprocess per image at shape (1, 3, 480, 640)\n",
      "\n"
     ]
    },
    {
     "name": "stdout",
     "output_type": "stream",
     "text": [
      "Confidence ---> 0.9\n",
      "Class name --> person\n",
      "Confidence ---> 0.89\n",
      "Class name --> laptop\n",
      "Confidence ---> 0.85\n",
      "Class name --> person\n",
      "Confidence ---> 0.81\n",
      "Class name --> person\n",
      "Confidence ---> 0.91\n",
      "Class name --> person\n",
      "Confidence ---> 0.89\n",
      "Class name --> laptop\n",
      "Confidence ---> 0.86\n",
      "Class name --> person\n",
      "Confidence ---> 0.8\n",
      "Class name --> person\n"
     ]
    },
    {
     "name": "stderr",
     "output_type": "stream",
     "text": [
      "0: 480x640 3 persons, 1 laptop, 94.3ms\n",
      "Speed: 2.2ms preprocess, 94.3ms inference, 0.7ms postprocess per image at shape (1, 3, 480, 640)\n",
      "\n",
      "0: 480x640 3 persons, 1 laptop, 85.2ms\n",
      "Speed: 2.0ms preprocess, 85.2ms inference, 0.7ms postprocess per image at shape (1, 3, 480, 640)\n",
      "\n"
     ]
    },
    {
     "name": "stdout",
     "output_type": "stream",
     "text": [
      "Confidence ---> 0.9\n",
      "Class name --> person\n",
      "Confidence ---> 0.87\n",
      "Class name --> laptop\n",
      "Confidence ---> 0.86\n",
      "Class name --> person\n",
      "Confidence ---> 0.78\n",
      "Class name --> person\n",
      "Confidence ---> 0.91\n",
      "Class name --> person\n",
      "Confidence ---> 0.89\n",
      "Class name --> laptop\n",
      "Confidence ---> 0.88\n",
      "Class name --> person\n",
      "Confidence ---> 0.83\n",
      "Class name --> person\n"
     ]
    },
    {
     "name": "stderr",
     "output_type": "stream",
     "text": [
      "0: 480x640 3 persons, 1 laptop, 146.0ms\n",
      "Speed: 2.0ms preprocess, 146.0ms inference, 1.0ms postprocess per image at shape (1, 3, 480, 640)\n",
      "\n"
     ]
    },
    {
     "name": "stdout",
     "output_type": "stream",
     "text": [
      "Confidence ---> 0.93\n",
      "Class name --> person\n",
      "Confidence ---> 0.89\n",
      "Class name --> laptop\n",
      "Confidence ---> 0.84\n",
      "Class name --> person\n",
      "Confidence ---> 0.83\n",
      "Class name --> person\n"
     ]
    },
    {
     "name": "stderr",
     "output_type": "stream",
     "text": [
      "0: 480x640 2 persons, 1 laptop, 173.1ms\n",
      "Speed: 2.9ms preprocess, 173.1ms inference, 24.7ms postprocess per image at shape (1, 3, 480, 640)\n",
      "\n",
      "0: 480x640 3 persons, 1 laptop, 104.2ms\n",
      "Speed: 2.6ms preprocess, 104.2ms inference, 1.0ms postprocess per image at shape (1, 3, 480, 640)\n"
     ]
    },
    {
     "name": "stdout",
     "output_type": "stream",
     "text": [
      "Confidence ---> 0.91\n",
      "Class name --> person\n",
      "Confidence ---> 0.89\n",
      "Class name --> laptop\n",
      "Confidence ---> 0.78\n",
      "Class name --> person\n",
      "Confidence ---> 0.91\n",
      "Class name --> person\n",
      "Confidence ---> 0.9\n",
      "Class name --> laptop\n",
      "Confidence ---> 0.63\n",
      "Class name --> person\n",
      "Confidence ---> 0.54\n",
      "Class name --> person\n"
     ]
    },
    {
     "name": "stderr",
     "output_type": "stream",
     "text": [
      "\n",
      "0: 480x640 3 persons, 1 laptop, 130.7ms\n",
      "Speed: 3.9ms preprocess, 130.7ms inference, 1.1ms postprocess per image at shape (1, 3, 480, 640)\n",
      "\n",
      "0: 480x640 3 persons, 1 laptop, 123.7ms\n",
      "Speed: 2.4ms preprocess, 123.7ms inference, 0.7ms postprocess per image at shape (1, 3, 480, 640)\n",
      "\n"
     ]
    },
    {
     "name": "stdout",
     "output_type": "stream",
     "text": [
      "Confidence ---> 0.91\n",
      "Class name --> person\n",
      "Confidence ---> 0.9\n",
      "Class name --> laptop\n",
      "Confidence ---> 0.6\n",
      "Class name --> person\n",
      "Confidence ---> 0.53\n",
      "Class name --> person\n",
      "Confidence ---> 0.91\n",
      "Class name --> person\n",
      "Confidence ---> 0.89\n",
      "Class name --> laptop\n",
      "Confidence ---> 0.62\n",
      "Class name --> person\n",
      "Confidence ---> 0.59\n",
      "Class name --> person\n"
     ]
    },
    {
     "name": "stderr",
     "output_type": "stream",
     "text": [
      "0: 480x640 2 persons, 1 laptop, 101.1ms\n",
      "Speed: 2.1ms preprocess, 101.1ms inference, 0.7ms postprocess per image at shape (1, 3, 480, 640)\n",
      "\n"
     ]
    },
    {
     "name": "stdout",
     "output_type": "stream",
     "text": [
      "Confidence ---> 0.91\n",
      "Class name --> person\n",
      "Confidence ---> 0.89\n",
      "Class name --> laptop\n",
      "Confidence ---> 0.68\n",
      "Class name --> person\n"
     ]
    },
    {
     "name": "stderr",
     "output_type": "stream",
     "text": [
      "0: 480x640 3 persons, 1 laptop, 174.6ms\n",
      "Speed: 2.5ms preprocess, 174.6ms inference, 0.8ms postprocess per image at shape (1, 3, 480, 640)\n",
      "\n",
      "0: 480x640 4 persons, 1 laptop, 87.1ms\n",
      "Speed: 2.1ms preprocess, 87.1ms inference, 0.8ms postprocess per image at shape (1, 3, 480, 640)\n",
      "\n"
     ]
    },
    {
     "name": "stdout",
     "output_type": "stream",
     "text": [
      "Confidence ---> 0.91\n",
      "Class name --> person\n",
      "Confidence ---> 0.91\n",
      "Class name --> laptop\n",
      "Confidence ---> 0.65\n",
      "Class name --> person\n",
      "Confidence ---> 0.62\n",
      "Class name --> person\n",
      "Confidence ---> 0.91\n",
      "Class name --> person\n",
      "Confidence ---> 0.9\n",
      "Class name --> laptop\n",
      "Confidence ---> 0.62\n",
      "Class name --> person\n",
      "Confidence ---> 0.58\n",
      "Class name --> person\n",
      "Confidence ---> 0.47\n",
      "Class name --> person\n"
     ]
    },
    {
     "name": "stderr",
     "output_type": "stream",
     "text": [
      "0: 480x640 4 persons, 1 laptop, 92.3ms\n",
      "Speed: 2.2ms preprocess, 92.3ms inference, 0.8ms postprocess per image at shape (1, 3, 480, 640)\n",
      "\n",
      "0: 480x640 4 persons, 1 laptop, 84.9ms\n",
      "Speed: 2.3ms preprocess, 84.9ms inference, 0.7ms postprocess per image at shape (1, 3, 480, 640)\n",
      "\n"
     ]
    },
    {
     "name": "stdout",
     "output_type": "stream",
     "text": [
      "Confidence ---> 0.92\n",
      "Class name --> person\n",
      "Confidence ---> 0.9\n",
      "Class name --> laptop\n",
      "Confidence ---> 0.72\n",
      "Class name --> person\n",
      "Confidence ---> 0.62\n",
      "Class name --> person\n",
      "Confidence ---> 0.6\n",
      "Class name --> person\n",
      "Confidence ---> 0.91\n",
      "Class name --> person\n",
      "Confidence ---> 0.9\n",
      "Class name --> laptop\n",
      "Confidence ---> 0.7\n",
      "Class name --> person\n",
      "Confidence ---> 0.6\n",
      "Class name --> person\n",
      "Confidence ---> 0.47\n",
      "Class name --> person\n"
     ]
    },
    {
     "name": "stderr",
     "output_type": "stream",
     "text": [
      "0: 480x640 3 persons, 1 laptop, 127.1ms\n",
      "Speed: 2.4ms preprocess, 127.1ms inference, 0.8ms postprocess per image at shape (1, 3, 480, 640)\n",
      "\n"
     ]
    },
    {
     "name": "stdout",
     "output_type": "stream",
     "text": [
      "Confidence ---> 0.91\n",
      "Class name --> person\n",
      "Confidence ---> 0.89\n",
      "Class name --> laptop\n",
      "Confidence ---> 0.61\n",
      "Class name --> person\n",
      "Confidence ---> 0.52\n",
      "Class name --> person\n"
     ]
    },
    {
     "name": "stderr",
     "output_type": "stream",
     "text": [
      "0: 480x640 3 persons, 1 laptop, 147.0ms\n",
      "Speed: 14.3ms preprocess, 147.0ms inference, 2.0ms postprocess per image at shape (1, 3, 480, 640)\n",
      "\n",
      "0: 480x640 4 persons, 1 laptop, 98.1ms\n",
      "Speed: 4.1ms preprocess, 98.1ms inference, 0.8ms postprocess per image at shape (1, 3, 480, 640)\n",
      "\n"
     ]
    },
    {
     "name": "stdout",
     "output_type": "stream",
     "text": [
      "Confidence ---> 0.91\n",
      "Class name --> person\n",
      "Confidence ---> 0.9\n",
      "Class name --> laptop\n",
      "Confidence ---> 0.57\n",
      "Class name --> person\n",
      "Confidence ---> 0.46\n",
      "Class name --> person\n",
      "Confidence ---> 0.92\n",
      "Class name --> person\n",
      "Confidence ---> 0.88\n",
      "Class name --> laptop\n",
      "Confidence ---> 0.65\n",
      "Class name --> person\n",
      "Confidence ---> 0.29\n",
      "Class name --> person\n",
      "Confidence ---> 0.28\n",
      "Class name --> person\n"
     ]
    },
    {
     "name": "stderr",
     "output_type": "stream",
     "text": [
      "0: 480x640 4 persons, 1 laptop, 93.2ms\n",
      "Speed: 2.0ms preprocess, 93.2ms inference, 0.7ms postprocess per image at shape (1, 3, 480, 640)\n",
      "\n",
      "0: 480x640 3 persons, 1 cup, 1 laptop, 85.7ms\n",
      "Speed: 2.1ms preprocess, 85.7ms inference, 0.7ms postprocess per image at shape (1, 3, 480, 640)\n",
      "\n"
     ]
    },
    {
     "name": "stdout",
     "output_type": "stream",
     "text": [
      "Confidence ---> 0.92\n",
      "Class name --> person\n",
      "Confidence ---> 0.9\n",
      "Class name --> laptop\n",
      "Confidence ---> 0.79\n",
      "Class name --> person\n",
      "Confidence ---> 0.59\n",
      "Class name --> person\n",
      "Confidence ---> 0.42\n",
      "Class name --> person\n",
      "Confidence ---> 0.9\n",
      "Class name --> laptop\n",
      "Confidence ---> 0.88\n",
      "Class name --> person\n",
      "Confidence ---> 0.64\n",
      "Class name --> person\n",
      "Confidence ---> 0.41\n",
      "Class name --> cup\n",
      "Confidence ---> 0.39\n",
      "Class name --> person\n"
     ]
    },
    {
     "name": "stderr",
     "output_type": "stream",
     "text": [
      "0: 480x640 2 persons, 1 laptop, 278.6ms\n",
      "Speed: 143.7ms preprocess, 278.6ms inference, 0.7ms postprocess per image at shape (1, 3, 480, 640)\n",
      "\n",
      "0: 480x640 2 persons, 1 laptop, 87.7ms\n",
      "Speed: 2.2ms preprocess, 87.7ms inference, 1.1ms postprocess per image at shape (1, 3, 480, 640)\n",
      "\n"
     ]
    },
    {
     "name": "stdout",
     "output_type": "stream",
     "text": [
      "Confidence ---> 0.9\n",
      "Class name --> laptop\n",
      "Confidence ---> 0.88\n",
      "Class name --> person\n",
      "Confidence ---> 0.7\n",
      "Class name --> person\n",
      "Confidence ---> 0.9\n",
      "Class name --> laptop\n",
      "Confidence ---> 0.89\n",
      "Class name --> person\n",
      "Confidence ---> 0.66\n",
      "Class name --> person\n"
     ]
    },
    {
     "name": "stderr",
     "output_type": "stream",
     "text": [
      "0: 480x640 2 persons, 1 laptop, 146.8ms\n",
      "Speed: 2.2ms preprocess, 146.8ms inference, 0.8ms postprocess per image at shape (1, 3, 480, 640)\n",
      "\n",
      "0: 480x640 3 persons, 1 laptop, 87.9ms\n",
      "Speed: 2.1ms preprocess, 87.9ms inference, 0.8ms postprocess per image at shape (1, 3, 480, 640)\n",
      "\n"
     ]
    },
    {
     "name": "stdout",
     "output_type": "stream",
     "text": [
      "Confidence ---> 0.9\n",
      "Class name --> laptop\n",
      "Confidence ---> 0.87\n",
      "Class name --> person\n",
      "Confidence ---> 0.66\n",
      "Class name --> person\n",
      "Confidence ---> 0.91\n",
      "Class name --> person\n",
      "Confidence ---> 0.89\n",
      "Class name --> laptop\n",
      "Confidence ---> 0.46\n",
      "Class name --> person\n",
      "Confidence ---> 0.42\n",
      "Class name --> person\n"
     ]
    },
    {
     "name": "stderr",
     "output_type": "stream",
     "text": [
      "0: 480x640 4 persons, 1 laptop, 92.5ms\n",
      "Speed: 2.1ms preprocess, 92.5ms inference, 0.8ms postprocess per image at shape (1, 3, 480, 640)\n",
      "\n",
      "0: 480x640 3 persons, 1 laptop, 86.8ms\n",
      "Speed: 2.0ms preprocess, 86.8ms inference, 0.7ms postprocess per image at shape (1, 3, 480, 640)\n",
      "\n"
     ]
    },
    {
     "name": "stdout",
     "output_type": "stream",
     "text": [
      "Confidence ---> 0.9\n",
      "Class name --> person\n",
      "Confidence ---> 0.88\n",
      "Class name --> laptop\n",
      "Confidence ---> 0.75\n",
      "Class name --> person\n",
      "Confidence ---> 0.57\n",
      "Class name --> person\n",
      "Confidence ---> 0.45\n",
      "Class name --> person\n",
      "Confidence ---> 0.9\n",
      "Class name --> person\n",
      "Confidence ---> 0.88\n",
      "Class name --> laptop\n",
      "Confidence ---> 0.88\n",
      "Class name --> person\n",
      "Confidence ---> 0.6\n",
      "Class name --> person\n"
     ]
    },
    {
     "name": "stderr",
     "output_type": "stream",
     "text": [
      "0: 480x640 4 persons, 1 laptop, 95.3ms\n",
      "Speed: 2.3ms preprocess, 95.3ms inference, 0.8ms postprocess per image at shape (1, 3, 480, 640)\n",
      "\n",
      "0: 480x640 3 persons, 1 laptop, 88.8ms\n",
      "Speed: 2.0ms preprocess, 88.8ms inference, 0.8ms postprocess per image at shape (1, 3, 480, 640)\n",
      "\n"
     ]
    },
    {
     "name": "stdout",
     "output_type": "stream",
     "text": [
      "Confidence ---> 0.92\n",
      "Class name --> person\n",
      "Confidence ---> 0.89\n",
      "Class name --> laptop\n",
      "Confidence ---> 0.88\n",
      "Class name --> person\n",
      "Confidence ---> 0.52\n",
      "Class name --> person\n",
      "Confidence ---> 0.46\n",
      "Class name --> person\n",
      "Confidence ---> 0.92\n",
      "Class name --> person\n",
      "Confidence ---> 0.89\n",
      "Class name --> person\n",
      "Confidence ---> 0.88\n",
      "Class name --> laptop\n",
      "Confidence ---> 0.66\n",
      "Class name --> person\n"
     ]
    },
    {
     "name": "stderr",
     "output_type": "stream",
     "text": [
      "0: 480x640 3 persons, 1 laptop, 105.5ms\n",
      "Speed: 2.1ms preprocess, 105.5ms inference, 0.7ms postprocess per image at shape (1, 3, 480, 640)\n",
      "\n",
      "0: 480x640 4 persons, 1 laptop, 87.9ms\n",
      "Speed: 2.5ms preprocess, 87.9ms inference, 0.7ms postprocess per image at shape (1, 3, 480, 640)\n",
      "\n"
     ]
    },
    {
     "name": "stdout",
     "output_type": "stream",
     "text": [
      "Confidence ---> 0.92\n",
      "Class name --> person\n",
      "Confidence ---> 0.89\n",
      "Class name --> person\n",
      "Confidence ---> 0.88\n",
      "Class name --> laptop\n",
      "Confidence ---> 0.63\n",
      "Class name --> person\n",
      "Confidence ---> 0.91\n",
      "Class name --> person\n",
      "Confidence ---> 0.88\n",
      "Class name --> laptop\n",
      "Confidence ---> 0.87\n",
      "Class name --> person\n",
      "Confidence ---> 0.53\n",
      "Class name --> person\n",
      "Confidence ---> 0.38\n",
      "Class name --> person\n"
     ]
    },
    {
     "name": "stderr",
     "output_type": "stream",
     "text": [
      "0: 480x640 4 persons, 1 laptop, 91.9ms\n",
      "Speed: 2.3ms preprocess, 91.9ms inference, 0.8ms postprocess per image at shape (1, 3, 480, 640)\n",
      "\n",
      "0: 480x640 4 persons, 1 laptop, 84.8ms\n",
      "Speed: 2.1ms preprocess, 84.8ms inference, 0.7ms postprocess per image at shape (1, 3, 480, 640)\n",
      "\n"
     ]
    },
    {
     "name": "stdout",
     "output_type": "stream",
     "text": [
      "Confidence ---> 0.91\n",
      "Class name --> person\n",
      "Confidence ---> 0.89\n",
      "Class name --> laptop\n",
      "Confidence ---> 0.88\n",
      "Class name --> person\n",
      "Confidence ---> 0.47\n",
      "Class name --> person\n",
      "Confidence ---> 0.38\n",
      "Class name --> person\n",
      "Confidence ---> 0.91\n",
      "Class name --> person\n",
      "Confidence ---> 0.88\n",
      "Class name --> laptop\n",
      "Confidence ---> 0.86\n",
      "Class name --> person\n",
      "Confidence ---> 0.41\n",
      "Class name --> person\n",
      "Confidence ---> 0.41\n",
      "Class name --> person\n"
     ]
    },
    {
     "name": "stderr",
     "output_type": "stream",
     "text": [
      "0: 480x640 4 persons, 1 laptop, 119.7ms\n",
      "Speed: 11.5ms preprocess, 119.7ms inference, 0.7ms postprocess per image at shape (1, 3, 480, 640)\n",
      "\n",
      "0: 480x640 4 persons, 1 laptop, 101.8ms\n",
      "Speed: 2.0ms preprocess, 101.8ms inference, 0.8ms postprocess per image at shape (1, 3, 480, 640)\n",
      "\n"
     ]
    },
    {
     "name": "stdout",
     "output_type": "stream",
     "text": [
      "Confidence ---> 0.9\n",
      "Class name --> person\n",
      "Confidence ---> 0.89\n",
      "Class name --> laptop\n",
      "Confidence ---> 0.87\n",
      "Class name --> person\n",
      "Confidence ---> 0.4\n",
      "Class name --> person\n",
      "Confidence ---> 0.37\n",
      "Class name --> person\n",
      "Confidence ---> 0.91\n",
      "Class name --> person\n",
      "Confidence ---> 0.89\n",
      "Class name --> laptop\n",
      "Confidence ---> 0.88\n",
      "Class name --> person\n",
      "Confidence ---> 0.46\n",
      "Class name --> person\n",
      "Confidence ---> 0.35\n",
      "Class name --> person\n"
     ]
    },
    {
     "name": "stderr",
     "output_type": "stream",
     "text": [
      "0: 480x640 3 persons, 1 laptop, 108.1ms\n",
      "Speed: 14.2ms preprocess, 108.1ms inference, 0.7ms postprocess per image at shape (1, 3, 480, 640)\n",
      "\n",
      "0: 480x640 3 persons, 1 laptop, 95.9ms\n",
      "Speed: 2.1ms preprocess, 95.9ms inference, 0.8ms postprocess per image at shape (1, 3, 480, 640)\n",
      "\n"
     ]
    },
    {
     "name": "stdout",
     "output_type": "stream",
     "text": [
      "Confidence ---> 0.9\n",
      "Class name --> person\n",
      "Confidence ---> 0.88\n",
      "Class name --> person\n",
      "Confidence ---> 0.88\n",
      "Class name --> laptop\n",
      "Confidence ---> 0.66\n",
      "Class name --> person\n",
      "Confidence ---> 0.9\n",
      "Class name --> person\n",
      "Confidence ---> 0.89\n",
      "Class name --> laptop\n",
      "Confidence ---> 0.86\n",
      "Class name --> person\n",
      "Confidence ---> 0.65\n",
      "Class name --> person\n"
     ]
    },
    {
     "name": "stderr",
     "output_type": "stream",
     "text": [
      "0: 480x640 3 persons, 1 laptop, 102.9ms\n",
      "Speed: 2.5ms preprocess, 102.9ms inference, 0.7ms postprocess per image at shape (1, 3, 480, 640)\n",
      "\n",
      "0: 480x640 3 persons, 1 laptop, 86.0ms\n",
      "Speed: 2.6ms preprocess, 86.0ms inference, 0.7ms postprocess per image at shape (1, 3, 480, 640)\n",
      "\n"
     ]
    },
    {
     "name": "stdout",
     "output_type": "stream",
     "text": [
      "Confidence ---> 0.91\n",
      "Class name --> person\n",
      "Confidence ---> 0.87\n",
      "Class name --> laptop\n",
      "Confidence ---> 0.84\n",
      "Class name --> person\n",
      "Confidence ---> 0.7\n",
      "Class name --> person\n",
      "Confidence ---> 0.91\n",
      "Class name --> person\n",
      "Confidence ---> 0.86\n",
      "Class name --> person\n",
      "Confidence ---> 0.85\n",
      "Class name --> laptop\n",
      "Confidence ---> 0.79\n",
      "Class name --> person\n"
     ]
    },
    {
     "name": "stderr",
     "output_type": "stream",
     "text": [
      "0: 480x640 3 persons, 1 laptop, 93.4ms\n",
      "Speed: 2.1ms preprocess, 93.4ms inference, 0.7ms postprocess per image at shape (1, 3, 480, 640)\n",
      "\n",
      "0: 480x640 3 persons, 1 laptop, 87.4ms\n",
      "Speed: 2.5ms preprocess, 87.4ms inference, 0.9ms postprocess per image at shape (1, 3, 480, 640)\n",
      "\n"
     ]
    },
    {
     "name": "stdout",
     "output_type": "stream",
     "text": [
      "Confidence ---> 0.91\n",
      "Class name --> person\n",
      "Confidence ---> 0.86\n",
      "Class name --> person\n",
      "Confidence ---> 0.86\n",
      "Class name --> laptop\n",
      "Confidence ---> 0.79\n",
      "Class name --> person\n",
      "Confidence ---> 0.91\n",
      "Class name --> person\n",
      "Confidence ---> 0.86\n",
      "Class name --> person\n",
      "Confidence ---> 0.86\n",
      "Class name --> laptop\n",
      "Confidence ---> 0.78\n",
      "Class name --> person\n"
     ]
    },
    {
     "name": "stderr",
     "output_type": "stream",
     "text": [
      "0: 480x640 3 persons, 1 laptop, 93.5ms\n",
      "Speed: 2.0ms preprocess, 93.5ms inference, 0.9ms postprocess per image at shape (1, 3, 480, 640)\n",
      "\n",
      "0: 480x640 3 persons, 1 laptop, 84.8ms\n",
      "Speed: 2.2ms preprocess, 84.8ms inference, 0.7ms postprocess per image at shape (1, 3, 480, 640)\n",
      "\n"
     ]
    },
    {
     "name": "stdout",
     "output_type": "stream",
     "text": [
      "Confidence ---> 0.92\n",
      "Class name --> person\n",
      "Confidence ---> 0.88\n",
      "Class name --> laptop\n",
      "Confidence ---> 0.86\n",
      "Class name --> person\n",
      "Confidence ---> 0.79\n",
      "Class name --> person\n",
      "Confidence ---> 0.92\n",
      "Class name --> person\n",
      "Confidence ---> 0.88\n",
      "Class name --> laptop\n",
      "Confidence ---> 0.86\n",
      "Class name --> person\n",
      "Confidence ---> 0.77\n",
      "Class name --> person\n"
     ]
    },
    {
     "name": "stderr",
     "output_type": "stream",
     "text": [
      "0: 480x640 3 persons, 1 laptop, 89.8ms\n",
      "Speed: 2.0ms preprocess, 89.8ms inference, 1.0ms postprocess per image at shape (1, 3, 480, 640)\n",
      "\n",
      "0: 480x640 3 persons, 1 laptop, 86.5ms\n",
      "Speed: 2.3ms preprocess, 86.5ms inference, 0.7ms postprocess per image at shape (1, 3, 480, 640)\n",
      "\n"
     ]
    },
    {
     "name": "stdout",
     "output_type": "stream",
     "text": [
      "Confidence ---> 0.91\n",
      "Class name --> person\n",
      "Confidence ---> 0.87\n",
      "Class name --> laptop\n",
      "Confidence ---> 0.86\n",
      "Class name --> person\n",
      "Confidence ---> 0.73\n",
      "Class name --> person\n",
      "Confidence ---> 0.91\n",
      "Class name --> person\n",
      "Confidence ---> 0.88\n",
      "Class name --> laptop\n",
      "Confidence ---> 0.86\n",
      "Class name --> person\n",
      "Confidence ---> 0.57\n",
      "Class name --> person\n"
     ]
    },
    {
     "name": "stderr",
     "output_type": "stream",
     "text": [
      "0: 480x640 3 persons, 1 laptop, 91.6ms\n",
      "Speed: 2.0ms preprocess, 91.6ms inference, 1.0ms postprocess per image at shape (1, 3, 480, 640)\n",
      "\n",
      "0: 480x640 3 persons, 1 laptop, 87.2ms\n",
      "Speed: 2.0ms preprocess, 87.2ms inference, 0.7ms postprocess per image at shape (1, 3, 480, 640)\n",
      "\n"
     ]
    },
    {
     "name": "stdout",
     "output_type": "stream",
     "text": [
      "Confidence ---> 0.9\n",
      "Class name --> person\n",
      "Confidence ---> 0.87\n",
      "Class name --> laptop\n",
      "Confidence ---> 0.85\n",
      "Class name --> person\n",
      "Confidence ---> 0.6\n",
      "Class name --> person\n",
      "Confidence ---> 0.9\n",
      "Class name --> person\n",
      "Confidence ---> 0.87\n",
      "Class name --> laptop\n",
      "Confidence ---> 0.86\n",
      "Class name --> person\n",
      "Confidence ---> 0.68\n",
      "Class name --> person\n"
     ]
    },
    {
     "name": "stderr",
     "output_type": "stream",
     "text": [
      "0: 480x640 3 persons, 1 laptop, 96.7ms\n",
      "Speed: 2.2ms preprocess, 96.7ms inference, 0.8ms postprocess per image at shape (1, 3, 480, 640)\n",
      "\n",
      "0: 480x640 3 persons, 1 laptop, 101.4ms\n",
      "Speed: 23.6ms preprocess, 101.4ms inference, 0.7ms postprocess per image at shape (1, 3, 480, 640)\n"
     ]
    },
    {
     "name": "stdout",
     "output_type": "stream",
     "text": [
      "Confidence ---> 0.91\n",
      "Class name --> person\n",
      "Confidence ---> 0.89\n",
      "Class name --> laptop\n",
      "Confidence ---> 0.87\n",
      "Class name --> person\n",
      "Confidence ---> 0.72\n",
      "Class name --> person\n",
      "Confidence ---> 0.91\n",
      "Class name --> person\n",
      "Confidence ---> 0.89\n",
      "Class name --> laptop\n",
      "Confidence ---> 0.88\n",
      "Class name --> person\n",
      "Confidence ---> 0.7\n",
      "Class name --> person\n"
     ]
    },
    {
     "name": "stderr",
     "output_type": "stream",
     "text": [
      "\n",
      "0: 480x640 3 persons, 1 laptop, 94.1ms\n",
      "Speed: 2.2ms preprocess, 94.1ms inference, 0.8ms postprocess per image at shape (1, 3, 480, 640)\n",
      "\n",
      "0: 480x640 3 persons, 1 laptop, 90.4ms\n",
      "Speed: 2.2ms preprocess, 90.4ms inference, 1.0ms postprocess per image at shape (1, 3, 480, 640)\n",
      "\n"
     ]
    },
    {
     "name": "stdout",
     "output_type": "stream",
     "text": [
      "Confidence ---> 0.9\n",
      "Class name --> person\n",
      "Confidence ---> 0.88\n",
      "Class name --> laptop\n",
      "Confidence ---> 0.87\n",
      "Class name --> person\n",
      "Confidence ---> 0.77\n",
      "Class name --> person\n",
      "Confidence ---> 0.9\n",
      "Class name --> person\n",
      "Confidence ---> 0.88\n",
      "Class name --> laptop\n",
      "Confidence ---> 0.87\n",
      "Class name --> person\n",
      "Confidence ---> 0.77\n",
      "Class name --> person\n"
     ]
    },
    {
     "name": "stderr",
     "output_type": "stream",
     "text": [
      "0: 480x640 3 persons, 1 laptop, 104.5ms\n",
      "Speed: 2.2ms preprocess, 104.5ms inference, 0.7ms postprocess per image at shape (1, 3, 480, 640)\n",
      "\n",
      "0: 480x640 3 persons, 1 laptop, 90.6ms\n",
      "Speed: 2.7ms preprocess, 90.6ms inference, 0.9ms postprocess per image at shape (1, 3, 480, 640)\n",
      "\n"
     ]
    },
    {
     "name": "stdout",
     "output_type": "stream",
     "text": [
      "Confidence ---> 0.9\n",
      "Class name --> person\n",
      "Confidence ---> 0.87\n",
      "Class name --> laptop\n",
      "Confidence ---> 0.87\n",
      "Class name --> person\n",
      "Confidence ---> 0.78\n",
      "Class name --> person\n",
      "Confidence ---> 0.9\n",
      "Class name --> person\n",
      "Confidence ---> 0.88\n",
      "Class name --> laptop\n",
      "Confidence ---> 0.87\n",
      "Class name --> person\n",
      "Confidence ---> 0.76\n",
      "Class name --> person\n"
     ]
    },
    {
     "name": "stderr",
     "output_type": "stream",
     "text": [
      "0: 480x640 3 persons, 1 laptop, 92.4ms\n",
      "Speed: 2.1ms preprocess, 92.4ms inference, 0.9ms postprocess per image at shape (1, 3, 480, 640)\n",
      "\n",
      "0: 480x640 3 persons, 1 laptop, 85.8ms\n",
      "Speed: 2.1ms preprocess, 85.8ms inference, 0.8ms postprocess per image at shape (1, 3, 480, 640)\n",
      "\n"
     ]
    },
    {
     "name": "stdout",
     "output_type": "stream",
     "text": [
      "Confidence ---> 0.91\n",
      "Class name --> person\n",
      "Confidence ---> 0.87\n",
      "Class name --> laptop\n",
      "Confidence ---> 0.86\n",
      "Class name --> person\n",
      "Confidence ---> 0.72\n",
      "Class name --> person\n",
      "Confidence ---> 0.91\n",
      "Class name --> person\n",
      "Confidence ---> 0.88\n",
      "Class name --> laptop\n",
      "Confidence ---> 0.87\n",
      "Class name --> person\n",
      "Confidence ---> 0.77\n",
      "Class name --> person\n"
     ]
    },
    {
     "name": "stderr",
     "output_type": "stream",
     "text": [
      "0: 480x640 3 persons, 1 laptop, 99.5ms\n",
      "Speed: 2.4ms preprocess, 99.5ms inference, 0.9ms postprocess per image at shape (1, 3, 480, 640)\n",
      "\n",
      "0: 480x640 3 persons, 1 laptop, 115.8ms\n",
      "Speed: 2.8ms preprocess, 115.8ms inference, 0.9ms postprocess per image at shape (1, 3, 480, 640)\n",
      "\n"
     ]
    },
    {
     "name": "stdout",
     "output_type": "stream",
     "text": [
      "Confidence ---> 0.91\n",
      "Class name --> person\n",
      "Confidence ---> 0.88\n",
      "Class name --> laptop\n",
      "Confidence ---> 0.87\n",
      "Class name --> person\n",
      "Confidence ---> 0.78\n",
      "Class name --> person\n",
      "Confidence ---> 0.91\n",
      "Class name --> person\n",
      "Confidence ---> 0.88\n",
      "Class name --> laptop\n",
      "Confidence ---> 0.87\n",
      "Class name --> person\n",
      "Confidence ---> 0.79\n",
      "Class name --> person\n"
     ]
    },
    {
     "name": "stderr",
     "output_type": "stream",
     "text": [
      "0: 480x640 3 persons, 1 laptop, 95.0ms\n",
      "Speed: 2.0ms preprocess, 95.0ms inference, 0.8ms postprocess per image at shape (1, 3, 480, 640)\n",
      "\n",
      "0: 480x640 3 persons, 1 laptop, 87.5ms\n",
      "Speed: 2.4ms preprocess, 87.5ms inference, 0.7ms postprocess per image at shape (1, 3, 480, 640)\n",
      "\n"
     ]
    },
    {
     "name": "stdout",
     "output_type": "stream",
     "text": [
      "Confidence ---> 0.9\n",
      "Class name --> person\n",
      "Confidence ---> 0.89\n",
      "Class name --> laptop\n",
      "Confidence ---> 0.88\n",
      "Class name --> person\n",
      "Confidence ---> 0.74\n",
      "Class name --> person\n",
      "Confidence ---> 0.9\n",
      "Class name --> person\n",
      "Confidence ---> 0.88\n",
      "Class name --> laptop\n",
      "Confidence ---> 0.87\n",
      "Class name --> person\n",
      "Confidence ---> 0.76\n",
      "Class name --> person\n"
     ]
    },
    {
     "name": "stderr",
     "output_type": "stream",
     "text": [
      "0: 480x640 3 persons, 1 laptop, 96.0ms\n",
      "Speed: 2.4ms preprocess, 96.0ms inference, 0.8ms postprocess per image at shape (1, 3, 480, 640)\n",
      "\n",
      "0: 480x640 3 persons, 1 laptop, 97.6ms\n",
      "Speed: 20.7ms preprocess, 97.6ms inference, 0.7ms postprocess per image at shape (1, 3, 480, 640)\n",
      "\n"
     ]
    },
    {
     "name": "stdout",
     "output_type": "stream",
     "text": [
      "Confidence ---> 0.91\n",
      "Class name --> person\n",
      "Confidence ---> 0.88\n",
      "Class name --> laptop\n",
      "Confidence ---> 0.88\n",
      "Class name --> person\n",
      "Confidence ---> 0.77\n",
      "Class name --> person\n",
      "Confidence ---> 0.91\n",
      "Class name --> person\n",
      "Confidence ---> 0.88\n",
      "Class name --> laptop\n",
      "Confidence ---> 0.87\n",
      "Class name --> person\n",
      "Confidence ---> 0.78\n",
      "Class name --> person\n"
     ]
    },
    {
     "name": "stderr",
     "output_type": "stream",
     "text": [
      "0: 480x640 3 persons, 1 laptop, 89.8ms\n",
      "Speed: 2.5ms preprocess, 89.8ms inference, 0.8ms postprocess per image at shape (1, 3, 480, 640)\n",
      "\n",
      "0: 480x640 3 persons, 1 laptop, 85.8ms\n",
      "Speed: 2.2ms preprocess, 85.8ms inference, 0.7ms postprocess per image at shape (1, 3, 480, 640)\n",
      "\n"
     ]
    },
    {
     "name": "stdout",
     "output_type": "stream",
     "text": [
      "Confidence ---> 0.91\n",
      "Class name --> person\n",
      "Confidence ---> 0.89\n",
      "Class name --> laptop\n",
      "Confidence ---> 0.87\n",
      "Class name --> person\n",
      "Confidence ---> 0.73\n",
      "Class name --> person\n",
      "Confidence ---> 0.91\n",
      "Class name --> person\n",
      "Confidence ---> 0.88\n",
      "Class name --> laptop\n",
      "Confidence ---> 0.87\n",
      "Class name --> person\n",
      "Confidence ---> 0.77\n",
      "Class name --> person\n"
     ]
    },
    {
     "name": "stderr",
     "output_type": "stream",
     "text": [
      "0: 480x640 3 persons, 1 laptop, 98.7ms\n",
      "Speed: 2.3ms preprocess, 98.7ms inference, 0.7ms postprocess per image at shape (1, 3, 480, 640)\n",
      "\n",
      "0: 480x640 3 persons, 1 laptop, 85.5ms\n",
      "Speed: 2.2ms preprocess, 85.5ms inference, 0.7ms postprocess per image at shape (1, 3, 480, 640)\n",
      "\n"
     ]
    },
    {
     "name": "stdout",
     "output_type": "stream",
     "text": [
      "Confidence ---> 0.9\n",
      "Class name --> person\n",
      "Confidence ---> 0.89\n",
      "Class name --> laptop\n",
      "Confidence ---> 0.86\n",
      "Class name --> person\n",
      "Confidence ---> 0.77\n",
      "Class name --> person\n",
      "Confidence ---> 0.91\n",
      "Class name --> person\n",
      "Confidence ---> 0.89\n",
      "Class name --> laptop\n",
      "Confidence ---> 0.88\n",
      "Class name --> person\n",
      "Confidence ---> 0.72\n",
      "Class name --> person\n"
     ]
    },
    {
     "name": "stderr",
     "output_type": "stream",
     "text": [
      "0: 480x640 3 persons, 1 laptop, 96.3ms\n",
      "Speed: 2.0ms preprocess, 96.3ms inference, 0.7ms postprocess per image at shape (1, 3, 480, 640)\n",
      "\n",
      "0: 480x640 3 persons, 1 laptop, 92.6ms\n",
      "Speed: 2.1ms preprocess, 92.6ms inference, 0.9ms postprocess per image at shape (1, 3, 480, 640)\n",
      "\n"
     ]
    },
    {
     "name": "stdout",
     "output_type": "stream",
     "text": [
      "Confidence ---> 0.91\n",
      "Class name --> person\n",
      "Confidence ---> 0.9\n",
      "Class name --> laptop\n",
      "Confidence ---> 0.87\n",
      "Class name --> person\n",
      "Confidence ---> 0.68\n",
      "Class name --> person\n",
      "Confidence ---> 0.91\n",
      "Class name --> person\n",
      "Confidence ---> 0.89\n",
      "Class name --> laptop\n",
      "Confidence ---> 0.86\n",
      "Class name --> person\n",
      "Confidence ---> 0.68\n",
      "Class name --> person\n"
     ]
    },
    {
     "name": "stderr",
     "output_type": "stream",
     "text": [
      "0: 480x640 4 persons, 1 laptop, 95.3ms\n",
      "Speed: 2.1ms preprocess, 95.3ms inference, 1.0ms postprocess per image at shape (1, 3, 480, 640)\n",
      "\n",
      "0: 480x640 3 persons, 1 laptop, 88.1ms\n",
      "Speed: 2.1ms preprocess, 88.1ms inference, 0.7ms postprocess per image at shape (1, 3, 480, 640)\n",
      "\n"
     ]
    },
    {
     "name": "stdout",
     "output_type": "stream",
     "text": [
      "Confidence ---> 0.9\n",
      "Class name --> person\n",
      "Confidence ---> 0.89\n",
      "Class name --> laptop\n",
      "Confidence ---> 0.85\n",
      "Class name --> person\n",
      "Confidence ---> 0.57\n",
      "Class name --> person\n",
      "Confidence ---> 0.33\n",
      "Class name --> person\n",
      "Confidence ---> 0.9\n",
      "Class name --> person\n",
      "Confidence ---> 0.9\n",
      "Class name --> laptop\n",
      "Confidence ---> 0.87\n",
      "Class name --> person\n",
      "Confidence ---> 0.64\n",
      "Class name --> person\n"
     ]
    },
    {
     "name": "stderr",
     "output_type": "stream",
     "text": [
      "0: 480x640 3 persons, 1 laptop, 92.3ms\n",
      "Speed: 2.1ms preprocess, 92.3ms inference, 0.9ms postprocess per image at shape (1, 3, 480, 640)\n",
      "\n",
      "0: 480x640 3 persons, 1 laptop, 85.2ms\n",
      "Speed: 2.2ms preprocess, 85.2ms inference, 0.7ms postprocess per image at shape (1, 3, 480, 640)\n",
      "\n"
     ]
    },
    {
     "name": "stdout",
     "output_type": "stream",
     "text": [
      "Confidence ---> 0.9\n",
      "Class name --> person\n",
      "Confidence ---> 0.88\n",
      "Class name --> person\n",
      "Confidence ---> 0.86\n",
      "Class name --> laptop\n",
      "Confidence ---> 0.61\n",
      "Class name --> person\n",
      "Confidence ---> 0.91\n",
      "Class name --> laptop\n",
      "Confidence ---> 0.9\n",
      "Class name --> person\n",
      "Confidence ---> 0.86\n",
      "Class name --> person\n",
      "Confidence ---> 0.69\n",
      "Class name --> person\n"
     ]
    },
    {
     "name": "stderr",
     "output_type": "stream",
     "text": [
      "0: 480x640 3 persons, 1 laptop, 152.8ms\n",
      "Speed: 2.0ms preprocess, 152.8ms inference, 0.7ms postprocess per image at shape (1, 3, 480, 640)\n",
      "\n",
      "0: 480x640 3 persons, 1 laptop, 95.9ms\n",
      "Speed: 2.7ms preprocess, 95.9ms inference, 0.7ms postprocess per image at shape (1, 3, 480, 640)\n",
      "\n"
     ]
    },
    {
     "name": "stdout",
     "output_type": "stream",
     "text": [
      "Confidence ---> 0.9\n",
      "Class name --> person\n",
      "Confidence ---> 0.89\n",
      "Class name --> laptop\n",
      "Confidence ---> 0.86\n",
      "Class name --> person\n",
      "Confidence ---> 0.77\n",
      "Class name --> person\n",
      "Confidence ---> 0.9\n",
      "Class name --> laptop\n",
      "Confidence ---> 0.9\n",
      "Class name --> person\n",
      "Confidence ---> 0.85\n",
      "Class name --> person\n",
      "Confidence ---> 0.77\n",
      "Class name --> person\n"
     ]
    },
    {
     "name": "stderr",
     "output_type": "stream",
     "text": [
      "0: 480x640 3 persons, 1 laptop, 100.3ms\n",
      "Speed: 2.2ms preprocess, 100.3ms inference, 1.1ms postprocess per image at shape (1, 3, 480, 640)\n",
      "\n",
      "0: 480x640 3 persons, 1 laptop, 116.8ms\n",
      "Speed: 2.5ms preprocess, 116.8ms inference, 0.9ms postprocess per image at shape (1, 3, 480, 640)\n",
      "\n"
     ]
    },
    {
     "name": "stdout",
     "output_type": "stream",
     "text": [
      "Confidence ---> 0.9\n",
      "Class name --> person\n",
      "Confidence ---> 0.89\n",
      "Class name --> laptop\n",
      "Confidence ---> 0.86\n",
      "Class name --> person\n",
      "Confidence ---> 0.79\n",
      "Class name --> person\n",
      "Confidence ---> 0.9\n",
      "Class name --> person\n",
      "Confidence ---> 0.89\n",
      "Class name --> laptop\n",
      "Confidence ---> 0.86\n",
      "Class name --> person\n",
      "Confidence ---> 0.79\n",
      "Class name --> person\n"
     ]
    },
    {
     "name": "stderr",
     "output_type": "stream",
     "text": [
      "0: 480x640 3 persons, 1 laptop, 98.3ms\n",
      "Speed: 2.2ms preprocess, 98.3ms inference, 0.7ms postprocess per image at shape (1, 3, 480, 640)\n",
      "\n",
      "0: 480x640 3 persons, 1 laptop, 89.7ms\n",
      "Speed: 2.5ms preprocess, 89.7ms inference, 0.8ms postprocess per image at shape (1, 3, 480, 640)\n",
      "\n"
     ]
    },
    {
     "name": "stdout",
     "output_type": "stream",
     "text": [
      "Confidence ---> 0.89\n",
      "Class name --> person\n",
      "Confidence ---> 0.87\n",
      "Class name --> laptop\n",
      "Confidence ---> 0.86\n",
      "Class name --> person\n",
      "Confidence ---> 0.79\n",
      "Class name --> person\n",
      "Confidence ---> 0.9\n",
      "Class name --> person\n",
      "Confidence ---> 0.89\n",
      "Class name --> laptop\n",
      "Confidence ---> 0.86\n",
      "Class name --> person\n",
      "Confidence ---> 0.76\n",
      "Class name --> person\n"
     ]
    },
    {
     "name": "stderr",
     "output_type": "stream",
     "text": [
      "0: 480x640 3 persons, 1 laptop, 97.6ms\n",
      "Speed: 2.1ms preprocess, 97.6ms inference, 0.9ms postprocess per image at shape (1, 3, 480, 640)\n",
      "\n",
      "0: 480x640 3 persons, 1 laptop, 104.8ms\n",
      "Speed: 2.3ms preprocess, 104.8ms inference, 0.8ms postprocess per image at shape (1, 3, 480, 640)\n",
      "\n"
     ]
    },
    {
     "name": "stdout",
     "output_type": "stream",
     "text": [
      "Confidence ---> 0.91\n",
      "Class name --> person\n",
      "Confidence ---> 0.89\n",
      "Class name --> laptop\n",
      "Confidence ---> 0.87\n",
      "Class name --> person\n",
      "Confidence ---> 0.76\n",
      "Class name --> person\n",
      "Confidence ---> 0.9\n",
      "Class name --> person\n",
      "Confidence ---> 0.88\n",
      "Class name --> laptop\n",
      "Confidence ---> 0.86\n",
      "Class name --> person\n",
      "Confidence ---> 0.76\n",
      "Class name --> person\n"
     ]
    },
    {
     "name": "stderr",
     "output_type": "stream",
     "text": [
      "0: 480x640 3 persons, 1 laptop, 112.1ms\n",
      "Speed: 2.3ms preprocess, 112.1ms inference, 1.0ms postprocess per image at shape (1, 3, 480, 640)\n",
      "\n",
      "0: 480x640 3 persons, 1 laptop, 97.4ms\n",
      "Speed: 2.1ms preprocess, 97.4ms inference, 0.7ms postprocess per image at shape (1, 3, 480, 640)\n",
      "\n"
     ]
    },
    {
     "name": "stdout",
     "output_type": "stream",
     "text": [
      "Confidence ---> 0.9\n",
      "Class name --> person\n",
      "Confidence ---> 0.88\n",
      "Class name --> laptop\n",
      "Confidence ---> 0.87\n",
      "Class name --> person\n",
      "Confidence ---> 0.7\n",
      "Class name --> person\n",
      "Confidence ---> 0.9\n",
      "Class name --> person\n",
      "Confidence ---> 0.88\n",
      "Class name --> laptop\n",
      "Confidence ---> 0.85\n",
      "Class name --> person\n",
      "Confidence ---> 0.75\n",
      "Class name --> person\n"
     ]
    },
    {
     "name": "stderr",
     "output_type": "stream",
     "text": [
      "0: 480x640 3 persons, 1 laptop, 93.2ms\n",
      "Speed: 2.2ms preprocess, 93.2ms inference, 0.8ms postprocess per image at shape (1, 3, 480, 640)\n",
      "\n"
     ]
    },
    {
     "name": "stdout",
     "output_type": "stream",
     "text": [
      "Confidence ---> 0.91\n",
      "Class name --> person\n",
      "Confidence ---> 0.89\n",
      "Class name --> laptop\n",
      "Confidence ---> 0.86\n",
      "Class name --> person\n",
      "Confidence ---> 0.77\n",
      "Class name --> person\n"
     ]
    },
    {
     "name": "stderr",
     "output_type": "stream",
     "text": [
      "0: 480x640 3 persons, 1 laptop, 134.2ms\n",
      "Speed: 22.4ms preprocess, 134.2ms inference, 1.8ms postprocess per image at shape (1, 3, 480, 640)\n",
      "\n",
      "0: 480x640 3 persons, 1 laptop, 103.5ms\n",
      "Speed: 3.5ms preprocess, 103.5ms inference, 0.7ms postprocess per image at shape (1, 3, 480, 640)\n"
     ]
    },
    {
     "name": "stdout",
     "output_type": "stream",
     "text": [
      "Confidence ---> 0.9\n",
      "Class name --> person\n",
      "Confidence ---> 0.89\n",
      "Class name --> laptop\n",
      "Confidence ---> 0.85\n",
      "Class name --> person\n",
      "Confidence ---> 0.69\n",
      "Class name --> person\n",
      "Confidence ---> 0.9\n",
      "Class name --> person\n",
      "Confidence ---> 0.89\n",
      "Class name --> laptop\n",
      "Confidence ---> 0.85\n",
      "Class name --> person\n",
      "Confidence ---> 0.78\n",
      "Class name --> person\n"
     ]
    },
    {
     "name": "stderr",
     "output_type": "stream",
     "text": [
      "\n",
      "0: 480x640 3 persons, 1 laptop, 94.0ms\n",
      "Speed: 2.4ms preprocess, 94.0ms inference, 0.8ms postprocess per image at shape (1, 3, 480, 640)\n",
      "\n",
      "0: 480x640 3 persons, 1 laptop, 88.5ms\n",
      "Speed: 2.0ms preprocess, 88.5ms inference, 0.8ms postprocess per image at shape (1, 3, 480, 640)\n",
      "\n"
     ]
    },
    {
     "name": "stdout",
     "output_type": "stream",
     "text": [
      "Confidence ---> 0.9\n",
      "Class name --> laptop\n",
      "Confidence ---> 0.9\n",
      "Class name --> person\n",
      "Confidence ---> 0.85\n",
      "Class name --> person\n",
      "Confidence ---> 0.78\n",
      "Class name --> person\n",
      "Confidence ---> 0.9\n",
      "Class name --> person\n",
      "Confidence ---> 0.9\n",
      "Class name --> laptop\n",
      "Confidence ---> 0.86\n",
      "Class name --> person\n",
      "Confidence ---> 0.79\n",
      "Class name --> person\n"
     ]
    },
    {
     "name": "stderr",
     "output_type": "stream",
     "text": [
      "0: 480x640 3 persons, 1 laptop, 113.9ms\n",
      "Speed: 2.2ms preprocess, 113.9ms inference, 1.0ms postprocess per image at shape (1, 3, 480, 640)\n",
      "\n",
      "0: 480x640 3 persons, 1 laptop, 103.9ms\n",
      "Speed: 2.1ms preprocess, 103.9ms inference, 0.7ms postprocess per image at shape (1, 3, 480, 640)\n",
      "\n"
     ]
    },
    {
     "name": "stdout",
     "output_type": "stream",
     "text": [
      "Confidence ---> 0.9\n",
      "Class name --> laptop\n",
      "Confidence ---> 0.89\n",
      "Class name --> person\n",
      "Confidence ---> 0.84\n",
      "Class name --> person\n",
      "Confidence ---> 0.8\n",
      "Class name --> person\n",
      "Confidence ---> 0.89\n",
      "Class name --> laptop\n",
      "Confidence ---> 0.89\n",
      "Class name --> person\n",
      "Confidence ---> 0.85\n",
      "Class name --> person\n",
      "Confidence ---> 0.79\n",
      "Class name --> person\n"
     ]
    },
    {
     "name": "stderr",
     "output_type": "stream",
     "text": [
      "0: 480x640 3 persons, 1 laptop, 111.0ms\n",
      "Speed: 2.1ms preprocess, 111.0ms inference, 1.0ms postprocess per image at shape (1, 3, 480, 640)\n",
      "\n",
      "0: 480x640 3 persons, 1 laptop, 89.5ms\n",
      "Speed: 2.0ms preprocess, 89.5ms inference, 1.2ms postprocess per image at shape (1, 3, 480, 640)\n",
      "\n"
     ]
    },
    {
     "name": "stdout",
     "output_type": "stream",
     "text": [
      "Confidence ---> 0.89\n",
      "Class name --> laptop\n",
      "Confidence ---> 0.89\n",
      "Class name --> person\n",
      "Confidence ---> 0.83\n",
      "Class name --> person\n",
      "Confidence ---> 0.8\n",
      "Class name --> person\n",
      "Confidence ---> 0.89\n",
      "Class name --> person\n",
      "Confidence ---> 0.88\n",
      "Class name --> laptop\n",
      "Confidence ---> 0.81\n",
      "Class name --> person\n",
      "Confidence ---> 0.8\n",
      "Class name --> person\n"
     ]
    },
    {
     "name": "stderr",
     "output_type": "stream",
     "text": [
      "0: 480x640 3 persons, 1 laptop, 96.9ms\n",
      "Speed: 2.3ms preprocess, 96.9ms inference, 1.0ms postprocess per image at shape (1, 3, 480, 640)\n",
      "\n",
      "0: 480x640 3 persons, 1 laptop, 96.3ms\n",
      "Speed: 2.3ms preprocess, 96.3ms inference, 0.7ms postprocess per image at shape (1, 3, 480, 640)\n",
      "\n"
     ]
    },
    {
     "name": "stdout",
     "output_type": "stream",
     "text": [
      "Confidence ---> 0.9\n",
      "Class name --> person\n",
      "Confidence ---> 0.89\n",
      "Class name --> laptop\n",
      "Confidence ---> 0.82\n",
      "Class name --> person\n",
      "Confidence ---> 0.79\n",
      "Class name --> person\n",
      "Confidence ---> 0.9\n",
      "Class name --> person\n",
      "Confidence ---> 0.89\n",
      "Class name --> laptop\n",
      "Confidence ---> 0.81\n",
      "Class name --> person\n",
      "Confidence ---> 0.8\n",
      "Class name --> person\n"
     ]
    },
    {
     "name": "stderr",
     "output_type": "stream",
     "text": [
      "0: 480x640 3 persons, 1 laptop, 96.9ms\n",
      "Speed: 2.2ms preprocess, 96.9ms inference, 0.7ms postprocess per image at shape (1, 3, 480, 640)\n",
      "\n",
      "0: 480x640 3 persons, 1 laptop, 102.9ms\n",
      "Speed: 22.1ms preprocess, 102.9ms inference, 0.7ms postprocess per image at shape (1, 3, 480, 640)\n"
     ]
    },
    {
     "name": "stdout",
     "output_type": "stream",
     "text": [
      "Confidence ---> 0.9\n",
      "Class name --> person\n",
      "Confidence ---> 0.89\n",
      "Class name --> laptop\n",
      "Confidence ---> 0.83\n",
      "Class name --> person\n",
      "Confidence ---> 0.8\n",
      "Class name --> person\n",
      "Confidence ---> 0.89\n",
      "Class name --> person\n",
      "Confidence ---> 0.88\n",
      "Class name --> laptop\n",
      "Confidence ---> 0.81\n",
      "Class name --> person\n",
      "Confidence ---> 0.81\n",
      "Class name --> person\n"
     ]
    },
    {
     "name": "stderr",
     "output_type": "stream",
     "text": [
      "\n",
      "0: 480x640 3 persons, 1 laptop, 94.0ms\n",
      "Speed: 2.6ms preprocess, 94.0ms inference, 1.2ms postprocess per image at shape (1, 3, 480, 640)\n",
      "\n",
      "0: 480x640 3 persons, 1 laptop, 145.3ms\n",
      "Speed: 2.0ms preprocess, 145.3ms inference, 0.9ms postprocess per image at shape (1, 3, 480, 640)\n"
     ]
    },
    {
     "name": "stdout",
     "output_type": "stream",
     "text": [
      "Confidence ---> 0.9\n",
      "Class name --> person\n",
      "Confidence ---> 0.89\n",
      "Class name --> laptop\n",
      "Confidence ---> 0.82\n",
      "Class name --> person\n",
      "Confidence ---> 0.81\n",
      "Class name --> person\n",
      "Confidence ---> 0.89\n",
      "Class name --> person\n",
      "Confidence ---> 0.88\n",
      "Class name --> laptop\n",
      "Confidence ---> 0.82\n",
      "Class name --> person\n",
      "Confidence ---> 0.82\n",
      "Class name --> person\n"
     ]
    },
    {
     "ename": "KeyboardInterrupt",
     "evalue": "",
     "output_type": "error",
     "traceback": [
      "\u001b[0;31m---------------------------------------------------------------------------\u001b[0m",
      "\u001b[0;31mKeyboardInterrupt\u001b[0m                         Traceback (most recent call last)",
      "\u001b[1;32m/Users/abinayadinesh/Documents/projects/face-recog/yolor2.ipynb Cell 5\u001b[0m line \u001b[0;36m3\n\u001b[1;32m     <a href='vscode-notebook-cell:/Users/abinayadinesh/Documents/projects/face-recog/yolor2.ipynb#X11sZmlsZQ%3D%3D?line=31'>32</a>\u001b[0m         cv2\u001b[39m.\u001b[39mputText(img, classNames[\u001b[39mcls\u001b[39m], org, font, fontScale, color, thickness)\n\u001b[1;32m     <a href='vscode-notebook-cell:/Users/abinayadinesh/Documents/projects/face-recog/yolor2.ipynb#X11sZmlsZQ%3D%3D?line=33'>34</a>\u001b[0m cv2\u001b[39m.\u001b[39mimshow(\u001b[39m'\u001b[39m\u001b[39mWebcam\u001b[39m\u001b[39m'\u001b[39m, img)\n\u001b[0;32m---> <a href='vscode-notebook-cell:/Users/abinayadinesh/Documents/projects/face-recog/yolor2.ipynb#X11sZmlsZQ%3D%3D?line=34'>35</a>\u001b[0m \u001b[39mif\u001b[39;00m cv2\u001b[39m.\u001b[39;49mwaitKey(\u001b[39m1\u001b[39;49m) \u001b[39m==\u001b[39m \u001b[39mord\u001b[39m(\u001b[39m'\u001b[39m\u001b[39mq\u001b[39m\u001b[39m'\u001b[39m):\n\u001b[1;32m     <a href='vscode-notebook-cell:/Users/abinayadinesh/Documents/projects/face-recog/yolor2.ipynb#X11sZmlsZQ%3D%3D?line=35'>36</a>\u001b[0m     \u001b[39mbreak\u001b[39;00m\n",
      "\u001b[0;31mKeyboardInterrupt\u001b[0m: "
     ]
    }
   ],
   "source": [
    "\n",
    "while True:\n",
    "    success, img = cap.read()\n",
    "    results = model(img, stream=True)\n",
    "\n",
    "    # coordinates\n",
    "    for r in results:\n",
    "        boxes = r.boxes\n",
    "\n",
    "        for box in boxes:\n",
    "            # bounding box\n",
    "            x1, y1, x2, y2 = box.xyxy[0]\n",
    "            x1, y1, x2, y2 = int(x1), int(y1), int(x2), int(y2) # convert to int values\n",
    "\n",
    "            # put box in cam\n",
    "            cv2.rectangle(img, (x1, y1), (x2, y2), (255, 0, 255), 3)\n",
    "\n",
    "            # confidence\n",
    "            confidence = math.ceil((box.conf[0]*100))/100\n",
    "            print(\"Confidence --->\",confidence)\n",
    "\n",
    "            # class name\n",
    "            cls = int(box.cls[0])\n",
    "            print(\"Class name -->\", classNames[cls])\n",
    "\n",
    "            # object details\n",
    "            org = [x1, y1]\n",
    "            font = cv2.FONT_HERSHEY_SIMPLEX\n",
    "            fontScale = 1\n",
    "            color = (255, 0, 0)\n",
    "            thickness = 2\n",
    "\n",
    "            cv2.putText(img, classNames[cls], org, font, fontScale, color, thickness)\n",
    "\n",
    "    cv2.imshow('Webcam', img)\n",
    "    if cv2.waitKey(1) == ord('q'):\n",
    "        break"
   ]
  },
  {
   "cell_type": "code",
   "execution_count": null,
   "id": "4606538b",
   "metadata": {},
   "outputs": [],
   "source": [
    "cap.release()\n",
    "cv2.destroyAllWindows()"
   ]
  }
 ],
 "metadata": {
  "kernelspec": {
   "display_name": "Python 3 (ipykernel)",
   "language": "python",
   "name": "python3"
  },
  "language_info": {
   "codemirror_mode": {
    "name": "ipython",
    "version": 3
   },
   "file_extension": ".py",
   "mimetype": "text/x-python",
   "name": "python",
   "nbconvert_exporter": "python",
   "pygments_lexer": "ipython3",
   "version": "3.10.5"
  }
 },
 "nbformat": 4,
 "nbformat_minor": 5
}
