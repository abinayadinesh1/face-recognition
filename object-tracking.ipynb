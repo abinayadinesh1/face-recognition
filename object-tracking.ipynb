{
 "cells": [
  {
   "cell_type": "code",
   "execution_count": 1,
   "metadata": {},
   "outputs": [
    {
     "name": "stderr",
     "output_type": "stream",
     "text": [
      "/Library/Frameworks/Python.framework/Versions/3.10/lib/python3.10/site-packages/tqdm/auto.py:22: TqdmWarning: IProgress not found. Please update jupyter and ipywidgets. See https://ipywidgets.readthedocs.io/en/stable/user_install.html\n",
      "  from .autonotebook import tqdm as notebook_tqdm\n"
     ]
    }
   ],
   "source": [
    "import torch\n",
    "import cv2\n",
    "import numpy as np\n",
    "import sys\n",
    "import glob\n",
    "import time"
   ]
  },
  {
   "cell_type": "code",
   "execution_count": 2,
   "metadata": {},
   "outputs": [],
   "source": [
    "class YoloDetector():\n",
    "    def __init__(self, model_name):\n",
    "        self.model = torch.hub.load(\"ultralytics/yolov5\", 'yolov5s', pretrained = True)\n",
    "        self.classes = self.model.names\n",
    "        print(self.classes)\n",
    "\n",
    "        self.device = 'cuda' if torch.cuda.is_available() else 'cpu'\n",
    "        print(\"Using Device:\", self.device)\n",
    "\n",
    "    def load_model(self, model_name):\n",
    "        if model_name:\n",
    "            model = torch.hub.load(\"ultralytics/yolov5\", 'custom', path = model_name, force_reload = True)\n",
    "        else:\n",
    "            model = torch.hub.load(\"ultralytics/yolov5\", 'yolov5s', pretrained = True)\n",
    "    def score_frame(self, frame):\n",
    "        self.model.to(self.device)\n",
    "        downscale_factor = 2\n",
    "        width = int(frame.shape[1] / downscale_factor)\n",
    "        height = int(frame.shape[0 ] / downscale_factor)\n",
    "        frame = cv2.resize(frame, (width, height))\n",
    "        \n",
    "        results = self.model(frame)\n",
    "        labels, cord = results.xyxyn[0][:, -1], results.xyxyn[0][:,:-1]\n",
    "\n",
    "        return labels, cord\n",
    "    \n",
    "    def class_to_label(self, x):\n",
    "        return self.classes[int(x)]\n",
    "    \n",
    "    def plot_boxes(self, results, frame, height, width, confidence = 0.3):\n",
    "        labels, cord = results\n",
    "        detections = []\n",
    "        n = len(labels)\n",
    "        x_shape, y_shape = width, height\n",
    "\n",
    "        for i in range(0):\n",
    "            row = cord[i]\n",
    "            if row[4] >= confidence:\n",
    "                x1, y1, x2, y2 = int(row[0]*x_shape), int(row[1]*y_shape), int(row[2]*x_shape),  int(row[3]*y_shape)\n",
    "                if self.class_to_label(labels[i]) == 'person':\n",
    "                    x_center = x1 + (x2-x1)\n",
    "                    y_center = y1 + ((y2-y1) / 2)\n",
    "\n",
    "                    tlwh = np.asarray([x1, y1, int(x2-x1), int(y2-y1)], dtype = np.float32)\n",
    "                    confidence = float(row[4].item())\n",
    "                    feature = 'person'\n",
    "\n",
    "                    detections.append([x1, y1, int(x2-x1), int(y2-y1)], row[4].item(), 'person')\n",
    "        return frame, detections\n"
   ]
  },
  {
   "cell_type": "code",
   "execution_count": 3,
   "metadata": {},
   "outputs": [
    {
     "name": "stderr",
     "output_type": "stream",
     "text": [
      "Using cache found in /Users/abinayadinesh/.cache/torch/hub/ultralytics_yolov5_master\n",
      "\u001b[31m\u001b[1mrequirements:\u001b[0m Ultralytics requirement ['setuptools>=65.5.1'] not found, attempting AutoUpdate...\n",
      "Requirement already satisfied: setuptools>=65.5.1 in /Users/abinayadinesh/opt/anaconda3/lib/python3.9/site-packages (67.8.0)\n",
      "\n",
      "\u001b[31m\u001b[1mrequirements:\u001b[0m AutoUpdate success ✅ 5.3s, installed 1 package: ['setuptools>=65.5.1']\n",
      "\u001b[31m\u001b[1mrequirements:\u001b[0m ⚠️ \u001b[1mRestart runtime or rerun command for updates to take effect\u001b[0m\n",
      "\n",
      "YOLOv5 🚀 2023-9-30 Python-3.10.5 torch-1.13.1 CPU\n",
      "\n",
      "Fusing layers... \n",
      "YOLOv5s summary: 213 layers, 7225885 parameters, 0 gradients\n",
      "Adding AutoShape... \n"
     ]
    },
    {
     "name": "stdout",
     "output_type": "stream",
     "text": [
      "{0: 'person', 1: 'bicycle', 2: 'car', 3: 'motorcycle', 4: 'airplane', 5: 'bus', 6: 'train', 7: 'truck', 8: 'boat', 9: 'traffic light', 10: 'fire hydrant', 11: 'stop sign', 12: 'parking meter', 13: 'bench', 14: 'bird', 15: 'cat', 16: 'dog', 17: 'horse', 18: 'sheep', 19: 'cow', 20: 'elephant', 21: 'bear', 22: 'zebra', 23: 'giraffe', 24: 'backpack', 25: 'umbrella', 26: 'handbag', 27: 'tie', 28: 'suitcase', 29: 'frisbee', 30: 'skis', 31: 'snowboard', 32: 'sports ball', 33: 'kite', 34: 'baseball bat', 35: 'baseball glove', 36: 'skateboard', 37: 'surfboard', 38: 'tennis racket', 39: 'bottle', 40: 'wine glass', 41: 'cup', 42: 'fork', 43: 'knife', 44: 'spoon', 45: 'bowl', 46: 'banana', 47: 'apple', 48: 'sandwich', 49: 'orange', 50: 'broccoli', 51: 'carrot', 52: 'hot dog', 53: 'pizza', 54: 'donut', 55: 'cake', 56: 'chair', 57: 'couch', 58: 'potted plant', 59: 'bed', 60: 'dining table', 61: 'toilet', 62: 'tv', 63: 'laptop', 64: 'mouse', 65: 'remote', 66: 'keyboard', 67: 'cell phone', 68: 'microwave', 69: 'oven', 70: 'toaster', 71: 'sink', 72: 'refrigerator', 73: 'book', 74: 'clock', 75: 'vase', 76: 'scissors', 77: 'teddy bear', 78: 'hair drier', 79: 'toothbrush'}\n",
      "Using Device: cpu\n"
     ]
    }
   ],
   "source": [
    "cap = cv2.VideoCapture(0)\n",
    "cap.set(cv2.CAP_PROP_FRAME_WIDTH, 1280)\n",
    "cap.set(cv2.CAP_PROP_FRAME_HEIGHT, 720)\n",
    "\n",
    "detector = YoloDetector(model_name=None)"
   ]
  },
  {
   "cell_type": "code",
   "execution_count": 4,
   "metadata": {},
   "outputs": [],
   "source": [
    "from deep_sort_realtime.deepsort_tracker import DeepSort"
   ]
  },
  {
   "cell_type": "markdown",
   "metadata": {},
   "source": []
  },
  {
   "cell_type": "code",
   "execution_count": 5,
   "metadata": {},
   "outputs": [],
   "source": [
    "object_tracker = DeepSort(\n",
    "    max_age = 5, #how many frames youll try to keep tracvk of id for\n",
    "    nms_max_overlap=1, \n",
    "    max_cosine_distance=0.3, \n",
    "    nn_budget=None, \n",
    "    override_track_class=None, \n",
    "    embedder=\"mobilenet\", \n",
    "    half = True, \n",
    "    bgr = True, \n",
    "    embedder_gpu=True, \n",
    "    embedder_model_name=None, \n",
    "    embedder_wts=None, \n",
    "    polygon = False, \n",
    "    today=None\n",
    ")"
   ]
  },
  {
   "cell_type": "code",
   "execution_count": 6,
   "metadata": {},
   "outputs": [
    {
     "ename": "",
     "evalue": "",
     "output_type": "error",
     "traceback": [
      "\u001b[1;31mThe Kernel crashed while executing code in the the current cell or a previous cell. Please review the code in the cell(s) to identify a possible cause of the failure. Click <a href='https://aka.ms/vscodeJupyterKernelCrash'>here</a> for more info. View Jupyter <a href='command:jupyter.viewOutput'>log</a> for further details."
     ]
    }
   ],
   "source": [
    "while cap.isOpened():\n",
    "    succes, img = cap.read()\n",
    "    start = time.perf_counter()\n",
    "\n",
    "    results = detector.score_frame(img)\n",
    "    img, detections = detector.plot_boxes(results, img, height = img.shape[0], width = img.shape[1], confidence = 0.3)\n",
    "    #can draw on the img here\n",
    "\n",
    "    tracks = object_tracker.update_tracks(detections, frame = img)\n",
    "    # the bounding boxes is a list of detections, each in tuples of ([left, top, w, h], confidence, detection_class)\n",
    "\n",
    "\n",
    "    for track in tracks:\n",
    "        if not track.is_confirmed():\n",
    "            continue\n",
    "        track_id = track.track_id\n",
    "        ltrb = track.to_ltrb()\n",
    "\n",
    "        bbox = ltrb\n",
    "\n",
    "\n",
    "        cv2.rectangle(img, (int(bbox[0]), int(bbox[1])), (int(bbox[2]), int(bbox[3])), (0, 0, 255), 2)\n",
    "        cv2.putText(img, \"ID: \" + str(track_id), (int(bbox[0]), int(bbox[1] - 10)), cv2.FONT_HERSHEY_COMPLEX)\n",
    "    \n",
    "    end = time.perf_counter()\n",
    "    totalTime = end - start\n",
    "    fps = 1/totalTime\n",
    "\n",
    "    cv2.putText(img, f'FPS: {int(fps)}', (20, 70), cv2.FONT_HERSHEY_SIMPLEX, 1.5, (0, 255, 0), 2)\n",
    "    cv2.imshow(\"img\", img)\n",
    "\n",
    "    if cv2.waitKey(1):\n",
    "        break\n",
    "\n",
    "    cap.release()\n",
    "    cv2.destroyAllWindows()"
   ]
  },
  {
   "cell_type": "code",
   "execution_count": null,
   "metadata": {},
   "outputs": [],
   "source": []
  },
  {
   "cell_type": "code",
   "execution_count": null,
   "metadata": {},
   "outputs": [],
   "source": []
  }
 ],
 "metadata": {
  "kernelspec": {
   "display_name": "Python 3",
   "language": "python",
   "name": "python3"
  },
  "language_info": {
   "codemirror_mode": {
    "name": "ipython",
    "version": 3
   },
   "file_extension": ".py",
   "mimetype": "text/x-python",
   "name": "python",
   "nbconvert_exporter": "python",
   "pygments_lexer": "ipython3",
   "version": "3.10.5"
  },
  "orig_nbformat": 4
 },
 "nbformat": 4,
 "nbformat_minor": 2
}
